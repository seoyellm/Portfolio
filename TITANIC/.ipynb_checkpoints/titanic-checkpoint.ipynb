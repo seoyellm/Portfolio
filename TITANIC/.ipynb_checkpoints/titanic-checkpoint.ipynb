{
 "cells": [
  {
   "cell_type": "markdown",
   "id": "4adca264-7749-46a0-a2fc-59f540bb3dcc",
   "metadata": {},
   "source": [
    "# Titanic"
   ]
  },
  {
   "cell_type": "markdown",
   "id": "ff22e33f-9da2-464f-bbab-9fb2a4687229",
   "metadata": {},
   "source": [
    "- ref : https://www.kaggle.com/competitions/titanic/data\n",
    "- Data desc.\n",
    "<pre>\n",
    "survival  :  Survival                    0 = No, 1 = Yes\n",
    "pclass    :  Ticket class                1 = 1st, 2 = 2nd, 3 = 3rd\n",
    "sex       :  Sex\n",
    "Age       :  Age in years\n",
    "sibsp     :  of siblings / spouses aboard the Titanic\n",
    "parch     :  of parents / children aboard the Titanic\n",
    "ticket    :  Ticket number\n",
    "fare      :  Passenger fare\n",
    "cabin     :  Cabin number\n",
    "embarked  :  Port of Embarkation         C = Cherbourg, Q = Queenstown, S = Southampton"
   ]
  },
  {
   "cell_type": "markdown",
   "id": "6bf8f320-bad3-4bbc-95f4-57d9f9dd5c91",
   "metadata": {},
   "source": [
    "# 1. Data Load\n",
    "- head()\n",
    "- info()\n",
    "- shape"
   ]
  },
  {
   "cell_type": "code",
   "execution_count": 1,
   "id": "a21f0e7b-2d06-41a9-b46c-cb72b712a025",
   "metadata": {
    "tags": []
   },
   "outputs": [],
   "source": [
    "import pandas as pd\n",
    "import numpy as np"
   ]
  },
  {
   "cell_type": "code",
   "execution_count": 5,
   "id": "ca7ebd5a-108c-4eb1-9cc0-b04050ba828f",
   "metadata": {
    "tags": []
   },
   "outputs": [
    {
     "data": {
      "text/html": [
       "<div>\n",
       "<style scoped>\n",
       "    .dataframe tbody tr th:only-of-type {\n",
       "        vertical-align: middle;\n",
       "    }\n",
       "\n",
       "    .dataframe tbody tr th {\n",
       "        vertical-align: top;\n",
       "    }\n",
       "\n",
       "    .dataframe thead th {\n",
       "        text-align: right;\n",
       "    }\n",
       "</style>\n",
       "<table border=\"1\" class=\"dataframe\">\n",
       "  <thead>\n",
       "    <tr style=\"text-align: right;\">\n",
       "      <th></th>\n",
       "      <th>PassengerId</th>\n",
       "      <th>Survived</th>\n",
       "      <th>Pclass</th>\n",
       "      <th>Name</th>\n",
       "      <th>Sex</th>\n",
       "      <th>Age</th>\n",
       "      <th>SibSp</th>\n",
       "      <th>Parch</th>\n",
       "      <th>Ticket</th>\n",
       "      <th>Fare</th>\n",
       "      <th>Cabin</th>\n",
       "      <th>Embarked</th>\n",
       "    </tr>\n",
       "  </thead>\n",
       "  <tbody>\n",
       "    <tr>\n",
       "      <th>0</th>\n",
       "      <td>1</td>\n",
       "      <td>0</td>\n",
       "      <td>3</td>\n",
       "      <td>Braund, Mr. Owen Harris</td>\n",
       "      <td>male</td>\n",
       "      <td>22.0</td>\n",
       "      <td>1</td>\n",
       "      <td>0</td>\n",
       "      <td>A/5 21171</td>\n",
       "      <td>7.2500</td>\n",
       "      <td>NaN</td>\n",
       "      <td>S</td>\n",
       "    </tr>\n",
       "    <tr>\n",
       "      <th>1</th>\n",
       "      <td>2</td>\n",
       "      <td>1</td>\n",
       "      <td>1</td>\n",
       "      <td>Cumings, Mrs. John Bradley (Florence Briggs Th...</td>\n",
       "      <td>female</td>\n",
       "      <td>38.0</td>\n",
       "      <td>1</td>\n",
       "      <td>0</td>\n",
       "      <td>PC 17599</td>\n",
       "      <td>71.2833</td>\n",
       "      <td>C85</td>\n",
       "      <td>C</td>\n",
       "    </tr>\n",
       "    <tr>\n",
       "      <th>2</th>\n",
       "      <td>3</td>\n",
       "      <td>1</td>\n",
       "      <td>3</td>\n",
       "      <td>Heikkinen, Miss. Laina</td>\n",
       "      <td>female</td>\n",
       "      <td>26.0</td>\n",
       "      <td>0</td>\n",
       "      <td>0</td>\n",
       "      <td>STON/O2. 3101282</td>\n",
       "      <td>7.9250</td>\n",
       "      <td>NaN</td>\n",
       "      <td>S</td>\n",
       "    </tr>\n",
       "    <tr>\n",
       "      <th>3</th>\n",
       "      <td>4</td>\n",
       "      <td>1</td>\n",
       "      <td>1</td>\n",
       "      <td>Futrelle, Mrs. Jacques Heath (Lily May Peel)</td>\n",
       "      <td>female</td>\n",
       "      <td>35.0</td>\n",
       "      <td>1</td>\n",
       "      <td>0</td>\n",
       "      <td>113803</td>\n",
       "      <td>53.1000</td>\n",
       "      <td>C123</td>\n",
       "      <td>S</td>\n",
       "    </tr>\n",
       "    <tr>\n",
       "      <th>4</th>\n",
       "      <td>5</td>\n",
       "      <td>0</td>\n",
       "      <td>3</td>\n",
       "      <td>Allen, Mr. William Henry</td>\n",
       "      <td>male</td>\n",
       "      <td>35.0</td>\n",
       "      <td>0</td>\n",
       "      <td>0</td>\n",
       "      <td>373450</td>\n",
       "      <td>8.0500</td>\n",
       "      <td>NaN</td>\n",
       "      <td>S</td>\n",
       "    </tr>\n",
       "    <tr>\n",
       "      <th>5</th>\n",
       "      <td>6</td>\n",
       "      <td>0</td>\n",
       "      <td>3</td>\n",
       "      <td>Moran, Mr. James</td>\n",
       "      <td>male</td>\n",
       "      <td>NaN</td>\n",
       "      <td>0</td>\n",
       "      <td>0</td>\n",
       "      <td>330877</td>\n",
       "      <td>8.4583</td>\n",
       "      <td>NaN</td>\n",
       "      <td>Q</td>\n",
       "    </tr>\n",
       "    <tr>\n",
       "      <th>6</th>\n",
       "      <td>7</td>\n",
       "      <td>0</td>\n",
       "      <td>1</td>\n",
       "      <td>McCarthy, Mr. Timothy J</td>\n",
       "      <td>male</td>\n",
       "      <td>54.0</td>\n",
       "      <td>0</td>\n",
       "      <td>0</td>\n",
       "      <td>17463</td>\n",
       "      <td>51.8625</td>\n",
       "      <td>E46</td>\n",
       "      <td>S</td>\n",
       "    </tr>\n",
       "    <tr>\n",
       "      <th>7</th>\n",
       "      <td>8</td>\n",
       "      <td>0</td>\n",
       "      <td>3</td>\n",
       "      <td>Palsson, Master. Gosta Leonard</td>\n",
       "      <td>male</td>\n",
       "      <td>2.0</td>\n",
       "      <td>3</td>\n",
       "      <td>1</td>\n",
       "      <td>349909</td>\n",
       "      <td>21.0750</td>\n",
       "      <td>NaN</td>\n",
       "      <td>S</td>\n",
       "    </tr>\n",
       "    <tr>\n",
       "      <th>8</th>\n",
       "      <td>9</td>\n",
       "      <td>1</td>\n",
       "      <td>3</td>\n",
       "      <td>Johnson, Mrs. Oscar W (Elisabeth Vilhelmina Berg)</td>\n",
       "      <td>female</td>\n",
       "      <td>27.0</td>\n",
       "      <td>0</td>\n",
       "      <td>2</td>\n",
       "      <td>347742</td>\n",
       "      <td>11.1333</td>\n",
       "      <td>NaN</td>\n",
       "      <td>S</td>\n",
       "    </tr>\n",
       "    <tr>\n",
       "      <th>9</th>\n",
       "      <td>10</td>\n",
       "      <td>1</td>\n",
       "      <td>2</td>\n",
       "      <td>Nasser, Mrs. Nicholas (Adele Achem)</td>\n",
       "      <td>female</td>\n",
       "      <td>14.0</td>\n",
       "      <td>1</td>\n",
       "      <td>0</td>\n",
       "      <td>237736</td>\n",
       "      <td>30.0708</td>\n",
       "      <td>NaN</td>\n",
       "      <td>C</td>\n",
       "    </tr>\n",
       "  </tbody>\n",
       "</table>\n",
       "</div>"
      ],
      "text/plain": [
       "   PassengerId  Survived  Pclass  \\\n",
       "0            1         0       3   \n",
       "1            2         1       1   \n",
       "2            3         1       3   \n",
       "3            4         1       1   \n",
       "4            5         0       3   \n",
       "5            6         0       3   \n",
       "6            7         0       1   \n",
       "7            8         0       3   \n",
       "8            9         1       3   \n",
       "9           10         1       2   \n",
       "\n",
       "                                                Name     Sex   Age  SibSp  \\\n",
       "0                            Braund, Mr. Owen Harris    male  22.0      1   \n",
       "1  Cumings, Mrs. John Bradley (Florence Briggs Th...  female  38.0      1   \n",
       "2                             Heikkinen, Miss. Laina  female  26.0      0   \n",
       "3       Futrelle, Mrs. Jacques Heath (Lily May Peel)  female  35.0      1   \n",
       "4                           Allen, Mr. William Henry    male  35.0      0   \n",
       "5                                   Moran, Mr. James    male   NaN      0   \n",
       "6                            McCarthy, Mr. Timothy J    male  54.0      0   \n",
       "7                     Palsson, Master. Gosta Leonard    male   2.0      3   \n",
       "8  Johnson, Mrs. Oscar W (Elisabeth Vilhelmina Berg)  female  27.0      0   \n",
       "9                Nasser, Mrs. Nicholas (Adele Achem)  female  14.0      1   \n",
       "\n",
       "   Parch            Ticket     Fare Cabin Embarked  \n",
       "0      0         A/5 21171   7.2500   NaN        S  \n",
       "1      0          PC 17599  71.2833   C85        C  \n",
       "2      0  STON/O2. 3101282   7.9250   NaN        S  \n",
       "3      0            113803  53.1000  C123        S  \n",
       "4      0            373450   8.0500   NaN        S  \n",
       "5      0            330877   8.4583   NaN        Q  \n",
       "6      0             17463  51.8625   E46        S  \n",
       "7      1            349909  21.0750   NaN        S  \n",
       "8      2            347742  11.1333   NaN        S  \n",
       "9      0            237736  30.0708   NaN        C  "
      ]
     },
     "execution_count": 5,
     "metadata": {},
     "output_type": "execute_result"
    }
   ],
   "source": [
    "train=pd.read_csv(\"./train.csv\")\n",
    "train.head(10)"
   ]
  },
  {
   "cell_type": "code",
   "execution_count": 6,
   "id": "2c448bf9-e660-4250-a4e4-ce5042b6f6f1",
   "metadata": {
    "tags": []
   },
   "outputs": [
    {
     "name": "stdout",
     "output_type": "stream",
     "text": [
      "<class 'pandas.core.frame.DataFrame'>\n",
      "RangeIndex: 891 entries, 0 to 890\n",
      "Data columns (total 12 columns):\n",
      " #   Column       Non-Null Count  Dtype  \n",
      "---  ------       --------------  -----  \n",
      " 0   PassengerId  891 non-null    int64  \n",
      " 1   Survived     891 non-null    int64  \n",
      " 2   Pclass       891 non-null    int64  \n",
      " 3   Name         891 non-null    object \n",
      " 4   Sex          891 non-null    object \n",
      " 5   Age          714 non-null    float64\n",
      " 6   SibSp        891 non-null    int64  \n",
      " 7   Parch        891 non-null    int64  \n",
      " 8   Ticket       891 non-null    object \n",
      " 9   Fare         891 non-null    float64\n",
      " 10  Cabin        204 non-null    object \n",
      " 11  Embarked     889 non-null    object \n",
      "dtypes: float64(2), int64(5), object(5)\n",
      "memory usage: 83.7+ KB\n"
     ]
    }
   ],
   "source": [
    "train.info()\n",
    "# 숫자에 결측이 있을 때 float\n",
    "# 문자에 결측이 있을 때는 object\n",
    "\n",
    "# age float -> 결측\n",
    "# Embarked 2명의 탑승지?"
   ]
  },
  {
   "cell_type": "code",
   "execution_count": 9,
   "id": "e4b5704b-f573-40df-a039-48436c98b171",
   "metadata": {
    "tags": []
   },
   "outputs": [
    {
     "data": {
      "text/plain": [
       "(891, 12)"
      ]
     },
     "execution_count": 9,
     "metadata": {},
     "output_type": "execute_result"
    }
   ],
   "source": [
    "train.shape"
   ]
  },
  {
   "cell_type": "code",
   "execution_count": 12,
   "id": "eba065e8-05fa-484c-b33f-4532915157c2",
   "metadata": {
    "tags": []
   },
   "outputs": [
    {
     "data": {
      "text/plain": [
       "Index(['passengerid', 'survived', 'pclass', 'name', 'sex', 'age', 'sibsp',\n",
       "       'parch', 'ticket', 'fare', 'cabin', 'embarked'],\n",
       "      dtype='object')"
      ]
     },
     "execution_count": 12,
     "metadata": {},
     "output_type": "execute_result"
    }
   ],
   "source": [
    "train.columns=train.columns.str.lower()\n",
    "train.columns"
   ]
  },
  {
   "cell_type": "markdown",
   "id": "cde0e7c2-b492-4653-8c79-152b84cea8fb",
   "metadata": {},
   "source": [
    "# 2. 결측 확인"
   ]
  },
  {
   "cell_type": "code",
   "execution_count": 13,
   "id": "f542f7e3-0d4a-449d-90c5-5ec08cbc8a1a",
   "metadata": {
    "tags": []
   },
   "outputs": [
    {
     "data": {
      "text/plain": [
       "cabin       687\n",
       "age         177\n",
       "embarked      2\n",
       "dtype: int64"
      ]
     },
     "execution_count": 13,
     "metadata": {},
     "output_type": "execute_result"
    }
   ],
   "source": [
    "train.isna().sum() [ train.isna().sum() > 0 ].sort_values(ascending=False)"
   ]
  },
  {
   "cell_type": "markdown",
   "id": "bb253c0b-fc5b-4df4-8af9-71af9f874217",
   "metadata": {},
   "source": [
    "- 출력결과 다음과 같이 출력\n",
    "<pre>\n",
    "col       cnt       nan_cnt      rate\n",
    "age       891         177        23%"
   ]
  },
  {
   "cell_type": "markdown",
   "id": "515dfe0e-c362-4548-b387-f808540bbb56",
   "metadata": {},
   "source": []
  },
  {
   "cell_type": "code",
   "execution_count": 83,
   "id": "f6536db1-7c89-43e3-84dd-7c9f57b3b26b",
   "metadata": {
    "tags": []
   },
   "outputs": [],
   "source": [
    "acol = train.columns\n",
    "cnt= train.notna().count()\n",
    "nan_cnt = train.isna().sum()\n",
    "rate = round((nan_cnt/train.shape[0])*100,2)\n",
    "unique_cnt= train.nunique()"
   ]
  },
  {
   "cell_type": "code",
   "execution_count": 84,
   "id": "f410c174-1bc3-4299-ac4d-9b9964984c9f",
   "metadata": {
    "tags": []
   },
   "outputs": [
    {
     "data": {
      "text/html": [
       "<div>\n",
       "<style scoped>\n",
       "    .dataframe tbody tr th:only-of-type {\n",
       "        vertical-align: middle;\n",
       "    }\n",
       "\n",
       "    .dataframe tbody tr th {\n",
       "        vertical-align: top;\n",
       "    }\n",
       "\n",
       "    .dataframe thead th {\n",
       "        text-align: right;\n",
       "    }\n",
       "</style>\n",
       "<table border=\"1\" class=\"dataframe\">\n",
       "  <thead>\n",
       "    <tr style=\"text-align: right;\">\n",
       "      <th></th>\n",
       "      <th>passengerid</th>\n",
       "      <th>survived</th>\n",
       "      <th>pclass</th>\n",
       "      <th>name</th>\n",
       "      <th>sex</th>\n",
       "      <th>age</th>\n",
       "      <th>sibsp</th>\n",
       "      <th>parch</th>\n",
       "      <th>ticket</th>\n",
       "      <th>fare</th>\n",
       "      <th>cabin</th>\n",
       "      <th>embarked</th>\n",
       "    </tr>\n",
       "  </thead>\n",
       "  <tbody>\n",
       "    <tr>\n",
       "      <th>cnt</th>\n",
       "      <td>891.0</td>\n",
       "      <td>891.0</td>\n",
       "      <td>891.0</td>\n",
       "      <td>891.0</td>\n",
       "      <td>891.0</td>\n",
       "      <td>891.00</td>\n",
       "      <td>891.0</td>\n",
       "      <td>891.0</td>\n",
       "      <td>891.0</td>\n",
       "      <td>891.0</td>\n",
       "      <td>891.0</td>\n",
       "      <td>891.00</td>\n",
       "    </tr>\n",
       "    <tr>\n",
       "      <th>nan_cnt</th>\n",
       "      <td>0.0</td>\n",
       "      <td>0.0</td>\n",
       "      <td>0.0</td>\n",
       "      <td>0.0</td>\n",
       "      <td>0.0</td>\n",
       "      <td>177.00</td>\n",
       "      <td>0.0</td>\n",
       "      <td>0.0</td>\n",
       "      <td>0.0</td>\n",
       "      <td>0.0</td>\n",
       "      <td>687.0</td>\n",
       "      <td>2.00</td>\n",
       "    </tr>\n",
       "    <tr>\n",
       "      <th>rate</th>\n",
       "      <td>0.0</td>\n",
       "      <td>0.0</td>\n",
       "      <td>0.0</td>\n",
       "      <td>0.0</td>\n",
       "      <td>0.0</td>\n",
       "      <td>19.87</td>\n",
       "      <td>0.0</td>\n",
       "      <td>0.0</td>\n",
       "      <td>0.0</td>\n",
       "      <td>0.0</td>\n",
       "      <td>77.1</td>\n",
       "      <td>0.22</td>\n",
       "    </tr>\n",
       "    <tr>\n",
       "      <th>unique_cnt</th>\n",
       "      <td>891.0</td>\n",
       "      <td>2.0</td>\n",
       "      <td>3.0</td>\n",
       "      <td>891.0</td>\n",
       "      <td>2.0</td>\n",
       "      <td>88.00</td>\n",
       "      <td>7.0</td>\n",
       "      <td>7.0</td>\n",
       "      <td>681.0</td>\n",
       "      <td>248.0</td>\n",
       "      <td>147.0</td>\n",
       "      <td>3.00</td>\n",
       "    </tr>\n",
       "  </tbody>\n",
       "</table>\n",
       "</div>"
      ],
      "text/plain": [
       "            passengerid  survived  pclass   name    sex     age  sibsp  parch  \\\n",
       "cnt               891.0     891.0   891.0  891.0  891.0  891.00  891.0  891.0   \n",
       "nan_cnt             0.0       0.0     0.0    0.0    0.0  177.00    0.0    0.0   \n",
       "rate                0.0       0.0     0.0    0.0    0.0   19.87    0.0    0.0   \n",
       "unique_cnt        891.0       2.0     3.0  891.0    2.0   88.00    7.0    7.0   \n",
       "\n",
       "            ticket   fare  cabin  embarked  \n",
       "cnt          891.0  891.0  891.0    891.00  \n",
       "nan_cnt        0.0    0.0  687.0      2.00  \n",
       "rate           0.0    0.0   77.1      0.22  \n",
       "unique_cnt   681.0  248.0  147.0      3.00  "
      ]
     },
     "execution_count": 84,
     "metadata": {},
     "output_type": "execute_result"
    }
   ],
   "source": [
    "dic={\"cnt\":cnt,\"nan_cnt\":nan_cnt,\"rate\":rate,\"unique_cnt\": unique_cnt}\n",
    "nandf=pd.DataFrame(dic)\n",
    "nandf.T"
   ]
  },
  {
   "cell_type": "markdown",
   "id": "493d683f-2a5d-4bd0-bb56-52f3673cb425",
   "metadata": {
    "tags": []
   },
   "source": []
  },
  {
   "cell_type": "code",
   "execution_count": 62,
   "id": "2819e7f4-a524-467b-89a0-6a5d365bbd7d",
   "metadata": {
    "tags": []
   },
   "outputs": [],
   "source": [
    "cs=pd.Series(col)\n",
    "cnt_s =pd.Series(cnt)\n",
    "nan_cnt_s = pd.Series(nan_cnt)\n",
    "rate_s = pd.Series(rate)"
   ]
  },
  {
   "cell_type": "code",
   "execution_count": 63,
   "id": "917efadd-78c1-42db-8048-1cf340251300",
   "metadata": {
    "tags": []
   },
   "outputs": [],
   "source": [
    "df =pd.DataFrame(cnt_s, columns=['cnt'])"
   ]
  },
  {
   "cell_type": "code",
   "execution_count": 69,
   "id": "4d139e42-ff31-4d9f-81c5-bb94992e73c4",
   "metadata": {
    "tags": []
   },
   "outputs": [],
   "source": [
    "df['nan_cnt']=nan_cnt_s\n",
    "df['rate']=rate_s"
   ]
  },
  {
   "cell_type": "code",
   "execution_count": 70,
   "id": "4c396eee-68b7-4ca5-b58d-181ed9c64db6",
   "metadata": {
    "tags": []
   },
   "outputs": [
    {
     "data": {
      "text/html": [
       "<div>\n",
       "<style scoped>\n",
       "    .dataframe tbody tr th:only-of-type {\n",
       "        vertical-align: middle;\n",
       "    }\n",
       "\n",
       "    .dataframe tbody tr th {\n",
       "        vertical-align: top;\n",
       "    }\n",
       "\n",
       "    .dataframe thead th {\n",
       "        text-align: right;\n",
       "    }\n",
       "</style>\n",
       "<table border=\"1\" class=\"dataframe\">\n",
       "  <thead>\n",
       "    <tr style=\"text-align: right;\">\n",
       "      <th></th>\n",
       "      <th>cnt</th>\n",
       "      <th>nan_cnt</th>\n",
       "      <th>rate</th>\n",
       "    </tr>\n",
       "  </thead>\n",
       "  <tbody>\n",
       "    <tr>\n",
       "      <th>passengerid</th>\n",
       "      <td>891</td>\n",
       "      <td>0</td>\n",
       "      <td>0.00</td>\n",
       "    </tr>\n",
       "    <tr>\n",
       "      <th>survived</th>\n",
       "      <td>891</td>\n",
       "      <td>0</td>\n",
       "      <td>0.00</td>\n",
       "    </tr>\n",
       "    <tr>\n",
       "      <th>pclass</th>\n",
       "      <td>891</td>\n",
       "      <td>0</td>\n",
       "      <td>0.00</td>\n",
       "    </tr>\n",
       "    <tr>\n",
       "      <th>name</th>\n",
       "      <td>891</td>\n",
       "      <td>0</td>\n",
       "      <td>0.00</td>\n",
       "    </tr>\n",
       "    <tr>\n",
       "      <th>sex</th>\n",
       "      <td>891</td>\n",
       "      <td>0</td>\n",
       "      <td>0.00</td>\n",
       "    </tr>\n",
       "    <tr>\n",
       "      <th>age</th>\n",
       "      <td>891</td>\n",
       "      <td>177</td>\n",
       "      <td>19.87</td>\n",
       "    </tr>\n",
       "    <tr>\n",
       "      <th>sibsp</th>\n",
       "      <td>891</td>\n",
       "      <td>0</td>\n",
       "      <td>0.00</td>\n",
       "    </tr>\n",
       "    <tr>\n",
       "      <th>parch</th>\n",
       "      <td>891</td>\n",
       "      <td>0</td>\n",
       "      <td>0.00</td>\n",
       "    </tr>\n",
       "    <tr>\n",
       "      <th>ticket</th>\n",
       "      <td>891</td>\n",
       "      <td>0</td>\n",
       "      <td>0.00</td>\n",
       "    </tr>\n",
       "    <tr>\n",
       "      <th>fare</th>\n",
       "      <td>891</td>\n",
       "      <td>0</td>\n",
       "      <td>0.00</td>\n",
       "    </tr>\n",
       "    <tr>\n",
       "      <th>cabin</th>\n",
       "      <td>891</td>\n",
       "      <td>687</td>\n",
       "      <td>77.10</td>\n",
       "    </tr>\n",
       "    <tr>\n",
       "      <th>embarked</th>\n",
       "      <td>891</td>\n",
       "      <td>2</td>\n",
       "      <td>0.22</td>\n",
       "    </tr>\n",
       "  </tbody>\n",
       "</table>\n",
       "</div>"
      ],
      "text/plain": [
       "             cnt  nan_cnt   rate\n",
       "passengerid  891        0   0.00\n",
       "survived     891        0   0.00\n",
       "pclass       891        0   0.00\n",
       "name         891        0   0.00\n",
       "sex          891        0   0.00\n",
       "age          891      177  19.87\n",
       "sibsp        891        0   0.00\n",
       "parch        891        0   0.00\n",
       "ticket       891        0   0.00\n",
       "fare         891        0   0.00\n",
       "cabin        891      687  77.10\n",
       "embarked     891        2   0.22"
      ]
     },
     "execution_count": 70,
     "metadata": {},
     "output_type": "execute_result"
    }
   ],
   "source": [
    "df"
   ]
  },
  {
   "cell_type": "markdown",
   "id": "6bc81896-4ac0-4dfe-9533-e6f240575de8",
   "metadata": {},
   "source": [
    "# 3. 중복값 확인\n",
    "- df[컬럼].unique()\n",
    "- df[컬럼].nunique()  "
   ]
  },
  {
   "cell_type": "markdown",
   "id": "c89d20f4-9fe8-499f-a7bc-7daa4c6b38e5",
   "metadata": {},
   "source": [
    "select distinct job from emp;"
   ]
  },
  {
   "cell_type": "code",
   "execution_count": 75,
   "id": "07b9cef4-d913-4642-8c54-f590cb5c9f44",
   "metadata": {
    "tags": []
   },
   "outputs": [
    {
     "data": {
      "text/plain": [
       "array(['male', 'female'], dtype=object)"
      ]
     },
     "execution_count": 75,
     "metadata": {},
     "output_type": "execute_result"
    }
   ],
   "source": [
    "train['sex'].unique()"
   ]
  },
  {
   "cell_type": "code",
   "execution_count": 77,
   "id": "d1e5d221-8216-4154-bc01-39121ead3b87",
   "metadata": {
    "tags": []
   },
   "outputs": [
    {
     "data": {
      "text/plain": [
       "2"
      ]
     },
     "execution_count": 77,
     "metadata": {},
     "output_type": "execute_result"
    }
   ],
   "source": [
    "#len(train['sex'].unique())\n",
    "train['sex'].nunique()"
   ]
  },
  {
   "cell_type": "code",
   "execution_count": 80,
   "id": "2178f349-5906-4c5d-a86a-51d7ea8417de",
   "metadata": {
    "tags": []
   },
   "outputs": [
    {
     "data": {
      "text/plain": [
       "male      577\n",
       "female    314\n",
       "Name: sex, dtype: int64"
      ]
     },
     "execution_count": 80,
     "metadata": {},
     "output_type": "execute_result"
    }
   ],
   "source": [
    "train['sex'].value_counts()"
   ]
  },
  {
   "cell_type": "code",
   "execution_count": 81,
   "id": "7581dfac-720c-4456-a0b5-ef2c241fbf21",
   "metadata": {
    "tags": []
   },
   "outputs": [
    {
     "name": "stdout",
     "output_type": "stream",
     "text": [
      "survived 2 [0 1]\n",
      "pclass 3 [3 1 2]\n",
      "sex 2 ['male' 'female']\n",
      "age 88 [22.   38.   26.   35.     nan 54.    2.   27.   14.    4.   58.   20.\n",
      " 39.   55.   31.   34.   15.   28.    8.   19.   40.   66.   42.   21.\n",
      " 18.    3.    7.   49.   29.   65.   28.5   5.   11.   45.   17.   32.\n",
      " 16.   25.    0.83 30.   33.   23.   24.   46.   59.   71.   37.   47.\n",
      " 14.5  70.5  32.5  12.    9.   36.5  51.   55.5  40.5  44.    1.   61.\n",
      " 56.   50.   36.   45.5  20.5  62.   41.   52.   63.   23.5   0.92 43.\n",
      " 60.   10.   64.   13.   48.    0.75 53.   57.   80.   70.   24.5   6.\n",
      "  0.67 30.5   0.42 34.5  74.  ]\n",
      "sibsp 7 [1 0 3 4 2 5 8]\n",
      "parch 7 [0 1 2 5 3 4 6]\n",
      "embarked 3 ['S' 'C' 'Q' nan]\n"
     ]
    }
   ],
   "source": [
    "# 컬럼별 유니크 개수\n",
    "for col in train.columns:\n",
    "    if train[col].nunique()<100:\n",
    "        print(col, train[col].nunique(), train[col].unique())\n"
   ]
  },
  {
   "cell_type": "markdown",
   "id": "cc101c3e-cad3-4eb4-ab8f-e75114eebab3",
   "metadata": {},
   "source": [
    "# 4. EDA\n",
    "- EDA (Exploratory Data Analysis, 탐색적 데이터 분석)\n",
    "- 통계적 분석 & 차트(시각화)"
   ]
  },
  {
   "cell_type": "code",
   "execution_count": null,
   "id": "6ae5be1c-7080-45f8-a742-b446bc6a98fc",
   "metadata": {},
   "outputs": [],
   "source": [
    "# ! 는 파이참에서의 터미널에서 설치하는 것과 동일한 역할\n",
    "# 단 주피터를 껏다 켜야 파이참에서 인식함"
   ]
  },
  {
   "cell_type": "code",
   "execution_count": 87,
   "id": "4135577f-5279-4275-b875-b790ac76199e",
   "metadata": {
    "tags": []
   },
   "outputs": [
    {
     "name": "stdout",
     "output_type": "stream",
     "text": [
      "Collecting matplotlib\n",
      "  Downloading matplotlib-3.6.3-cp38-cp38-win_amd64.whl (7.2 MB)\n",
      "     ---------------------------------------- 7.2/7.2 MB 2.2 MB/s eta 0:00:00\n",
      "Requirement already satisfied: packaging>=20.0 in c:\\ai\\pythonproject2\\venv\\lib\\site-packages (from matplotlib) (23.0)\n",
      "Requirement already satisfied: numpy>=1.19 in c:\\ai\\pythonproject2\\venv\\lib\\site-packages (from matplotlib) (1.24.2)\n",
      "Requirement already satisfied: python-dateutil>=2.7 in c:\\ai\\pythonproject2\\venv\\lib\\site-packages (from matplotlib) (2.8.2)\n",
      "Collecting pillow>=6.2.0\n",
      "  Downloading Pillow-9.4.0-cp38-cp38-win_amd64.whl (2.5 MB)\n",
      "     ---------------------------------------- 2.5/2.5 MB 3.1 MB/s eta 0:00:00\n",
      "Collecting cycler>=0.10\n",
      "  Downloading cycler-0.11.0-py3-none-any.whl (6.4 kB)\n",
      "Collecting fonttools>=4.22.0\n",
      "  Downloading fonttools-4.38.0-py3-none-any.whl (965 kB)\n",
      "     -------------------------------------- 965.4/965.4 kB 5.1 MB/s eta 0:00:00\n",
      "Collecting contourpy>=1.0.1\n",
      "  Downloading contourpy-1.0.7-cp38-cp38-win_amd64.whl (162 kB)\n",
      "     -------------------------------------- 163.0/163.0 kB 3.3 MB/s eta 0:00:00\n",
      "Collecting kiwisolver>=1.0.1\n",
      "  Downloading kiwisolver-1.4.4-cp38-cp38-win_amd64.whl (55 kB)\n",
      "     ---------------------------------------- 55.4/55.4 kB 3.0 MB/s eta 0:00:00\n",
      "Collecting pyparsing>=2.2.1\n",
      "  Downloading pyparsing-3.0.9-py3-none-any.whl (98 kB)\n",
      "     ---------------------------------------- 98.3/98.3 kB 5.5 MB/s eta 0:00:00\n",
      "Requirement already satisfied: six>=1.5 in c:\\ai\\pythonproject2\\venv\\lib\\site-packages (from python-dateutil>=2.7->matplotlib) (1.16.0)\n",
      "Installing collected packages: pyparsing, pillow, kiwisolver, fonttools, cycler, contourpy, matplotlib\n",
      "Successfully installed contourpy-1.0.7 cycler-0.11.0 fonttools-4.38.0 kiwisolver-1.4.4 matplotlib-3.6.3 pillow-9.4.0 pyparsing-3.0.9\n"
     ]
    },
    {
     "name": "stderr",
     "output_type": "stream",
     "text": [
      "\n",
      "[notice] A new release of pip available: 22.3.1 -> 23.0\n",
      "[notice] To update, run: python.exe -m pip install --upgrade pip\n"
     ]
    }
   ],
   "source": [
    "##### ! pip install matplotlib"
   ]
  },
  {
   "cell_type": "code",
   "execution_count": 88,
   "id": "a3461e1c-31a7-407b-b4ed-e7f5614fa08d",
   "metadata": {
    "tags": []
   },
   "outputs": [
    {
     "data": {
      "image/png": "[encoded data removed]",
      "text/plain": [
       "<Figure size 640x480 with 1 Axes>"
      ]
     },
     "metadata": {},
     "output_type": "display_data"
    }
   ],
   "source": [
    "import matplotlib.pyplot as plt\n",
    "plt.plot([1,2,3,8,4]) # iterable : 반복되어질 수 있는 것 넣기\n",
    "plt.show()"
   ]
  },
  {
   "cell_type": "markdown",
   "id": "5b664117-d848-4009-ae6a-792fd188802a",
   "metadata": {},
   "source": [
    "# 5. 데이터 분석"
   ]
  },
  {
   "cell_type": "markdown",
   "id": "b48ff011-590d-46c6-a7e9-32cf1514bf5a",
   "metadata": {},
   "source": [
    "## 5.1 passengerid\n",
    "- unipue 해서 패턴을 보이지 않음   -->분석대상에서 제외"
   ]
  },
  {
   "cell_type": "code",
   "execution_count": 91,
   "id": "b1b22510-1ed5-4973-863d-2b80a137a4c2",
   "metadata": {
    "tags": []
   },
   "outputs": [],
   "source": [
    "train=train.drop('passengerid',axis=1)"
   ]
  },
  {
   "cell_type": "code",
   "execution_count": 93,
   "id": "6a3a62c7-8614-4853-a736-208c8249d9ce",
   "metadata": {
    "tags": []
   },
   "outputs": [
    {
     "data": {
      "text/html": [
       "<div>\n",
       "<style scoped>\n",
       "    .dataframe tbody tr th:only-of-type {\n",
       "        vertical-align: middle;\n",
       "    }\n",
       "\n",
       "    .dataframe tbody tr th {\n",
       "        vertical-align: top;\n",
       "    }\n",
       "\n",
       "    .dataframe thead th {\n",
       "        text-align: right;\n",
       "    }\n",
       "</style>\n",
       "<table border=\"1\" class=\"dataframe\">\n",
       "  <thead>\n",
       "    <tr style=\"text-align: right;\">\n",
       "      <th></th>\n",
       "      <th>survived</th>\n",
       "      <th>pclass</th>\n",
       "      <th>name</th>\n",
       "      <th>sex</th>\n",
       "      <th>age</th>\n",
       "      <th>sibsp</th>\n",
       "      <th>parch</th>\n",
       "      <th>ticket</th>\n",
       "      <th>fare</th>\n",
       "      <th>cabin</th>\n",
       "      <th>embarked</th>\n",
       "    </tr>\n",
       "  </thead>\n",
       "  <tbody>\n",
       "    <tr>\n",
       "      <th>0</th>\n",
       "      <td>0</td>\n",
       "      <td>3</td>\n",
       "      <td>Braund, Mr. Owen Harris</td>\n",
       "      <td>male</td>\n",
       "      <td>22.0</td>\n",
       "      <td>1</td>\n",
       "      <td>0</td>\n",
       "      <td>A/5 21171</td>\n",
       "      <td>7.25</td>\n",
       "      <td>NaN</td>\n",
       "      <td>S</td>\n",
       "    </tr>\n",
       "  </tbody>\n",
       "</table>\n",
       "</div>"
      ],
      "text/plain": [
       "   survived  pclass                     name   sex   age  sibsp  parch  \\\n",
       "0         0       3  Braund, Mr. Owen Harris  male  22.0      1      0   \n",
       "\n",
       "      ticket  fare cabin embarked  \n",
       "0  A/5 21171  7.25   NaN        S  "
      ]
     },
     "execution_count": 93,
     "metadata": {},
     "output_type": "execute_result"
    }
   ],
   "source": [
    "train.head(1)"
   ]
  },
  {
   "cell_type": "markdown",
   "id": "6a484200-a489-4389-a7fc-8a458e9af4db",
   "metadata": {},
   "source": [
    "## 5.2 survived"
   ]
  },
  {
   "cell_type": "code",
   "execution_count": 90,
   "id": "d716f54d-4fda-413f-9d18-319b445167fb",
   "metadata": {
    "tags": []
   },
   "outputs": [
    {
     "data": {
      "image/png": "[encoded data removed]",
      "text/plain": [
       "<Figure size 640x480 with 1 Axes>"
      ]
     },
     "metadata": {},
     "output_type": "display_data"
    }
   ],
   "source": [
    "#pandas 내에도 plot 존재함\n",
    "train['survived'].value_counts().plot(kind='bar') \n",
    "plt.show()"
   ]
  },
  {
   "cell_type": "markdown",
   "id": "ee9ebd89-f4ac-43e4-a433-8590ae18ace8",
   "metadata": {},
   "source": [
    "## 5.3 pclass"
   ]
  },
  {
   "cell_type": "code",
   "execution_count": 98,
   "id": "7a5d8849-18da-4b8f-ae4b-471aeab15847",
   "metadata": {
    "tags": []
   },
   "outputs": [
    {
     "data": {
      "text/plain": [
       "3    491\n",
       "1    216\n",
       "2    184\n",
       "Name: pclass, dtype: int64"
      ]
     },
     "execution_count": 98,
     "metadata": {},
     "output_type": "execute_result"
    }
   ],
   "source": [
    "#train.groupby('pclass')['pclass'].count()\n",
    "train['pclass'].value_counts()"
   ]
  },
  {
   "cell_type": "code",
   "execution_count": 97,
   "id": "2615efa3-b449-4088-b7ba-4e974ea16c8b",
   "metadata": {
    "tags": []
   },
   "outputs": [
    {
     "data": {
      "text/plain": [
       "pclass  survived\n",
       "1       0            80\n",
       "        1           136\n",
       "2       0            97\n",
       "        1            87\n",
       "3       0           372\n",
       "        1           119\n",
       "dtype: int64"
      ]
     },
     "execution_count": 97,
     "metadata": {},
     "output_type": "execute_result"
    }
   ],
   "source": [
    "train[['pclass','survived']].value_counts().sort_index()"
   ]
  },
  {
   "cell_type": "code",
   "execution_count": 99,
   "id": "d7335327-4966-4fd2-9fdd-884bb6180fee",
   "metadata": {
    "tags": []
   },
   "outputs": [
    {
     "data": {
      "image/png": "[encoded data removed]",
      "text/plain": [
       "<Figure size 640x480 with 1 Axes>"
      ]
     },
     "metadata": {},
     "output_type": "display_data"
    }
   ],
   "source": [
    "train[['pclass','survived']].value_counts().sort_index().plot(kind='bar')\n",
    "plt.show() # 3등급 칸에 타면 사망 확률 높음"
   ]
  },
  {
   "cell_type": "markdown",
   "id": "9db0338a-2d9c-4a12-9aac-8340a0597950",
   "metadata": {},
   "source": [
    "## 5.4 cabin"
   ]
  },
  {
   "cell_type": "code",
   "execution_count": 101,
   "id": "8bf36174-7c6c-4960-9340-ed43ed256070",
   "metadata": {
    "tags": []
   },
   "outputs": [
    {
     "data": {
      "text/plain": [
       "1              C85\n",
       "3             C123\n",
       "6              E46\n",
       "10              G6\n",
       "11            C103\n",
       "          ...     \n",
       "871            D35\n",
       "872    B51 B53 B55\n",
       "879            C50\n",
       "887            B42\n",
       "889           C148\n",
       "Name: cabin, Length: 204, dtype: object"
      ]
     },
     "execution_count": 101,
     "metadata": {},
     "output_type": "execute_result"
    }
   ],
   "source": [
    "train['cabin'][ train['cabin'].notna() ] "
   ]
  },
  {
   "cell_type": "code",
   "execution_count": 112,
   "id": "1e4cd39b-37d7-462b-8d82-4d208695b121",
   "metadata": {
    "tags": []
   },
   "outputs": [
    {
     "data": {
      "text/html": [
       "<div>\n",
       "<style scoped>\n",
       "    .dataframe tbody tr th:only-of-type {\n",
       "        vertical-align: middle;\n",
       "    }\n",
       "\n",
       "    .dataframe tbody tr th {\n",
       "        vertical-align: top;\n",
       "    }\n",
       "\n",
       "    .dataframe thead th {\n",
       "        text-align: right;\n",
       "    }\n",
       "</style>\n",
       "<table border=\"1\" class=\"dataframe\">\n",
       "  <thead>\n",
       "    <tr style=\"text-align: right;\">\n",
       "      <th></th>\n",
       "      <th>survived</th>\n",
       "      <th>pclass</th>\n",
       "      <th>name</th>\n",
       "      <th>sex</th>\n",
       "      <th>age</th>\n",
       "      <th>sibsp</th>\n",
       "      <th>parch</th>\n",
       "      <th>ticket</th>\n",
       "      <th>fare</th>\n",
       "      <th>cabin</th>\n",
       "      <th>embarked</th>\n",
       "    </tr>\n",
       "  </thead>\n",
       "  <tbody>\n",
       "    <tr>\n",
       "      <th>0</th>\n",
       "      <td>0</td>\n",
       "      <td>3</td>\n",
       "      <td>Braund, Mr. Owen Harris</td>\n",
       "      <td>male</td>\n",
       "      <td>22.0</td>\n",
       "      <td>1</td>\n",
       "      <td>0</td>\n",
       "      <td>A/5 21171</td>\n",
       "      <td>7.2500</td>\n",
       "      <td>NaN</td>\n",
       "      <td>S</td>\n",
       "    </tr>\n",
       "    <tr>\n",
       "      <th>1</th>\n",
       "      <td>1</td>\n",
       "      <td>1</td>\n",
       "      <td>Cumings, Mrs. John Bradley (Florence Briggs Th...</td>\n",
       "      <td>female</td>\n",
       "      <td>38.0</td>\n",
       "      <td>1</td>\n",
       "      <td>0</td>\n",
       "      <td>PC 17599</td>\n",
       "      <td>71.2833</td>\n",
       "      <td>C85</td>\n",
       "      <td>C</td>\n",
       "    </tr>\n",
       "    <tr>\n",
       "      <th>2</th>\n",
       "      <td>1</td>\n",
       "      <td>3</td>\n",
       "      <td>Heikkinen, Miss. Laina</td>\n",
       "      <td>female</td>\n",
       "      <td>26.0</td>\n",
       "      <td>0</td>\n",
       "      <td>0</td>\n",
       "      <td>STON/O2. 3101282</td>\n",
       "      <td>7.9250</td>\n",
       "      <td>NaN</td>\n",
       "      <td>S</td>\n",
       "    </tr>\n",
       "    <tr>\n",
       "      <th>3</th>\n",
       "      <td>1</td>\n",
       "      <td>1</td>\n",
       "      <td>Futrelle, Mrs. Jacques Heath (Lily May Peel)</td>\n",
       "      <td>female</td>\n",
       "      <td>35.0</td>\n",
       "      <td>1</td>\n",
       "      <td>0</td>\n",
       "      <td>113803</td>\n",
       "      <td>53.1000</td>\n",
       "      <td>C123</td>\n",
       "      <td>S</td>\n",
       "    </tr>\n",
       "    <tr>\n",
       "      <th>4</th>\n",
       "      <td>0</td>\n",
       "      <td>3</td>\n",
       "      <td>Allen, Mr. William Henry</td>\n",
       "      <td>male</td>\n",
       "      <td>35.0</td>\n",
       "      <td>0</td>\n",
       "      <td>0</td>\n",
       "      <td>373450</td>\n",
       "      <td>8.0500</td>\n",
       "      <td>NaN</td>\n",
       "      <td>S</td>\n",
       "    </tr>\n",
       "  </tbody>\n",
       "</table>\n",
       "</div>"
      ],
      "text/plain": [
       "   survived  pclass                                               name  \\\n",
       "0         0       3                            Braund, Mr. Owen Harris   \n",
       "1         1       1  Cumings, Mrs. John Bradley (Florence Briggs Th...   \n",
       "2         1       3                             Heikkinen, Miss. Laina   \n",
       "3         1       1       Futrelle, Mrs. Jacques Heath (Lily May Peel)   \n",
       "4         0       3                           Allen, Mr. William Henry   \n",
       "\n",
       "      sex   age  sibsp  parch            ticket     fare cabin embarked  \n",
       "0    male  22.0      1      0         A/5 21171   7.2500   NaN        S  \n",
       "1  female  38.0      1      0          PC 17599  71.2833   C85        C  \n",
       "2  female  26.0      0      0  STON/O2. 3101282   7.9250   NaN        S  \n",
       "3  female  35.0      1      0            113803  53.1000  C123        S  \n",
       "4    male  35.0      0      0            373450   8.0500   NaN        S  "
      ]
     },
     "execution_count": 112,
     "metadata": {},
     "output_type": "execute_result"
    }
   ],
   "source": [
    "train.head()"
   ]
  },
  {
   "cell_type": "code",
   "execution_count": 132,
   "id": "19d93071-5526-4317-b7d7-cdb8cfa06764",
   "metadata": {
    "tags": []
   },
   "outputs": [
    {
     "data": {
      "text/html": [
       "<div>\n",
       "<style scoped>\n",
       "    .dataframe tbody tr th:only-of-type {\n",
       "        vertical-align: middle;\n",
       "    }\n",
       "\n",
       "    .dataframe tbody tr th {\n",
       "        vertical-align: top;\n",
       "    }\n",
       "\n",
       "    .dataframe thead th {\n",
       "        text-align: right;\n",
       "    }\n",
       "</style>\n",
       "<table border=\"1\" class=\"dataframe\">\n",
       "  <thead>\n",
       "    <tr style=\"text-align: right;\">\n",
       "      <th></th>\n",
       "      <th>cabin</th>\n",
       "      <th>cabin2</th>\n",
       "    </tr>\n",
       "  </thead>\n",
       "  <tbody>\n",
       "    <tr>\n",
       "      <th>0</th>\n",
       "      <td>NaN</td>\n",
       "      <td>NaN</td>\n",
       "    </tr>\n",
       "    <tr>\n",
       "      <th>1</th>\n",
       "      <td>C85</td>\n",
       "      <td>C</td>\n",
       "    </tr>\n",
       "    <tr>\n",
       "      <th>2</th>\n",
       "      <td>NaN</td>\n",
       "      <td>NaN</td>\n",
       "    </tr>\n",
       "  </tbody>\n",
       "</table>\n",
       "</div>"
      ],
      "text/plain": [
       "  cabin cabin2\n",
       "0   NaN    NaN\n",
       "1   C85      C\n",
       "2   NaN    NaN"
      ]
     },
     "execution_count": 132,
     "metadata": {},
     "output_type": "execute_result"
    }
   ],
   "source": [
    "# cabin의 첫 글자 뽑기\n",
    "train['cabin2'] = train['cabin'].str[0:1]\n",
    "train[['cabin','cabin2']].head(3)"
   ]
  },
  {
   "cell_type": "code",
   "execution_count": 133,
   "id": "1927a746-8eeb-4bc9-8936-022c82bb7871",
   "metadata": {
    "tags": []
   },
   "outputs": [
    {
     "data": {
      "text/plain": [
       "cabin2  survived\n",
       "A       0            8\n",
       "        1            7\n",
       "B       0           12\n",
       "        1           35\n",
       "C       0           24\n",
       "        1           35\n",
       "D       0            8\n",
       "        1           25\n",
       "E       0            8\n",
       "        1           24\n",
       "F       0            5\n",
       "        1            8\n",
       "G       0            2\n",
       "        1            2\n",
       "T       0            1\n",
       "dtype: int64"
      ]
     },
     "execution_count": 133,
     "metadata": {},
     "output_type": "execute_result"
    }
   ],
   "source": [
    "# cabin 사용 여부와 생존여부의 연관성 ?  cabin과 생존의 연관성은 작다\n",
    "train[['cabin2','survived']].value_counts().sort_index()"
   ]
  },
  {
   "cell_type": "code",
   "execution_count": 134,
   "id": "0f09db0b-c237-4bc5-94b2-33d24939af91",
   "metadata": {
    "tags": []
   },
   "outputs": [
    {
     "data": {
      "text/plain": [
       "cabin2  pclass\n",
       "A       1         15\n",
       "B       1         47\n",
       "C       1         59\n",
       "D       1         29\n",
       "        2          4\n",
       "E       1         25\n",
       "        2          4\n",
       "        3          3\n",
       "F       2          8\n",
       "        3          5\n",
       "G       3          4\n",
       "T       1          1\n",
       "dtype: int64"
      ]
     },
     "execution_count": 134,
     "metadata": {},
     "output_type": "execute_result"
    }
   ],
   "source": [
    "# A~D위치는 1등급사람들만 이용 \n",
    "# 1등급 칸의 사람들이 cabin을 많이 이용\n",
    "# cabin 위치에 따라 생존 여부가 달라지나? NO   -->  pclass를 기준으로 생존여부를 분석\n",
    "train[['cabin2','pclass']].value_counts().sort_index()"
   ]
  },
  {
   "cell_type": "code",
   "execution_count": null,
   "id": "08de949e-8437-4dcc-b6ac-21c8212ccb64",
   "metadata": {},
   "outputs": [],
   "source": []
  }
 ],
 "metadata": {
  "kernelspec": {
   "display_name": "Python 3 (ipykernel)",
   "language": "python",
   "name": "python3"
  },
  "language_info": {
   "codemirror_mode": {
    "name": "ipython",
    "version": 3
   },
   "file_extension": ".py",
   "mimetype": "text/x-python",
   "name": "python",
   "nbconvert_exporter": "python",
   "pygments_lexer": "ipython3",
   "version": "3.8.8"
  },
  "toc-autonumbering": false
 },
 "nbformat": 4,
 "nbformat_minor": 5
}
