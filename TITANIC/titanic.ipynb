{
 "cells": [
  {
   "cell_type": "markdown",
   "id": "4adca264-7749-46a0-a2fc-59f540bb3dcc",
   "metadata": {},
   "source": [
    "# Titanic"
   ]
  },
  {
   "cell_type": "markdown",
   "id": "ff22e33f-9da2-464f-bbab-9fb2a4687229",
   "metadata": {},
   "source": [
    "- ref : https://www.kaggle.com/competitions/titanic/data\n",
    "- Data desc.\n",
    "<pre>\n",
    "survival  :  Survival                    0 = No, 1 = Yes\n",
    "pclass    :  Ticket class                1 = 1st, 2 = 2nd, 3 = 3rd\n",
    "sex       :  Sex\n",
    "Age       :  Age in years\n",
    "sibsp     :  of siblings / spouses aboard the Titanic\n",
    "parch     :  of parents / children aboard the Titanic\n",
    "ticket    :  Ticket number\n",
    "fare      :  Passenger fare\n",
    "cabin     :  Cabin number\n",
    "embarked  :  Port of Embarkation         C = Cherbourg, Q = Queenstown, S = Southampton"
   ]
  },
  {
   "cell_type": "markdown",
   "id": "6bf8f320-bad3-4bbc-95f4-57d9f9dd5c91",
   "metadata": {},
   "source": [
    "# 1. Data Load\n",
    "- head()\n",
    "- info()\n",
    "- shape"
   ]
  },
  {
   "cell_type": "code",
   "execution_count": 1,
   "id": "ec1179e3-0863-4460-b75b-15cf058f54c1",
   "metadata": {},
   "outputs": [],
   "source": [
    "import warnings\n",
    "warnings.filterwarnings(action='ignore')"
   ]
  },
  {
   "cell_type": "code",
   "execution_count": 2,
   "id": "a21f0e7b-2d06-41a9-b46c-cb72b712a025",
   "metadata": {
    "tags": []
   },
   "outputs": [],
   "source": [
    "import pandas as pd\n",
    "import numpy as np"
   ]
  },
  {
   "cell_type": "code",
   "execution_count": 3,
   "id": "ca7ebd5a-108c-4eb1-9cc0-b04050ba828f",
   "metadata": {
    "tags": []
   },
   "outputs": [
    {
     "data": {
      "text/html": [
       "<div>\n",
       "<style scoped>\n",
       "    .dataframe tbody tr th:only-of-type {\n",
       "        vertical-align: middle;\n",
       "    }\n",
       "\n",
       "    .dataframe tbody tr th {\n",
       "        vertical-align: top;\n",
       "    }\n",
       "\n",
       "    .dataframe thead th {\n",
       "        text-align: right;\n",
       "    }\n",
       "</style>\n",
       "<table border=\"1\" class=\"dataframe\">\n",
       "  <thead>\n",
       "    <tr style=\"text-align: right;\">\n",
       "      <th></th>\n",
       "      <th>PassengerId</th>\n",
       "      <th>Survived</th>\n",
       "      <th>Pclass</th>\n",
       "      <th>Name</th>\n",
       "      <th>Sex</th>\n",
       "      <th>Age</th>\n",
       "      <th>SibSp</th>\n",
       "      <th>Parch</th>\n",
       "      <th>Ticket</th>\n",
       "      <th>Fare</th>\n",
       "      <th>Cabin</th>\n",
       "      <th>Embarked</th>\n",
       "    </tr>\n",
       "  </thead>\n",
       "  <tbody>\n",
       "    <tr>\n",
       "      <th>0</th>\n",
       "      <td>1</td>\n",
       "      <td>0</td>\n",
       "      <td>3</td>\n",
       "      <td>Braund, Mr. Owen Harris</td>\n",
       "      <td>male</td>\n",
       "      <td>22.0</td>\n",
       "      <td>1</td>\n",
       "      <td>0</td>\n",
       "      <td>A/5 21171</td>\n",
       "      <td>7.25</td>\n",
       "      <td>NaN</td>\n",
       "      <td>S</td>\n",
       "    </tr>\n",
       "  </tbody>\n",
       "</table>\n",
       "</div>"
      ],
      "text/plain": [
       "   PassengerId  Survived  Pclass                     Name   Sex   Age  SibSp  \\\n",
       "0            1         0       3  Braund, Mr. Owen Harris  male  22.0      1   \n",
       "\n",
       "   Parch     Ticket  Fare Cabin Embarked  \n",
       "0      0  A/5 21171  7.25   NaN        S  "
      ]
     },
     "execution_count": 3,
     "metadata": {},
     "output_type": "execute_result"
    }
   ],
   "source": [
    "train=pd.read_csv(\"./train.csv\")\n",
    "train.head(1)"
   ]
  },
  {
   "cell_type": "code",
   "execution_count": 4,
   "id": "2c448bf9-e660-4250-a4e4-ce5042b6f6f1",
   "metadata": {
    "tags": []
   },
   "outputs": [
    {
     "name": "stdout",
     "output_type": "stream",
     "text": [
      "<class 'pandas.core.frame.DataFrame'>\n",
      "RangeIndex: 891 entries, 0 to 890\n",
      "Data columns (total 12 columns):\n",
      " #   Column       Non-Null Count  Dtype  \n",
      "---  ------       --------------  -----  \n",
      " 0   PassengerId  891 non-null    int64  \n",
      " 1   Survived     891 non-null    int64  \n",
      " 2   Pclass       891 non-null    int64  \n",
      " 3   Name         891 non-null    object \n",
      " 4   Sex          891 non-null    object \n",
      " 5   Age          714 non-null    float64\n",
      " 6   SibSp        891 non-null    int64  \n",
      " 7   Parch        891 non-null    int64  \n",
      " 8   Ticket       891 non-null    object \n",
      " 9   Fare         891 non-null    float64\n",
      " 10  Cabin        204 non-null    object \n",
      " 11  Embarked     889 non-null    object \n",
      "dtypes: float64(2), int64(5), object(5)\n",
      "memory usage: 83.7+ KB\n"
     ]
    }
   ],
   "source": [
    "train.info()\n",
    "# 숫자에 결측이 있을 때 float\n",
    "# 문자에 결측이 있을 때는 object\n",
    "\n",
    "# age float -> 결측\n",
    "# Embarked 2명의 탑승지?"
   ]
  },
  {
   "cell_type": "code",
   "execution_count": 5,
   "id": "e4b5704b-f573-40df-a039-48436c98b171",
   "metadata": {
    "tags": []
   },
   "outputs": [
    {
     "data": {
      "text/plain": [
       "(891, 12)"
      ]
     },
     "execution_count": 5,
     "metadata": {},
     "output_type": "execute_result"
    }
   ],
   "source": [
    "train.shape"
   ]
  },
  {
   "cell_type": "code",
   "execution_count": 6,
   "id": "eba065e8-05fa-484c-b33f-4532915157c2",
   "metadata": {
    "tags": []
   },
   "outputs": [
    {
     "data": {
      "text/plain": [
       "Index(['passengerid', 'survived', 'pclass', 'name', 'sex', 'age', 'sibsp',\n",
       "       'parch', 'ticket', 'fare', 'cabin', 'embarked'],\n",
       "      dtype='object')"
      ]
     },
     "execution_count": 6,
     "metadata": {},
     "output_type": "execute_result"
    }
   ],
   "source": [
    "train.columns=train.columns.str.lower()\n",
    "train.columns"
   ]
  },
  {
   "cell_type": "markdown",
   "id": "cde0e7c2-b492-4653-8c79-152b84cea8fb",
   "metadata": {},
   "source": [
    "# 2. 결측 확인"
   ]
  },
  {
   "cell_type": "code",
   "execution_count": 7,
   "id": "f542f7e3-0d4a-449d-90c5-5ec08cbc8a1a",
   "metadata": {
    "tags": []
   },
   "outputs": [
    {
     "data": {
      "text/plain": [
       "cabin       687\n",
       "age         177\n",
       "embarked      2\n",
       "dtype: int64"
      ]
     },
     "execution_count": 7,
     "metadata": {},
     "output_type": "execute_result"
    }
   ],
   "source": [
    "train.isna().sum() [ train.isna().sum() > 0 ].sort_values(ascending=False)"
   ]
  },
  {
   "cell_type": "markdown",
   "id": "bb253c0b-fc5b-4df4-8af9-71af9f874217",
   "metadata": {},
   "source": [
    "- 출력결과 다음과 같이 출력\n",
    "<pre>\n",
    "col       cnt       nan_cnt      rate\n",
    "age       891         177        23%"
   ]
  },
  {
   "cell_type": "markdown",
   "id": "515dfe0e-c362-4548-b387-f808540bbb56",
   "metadata": {},
   "source": []
  },
  {
   "cell_type": "code",
   "execution_count": 8,
   "id": "f6536db1-7c89-43e3-84dd-7c9f57b3b26b",
   "metadata": {
    "tags": []
   },
   "outputs": [],
   "source": [
    "col = train.columns\n",
    "cnt= train.notna().sum()\n",
    "nan_cnt = train.isna().sum()\n",
    "rate = round((nan_cnt/train.shape[0])*100,2)\n",
    "unique_cnt= train.nunique()"
   ]
  },
  {
   "cell_type": "code",
   "execution_count": 9,
   "id": "f410c174-1bc3-4299-ac4d-9b9964984c9f",
   "metadata": {
    "tags": []
   },
   "outputs": [
    {
     "data": {
      "text/html": [
       "<div>\n",
       "<style scoped>\n",
       "    .dataframe tbody tr th:only-of-type {\n",
       "        vertical-align: middle;\n",
       "    }\n",
       "\n",
       "    .dataframe tbody tr th {\n",
       "        vertical-align: top;\n",
       "    }\n",
       "\n",
       "    .dataframe thead th {\n",
       "        text-align: right;\n",
       "    }\n",
       "</style>\n",
       "<table border=\"1\" class=\"dataframe\">\n",
       "  <thead>\n",
       "    <tr style=\"text-align: right;\">\n",
       "      <th></th>\n",
       "      <th>passengerid</th>\n",
       "      <th>survived</th>\n",
       "      <th>pclass</th>\n",
       "      <th>name</th>\n",
       "      <th>sex</th>\n",
       "      <th>age</th>\n",
       "      <th>sibsp</th>\n",
       "      <th>parch</th>\n",
       "      <th>ticket</th>\n",
       "      <th>fare</th>\n",
       "      <th>cabin</th>\n",
       "      <th>embarked</th>\n",
       "    </tr>\n",
       "  </thead>\n",
       "  <tbody>\n",
       "    <tr>\n",
       "      <th>cnt</th>\n",
       "      <td>891.0</td>\n",
       "      <td>891.0</td>\n",
       "      <td>891.0</td>\n",
       "      <td>891.0</td>\n",
       "      <td>891.0</td>\n",
       "      <td>714.00</td>\n",
       "      <td>891.0</td>\n",
       "      <td>891.0</td>\n",
       "      <td>891.0</td>\n",
       "      <td>891.0</td>\n",
       "      <td>204.0</td>\n",
       "      <td>889.00</td>\n",
       "    </tr>\n",
       "    <tr>\n",
       "      <th>nan_cnt</th>\n",
       "      <td>0.0</td>\n",
       "      <td>0.0</td>\n",
       "      <td>0.0</td>\n",
       "      <td>0.0</td>\n",
       "      <td>0.0</td>\n",
       "      <td>177.00</td>\n",
       "      <td>0.0</td>\n",
       "      <td>0.0</td>\n",
       "      <td>0.0</td>\n",
       "      <td>0.0</td>\n",
       "      <td>687.0</td>\n",
       "      <td>2.00</td>\n",
       "    </tr>\n",
       "    <tr>\n",
       "      <th>rate</th>\n",
       "      <td>0.0</td>\n",
       "      <td>0.0</td>\n",
       "      <td>0.0</td>\n",
       "      <td>0.0</td>\n",
       "      <td>0.0</td>\n",
       "      <td>19.87</td>\n",
       "      <td>0.0</td>\n",
       "      <td>0.0</td>\n",
       "      <td>0.0</td>\n",
       "      <td>0.0</td>\n",
       "      <td>77.1</td>\n",
       "      <td>0.22</td>\n",
       "    </tr>\n",
       "    <tr>\n",
       "      <th>unique_cnt</th>\n",
       "      <td>891.0</td>\n",
       "      <td>2.0</td>\n",
       "      <td>3.0</td>\n",
       "      <td>891.0</td>\n",
       "      <td>2.0</td>\n",
       "      <td>88.00</td>\n",
       "      <td>7.0</td>\n",
       "      <td>7.0</td>\n",
       "      <td>681.0</td>\n",
       "      <td>248.0</td>\n",
       "      <td>147.0</td>\n",
       "      <td>3.00</td>\n",
       "    </tr>\n",
       "  </tbody>\n",
       "</table>\n",
       "</div>"
      ],
      "text/plain": [
       "            passengerid  survived  pclass   name    sex     age  sibsp  parch  \\\n",
       "cnt               891.0     891.0   891.0  891.0  891.0  714.00  891.0  891.0   \n",
       "nan_cnt             0.0       0.0     0.0    0.0    0.0  177.00    0.0    0.0   \n",
       "rate                0.0       0.0     0.0    0.0    0.0   19.87    0.0    0.0   \n",
       "unique_cnt        891.0       2.0     3.0  891.0    2.0   88.00    7.0    7.0   \n",
       "\n",
       "            ticket   fare  cabin  embarked  \n",
       "cnt          891.0  891.0  204.0    889.00  \n",
       "nan_cnt        0.0    0.0  687.0      2.00  \n",
       "rate           0.0    0.0   77.1      0.22  \n",
       "unique_cnt   681.0  248.0  147.0      3.00  "
      ]
     },
     "execution_count": 9,
     "metadata": {},
     "output_type": "execute_result"
    }
   ],
   "source": [
    "dic={\"cnt\":cnt,\"nan_cnt\":nan_cnt,\"rate\":rate,\"unique_cnt\": unique_cnt}\n",
    "nandf=pd.DataFrame(dic)\n",
    "nandf.T"
   ]
  },
  {
   "cell_type": "markdown",
   "id": "493d683f-2a5d-4bd0-bb56-52f3673cb425",
   "metadata": {
    "tags": []
   },
   "source": []
  },
  {
   "cell_type": "code",
   "execution_count": 10,
   "id": "2819e7f4-a524-467b-89a0-6a5d365bbd7d",
   "metadata": {
    "tags": []
   },
   "outputs": [],
   "source": [
    "cs=pd.Series(col)\n",
    "cnt_s =pd.Series(cnt)\n",
    "nan_cnt_s = pd.Series(nan_cnt)\n",
    "rate_s = pd.Series(rate)"
   ]
  },
  {
   "cell_type": "code",
   "execution_count": 11,
   "id": "917efadd-78c1-42db-8048-1cf340251300",
   "metadata": {
    "tags": []
   },
   "outputs": [],
   "source": [
    "df =pd.DataFrame(cnt_s, columns=['cnt'])"
   ]
  },
  {
   "cell_type": "code",
   "execution_count": 12,
   "id": "4d139e42-ff31-4d9f-81c5-bb94992e73c4",
   "metadata": {
    "tags": []
   },
   "outputs": [],
   "source": [
    "df['nan_cnt']=nan_cnt_s\n",
    "df['rate']=rate_s"
   ]
  },
  {
   "cell_type": "code",
   "execution_count": 13,
   "id": "4c396eee-68b7-4ca5-b58d-181ed9c64db6",
   "metadata": {
    "tags": []
   },
   "outputs": [
    {
     "data": {
      "text/html": [
       "<div>\n",
       "<style scoped>\n",
       "    .dataframe tbody tr th:only-of-type {\n",
       "        vertical-align: middle;\n",
       "    }\n",
       "\n",
       "    .dataframe tbody tr th {\n",
       "        vertical-align: top;\n",
       "    }\n",
       "\n",
       "    .dataframe thead th {\n",
       "        text-align: right;\n",
       "    }\n",
       "</style>\n",
       "<table border=\"1\" class=\"dataframe\">\n",
       "  <thead>\n",
       "    <tr style=\"text-align: right;\">\n",
       "      <th></th>\n",
       "      <th>cnt</th>\n",
       "      <th>nan_cnt</th>\n",
       "      <th>rate</th>\n",
       "    </tr>\n",
       "  </thead>\n",
       "  <tbody>\n",
       "    <tr>\n",
       "      <th>passengerid</th>\n",
       "      <td>891</td>\n",
       "      <td>0</td>\n",
       "      <td>0.00</td>\n",
       "    </tr>\n",
       "    <tr>\n",
       "      <th>survived</th>\n",
       "      <td>891</td>\n",
       "      <td>0</td>\n",
       "      <td>0.00</td>\n",
       "    </tr>\n",
       "    <tr>\n",
       "      <th>pclass</th>\n",
       "      <td>891</td>\n",
       "      <td>0</td>\n",
       "      <td>0.00</td>\n",
       "    </tr>\n",
       "    <tr>\n",
       "      <th>name</th>\n",
       "      <td>891</td>\n",
       "      <td>0</td>\n",
       "      <td>0.00</td>\n",
       "    </tr>\n",
       "    <tr>\n",
       "      <th>sex</th>\n",
       "      <td>891</td>\n",
       "      <td>0</td>\n",
       "      <td>0.00</td>\n",
       "    </tr>\n",
       "    <tr>\n",
       "      <th>age</th>\n",
       "      <td>714</td>\n",
       "      <td>177</td>\n",
       "      <td>19.87</td>\n",
       "    </tr>\n",
       "    <tr>\n",
       "      <th>sibsp</th>\n",
       "      <td>891</td>\n",
       "      <td>0</td>\n",
       "      <td>0.00</td>\n",
       "    </tr>\n",
       "    <tr>\n",
       "      <th>parch</th>\n",
       "      <td>891</td>\n",
       "      <td>0</td>\n",
       "      <td>0.00</td>\n",
       "    </tr>\n",
       "    <tr>\n",
       "      <th>ticket</th>\n",
       "      <td>891</td>\n",
       "      <td>0</td>\n",
       "      <td>0.00</td>\n",
       "    </tr>\n",
       "    <tr>\n",
       "      <th>fare</th>\n",
       "      <td>891</td>\n",
       "      <td>0</td>\n",
       "      <td>0.00</td>\n",
       "    </tr>\n",
       "    <tr>\n",
       "      <th>cabin</th>\n",
       "      <td>204</td>\n",
       "      <td>687</td>\n",
       "      <td>77.10</td>\n",
       "    </tr>\n",
       "    <tr>\n",
       "      <th>embarked</th>\n",
       "      <td>889</td>\n",
       "      <td>2</td>\n",
       "      <td>0.22</td>\n",
       "    </tr>\n",
       "  </tbody>\n",
       "</table>\n",
       "</div>"
      ],
      "text/plain": [
       "             cnt  nan_cnt   rate\n",
       "passengerid  891        0   0.00\n",
       "survived     891        0   0.00\n",
       "pclass       891        0   0.00\n",
       "name         891        0   0.00\n",
       "sex          891        0   0.00\n",
       "age          714      177  19.87\n",
       "sibsp        891        0   0.00\n",
       "parch        891        0   0.00\n",
       "ticket       891        0   0.00\n",
       "fare         891        0   0.00\n",
       "cabin        204      687  77.10\n",
       "embarked     889        2   0.22"
      ]
     },
     "execution_count": 13,
     "metadata": {},
     "output_type": "execute_result"
    }
   ],
   "source": [
    "df"
   ]
  },
  {
   "cell_type": "markdown",
   "id": "6bc81896-4ac0-4dfe-9533-e6f240575de8",
   "metadata": {},
   "source": [
    "# 3. 중복값 확인\n",
    "- df[컬럼].unique()\n",
    "- df[컬럼].nunique()  \n",
    "- unique는 대부분 drop 대상"
   ]
  },
  {
   "cell_type": "markdown",
   "id": "c89d20f4-9fe8-499f-a7bc-7daa4c6b38e5",
   "metadata": {},
   "source": [
    "select distinct job from emp;"
   ]
  },
  {
   "cell_type": "code",
   "execution_count": 14,
   "id": "07b9cef4-d913-4642-8c54-f590cb5c9f44",
   "metadata": {
    "tags": []
   },
   "outputs": [
    {
     "data": {
      "text/plain": [
       "array(['male', 'female'], dtype=object)"
      ]
     },
     "execution_count": 14,
     "metadata": {},
     "output_type": "execute_result"
    }
   ],
   "source": [
    "train['sex'].unique()"
   ]
  },
  {
   "cell_type": "code",
   "execution_count": 15,
   "id": "d1e5d221-8216-4154-bc01-39121ead3b87",
   "metadata": {
    "tags": []
   },
   "outputs": [
    {
     "data": {
      "text/plain": [
       "2"
      ]
     },
     "execution_count": 15,
     "metadata": {},
     "output_type": "execute_result"
    }
   ],
   "source": [
    "#len(train['sex'].unique())\n",
    "train['sex'].nunique()"
   ]
  },
  {
   "cell_type": "code",
   "execution_count": 16,
   "id": "2178f349-5906-4c5d-a86a-51d7ea8417de",
   "metadata": {
    "tags": []
   },
   "outputs": [
    {
     "data": {
      "text/plain": [
       "male      577\n",
       "female    314\n",
       "Name: sex, dtype: int64"
      ]
     },
     "execution_count": 16,
     "metadata": {},
     "output_type": "execute_result"
    }
   ],
   "source": [
    "train['sex'].value_counts()"
   ]
  },
  {
   "cell_type": "code",
   "execution_count": 17,
   "id": "7581dfac-720c-4456-a0b5-ef2c241fbf21",
   "metadata": {
    "tags": []
   },
   "outputs": [
    {
     "name": "stdout",
     "output_type": "stream",
     "text": [
      "survived 2 [0 1]\n",
      "pclass 3 [3 1 2]\n",
      "sex 2 ['male' 'female']\n",
      "age 88 [22.   38.   26.   35.     nan 54.    2.   27.   14.    4.   58.   20.\n",
      " 39.   55.   31.   34.   15.   28.    8.   19.   40.   66.   42.   21.\n",
      " 18.    3.    7.   49.   29.   65.   28.5   5.   11.   45.   17.   32.\n",
      " 16.   25.    0.83 30.   33.   23.   24.   46.   59.   71.   37.   47.\n",
      " 14.5  70.5  32.5  12.    9.   36.5  51.   55.5  40.5  44.    1.   61.\n",
      " 56.   50.   36.   45.5  20.5  62.   41.   52.   63.   23.5   0.92 43.\n",
      " 60.   10.   64.   13.   48.    0.75 53.   57.   80.   70.   24.5   6.\n",
      "  0.67 30.5   0.42 34.5  74.  ]\n",
      "sibsp 7 [1 0 3 4 2 5 8]\n",
      "parch 7 [0 1 2 5 3 4 6]\n",
      "embarked 3 ['S' 'C' 'Q' nan]\n"
     ]
    }
   ],
   "source": [
    "# 컬럼별 유니크 개수\n",
    "for col in train.columns:\n",
    "    if train[col].nunique()<100:\n",
    "        print(col, train[col].nunique(), train[col].unique())\n"
   ]
  },
  {
   "cell_type": "markdown",
   "id": "cc101c3e-cad3-4eb4-ab8f-e75114eebab3",
   "metadata": {},
   "source": [
    "# 4. EDA\n",
    "- EDA (Exploratory Data Analysis, 탐색적 데이터 분석)\n",
    "- 통계적 분석 & 차트(시각화)"
   ]
  },
  {
   "cell_type": "code",
   "execution_count": 18,
   "id": "6ae5be1c-7080-45f8-a742-b446bc6a98fc",
   "metadata": {},
   "outputs": [],
   "source": [
    "# ! 는 파이참에서의 터미널에서 설치하는 것과 동일한 역할\n",
    "# 단 주피터를 껏다 켜야 파이참에서 인식함"
   ]
  },
  {
   "cell_type": "code",
   "execution_count": 19,
   "id": "4135577f-5279-4275-b875-b790ac76199e",
   "metadata": {
    "tags": []
   },
   "outputs": [],
   "source": [
    "##### ! pip install matplotlib"
   ]
  },
  {
   "cell_type": "code",
   "execution_count": 20,
   "id": "a3461e1c-31a7-407b-b4ed-e7f5614fa08d",
   "metadata": {
    "tags": []
   },
   "outputs": [
    {
     "data": {
      "image/png": "[encoded data removed]",
      "text/plain": [
       "<Figure size 640x480 with 1 Axes>"
      ]
     },
     "metadata": {},
     "output_type": "display_data"
    }
   ],
   "source": [
    "import matplotlib.pyplot as plt\n",
    "plt.plot([1,2,3,8,4]) # iterable : 반복되어질 수 있는 것 넣기\n",
    "plt.show()"
   ]
  },
  {
   "cell_type": "markdown",
   "id": "5b664117-d848-4009-ae6a-792fd188802a",
   "metadata": {},
   "source": [
    "# 5. 데이터 분석"
   ]
  },
  {
   "cell_type": "markdown",
   "id": "b48ff011-590d-46c6-a7e9-32cf1514bf5a",
   "metadata": {},
   "source": [
    "## 5.1 passengerid : all unique drop()\n",
    "- unipue 해서 패턴을 보이지 않음   -->분석대상에서 제외"
   ]
  },
  {
   "cell_type": "code",
   "execution_count": 21,
   "id": "b1b22510-1ed5-4973-863d-2b80a137a4c2",
   "metadata": {
    "tags": []
   },
   "outputs": [],
   "source": [
    "train=train.drop('passengerid',axis=1)"
   ]
  },
  {
   "cell_type": "code",
   "execution_count": 22,
   "id": "6a3a62c7-8614-4853-a736-208c8249d9ce",
   "metadata": {
    "tags": []
   },
   "outputs": [
    {
     "data": {
      "text/html": [
       "<div>\n",
       "<style scoped>\n",
       "    .dataframe tbody tr th:only-of-type {\n",
       "        vertical-align: middle;\n",
       "    }\n",
       "\n",
       "    .dataframe tbody tr th {\n",
       "        vertical-align: top;\n",
       "    }\n",
       "\n",
       "    .dataframe thead th {\n",
       "        text-align: right;\n",
       "    }\n",
       "</style>\n",
       "<table border=\"1\" class=\"dataframe\">\n",
       "  <thead>\n",
       "    <tr style=\"text-align: right;\">\n",
       "      <th></th>\n",
       "      <th>survived</th>\n",
       "      <th>pclass</th>\n",
       "      <th>name</th>\n",
       "      <th>sex</th>\n",
       "      <th>age</th>\n",
       "      <th>sibsp</th>\n",
       "      <th>parch</th>\n",
       "      <th>ticket</th>\n",
       "      <th>fare</th>\n",
       "      <th>cabin</th>\n",
       "      <th>embarked</th>\n",
       "    </tr>\n",
       "  </thead>\n",
       "  <tbody>\n",
       "    <tr>\n",
       "      <th>0</th>\n",
       "      <td>0</td>\n",
       "      <td>3</td>\n",
       "      <td>Braund, Mr. Owen Harris</td>\n",
       "      <td>male</td>\n",
       "      <td>22.0</td>\n",
       "      <td>1</td>\n",
       "      <td>0</td>\n",
       "      <td>A/5 21171</td>\n",
       "      <td>7.25</td>\n",
       "      <td>NaN</td>\n",
       "      <td>S</td>\n",
       "    </tr>\n",
       "  </tbody>\n",
       "</table>\n",
       "</div>"
      ],
      "text/plain": [
       "   survived  pclass                     name   sex   age  sibsp  parch  \\\n",
       "0         0       3  Braund, Mr. Owen Harris  male  22.0      1      0   \n",
       "\n",
       "      ticket  fare cabin embarked  \n",
       "0  A/5 21171  7.25   NaN        S  "
      ]
     },
     "execution_count": 22,
     "metadata": {},
     "output_type": "execute_result"
    }
   ],
   "source": [
    "train.head(1)"
   ]
  },
  {
   "cell_type": "markdown",
   "id": "6a484200-a489-4389-a7fc-8a458e9af4db",
   "metadata": {},
   "source": [
    "## 5.2 survived : target"
   ]
  },
  {
   "cell_type": "code",
   "execution_count": 23,
   "id": "d716f54d-4fda-413f-9d18-319b445167fb",
   "metadata": {
    "tags": []
   },
   "outputs": [
    {
     "data": {
      "image/png": "[encoded data removed]",
      "text/plain": [
       "<Figure size 640x480 with 1 Axes>"
      ]
     },
     "metadata": {},
     "output_type": "display_data"
    }
   ],
   "source": [
    "#pandas 내에도 plot 존재함\n",
    "train['survived'].value_counts().plot(kind='bar') \n",
    "plt.show()"
   ]
  },
  {
   "cell_type": "markdown",
   "id": "ee9ebd89-f4ac-43e4-a433-8590ae18ace8",
   "metadata": {},
   "source": [
    "## 5.3 pclass : 주요 feature(columns)"
   ]
  },
  {
   "cell_type": "code",
   "execution_count": 24,
   "id": "7a5d8849-18da-4b8f-ae4b-471aeab15847",
   "metadata": {
    "tags": []
   },
   "outputs": [
    {
     "data": {
      "text/plain": [
       "3    491\n",
       "1    216\n",
       "2    184\n",
       "Name: pclass, dtype: int64"
      ]
     },
     "execution_count": 24,
     "metadata": {},
     "output_type": "execute_result"
    }
   ],
   "source": [
    "#train.groupby('pclass')['pclass'].count()\n",
    "train['pclass'].value_counts()"
   ]
  },
  {
   "cell_type": "code",
   "execution_count": 25,
   "id": "2615efa3-b449-4088-b7ba-4e974ea16c8b",
   "metadata": {
    "tags": []
   },
   "outputs": [
    {
     "data": {
      "text/plain": [
       "pclass  survived\n",
       "1       0            80\n",
       "        1           136\n",
       "2       0            97\n",
       "        1            87\n",
       "3       0           372\n",
       "        1           119\n",
       "dtype: int64"
      ]
     },
     "execution_count": 25,
     "metadata": {},
     "output_type": "execute_result"
    }
   ],
   "source": [
    "train[['pclass','survived']].value_counts().sort_index()"
   ]
  },
  {
   "cell_type": "code",
   "execution_count": 26,
   "id": "d7335327-4966-4fd2-9fdd-884bb6180fee",
   "metadata": {
    "tags": []
   },
   "outputs": [
    {
     "data": {
      "image/png": "[encoded data removed]",
      "text/plain": [
       "<Figure size 640x480 with 1 Axes>"
      ]
     },
     "metadata": {},
     "output_type": "display_data"
    }
   ],
   "source": [
    "train[['pclass','survived']].value_counts().sort_index().plot(kind='bar')\n",
    "plt.show() # 3등급 칸에 타면 사망 확률 높음"
   ]
  },
  {
   "cell_type": "markdown",
   "id": "9db0338a-2d9c-4a12-9aac-8340a0597950",
   "metadata": {},
   "source": [
    "## 5.4 cabin : drop() 예정"
   ]
  },
  {
   "cell_type": "code",
   "execution_count": 27,
   "id": "8bf36174-7c6c-4960-9340-ed43ed256070",
   "metadata": {
    "tags": []
   },
   "outputs": [
    {
     "data": {
      "text/plain": [
       "1              C85\n",
       "3             C123\n",
       "6              E46\n",
       "10              G6\n",
       "11            C103\n",
       "          ...     \n",
       "871            D35\n",
       "872    B51 B53 B55\n",
       "879            C50\n",
       "887            B42\n",
       "889           C148\n",
       "Name: cabin, Length: 204, dtype: object"
      ]
     },
     "execution_count": 27,
     "metadata": {},
     "output_type": "execute_result"
    }
   ],
   "source": [
    "train['cabin'][ train['cabin'].notna() ] "
   ]
  },
  {
   "cell_type": "code",
   "execution_count": 28,
   "id": "1e4cd39b-37d7-462b-8d82-4d208695b121",
   "metadata": {
    "tags": []
   },
   "outputs": [
    {
     "data": {
      "text/html": [
       "<div>\n",
       "<style scoped>\n",
       "    .dataframe tbody tr th:only-of-type {\n",
       "        vertical-align: middle;\n",
       "    }\n",
       "\n",
       "    .dataframe tbody tr th {\n",
       "        vertical-align: top;\n",
       "    }\n",
       "\n",
       "    .dataframe thead th {\n",
       "        text-align: right;\n",
       "    }\n",
       "</style>\n",
       "<table border=\"1\" class=\"dataframe\">\n",
       "  <thead>\n",
       "    <tr style=\"text-align: right;\">\n",
       "      <th></th>\n",
       "      <th>survived</th>\n",
       "      <th>pclass</th>\n",
       "      <th>name</th>\n",
       "      <th>sex</th>\n",
       "      <th>age</th>\n",
       "      <th>sibsp</th>\n",
       "      <th>parch</th>\n",
       "      <th>ticket</th>\n",
       "      <th>fare</th>\n",
       "      <th>cabin</th>\n",
       "      <th>embarked</th>\n",
       "    </tr>\n",
       "  </thead>\n",
       "  <tbody>\n",
       "    <tr>\n",
       "      <th>0</th>\n",
       "      <td>0</td>\n",
       "      <td>3</td>\n",
       "      <td>Braund, Mr. Owen Harris</td>\n",
       "      <td>male</td>\n",
       "      <td>22.0</td>\n",
       "      <td>1</td>\n",
       "      <td>0</td>\n",
       "      <td>A/5 21171</td>\n",
       "      <td>7.2500</td>\n",
       "      <td>NaN</td>\n",
       "      <td>S</td>\n",
       "    </tr>\n",
       "    <tr>\n",
       "      <th>1</th>\n",
       "      <td>1</td>\n",
       "      <td>1</td>\n",
       "      <td>Cumings, Mrs. John Bradley (Florence Briggs Th...</td>\n",
       "      <td>female</td>\n",
       "      <td>38.0</td>\n",
       "      <td>1</td>\n",
       "      <td>0</td>\n",
       "      <td>PC 17599</td>\n",
       "      <td>71.2833</td>\n",
       "      <td>C85</td>\n",
       "      <td>C</td>\n",
       "    </tr>\n",
       "    <tr>\n",
       "      <th>2</th>\n",
       "      <td>1</td>\n",
       "      <td>3</td>\n",
       "      <td>Heikkinen, Miss. Laina</td>\n",
       "      <td>female</td>\n",
       "      <td>26.0</td>\n",
       "      <td>0</td>\n",
       "      <td>0</td>\n",
       "      <td>STON/O2. 3101282</td>\n",
       "      <td>7.9250</td>\n",
       "      <td>NaN</td>\n",
       "      <td>S</td>\n",
       "    </tr>\n",
       "    <tr>\n",
       "      <th>3</th>\n",
       "      <td>1</td>\n",
       "      <td>1</td>\n",
       "      <td>Futrelle, Mrs. Jacques Heath (Lily May Peel)</td>\n",
       "      <td>female</td>\n",
       "      <td>35.0</td>\n",
       "      <td>1</td>\n",
       "      <td>0</td>\n",
       "      <td>113803</td>\n",
       "      <td>53.1000</td>\n",
       "      <td>C123</td>\n",
       "      <td>S</td>\n",
       "    </tr>\n",
       "    <tr>\n",
       "      <th>4</th>\n",
       "      <td>0</td>\n",
       "      <td>3</td>\n",
       "      <td>Allen, Mr. William Henry</td>\n",
       "      <td>male</td>\n",
       "      <td>35.0</td>\n",
       "      <td>0</td>\n",
       "      <td>0</td>\n",
       "      <td>373450</td>\n",
       "      <td>8.0500</td>\n",
       "      <td>NaN</td>\n",
       "      <td>S</td>\n",
       "    </tr>\n",
       "  </tbody>\n",
       "</table>\n",
       "</div>"
      ],
      "text/plain": [
       "   survived  pclass                                               name  \\\n",
       "0         0       3                            Braund, Mr. Owen Harris   \n",
       "1         1       1  Cumings, Mrs. John Bradley (Florence Briggs Th...   \n",
       "2         1       3                             Heikkinen, Miss. Laina   \n",
       "3         1       1       Futrelle, Mrs. Jacques Heath (Lily May Peel)   \n",
       "4         0       3                           Allen, Mr. William Henry   \n",
       "\n",
       "      sex   age  sibsp  parch            ticket     fare cabin embarked  \n",
       "0    male  22.0      1      0         A/5 21171   7.2500   NaN        S  \n",
       "1  female  38.0      1      0          PC 17599  71.2833   C85        C  \n",
       "2  female  26.0      0      0  STON/O2. 3101282   7.9250   NaN        S  \n",
       "3  female  35.0      1      0            113803  53.1000  C123        S  \n",
       "4    male  35.0      0      0            373450   8.0500   NaN        S  "
      ]
     },
     "execution_count": 28,
     "metadata": {},
     "output_type": "execute_result"
    }
   ],
   "source": [
    "train.head()"
   ]
  },
  {
   "cell_type": "code",
   "execution_count": 29,
   "id": "19d93071-5526-4317-b7d7-cdb8cfa06764",
   "metadata": {
    "tags": []
   },
   "outputs": [
    {
     "data": {
      "text/html": [
       "<div>\n",
       "<style scoped>\n",
       "    .dataframe tbody tr th:only-of-type {\n",
       "        vertical-align: middle;\n",
       "    }\n",
       "\n",
       "    .dataframe tbody tr th {\n",
       "        vertical-align: top;\n",
       "    }\n",
       "\n",
       "    .dataframe thead th {\n",
       "        text-align: right;\n",
       "    }\n",
       "</style>\n",
       "<table border=\"1\" class=\"dataframe\">\n",
       "  <thead>\n",
       "    <tr style=\"text-align: right;\">\n",
       "      <th></th>\n",
       "      <th>cabin</th>\n",
       "      <th>cabin2</th>\n",
       "    </tr>\n",
       "  </thead>\n",
       "  <tbody>\n",
       "    <tr>\n",
       "      <th>0</th>\n",
       "      <td>NaN</td>\n",
       "      <td>NaN</td>\n",
       "    </tr>\n",
       "    <tr>\n",
       "      <th>1</th>\n",
       "      <td>C85</td>\n",
       "      <td>C</td>\n",
       "    </tr>\n",
       "    <tr>\n",
       "      <th>2</th>\n",
       "      <td>NaN</td>\n",
       "      <td>NaN</td>\n",
       "    </tr>\n",
       "  </tbody>\n",
       "</table>\n",
       "</div>"
      ],
      "text/plain": [
       "  cabin cabin2\n",
       "0   NaN    NaN\n",
       "1   C85      C\n",
       "2   NaN    NaN"
      ]
     },
     "execution_count": 29,
     "metadata": {},
     "output_type": "execute_result"
    }
   ],
   "source": [
    "# cabin의 첫 글자 뽑기\n",
    "train['cabin2'] = train['cabin'].str[0:1]\n",
    "train[['cabin','cabin2']].head(3)"
   ]
  },
  {
   "cell_type": "code",
   "execution_count": 30,
   "id": "1927a746-8eeb-4bc9-8936-022c82bb7871",
   "metadata": {
    "tags": []
   },
   "outputs": [
    {
     "data": {
      "text/plain": [
       "cabin2  survived\n",
       "A       0            8\n",
       "        1            7\n",
       "B       0           12\n",
       "        1           35\n",
       "C       0           24\n",
       "        1           35\n",
       "D       0            8\n",
       "        1           25\n",
       "E       0            8\n",
       "        1           24\n",
       "F       0            5\n",
       "        1            8\n",
       "G       0            2\n",
       "        1            2\n",
       "T       0            1\n",
       "dtype: int64"
      ]
     },
     "execution_count": 30,
     "metadata": {},
     "output_type": "execute_result"
    }
   ],
   "source": [
    "# cabin 사용 여부와 생존여부의 연관성 ?  cabin과 생존의 연관성은 작다\n",
    "train[['cabin2','survived']].value_counts().sort_index()"
   ]
  },
  {
   "cell_type": "code",
   "execution_count": 31,
   "id": "0f09db0b-c237-4bc5-94b2-33d24939af91",
   "metadata": {
    "tags": []
   },
   "outputs": [
    {
     "data": {
      "text/plain": [
       "cabin2  pclass\n",
       "A       1         15\n",
       "B       1         47\n",
       "C       1         59\n",
       "D       1         29\n",
       "        2          4\n",
       "E       1         25\n",
       "        2          4\n",
       "        3          3\n",
       "F       2          8\n",
       "        3          5\n",
       "G       3          4\n",
       "T       1          1\n",
       "dtype: int64"
      ]
     },
     "execution_count": 31,
     "metadata": {},
     "output_type": "execute_result"
    }
   ],
   "source": [
    "# A~D위치는 1등급사람들만 이용 \n",
    "# 1등급 칸의 사람들이 cabin을 많이 이용\n",
    "# cabin 위치에 따라 생존 여부가 달라지나? NO   -->  pclass를 기준으로 생존여부를 분석\n",
    "train[['cabin2','pclass']].value_counts().sort_index()"
   ]
  },
  {
   "cell_type": "code",
   "execution_count": 32,
   "id": "e32987f7-218c-4c4a-a8e1-5cb5499c1f18",
   "metadata": {
    "tags": []
   },
   "outputs": [
    {
     "data": {
      "text/plain": [
       "Index(['survived', 'pclass', 'name', 'sex', 'age', 'sibsp', 'parch', 'ticket',\n",
       "       'fare', 'cabin', 'embarked', 'cabin2'],\n",
       "      dtype='object')"
      ]
     },
     "execution_count": 32,
     "metadata": {},
     "output_type": "execute_result"
    }
   ],
   "source": [
    "train.columns"
   ]
  },
  {
   "cell_type": "markdown",
   "id": "83c96645-1acb-46d7-84a1-e775d38c2b4c",
   "metadata": {},
   "source": [
    "<pre>\n",
    "'name', 'sex', 'age', ('sibsp', 'parch'), \n",
    "'ticket',('sibsp', 'parch'),  'fare', 'pclass',\n",
    "'embarked'"
   ]
  },
  {
   "cell_type": "markdown",
   "id": "99220a12-d4cd-41ed-a876-65933ed9ebf7",
   "metadata": {},
   "source": [
    "## 5.5 embarked : 최빈도 mode()"
   ]
  },
  {
   "cell_type": "markdown",
   "id": "f03989cf-f3fc-4e99-be07-10ae75d5bdc4",
   "metadata": {},
   "source": [
    "### 5.5.1 embarked와 survived와의 연관성"
   ]
  },
  {
   "cell_type": "code",
   "execution_count": 33,
   "id": "de292003-a4e3-48a2-8fcf-cde7a2075b2d",
   "metadata": {
    "tags": []
   },
   "outputs": [
    {
     "data": {
      "text/plain": [
       "S    644\n",
       "C    168\n",
       "Q     77\n",
       "Name: embarked, dtype: int64"
      ]
     },
     "execution_count": 33,
     "metadata": {},
     "output_type": "execute_result"
    }
   ],
   "source": [
    "# S > C > Q 순으로 사람들이 많이 탐\n",
    "train['embarked'].value_counts()"
   ]
  },
  {
   "cell_type": "code",
   "execution_count": 34,
   "id": "99e567d4-4cd7-4bd2-8a8d-d92064ffdd15",
   "metadata": {
    "tags": []
   },
   "outputs": [
    {
     "data": {
      "text/plain": [
       "embarked  survived\n",
       "C         0            75\n",
       "          1            93\n",
       "Q         0            47\n",
       "          1            30\n",
       "S         0           427\n",
       "          1           217\n",
       "dtype: int64"
      ]
     },
     "execution_count": 34,
     "metadata": {},
     "output_type": "execute_result"
    }
   ],
   "source": [
    "train[['embarked','survived']].value_counts().sort_index()"
   ]
  },
  {
   "cell_type": "code",
   "execution_count": 35,
   "id": "c0120496-c0c4-4002-810b-63736715646a",
   "metadata": {
    "tags": []
   },
   "outputs": [],
   "source": [
    "# 카테고리 별 탑승자 수\n",
    "em=train['embarked'].value_counts()"
   ]
  },
  {
   "cell_type": "code",
   "execution_count": 36,
   "id": "ff295012-4235-4a01-8e04-31be728031c1",
   "metadata": {
    "tags": []
   },
   "outputs": [],
   "source": [
    "# 카테고리 별 사망자 수\n",
    "di=train['embarked'][train['survived']==0].value_counts() "
   ]
  },
  {
   "cell_type": "code",
   "execution_count": 37,
   "id": "529ae3c8-b05e-4c6d-a860-1360a79f8f6e",
   "metadata": {
    "tags": []
   },
   "outputs": [
    {
     "data": {
      "text/plain": [
       "S    66.30\n",
       "C    44.64\n",
       "Q    61.04\n",
       "Name: embarked, dtype: float64"
      ]
     },
     "execution_count": 37,
     "metadata": {},
     "output_type": "execute_result"
    }
   ],
   "source": [
    "# 카테고리별 사망률\n",
    "# 경유지 S에서 사망률 가장 높음  ---> 그러나 경유지에 따라 사망한다고 주장하기에는 부족\n",
    "# 사망률 : S > Q > C\n",
    "sur_per=round((di/em)*100,2)\n",
    "sur_per"
   ]
  },
  {
   "cell_type": "markdown",
   "id": "91b55c17-1f25-4b90-b08a-3b859aa8e11e",
   "metadata": {},
   "source": [
    "### 5.5.2 결측 처리"
   ]
  },
  {
   "cell_type": "code",
   "execution_count": 38,
   "id": "acd7fac3-4a55-4506-8116-695a495fa9e3",
   "metadata": {
    "tags": []
   },
   "outputs": [
    {
     "data": {
      "text/plain": [
       "2"
      ]
     },
     "execution_count": 38,
     "metadata": {},
     "output_type": "execute_result"
    }
   ],
   "source": [
    "# 결측 확인\n",
    "train['embarked'].isna().sum()"
   ]
  },
  {
   "cell_type": "code",
   "execution_count": 39,
   "id": "887e4a6c-9b3c-4e82-b7af-c7b693779cb5",
   "metadata": {
    "tags": []
   },
   "outputs": [
    {
     "data": {
      "text/html": [
       "<div>\n",
       "<style scoped>\n",
       "    .dataframe tbody tr th:only-of-type {\n",
       "        vertical-align: middle;\n",
       "    }\n",
       "\n",
       "    .dataframe tbody tr th {\n",
       "        vertical-align: top;\n",
       "    }\n",
       "\n",
       "    .dataframe thead th {\n",
       "        text-align: right;\n",
       "    }\n",
       "</style>\n",
       "<table border=\"1\" class=\"dataframe\">\n",
       "  <thead>\n",
       "    <tr style=\"text-align: right;\">\n",
       "      <th></th>\n",
       "      <th>embarked</th>\n",
       "      <th>sex</th>\n",
       "    </tr>\n",
       "  </thead>\n",
       "  <tbody>\n",
       "    <tr>\n",
       "      <th>count</th>\n",
       "      <td>889</td>\n",
       "      <td>891</td>\n",
       "    </tr>\n",
       "    <tr>\n",
       "      <th>unique</th>\n",
       "      <td>3</td>\n",
       "      <td>2</td>\n",
       "    </tr>\n",
       "    <tr>\n",
       "      <th>top</th>\n",
       "      <td>S</td>\n",
       "      <td>male</td>\n",
       "    </tr>\n",
       "    <tr>\n",
       "      <th>freq</th>\n",
       "      <td>644</td>\n",
       "      <td>577</td>\n",
       "    </tr>\n",
       "  </tbody>\n",
       "</table>\n",
       "</div>"
      ],
      "text/plain": [
       "       embarked   sex\n",
       "count       889   891\n",
       "unique        3     2\n",
       "top           S  male\n",
       "freq        644   577"
      ]
     },
     "execution_count": 39,
     "metadata": {},
     "output_type": "execute_result"
    }
   ],
   "source": [
    "train[['embarked','sex']].describe()\n",
    "# describe() 는 object에서는 수치형 자료들에서 실행 했을 때와 다른 결과 나옴  : top 최빈도"
   ]
  },
  {
   "cell_type": "code",
   "execution_count": 40,
   "id": "fb8073e7-29e5-42b4-bb44-5ca98e1f0b72",
   "metadata": {
    "tags": []
   },
   "outputs": [
    {
     "data": {
      "text/html": [
       "<div>\n",
       "<style scoped>\n",
       "    .dataframe tbody tr th:only-of-type {\n",
       "        vertical-align: middle;\n",
       "    }\n",
       "\n",
       "    .dataframe tbody tr th {\n",
       "        vertical-align: top;\n",
       "    }\n",
       "\n",
       "    .dataframe thead th {\n",
       "        text-align: right;\n",
       "    }\n",
       "</style>\n",
       "<table border=\"1\" class=\"dataframe\">\n",
       "  <thead>\n",
       "    <tr style=\"text-align: right;\">\n",
       "      <th></th>\n",
       "      <th>survived</th>\n",
       "      <th>pclass</th>\n",
       "      <th>name</th>\n",
       "      <th>sex</th>\n",
       "      <th>age</th>\n",
       "      <th>sibsp</th>\n",
       "      <th>parch</th>\n",
       "      <th>ticket</th>\n",
       "      <th>fare</th>\n",
       "      <th>cabin</th>\n",
       "      <th>embarked</th>\n",
       "      <th>cabin2</th>\n",
       "    </tr>\n",
       "  </thead>\n",
       "  <tbody>\n",
       "    <tr>\n",
       "      <th>61</th>\n",
       "      <td>1</td>\n",
       "      <td>1</td>\n",
       "      <td>Icard, Miss. Amelie</td>\n",
       "      <td>female</td>\n",
       "      <td>38.0</td>\n",
       "      <td>0</td>\n",
       "      <td>0</td>\n",
       "      <td>113572</td>\n",
       "      <td>80.0</td>\n",
       "      <td>B28</td>\n",
       "      <td>NaN</td>\n",
       "      <td>B</td>\n",
       "    </tr>\n",
       "    <tr>\n",
       "      <th>829</th>\n",
       "      <td>1</td>\n",
       "      <td>1</td>\n",
       "      <td>Stone, Mrs. George Nelson (Martha Evelyn)</td>\n",
       "      <td>female</td>\n",
       "      <td>62.0</td>\n",
       "      <td>0</td>\n",
       "      <td>0</td>\n",
       "      <td>113572</td>\n",
       "      <td>80.0</td>\n",
       "      <td>B28</td>\n",
       "      <td>NaN</td>\n",
       "      <td>B</td>\n",
       "    </tr>\n",
       "  </tbody>\n",
       "</table>\n",
       "</div>"
      ],
      "text/plain": [
       "     survived  pclass                                       name     sex  \\\n",
       "61          1       1                        Icard, Miss. Amelie  female   \n",
       "829         1       1  Stone, Mrs. George Nelson (Martha Evelyn)  female   \n",
       "\n",
       "      age  sibsp  parch  ticket  fare cabin embarked cabin2  \n",
       "61   38.0      0      0  113572  80.0   B28      NaN      B  \n",
       "829  62.0      0      0  113572  80.0   B28      NaN      B  "
      ]
     },
     "execution_count": 40,
     "metadata": {},
     "output_type": "execute_result"
    }
   ],
   "source": [
    "train[train['embarked'].isna()==True]"
   ]
  },
  {
   "cell_type": "code",
   "execution_count": 41,
   "id": "f7b7e27e-a675-4c70-abd8-c9b655077e16",
   "metadata": {
    "tags": []
   },
   "outputs": [
    {
     "data": {
      "text/plain": [
       "'S'"
      ]
     },
     "execution_count": 41,
     "metadata": {},
     "output_type": "execute_result"
    }
   ],
   "source": [
    "# 일반적으로 최빈값으로 결측을 채움(함수 활용)\n",
    "# mode는 array 값을 반환하기 때문에 인덱스로 값을 꺼내기\n",
    "train['embarked'].mode().values[0]"
   ]
  },
  {
   "cell_type": "code",
   "execution_count": 42,
   "id": "26e489ae-51f9-4698-80bf-db28d87738bb",
   "metadata": {
    "tags": []
   },
   "outputs": [],
   "source": [
    "train['embarked']=train['embarked'].fillna(train['embarked'].mode().values[0])"
   ]
  },
  {
   "cell_type": "code",
   "execution_count": 43,
   "id": "cd4a226f-3f97-49e0-8afd-2271b00af56b",
   "metadata": {
    "tags": []
   },
   "outputs": [
    {
     "data": {
      "text/plain": [
       "0"
      ]
     },
     "execution_count": 43,
     "metadata": {},
     "output_type": "execute_result"
    }
   ],
   "source": [
    "#확인용\n",
    "train['embarked'].isna().sum()"
   ]
  },
  {
   "cell_type": "markdown",
   "id": "826ca1eb-173f-47c6-bf78-34018040c933",
   "metadata": {},
   "source": [
    "## 5.6 sex , age"
   ]
  },
  {
   "cell_type": "markdown",
   "id": "5930a190-dbcc-4a12-90f9-f88410c01590",
   "metadata": {},
   "source": [
    "### 5.6.1 sex : 주요 feature"
   ]
  },
  {
   "cell_type": "code",
   "execution_count": 44,
   "id": "c50927f5-a488-4eb2-b7eb-4487223fecaa",
   "metadata": {
    "tags": []
   },
   "outputs": [
    {
     "data": {
      "text/plain": [
       "male      577\n",
       "female    314\n",
       "Name: sex, dtype: int64"
      ]
     },
     "execution_count": 44,
     "metadata": {},
     "output_type": "execute_result"
    }
   ],
   "source": [
    "train['sex'].value_counts()"
   ]
  },
  {
   "cell_type": "code",
   "execution_count": 45,
   "id": "79b15b4e-4b9f-4ee9-89c8-7bde25c41111",
   "metadata": {
    "tags": []
   },
   "outputs": [
    {
     "data": {
      "text/plain": [
       "sex     survived\n",
       "female  0            81\n",
       "        1           233\n",
       "male    0           468\n",
       "        1           109\n",
       "dtype: int64"
      ]
     },
     "execution_count": 45,
     "metadata": {},
     "output_type": "execute_result"
    }
   ],
   "source": [
    "# 남성의 사망자 수가 많음\n",
    "train[['sex', 'survived']].value_counts().sort_index()"
   ]
  },
  {
   "cell_type": "markdown",
   "id": "35d1e59a-707f-4457-b4c5-afb34b2c7fca",
   "metadata": {},
   "source": [
    "select max(count(age)),max(count(sex))from train where survied ==0; "
   ]
  },
  {
   "cell_type": "code",
   "execution_count": 46,
   "id": "7f16c923-f29e-443f-85d2-88cdf6a11bd3",
   "metadata": {
    "tags": []
   },
   "outputs": [
    {
     "data": {
      "text/html": [
       "<div>\n",
       "<style scoped>\n",
       "    .dataframe tbody tr th:only-of-type {\n",
       "        vertical-align: middle;\n",
       "    }\n",
       "\n",
       "    .dataframe tbody tr th {\n",
       "        vertical-align: top;\n",
       "    }\n",
       "\n",
       "    .dataframe thead th {\n",
       "        text-align: right;\n",
       "    }\n",
       "</style>\n",
       "<table border=\"1\" class=\"dataframe\">\n",
       "  <thead>\n",
       "    <tr style=\"text-align: right;\">\n",
       "      <th></th>\n",
       "      <th>age</th>\n",
       "      <th>sex</th>\n",
       "    </tr>\n",
       "  </thead>\n",
       "  <tbody>\n",
       "    <tr>\n",
       "      <th>0</th>\n",
       "      <td>21.0</td>\n",
       "      <td>male</td>\n",
       "    </tr>\n",
       "  </tbody>\n",
       "</table>\n",
       "</div>"
      ],
      "text/plain": [
       "    age   sex\n",
       "0  21.0  male"
      ]
     },
     "execution_count": 46,
     "metadata": {},
     "output_type": "execute_result"
    }
   ],
   "source": [
    "#21살의 남성의 사망자 수 가장 많음\n",
    "train[['age','sex']][train['survived']==0].mode() "
   ]
  },
  {
   "cell_type": "markdown",
   "id": "590e0094-3f2d-4205-b107-d72f2af985be",
   "metadata": {},
   "source": [
    "### 5.6.2 age 결측 처리"
   ]
  },
  {
   "cell_type": "code",
   "execution_count": 47,
   "id": "ffa6555a-ca22-4379-9109-c79591a9b045",
   "metadata": {
    "tags": []
   },
   "outputs": [
    {
     "data": {
      "text/plain": [
       "177"
      ]
     },
     "execution_count": 47,
     "metadata": {},
     "output_type": "execute_result"
    }
   ],
   "source": [
    "#age에 결측 존재\n",
    "train['age'].isna().sum()"
   ]
  },
  {
   "cell_type": "code",
   "execution_count": 48,
   "id": "28fe76d3-1f4a-4b58-8a8b-5aa02181e656",
   "metadata": {
    "tags": []
   },
   "outputs": [
    {
     "data": {
      "text/plain": [
       "count    714.000000\n",
       "mean      29.699118\n",
       "std       14.526497\n",
       "min        0.420000\n",
       "25%       20.125000\n",
       "50%       28.000000\n",
       "75%       38.000000\n",
       "max       80.000000\n",
       "Name: age, dtype: float64"
      ]
     },
     "execution_count": 48,
     "metadata": {},
     "output_type": "execute_result"
    }
   ],
   "source": [
    "train['age'].describe()\n",
    "# 젊은 사람이 많음(왜도 : 한쪽으로 데이터가 치우쳐있음)"
   ]
  },
  {
   "cell_type": "code",
   "execution_count": 49,
   "id": "22c994ec-e7b2-464e-99c7-6faed8ddfa3d",
   "metadata": {
    "tags": []
   },
   "outputs": [
    {
     "data": {
      "text/plain": [
       "5                              Moran, Mr. James\n",
       "17                 Williams, Mr. Charles Eugene\n",
       "19                      Masselmani, Mrs. Fatima\n",
       "26                      Emir, Mr. Farred Chehab\n",
       "28                O'Dwyer, Miss. Ellen \"Nellie\"\n",
       "                         ...                   \n",
       "859                            Razi, Mr. Raihed\n",
       "863           Sage, Miss. Dorothy Edith \"Dolly\"\n",
       "868                 van Melkebeke, Mr. Philemon\n",
       "878                          Laleff, Mr. Kristo\n",
       "888    Johnston, Miss. Catherine Helen \"Carrie\"\n",
       "Name: name, Length: 177, dtype: object"
      ]
     },
     "execution_count": 49,
     "metadata": {},
     "output_type": "execute_result"
    }
   ],
   "source": [
    "train['name'][train['age'].isna()==True]"
   ]
  },
  {
   "cell_type": "markdown",
   "id": "5ad6154b-67c2-4437-99df-2299f45b2c33",
   "metadata": {},
   "source": [
    "#### 5.6.2.1 호칭 분리 ( 주요 Feature )"
   ]
  },
  {
   "cell_type": "markdown",
   "id": "e78c9c75-273d-4154-9e34-a7f603310f1a",
   "metadata": {},
   "source": [
    "##### 1) 정규표현식\n",
    "- match(), search(), findall()\n",
    "- re.search(패턴, 타겟문장)\n",
    "- p=re.compile(패턴) p.search(타겟문장)"
   ]
  },
  {
   "cell_type": "code",
   "execution_count": 50,
   "id": "69234c39-1628-4553-be9f-a196e8ac2a42",
   "metadata": {
    "tags": []
   },
   "outputs": [
    {
     "data": {
      "text/html": [
       "<div>\n",
       "<style scoped>\n",
       "    .dataframe tbody tr th:only-of-type {\n",
       "        vertical-align: middle;\n",
       "    }\n",
       "\n",
       "    .dataframe tbody tr th {\n",
       "        vertical-align: top;\n",
       "    }\n",
       "\n",
       "    .dataframe thead th {\n",
       "        text-align: right;\n",
       "    }\n",
       "</style>\n",
       "<table border=\"1\" class=\"dataframe\">\n",
       "  <thead>\n",
       "    <tr style=\"text-align: right;\">\n",
       "      <th></th>\n",
       "      <th>name_title</th>\n",
       "      <th>name</th>\n",
       "    </tr>\n",
       "  </thead>\n",
       "  <tbody>\n",
       "    <tr>\n",
       "      <th>886</th>\n",
       "      <td>Rev.</td>\n",
       "      <td>Montvila, Rev. Juozas</td>\n",
       "    </tr>\n",
       "    <tr>\n",
       "      <th>887</th>\n",
       "      <td>Miss.</td>\n",
       "      <td>Graham, Miss. Margaret Edith</td>\n",
       "    </tr>\n",
       "    <tr>\n",
       "      <th>888</th>\n",
       "      <td>Miss.</td>\n",
       "      <td>Johnston, Miss. Catherine Helen \"Carrie\"</td>\n",
       "    </tr>\n",
       "    <tr>\n",
       "      <th>889</th>\n",
       "      <td>Mr.</td>\n",
       "      <td>Behr, Mr. Karl Howell</td>\n",
       "    </tr>\n",
       "    <tr>\n",
       "      <th>890</th>\n",
       "      <td>Mr.</td>\n",
       "      <td>Dooley, Mr. Patrick</td>\n",
       "    </tr>\n",
       "  </tbody>\n",
       "</table>\n",
       "</div>"
      ],
      "text/plain": [
       "    name_title                                      name\n",
       "886       Rev.                     Montvila, Rev. Juozas\n",
       "887      Miss.              Graham, Miss. Margaret Edith\n",
       "888      Miss.  Johnston, Miss. Catherine Helen \"Carrie\"\n",
       "889        Mr.                     Behr, Mr. Karl Howell\n",
       "890        Mr.                       Dooley, Mr. Patrick"
      ]
     },
     "execution_count": 50,
     "metadata": {},
     "output_type": "execute_result"
    }
   ],
   "source": [
    "#train['name'].str.extract('(정규표현식)')\n",
    "train['name_title']=train['name'].str.extract('(\\s[\\w]+[.]\\s)') #반드시 그룹으로 묶기 ()\n",
    "train['name_title']=train['name_title'].str.strip()\n",
    "train[['name_title','name']].tail()"
   ]
  },
  {
   "cell_type": "markdown",
   "id": "d2795520-c6d3-4a34-9983-d7cab99b6336",
   "metadata": {},
   "source": [
    "- name_title 평균나이"
   ]
  },
  {
   "cell_type": "code",
   "execution_count": 51,
   "id": "20a4e4a9-f961-48a4-8261-bbf0910eb085",
   "metadata": {
    "tags": []
   },
   "outputs": [
    {
     "data": {
      "text/plain": [
       "Mr.          517\n",
       "Miss.        182\n",
       "Mrs.         125\n",
       "Master.       40\n",
       "Dr.            7\n",
       "Rev.           6\n",
       "Mlle.          2\n",
       "Major.         2\n",
       "Col.           2\n",
       "Countess.      1\n",
       "Capt.          1\n",
       "Ms.            1\n",
       "Sir.           1\n",
       "Lady.          1\n",
       "Mme.           1\n",
       "Don.           1\n",
       "Jonkheer.      1\n",
       "Name: name_title, dtype: int64"
      ]
     },
     "execution_count": 51,
     "metadata": {},
     "output_type": "execute_result"
    }
   ],
   "source": [
    "train['name_title'].value_counts()"
   ]
  },
  {
   "cell_type": "code",
   "execution_count": 52,
   "id": "352023ed-fdab-4a05-a7bd-51780e613690",
   "metadata": {
    "tags": []
   },
   "outputs": [
    {
     "data": {
      "text/plain": [
       "name_title\n",
       "Capt.        70.000000\n",
       "Col.         58.000000\n",
       "Countess.    33.000000\n",
       "Don.         40.000000\n",
       "Dr.          42.000000\n",
       "Jonkheer.    38.000000\n",
       "Lady.        48.000000\n",
       "Major.       48.500000\n",
       "Master.       4.574167\n",
       "Miss.        21.773973\n",
       "Mlle.        24.000000\n",
       "Mme.         24.000000\n",
       "Mr.          32.368090\n",
       "Mrs.         35.898148\n",
       "Ms.          28.000000\n",
       "Rev.         43.166667\n",
       "Sir.         49.000000\n",
       "Name: age, dtype: float64"
      ]
     },
     "execution_count": 52,
     "metadata": {},
     "output_type": "execute_result"
    }
   ],
   "source": [
    "train.groupby('name_title')['age'].mean()"
   ]
  },
  {
   "cell_type": "markdown",
   "id": "a0738e7d-29d5-432b-977d-f2fb5912358c",
   "metadata": {},
   "source": [
    "##### 2) 피쳐 값 변경"
   ]
  },
  {
   "cell_type": "markdown",
   "id": "06c46ae9-bacb-41a2-8fa8-756f71ac16f1",
   "metadata": {},
   "source": [
    "<호칭 정리>\n",
    "<pre>\n",
    "Rev.        목사           -->Mr.  \n",
    "Capt.       해군           -->Mr.\n",
    "Major.      미군계급        -->Mr. \n",
    "Col.\n",
    "Sir.        귀족 남성      --> Mr.\n",
    "Don.        상대 남성 존칭  -->Mr.\n",
    "Jonkheer.   무작위 귀족     -->Mr.\n",
    "\n",
    "Countess.   백작부인       --> Mrs.\n",
    "Mme.        Madam         -->Mrs.\n",
    "\n",
    "Mlle.       어린여자아이   --> Miss.\n",
    "Lady.       젊은 여성      --> Miss.\n",
    "Ms.         결혼 여부      -->Miss."
   ]
  },
  {
   "cell_type": "code",
   "execution_count": 53,
   "id": "b6e062aa-f0f6-439f-90f2-a04a916a9cdc",
   "metadata": {
    "tags": []
   },
   "outputs": [
    {
     "data": {
      "text/html": [
       "<div>\n",
       "<style scoped>\n",
       "    .dataframe tbody tr th:only-of-type {\n",
       "        vertical-align: middle;\n",
       "    }\n",
       "\n",
       "    .dataframe tbody tr th {\n",
       "        vertical-align: top;\n",
       "    }\n",
       "\n",
       "    .dataframe thead th {\n",
       "        text-align: right;\n",
       "    }\n",
       "</style>\n",
       "<table border=\"1\" class=\"dataframe\">\n",
       "  <thead>\n",
       "    <tr style=\"text-align: right;\">\n",
       "      <th></th>\n",
       "      <th>name_title</th>\n",
       "      <th>name_title2</th>\n",
       "    </tr>\n",
       "  </thead>\n",
       "  <tbody>\n",
       "    <tr>\n",
       "      <th>0</th>\n",
       "      <td>Mr.</td>\n",
       "      <td>Mr.</td>\n",
       "    </tr>\n",
       "    <tr>\n",
       "      <th>1</th>\n",
       "      <td>Mrs.</td>\n",
       "      <td>Mrs.</td>\n",
       "    </tr>\n",
       "    <tr>\n",
       "      <th>2</th>\n",
       "      <td>Miss.</td>\n",
       "      <td>Miss.</td>\n",
       "    </tr>\n",
       "    <tr>\n",
       "      <th>3</th>\n",
       "      <td>Mrs.</td>\n",
       "      <td>Mrs.</td>\n",
       "    </tr>\n",
       "    <tr>\n",
       "      <th>4</th>\n",
       "      <td>Mr.</td>\n",
       "      <td>Mr.</td>\n",
       "    </tr>\n",
       "  </tbody>\n",
       "</table>\n",
       "</div>"
      ],
      "text/plain": [
       "  name_title name_title2\n",
       "0        Mr.         Mr.\n",
       "1       Mrs.        Mrs.\n",
       "2      Miss.       Miss.\n",
       "3       Mrs.        Mrs.\n",
       "4        Mr.         Mr."
      ]
     },
     "execution_count": 53,
     "metadata": {},
     "output_type": "execute_result"
    }
   ],
   "source": [
    "dic = {  'Mr.':'Mr.',\n",
    "         'Rev.':'Mr.',\n",
    "         'Don.':'Mr.',\n",
    "         'Jonkheer.':'Mr.',\n",
    "         'Major.':'Mr.',\n",
    "         'Col.':'Mr.',\n",
    "         'Capt.':'Mr.',\n",
    "         'Sir.':'Mr.',\n",
    "         \n",
    "         'Mrs.':'Mrs.', \n",
    "         'Countess.':'Mrs.',\n",
    "         'Mme.':'Mrs.',\n",
    "         \n",
    "         'Miss.': 'Miss.',\n",
    "         'Mlle.':'Miss.',\n",
    "         'Ms.':'Miss.', \n",
    "         'Lady.':'Miss.',\n",
    "         \n",
    "         'Master.':'Master.',\n",
    "         'Dr.':'Dr.'           \n",
    "        }\n",
    "#map은 dic에 넣지 않은 값들은 모두 결측으로 처리되기 때문에 모든 값들을 넣어주어야 함\n",
    "train['name_title2'] = train['name_title'].map(dic)\n",
    "train[['name_title','name_title2']].head()"
   ]
  },
  {
   "cell_type": "code",
   "execution_count": 54,
   "id": "46c3907e-e594-411b-981e-365b65b942d0",
   "metadata": {
    "tags": []
   },
   "outputs": [
    {
     "data": {
      "text/plain": [
       "0"
      ]
     },
     "execution_count": 54,
     "metadata": {},
     "output_type": "execute_result"
    }
   ],
   "source": [
    "train['name_title2'].isna().sum()"
   ]
  },
  {
   "cell_type": "markdown",
   "id": "25e1ee03-5ffd-46a5-a179-61b63f0cfce3",
   "metadata": {},
   "source": [
    "##### 3) name, name_title 삭제"
   ]
  },
  {
   "cell_type": "code",
   "execution_count": 55,
   "id": "dd53fc9e-2356-4421-a2b1-0414c06e3e8c",
   "metadata": {
    "tags": []
   },
   "outputs": [],
   "source": [
    "train.drop(['name','name_title'],axis=1,inplace=True)"
   ]
  },
  {
   "cell_type": "code",
   "execution_count": 56,
   "id": "a1b89f3c-71d5-4885-92d0-6607d07f767c",
   "metadata": {
    "tags": []
   },
   "outputs": [
    {
     "data": {
      "text/html": [
       "<div>\n",
       "<style scoped>\n",
       "    .dataframe tbody tr th:only-of-type {\n",
       "        vertical-align: middle;\n",
       "    }\n",
       "\n",
       "    .dataframe tbody tr th {\n",
       "        vertical-align: top;\n",
       "    }\n",
       "\n",
       "    .dataframe thead th {\n",
       "        text-align: right;\n",
       "    }\n",
       "</style>\n",
       "<table border=\"1\" class=\"dataframe\">\n",
       "  <thead>\n",
       "    <tr style=\"text-align: right;\">\n",
       "      <th></th>\n",
       "      <th>survived</th>\n",
       "      <th>pclass</th>\n",
       "      <th>sex</th>\n",
       "      <th>age</th>\n",
       "      <th>sibsp</th>\n",
       "      <th>parch</th>\n",
       "      <th>ticket</th>\n",
       "      <th>fare</th>\n",
       "      <th>cabin</th>\n",
       "      <th>embarked</th>\n",
       "      <th>cabin2</th>\n",
       "      <th>name_title2</th>\n",
       "    </tr>\n",
       "  </thead>\n",
       "  <tbody>\n",
       "    <tr>\n",
       "      <th>0</th>\n",
       "      <td>0</td>\n",
       "      <td>3</td>\n",
       "      <td>male</td>\n",
       "      <td>22.0</td>\n",
       "      <td>1</td>\n",
       "      <td>0</td>\n",
       "      <td>A/5 21171</td>\n",
       "      <td>7.25</td>\n",
       "      <td>NaN</td>\n",
       "      <td>S</td>\n",
       "      <td>NaN</td>\n",
       "      <td>Mr.</td>\n",
       "    </tr>\n",
       "  </tbody>\n",
       "</table>\n",
       "</div>"
      ],
      "text/plain": [
       "   survived  pclass   sex   age  sibsp  parch     ticket  fare cabin embarked  \\\n",
       "0         0       3  male  22.0      1      0  A/5 21171  7.25   NaN        S   \n",
       "\n",
       "  cabin2 name_title2  \n",
       "0    NaN         Mr.  "
      ]
     },
     "execution_count": 56,
     "metadata": {},
     "output_type": "execute_result"
    }
   ],
   "source": [
    "train.head(1)"
   ]
  },
  {
   "cell_type": "markdown",
   "id": "6eae9863-bf21-4ad4-b0d6-1dc7aa612924",
   "metadata": {
    "tags": []
   },
   "source": [
    "#### 5.6.2.2 호칭 별 평균나이 \n",
    "- <font color='red'><b> train.groupby('name_title2')['age'].transform(np.mean) </font></b>"
   ]
  },
  {
   "cell_type": "code",
   "execution_count": 57,
   "id": "5a2fd114-b9e2-43bd-9214-65d6c19711f7",
   "metadata": {
    "tags": []
   },
   "outputs": [
    {
     "data": {
      "text/plain": [
       "name_title2\n",
       "Dr.        42.000000\n",
       "Master.     4.574167\n",
       "Miss.      22.020000\n",
       "Mr.        32.891990\n",
       "Mrs.       35.763636\n",
       "Name: age, dtype: float64"
      ]
     },
     "execution_count": 57,
     "metadata": {},
     "output_type": "execute_result"
    }
   ],
   "source": [
    "train.groupby('name_title2')['age'].mean()"
   ]
  },
  {
   "cell_type": "code",
   "execution_count": 58,
   "id": "4168af5e-48d4-40ec-85f3-a873eed22755",
   "metadata": {
    "tags": []
   },
   "outputs": [
    {
     "data": {
      "text/html": [
       "<div>\n",
       "<style scoped>\n",
       "    .dataframe tbody tr th:only-of-type {\n",
       "        vertical-align: middle;\n",
       "    }\n",
       "\n",
       "    .dataframe tbody tr th {\n",
       "        vertical-align: top;\n",
       "    }\n",
       "\n",
       "    .dataframe thead th {\n",
       "        text-align: right;\n",
       "    }\n",
       "</style>\n",
       "<table border=\"1\" class=\"dataframe\">\n",
       "  <thead>\n",
       "    <tr style=\"text-align: right;\">\n",
       "      <th></th>\n",
       "      <th>name_title2</th>\n",
       "      <th>age</th>\n",
       "      <th>age2</th>\n",
       "    </tr>\n",
       "  </thead>\n",
       "  <tbody>\n",
       "    <tr>\n",
       "      <th>5</th>\n",
       "      <td>Mr.</td>\n",
       "      <td>NaN</td>\n",
       "      <td>32.891990</td>\n",
       "    </tr>\n",
       "    <tr>\n",
       "      <th>17</th>\n",
       "      <td>Mr.</td>\n",
       "      <td>NaN</td>\n",
       "      <td>32.891990</td>\n",
       "    </tr>\n",
       "    <tr>\n",
       "      <th>19</th>\n",
       "      <td>Mrs.</td>\n",
       "      <td>NaN</td>\n",
       "      <td>35.763636</td>\n",
       "    </tr>\n",
       "    <tr>\n",
       "      <th>26</th>\n",
       "      <td>Mr.</td>\n",
       "      <td>NaN</td>\n",
       "      <td>32.891990</td>\n",
       "    </tr>\n",
       "    <tr>\n",
       "      <th>28</th>\n",
       "      <td>Miss.</td>\n",
       "      <td>NaN</td>\n",
       "      <td>22.020000</td>\n",
       "    </tr>\n",
       "    <tr>\n",
       "      <th>...</th>\n",
       "      <td>...</td>\n",
       "      <td>...</td>\n",
       "      <td>...</td>\n",
       "    </tr>\n",
       "    <tr>\n",
       "      <th>859</th>\n",
       "      <td>Mr.</td>\n",
       "      <td>NaN</td>\n",
       "      <td>32.891990</td>\n",
       "    </tr>\n",
       "    <tr>\n",
       "      <th>863</th>\n",
       "      <td>Miss.</td>\n",
       "      <td>NaN</td>\n",
       "      <td>22.020000</td>\n",
       "    </tr>\n",
       "    <tr>\n",
       "      <th>868</th>\n",
       "      <td>Mr.</td>\n",
       "      <td>NaN</td>\n",
       "      <td>32.891990</td>\n",
       "    </tr>\n",
       "    <tr>\n",
       "      <th>878</th>\n",
       "      <td>Mr.</td>\n",
       "      <td>NaN</td>\n",
       "      <td>32.891990</td>\n",
       "    </tr>\n",
       "    <tr>\n",
       "      <th>888</th>\n",
       "      <td>Miss.</td>\n",
       "      <td>NaN</td>\n",
       "      <td>22.020000</td>\n",
       "    </tr>\n",
       "  </tbody>\n",
       "</table>\n",
       "<p>177 rows × 3 columns</p>\n",
       "</div>"
      ],
      "text/plain": [
       "    name_title2  age       age2\n",
       "5           Mr.  NaN  32.891990\n",
       "17          Mr.  NaN  32.891990\n",
       "19         Mrs.  NaN  35.763636\n",
       "26          Mr.  NaN  32.891990\n",
       "28        Miss.  NaN  22.020000\n",
       "..          ...  ...        ...\n",
       "859         Mr.  NaN  32.891990\n",
       "863       Miss.  NaN  22.020000\n",
       "868         Mr.  NaN  32.891990\n",
       "878         Mr.  NaN  32.891990\n",
       "888       Miss.  NaN  22.020000\n",
       "\n",
       "[177 rows x 3 columns]"
      ]
     },
     "execution_count": 58,
     "metadata": {},
     "output_type": "execute_result"
    }
   ],
   "source": [
    "#train.groupby('name_title2',group_keys=True)['age'].transform(lambda gdf : gdf.fillna(gdf.mean()))\n",
    "train['age2']=train['age'].fillna(train.groupby('name_title2',group_keys=True)['age'].transform(\"mean\"))\n",
    "train[['name_title2','age','age2']][train['age'].isna()]"
   ]
  },
  {
   "cell_type": "code",
   "execution_count": 59,
   "id": "a059a999-b250-421a-8d68-b00e56bb13d5",
   "metadata": {
    "tags": []
   },
   "outputs": [
    {
     "data": {
      "text/plain": [
       "name_title2  survived\n",
       "Dr.          0             4\n",
       "             1             3\n",
       "Master.      0            17\n",
       "             1            23\n",
       "Miss.        0            55\n",
       "             1           131\n",
       "Mr.          0           447\n",
       "             1            84\n",
       "Mrs.         0            26\n",
       "             1           101\n",
       "dtype: int64"
      ]
     },
     "execution_count": 59,
     "metadata": {},
     "output_type": "execute_result"
    }
   ],
   "source": [
    "# 호칭은 생존 여부에 중요한 역할 --> 주요 feature\n",
    "# 여성들의 생존률이 압도적으로 높음\n",
    "train[['name_title2','survived']].value_counts().sort_index()"
   ]
  },
  {
   "cell_type": "markdown",
   "id": "5d595c48-6523-4ffb-9a76-41b4b7379892",
   "metadata": {},
   "source": [
    "### 5.6.3 age\n",
    "- age2 : name_title2 이용해서 호칭별 평균나이로 결측 채우기"
   ]
  },
  {
   "cell_type": "markdown",
   "id": "0edf80eb-59e2-4579-a305-373044cb0877",
   "metadata": {},
   "source": [
    "- 나이 채우기"
   ]
  },
  {
   "cell_type": "code",
   "execution_count": 60,
   "id": "bf1e4b1a-090c-447a-8fc4-7cd9c6a5dcb5",
   "metadata": {
    "tags": []
   },
   "outputs": [
    {
     "data": {
      "text/plain": [
       "age2   survived\n",
       "0.42   1           1\n",
       "0.67   1           1\n",
       "0.75   1           2\n",
       "0.83   1           2\n",
       "0.92   1           1\n",
       "                  ..\n",
       "70.00  0           2\n",
       "70.50  0           1\n",
       "71.00  0           2\n",
       "74.00  0           1\n",
       "80.00  1           1\n",
       "Length: 150, dtype: int64"
      ]
     },
     "execution_count": 60,
     "metadata": {},
     "output_type": "execute_result"
    }
   ],
   "source": [
    "train[['age2','survived']].value_counts().sort_index()"
   ]
  },
  {
   "cell_type": "markdown",
   "id": "0013f0d3-0352-4dec-9cb3-7e2562ba6ef7",
   "metadata": {},
   "source": [
    "#### 5.6.3.1 연령별 분포도"
   ]
  },
  {
   "cell_type": "code",
   "execution_count": 61,
   "id": "2df37c8c-3c28-4259-a621-b3e9d6ccf411",
   "metadata": {
    "tags": []
   },
   "outputs": [
    {
     "data": {
      "text/html": [
       "<div>\n",
       "<style scoped>\n",
       "    .dataframe tbody tr th:only-of-type {\n",
       "        vertical-align: middle;\n",
       "    }\n",
       "\n",
       "    .dataframe tbody tr th {\n",
       "        vertical-align: top;\n",
       "    }\n",
       "\n",
       "    .dataframe thead th {\n",
       "        text-align: right;\n",
       "    }\n",
       "</style>\n",
       "<table border=\"1\" class=\"dataframe\">\n",
       "  <thead>\n",
       "    <tr style=\"text-align: right;\">\n",
       "      <th></th>\n",
       "      <th>age2</th>\n",
       "      <th>age_gugan</th>\n",
       "    </tr>\n",
       "  </thead>\n",
       "  <tbody>\n",
       "    <tr>\n",
       "      <th>0</th>\n",
       "      <td>22.00</td>\n",
       "      <td>2</td>\n",
       "    </tr>\n",
       "    <tr>\n",
       "      <th>1</th>\n",
       "      <td>38.00</td>\n",
       "      <td>3</td>\n",
       "    </tr>\n",
       "    <tr>\n",
       "      <th>2</th>\n",
       "      <td>26.00</td>\n",
       "      <td>2</td>\n",
       "    </tr>\n",
       "    <tr>\n",
       "      <th>3</th>\n",
       "      <td>35.00</td>\n",
       "      <td>3</td>\n",
       "    </tr>\n",
       "    <tr>\n",
       "      <th>4</th>\n",
       "      <td>35.00</td>\n",
       "      <td>3</td>\n",
       "    </tr>\n",
       "    <tr>\n",
       "      <th>...</th>\n",
       "      <td>...</td>\n",
       "      <td>...</td>\n",
       "    </tr>\n",
       "    <tr>\n",
       "      <th>886</th>\n",
       "      <td>27.00</td>\n",
       "      <td>2</td>\n",
       "    </tr>\n",
       "    <tr>\n",
       "      <th>887</th>\n",
       "      <td>19.00</td>\n",
       "      <td>1</td>\n",
       "    </tr>\n",
       "    <tr>\n",
       "      <th>888</th>\n",
       "      <td>22.02</td>\n",
       "      <td>2</td>\n",
       "    </tr>\n",
       "    <tr>\n",
       "      <th>889</th>\n",
       "      <td>26.00</td>\n",
       "      <td>2</td>\n",
       "    </tr>\n",
       "    <tr>\n",
       "      <th>890</th>\n",
       "      <td>32.00</td>\n",
       "      <td>3</td>\n",
       "    </tr>\n",
       "  </tbody>\n",
       "</table>\n",
       "<p>891 rows × 2 columns</p>\n",
       "</div>"
      ],
      "text/plain": [
       "      age2  age_gugan\n",
       "0    22.00          2\n",
       "1    38.00          3\n",
       "2    26.00          2\n",
       "3    35.00          3\n",
       "4    35.00          3\n",
       "..     ...        ...\n",
       "886  27.00          2\n",
       "887  19.00          1\n",
       "888  22.02          2\n",
       "889  26.00          2\n",
       "890  32.00          3\n",
       "\n",
       "[891 rows x 2 columns]"
      ]
     },
     "execution_count": 61,
     "metadata": {},
     "output_type": "execute_result"
    }
   ],
   "source": [
    "# 연령별 분포도\n",
    "# 몫 : // , 나머지 : %\n",
    "train['age_gugan']=  train['age2']//10\n",
    "train['age_gugan']=train['age_gugan'].astype('int')\n",
    "train[['age2','age_gugan']]"
   ]
  },
  {
   "cell_type": "code",
   "execution_count": 62,
   "id": "47eb3761-b15c-480f-b154-bff45141b301",
   "metadata": {
    "tags": []
   },
   "outputs": [
    {
     "data": {
      "text/plain": [
       "age_gugan  survived\n",
       "0          0            26\n",
       "           1            40\n",
       "1          0            61\n",
       "           1            41\n",
       "2          0           157\n",
       "           1            99\n",
       "3          0           202\n",
       "           1           101\n",
       "4          0            56\n",
       "           1            34\n",
       "5          0            28\n",
       "           1            20\n",
       "6          0            13\n",
       "           1             6\n",
       "7          0             6\n",
       "8          1             1\n",
       "dtype: int64"
      ]
     },
     "execution_count": 62,
     "metadata": {},
     "output_type": "execute_result"
    }
   ],
   "source": [
    "# 나이 하나로는 생존 여부 판별 어려움\n",
    "train[['age_gugan','survived']].value_counts().sort_index()"
   ]
  },
  {
   "cell_type": "markdown",
   "id": "8249496f-8175-4809-88aa-90a4b638a645",
   "metadata": {},
   "source": [
    "#### 5.6.3.2 pd. crosstab()\n",
    "<pre>\n",
    "def crosstab(\n",
    "    <b>\n",
    "    index,   --> y 축\n",
    "    columns, --> x 축\n",
    "    values=None,\n",
    "    </b>\n",
    "    rownames=None,\n",
    "    colnames=None,\n",
    "    aggfunc=None,\n",
    "    margins: bool = False,\n",
    "    margins_name: str = \"All\",\n",
    "    dropna: bool = True,\n",
    "    normalize=False,\n",
    ") -> DataFrame:"
   ]
  },
  {
   "cell_type": "code",
   "execution_count": 63,
   "id": "62beb41b-8150-4b49-999d-50f56d659db7",
   "metadata": {
    "tags": []
   },
   "outputs": [
    {
     "data": {
      "text/html": [
       "<div>\n",
       "<style scoped>\n",
       "    .dataframe tbody tr th:only-of-type {\n",
       "        vertical-align: middle;\n",
       "    }\n",
       "\n",
       "    .dataframe tbody tr th {\n",
       "        vertical-align: top;\n",
       "    }\n",
       "\n",
       "    .dataframe thead tr th {\n",
       "        text-align: left;\n",
       "    }\n",
       "\n",
       "    .dataframe thead tr:last-of-type th {\n",
       "        text-align: right;\n",
       "    }\n",
       "</style>\n",
       "<table border=\"1\" class=\"dataframe\">\n",
       "  <thead>\n",
       "    <tr>\n",
       "      <th></th>\n",
       "      <th>age_gugan</th>\n",
       "      <th colspan=\"2\" halign=\"left\">0</th>\n",
       "      <th colspan=\"2\" halign=\"left\">1</th>\n",
       "      <th colspan=\"2\" halign=\"left\">2</th>\n",
       "      <th colspan=\"2\" halign=\"left\">3</th>\n",
       "      <th colspan=\"2\" halign=\"left\">4</th>\n",
       "      <th colspan=\"2\" halign=\"left\">5</th>\n",
       "      <th colspan=\"2\" halign=\"left\">6</th>\n",
       "      <th>7</th>\n",
       "      <th>8</th>\n",
       "    </tr>\n",
       "    <tr>\n",
       "      <th></th>\n",
       "      <th>survived</th>\n",
       "      <th>0</th>\n",
       "      <th>1</th>\n",
       "      <th>0</th>\n",
       "      <th>1</th>\n",
       "      <th>0</th>\n",
       "      <th>1</th>\n",
       "      <th>0</th>\n",
       "      <th>1</th>\n",
       "      <th>0</th>\n",
       "      <th>1</th>\n",
       "      <th>0</th>\n",
       "      <th>1</th>\n",
       "      <th>0</th>\n",
       "      <th>1</th>\n",
       "      <th>0</th>\n",
       "      <th>1</th>\n",
       "    </tr>\n",
       "    <tr>\n",
       "      <th>pclass</th>\n",
       "      <th>sex</th>\n",
       "      <th></th>\n",
       "      <th></th>\n",
       "      <th></th>\n",
       "      <th></th>\n",
       "      <th></th>\n",
       "      <th></th>\n",
       "      <th></th>\n",
       "      <th></th>\n",
       "      <th></th>\n",
       "      <th></th>\n",
       "      <th></th>\n",
       "      <th></th>\n",
       "      <th></th>\n",
       "      <th></th>\n",
       "      <th></th>\n",
       "      <th></th>\n",
       "    </tr>\n",
       "  </thead>\n",
       "  <tbody>\n",
       "    <tr>\n",
       "      <th rowspan=\"2\" valign=\"top\">1</th>\n",
       "      <th>female</th>\n",
       "      <td>1</td>\n",
       "      <td>0</td>\n",
       "      <td>0</td>\n",
       "      <td>13</td>\n",
       "      <td>1</td>\n",
       "      <td>16</td>\n",
       "      <td>0</td>\n",
       "      <td>35</td>\n",
       "      <td>0</td>\n",
       "      <td>13</td>\n",
       "      <td>1</td>\n",
       "      <td>11</td>\n",
       "      <td>0</td>\n",
       "      <td>3</td>\n",
       "      <td>0</td>\n",
       "      <td>0</td>\n",
       "    </tr>\n",
       "    <tr>\n",
       "      <th>male</th>\n",
       "      <td>0</td>\n",
       "      <td>2</td>\n",
       "      <td>3</td>\n",
       "      <td>2</td>\n",
       "      <td>9</td>\n",
       "      <td>9</td>\n",
       "      <td>26</td>\n",
       "      <td>17</td>\n",
       "      <td>16</td>\n",
       "      <td>9</td>\n",
       "      <td>11</td>\n",
       "      <td>4</td>\n",
       "      <td>9</td>\n",
       "      <td>1</td>\n",
       "      <td>3</td>\n",
       "      <td>1</td>\n",
       "    </tr>\n",
       "    <tr>\n",
       "      <th rowspan=\"2\" valign=\"top\">2</th>\n",
       "      <th>female</th>\n",
       "      <td>0</td>\n",
       "      <td>8</td>\n",
       "      <td>0</td>\n",
       "      <td>8</td>\n",
       "      <td>3</td>\n",
       "      <td>24</td>\n",
       "      <td>1</td>\n",
       "      <td>16</td>\n",
       "      <td>1</td>\n",
       "      <td>9</td>\n",
       "      <td>1</td>\n",
       "      <td>5</td>\n",
       "      <td>0</td>\n",
       "      <td>0</td>\n",
       "      <td>0</td>\n",
       "      <td>0</td>\n",
       "    </tr>\n",
       "    <tr>\n",
       "      <th>male</th>\n",
       "      <td>0</td>\n",
       "      <td>9</td>\n",
       "      <td>9</td>\n",
       "      <td>1</td>\n",
       "      <td>28</td>\n",
       "      <td>0</td>\n",
       "      <td>35</td>\n",
       "      <td>5</td>\n",
       "      <td>7</td>\n",
       "      <td>1</td>\n",
       "      <td>9</td>\n",
       "      <td>0</td>\n",
       "      <td>2</td>\n",
       "      <td>1</td>\n",
       "      <td>1</td>\n",
       "      <td>0</td>\n",
       "    </tr>\n",
       "    <tr>\n",
       "      <th rowspan=\"2\" valign=\"top\">3</th>\n",
       "      <th>female</th>\n",
       "      <td>10</td>\n",
       "      <td>11</td>\n",
       "      <td>11</td>\n",
       "      <td>13</td>\n",
       "      <td>30</td>\n",
       "      <td>34</td>\n",
       "      <td>12</td>\n",
       "      <td>13</td>\n",
       "      <td>9</td>\n",
       "      <td>0</td>\n",
       "      <td>0</td>\n",
       "      <td>0</td>\n",
       "      <td>0</td>\n",
       "      <td>1</td>\n",
       "      <td>0</td>\n",
       "      <td>0</td>\n",
       "    </tr>\n",
       "    <tr>\n",
       "      <th>male</th>\n",
       "      <td>15</td>\n",
       "      <td>10</td>\n",
       "      <td>38</td>\n",
       "      <td>4</td>\n",
       "      <td>86</td>\n",
       "      <td>16</td>\n",
       "      <td>128</td>\n",
       "      <td>15</td>\n",
       "      <td>23</td>\n",
       "      <td>2</td>\n",
       "      <td>6</td>\n",
       "      <td>0</td>\n",
       "      <td>2</td>\n",
       "      <td>0</td>\n",
       "      <td>2</td>\n",
       "      <td>0</td>\n",
       "    </tr>\n",
       "  </tbody>\n",
       "</table>\n",
       "</div>"
      ],
      "text/plain": [
       "age_gugan       0       1       2        3       4       5      6     7  8\n",
       "survived        0   1   0   1   0   1    0   1   0   1   0   1  0  1  0  1\n",
       "pclass sex                                                                \n",
       "1      female   1   0   0  13   1  16    0  35   0  13   1  11  0  3  0  0\n",
       "       male     0   2   3   2   9   9   26  17  16   9  11   4  9  1  3  1\n",
       "2      female   0   8   0   8   3  24    1  16   1   9   1   5  0  0  0  0\n",
       "       male     0   9   9   1  28   0   35   5   7   1   9   0  2  1  1  0\n",
       "3      female  10  11  11  13  30  34   12  13   9   0   0   0  0  1  0  0\n",
       "       male    15  10  38   4  86  16  128  15  23   2   6   0  2  0  2  0"
      ]
     },
     "execution_count": 63,
     "metadata": {},
     "output_type": "execute_result"
    }
   ],
   "source": [
    "# 등급과 관계 없이 노인들은 사망\n",
    "# 3등급 칸은 나이와 관계 없이 사망률 매우 높음\n",
    "# 머신러닝은 50을 기준으로 사망/생존 구분\n",
    "pd.crosstab(index=[train['pclass'],train['sex']],\n",
    "            columns=[train['age_gugan'],train['survived']]) #,values=train['survived'],aggfunc='sum')"
   ]
  },
  {
   "cell_type": "markdown",
   "id": "224c2011-a060-4501-b2fd-d0f9657125dd",
   "metadata": {},
   "source": [
    "## 5.7 sibsp, parch"
   ]
  },
  {
   "cell_type": "code",
   "execution_count": 64,
   "id": "2df09b6e-f4bf-4677-9353-07741c67697a",
   "metadata": {
    "tags": []
   },
   "outputs": [
    {
     "data": {
      "text/html": [
       "<div>\n",
       "<style scoped>\n",
       "    .dataframe tbody tr th:only-of-type {\n",
       "        vertical-align: middle;\n",
       "    }\n",
       "\n",
       "    .dataframe tbody tr th {\n",
       "        vertical-align: top;\n",
       "    }\n",
       "\n",
       "    .dataframe thead th {\n",
       "        text-align: right;\n",
       "    }\n",
       "</style>\n",
       "<table border=\"1\" class=\"dataframe\">\n",
       "  <thead>\n",
       "    <tr style=\"text-align: right;\">\n",
       "      <th></th>\n",
       "      <th>survived</th>\n",
       "      <th>pclass</th>\n",
       "      <th>sex</th>\n",
       "      <th>age</th>\n",
       "      <th>sibsp</th>\n",
       "      <th>parch</th>\n",
       "      <th>ticket</th>\n",
       "      <th>fare</th>\n",
       "      <th>cabin</th>\n",
       "      <th>embarked</th>\n",
       "      <th>cabin2</th>\n",
       "      <th>name_title2</th>\n",
       "      <th>age2</th>\n",
       "      <th>age_gugan</th>\n",
       "      <th>family</th>\n",
       "    </tr>\n",
       "  </thead>\n",
       "  <tbody>\n",
       "    <tr>\n",
       "      <th>180</th>\n",
       "      <td>0</td>\n",
       "      <td>3</td>\n",
       "      <td>female</td>\n",
       "      <td>NaN</td>\n",
       "      <td>8</td>\n",
       "      <td>2</td>\n",
       "      <td>CA. 2343</td>\n",
       "      <td>69.55</td>\n",
       "      <td>NaN</td>\n",
       "      <td>S</td>\n",
       "      <td>NaN</td>\n",
       "      <td>Miss.</td>\n",
       "      <td>22.020000</td>\n",
       "      <td>2</td>\n",
       "      <td>11</td>\n",
       "    </tr>\n",
       "    <tr>\n",
       "      <th>846</th>\n",
       "      <td>0</td>\n",
       "      <td>3</td>\n",
       "      <td>male</td>\n",
       "      <td>NaN</td>\n",
       "      <td>8</td>\n",
       "      <td>2</td>\n",
       "      <td>CA. 2343</td>\n",
       "      <td>69.55</td>\n",
       "      <td>NaN</td>\n",
       "      <td>S</td>\n",
       "      <td>NaN</td>\n",
       "      <td>Mr.</td>\n",
       "      <td>32.891990</td>\n",
       "      <td>3</td>\n",
       "      <td>11</td>\n",
       "    </tr>\n",
       "    <tr>\n",
       "      <th>792</th>\n",
       "      <td>0</td>\n",
       "      <td>3</td>\n",
       "      <td>female</td>\n",
       "      <td>NaN</td>\n",
       "      <td>8</td>\n",
       "      <td>2</td>\n",
       "      <td>CA. 2343</td>\n",
       "      <td>69.55</td>\n",
       "      <td>NaN</td>\n",
       "      <td>S</td>\n",
       "      <td>NaN</td>\n",
       "      <td>Miss.</td>\n",
       "      <td>22.020000</td>\n",
       "      <td>2</td>\n",
       "      <td>11</td>\n",
       "    </tr>\n",
       "    <tr>\n",
       "      <th>201</th>\n",
       "      <td>0</td>\n",
       "      <td>3</td>\n",
       "      <td>male</td>\n",
       "      <td>NaN</td>\n",
       "      <td>8</td>\n",
       "      <td>2</td>\n",
       "      <td>CA. 2343</td>\n",
       "      <td>69.55</td>\n",
       "      <td>NaN</td>\n",
       "      <td>S</td>\n",
       "      <td>NaN</td>\n",
       "      <td>Mr.</td>\n",
       "      <td>32.891990</td>\n",
       "      <td>3</td>\n",
       "      <td>11</td>\n",
       "    </tr>\n",
       "    <tr>\n",
       "      <th>159</th>\n",
       "      <td>0</td>\n",
       "      <td>3</td>\n",
       "      <td>male</td>\n",
       "      <td>NaN</td>\n",
       "      <td>8</td>\n",
       "      <td>2</td>\n",
       "      <td>CA. 2343</td>\n",
       "      <td>69.55</td>\n",
       "      <td>NaN</td>\n",
       "      <td>S</td>\n",
       "      <td>NaN</td>\n",
       "      <td>Master.</td>\n",
       "      <td>4.574167</td>\n",
       "      <td>0</td>\n",
       "      <td>11</td>\n",
       "    </tr>\n",
       "  </tbody>\n",
       "</table>\n",
       "</div>"
      ],
      "text/plain": [
       "     survived  pclass     sex  age  sibsp  parch    ticket   fare cabin  \\\n",
       "180         0       3  female  NaN      8      2  CA. 2343  69.55   NaN   \n",
       "846         0       3    male  NaN      8      2  CA. 2343  69.55   NaN   \n",
       "792         0       3  female  NaN      8      2  CA. 2343  69.55   NaN   \n",
       "201         0       3    male  NaN      8      2  CA. 2343  69.55   NaN   \n",
       "159         0       3    male  NaN      8      2  CA. 2343  69.55   NaN   \n",
       "\n",
       "    embarked cabin2 name_title2       age2  age_gugan  family  \n",
       "180        S    NaN       Miss.  22.020000          2      11  \n",
       "846        S    NaN         Mr.  32.891990          3      11  \n",
       "792        S    NaN       Miss.  22.020000          2      11  \n",
       "201        S    NaN         Mr.  32.891990          3      11  \n",
       "159        S    NaN     Master.   4.574167          0      11  "
      ]
     },
     "execution_count": 64,
     "metadata": {},
     "output_type": "execute_result"
    }
   ],
   "source": [
    "train['family'] = train['sibsp']+ train['parch'] + 1 #(+1) : 본인 포함\n",
    "train.sort_values(by='family',ascending =False).head()"
   ]
  },
  {
   "cell_type": "code",
   "execution_count": 65,
   "id": "8a74b760-6427-41cd-afbc-a26454742405",
   "metadata": {
    "tags": []
   },
   "outputs": [
    {
     "data": {
      "text/html": [
       "<div>\n",
       "<style scoped>\n",
       "    .dataframe tbody tr th:only-of-type {\n",
       "        vertical-align: middle;\n",
       "    }\n",
       "\n",
       "    .dataframe tbody tr th {\n",
       "        vertical-align: top;\n",
       "    }\n",
       "\n",
       "    .dataframe thead th {\n",
       "        text-align: right;\n",
       "    }\n",
       "</style>\n",
       "<table border=\"1\" class=\"dataframe\">\n",
       "  <thead>\n",
       "    <tr style=\"text-align: right;\">\n",
       "      <th></th>\n",
       "      <th>survived</th>\n",
       "      <th>pclass</th>\n",
       "      <th>sex</th>\n",
       "      <th>age</th>\n",
       "      <th>sibsp</th>\n",
       "      <th>parch</th>\n",
       "      <th>ticket</th>\n",
       "      <th>fare</th>\n",
       "      <th>cabin</th>\n",
       "      <th>embarked</th>\n",
       "      <th>cabin2</th>\n",
       "      <th>name_title2</th>\n",
       "      <th>age2</th>\n",
       "      <th>age_gugan</th>\n",
       "      <th>family</th>\n",
       "    </tr>\n",
       "  </thead>\n",
       "  <tbody>\n",
       "    <tr>\n",
       "      <th>159</th>\n",
       "      <td>0</td>\n",
       "      <td>3</td>\n",
       "      <td>male</td>\n",
       "      <td>NaN</td>\n",
       "      <td>8</td>\n",
       "      <td>2</td>\n",
       "      <td>CA. 2343</td>\n",
       "      <td>69.55</td>\n",
       "      <td>NaN</td>\n",
       "      <td>S</td>\n",
       "      <td>NaN</td>\n",
       "      <td>Master.</td>\n",
       "      <td>4.574167</td>\n",
       "      <td>0</td>\n",
       "      <td>11</td>\n",
       "    </tr>\n",
       "    <tr>\n",
       "      <th>180</th>\n",
       "      <td>0</td>\n",
       "      <td>3</td>\n",
       "      <td>female</td>\n",
       "      <td>NaN</td>\n",
       "      <td>8</td>\n",
       "      <td>2</td>\n",
       "      <td>CA. 2343</td>\n",
       "      <td>69.55</td>\n",
       "      <td>NaN</td>\n",
       "      <td>S</td>\n",
       "      <td>NaN</td>\n",
       "      <td>Miss.</td>\n",
       "      <td>22.020000</td>\n",
       "      <td>2</td>\n",
       "      <td>11</td>\n",
       "    </tr>\n",
       "    <tr>\n",
       "      <th>201</th>\n",
       "      <td>0</td>\n",
       "      <td>3</td>\n",
       "      <td>male</td>\n",
       "      <td>NaN</td>\n",
       "      <td>8</td>\n",
       "      <td>2</td>\n",
       "      <td>CA. 2343</td>\n",
       "      <td>69.55</td>\n",
       "      <td>NaN</td>\n",
       "      <td>S</td>\n",
       "      <td>NaN</td>\n",
       "      <td>Mr.</td>\n",
       "      <td>32.891990</td>\n",
       "      <td>3</td>\n",
       "      <td>11</td>\n",
       "    </tr>\n",
       "    <tr>\n",
       "      <th>324</th>\n",
       "      <td>0</td>\n",
       "      <td>3</td>\n",
       "      <td>male</td>\n",
       "      <td>NaN</td>\n",
       "      <td>8</td>\n",
       "      <td>2</td>\n",
       "      <td>CA. 2343</td>\n",
       "      <td>69.55</td>\n",
       "      <td>NaN</td>\n",
       "      <td>S</td>\n",
       "      <td>NaN</td>\n",
       "      <td>Mr.</td>\n",
       "      <td>32.891990</td>\n",
       "      <td>3</td>\n",
       "      <td>11</td>\n",
       "    </tr>\n",
       "    <tr>\n",
       "      <th>792</th>\n",
       "      <td>0</td>\n",
       "      <td>3</td>\n",
       "      <td>female</td>\n",
       "      <td>NaN</td>\n",
       "      <td>8</td>\n",
       "      <td>2</td>\n",
       "      <td>CA. 2343</td>\n",
       "      <td>69.55</td>\n",
       "      <td>NaN</td>\n",
       "      <td>S</td>\n",
       "      <td>NaN</td>\n",
       "      <td>Miss.</td>\n",
       "      <td>22.020000</td>\n",
       "      <td>2</td>\n",
       "      <td>11</td>\n",
       "    </tr>\n",
       "    <tr>\n",
       "      <th>846</th>\n",
       "      <td>0</td>\n",
       "      <td>3</td>\n",
       "      <td>male</td>\n",
       "      <td>NaN</td>\n",
       "      <td>8</td>\n",
       "      <td>2</td>\n",
       "      <td>CA. 2343</td>\n",
       "      <td>69.55</td>\n",
       "      <td>NaN</td>\n",
       "      <td>S</td>\n",
       "      <td>NaN</td>\n",
       "      <td>Mr.</td>\n",
       "      <td>32.891990</td>\n",
       "      <td>3</td>\n",
       "      <td>11</td>\n",
       "    </tr>\n",
       "    <tr>\n",
       "      <th>863</th>\n",
       "      <td>0</td>\n",
       "      <td>3</td>\n",
       "      <td>female</td>\n",
       "      <td>NaN</td>\n",
       "      <td>8</td>\n",
       "      <td>2</td>\n",
       "      <td>CA. 2343</td>\n",
       "      <td>69.55</td>\n",
       "      <td>NaN</td>\n",
       "      <td>S</td>\n",
       "      <td>NaN</td>\n",
       "      <td>Miss.</td>\n",
       "      <td>22.020000</td>\n",
       "      <td>2</td>\n",
       "      <td>11</td>\n",
       "    </tr>\n",
       "  </tbody>\n",
       "</table>\n",
       "</div>"
      ],
      "text/plain": [
       "     survived  pclass     sex  age  sibsp  parch    ticket   fare cabin  \\\n",
       "159         0       3    male  NaN      8      2  CA. 2343  69.55   NaN   \n",
       "180         0       3  female  NaN      8      2  CA. 2343  69.55   NaN   \n",
       "201         0       3    male  NaN      8      2  CA. 2343  69.55   NaN   \n",
       "324         0       3    male  NaN      8      2  CA. 2343  69.55   NaN   \n",
       "792         0       3  female  NaN      8      2  CA. 2343  69.55   NaN   \n",
       "846         0       3    male  NaN      8      2  CA. 2343  69.55   NaN   \n",
       "863         0       3  female  NaN      8      2  CA. 2343  69.55   NaN   \n",
       "\n",
       "    embarked cabin2 name_title2       age2  age_gugan  family  \n",
       "159        S    NaN     Master.   4.574167          0      11  \n",
       "180        S    NaN       Miss.  22.020000          2      11  \n",
       "201        S    NaN         Mr.  32.891990          3      11  \n",
       "324        S    NaN         Mr.  32.891990          3      11  \n",
       "792        S    NaN       Miss.  22.020000          2      11  \n",
       "846        S    NaN         Mr.  32.891990          3      11  \n",
       "863        S    NaN       Miss.  22.020000          2      11  "
      ]
     },
     "execution_count": 65,
     "metadata": {},
     "output_type": "execute_result"
    }
   ],
   "source": [
    "#동행자 정보를 티켓 번호로 확인 불가능\n",
    "train[train['ticket']=='PC 17599']\n",
    "train[train['ticket']=='CA. 2343'] # 일부 정보만 있음 # 발권만 해놓고 타지 않은 사람 존재"
   ]
  },
  {
   "cell_type": "code",
   "execution_count": 66,
   "id": "4a75f332-0f4f-4d9f-bcad-1bb438c3819c",
   "metadata": {
    "tags": []
   },
   "outputs": [
    {
     "data": {
      "text/plain": [
       "family  survived\n",
       "1       0           374\n",
       "        1           163\n",
       "2       0            72\n",
       "        1            89\n",
       "3       0            43\n",
       "        1            59\n",
       "4       0             8\n",
       "        1            21\n",
       "5       0            12\n",
       "        1             3\n",
       "6       0            19\n",
       "        1             3\n",
       "7       0             8\n",
       "        1             4\n",
       "8       0             6\n",
       "11      0             7\n",
       "dtype: int64"
      ]
     },
     "execution_count": 66,
     "metadata": {},
     "output_type": "execute_result"
    }
   ],
   "source": [
    "# 동행자 수와 생존 여부와의 연관성?\n",
    "train[['family','survived']].value_counts().sort_index()"
   ]
  },
  {
   "cell_type": "code",
   "execution_count": 67,
   "id": "34a9a95b-a899-418d-bade-2a7546fcb4a1",
   "metadata": {
    "tags": []
   },
   "outputs": [
    {
     "data": {
      "text/html": [
       "<div>\n",
       "<style scoped>\n",
       "    .dataframe tbody tr th:only-of-type {\n",
       "        vertical-align: middle;\n",
       "    }\n",
       "\n",
       "    .dataframe tbody tr th {\n",
       "        vertical-align: top;\n",
       "    }\n",
       "\n",
       "    .dataframe thead th {\n",
       "        text-align: right;\n",
       "    }\n",
       "</style>\n",
       "<table border=\"1\" class=\"dataframe\">\n",
       "  <thead>\n",
       "    <tr style=\"text-align: right;\">\n",
       "      <th></th>\n",
       "      <th>family</th>\n",
       "      <th>1</th>\n",
       "      <th>2</th>\n",
       "      <th>3</th>\n",
       "      <th>4</th>\n",
       "      <th>5</th>\n",
       "      <th>6</th>\n",
       "      <th>7</th>\n",
       "      <th>8</th>\n",
       "      <th>11</th>\n",
       "    </tr>\n",
       "    <tr>\n",
       "      <th>pclass</th>\n",
       "      <th>survived</th>\n",
       "      <th></th>\n",
       "      <th></th>\n",
       "      <th></th>\n",
       "      <th></th>\n",
       "      <th></th>\n",
       "      <th></th>\n",
       "      <th></th>\n",
       "      <th></th>\n",
       "      <th></th>\n",
       "    </tr>\n",
       "  </thead>\n",
       "  <tbody>\n",
       "    <tr>\n",
       "      <th rowspan=\"2\" valign=\"top\">1</th>\n",
       "      <th>0</th>\n",
       "      <td>51</td>\n",
       "      <td>19</td>\n",
       "      <td>6</td>\n",
       "      <td>2</td>\n",
       "      <td>0</td>\n",
       "      <td>2</td>\n",
       "      <td>0</td>\n",
       "      <td>0</td>\n",
       "      <td>0</td>\n",
       "    </tr>\n",
       "    <tr>\n",
       "      <th>1</th>\n",
       "      <td>58</td>\n",
       "      <td>51</td>\n",
       "      <td>18</td>\n",
       "      <td>5</td>\n",
       "      <td>2</td>\n",
       "      <td>2</td>\n",
       "      <td>0</td>\n",
       "      <td>0</td>\n",
       "      <td>0</td>\n",
       "    </tr>\n",
       "    <tr>\n",
       "      <th rowspan=\"2\" valign=\"top\">2</th>\n",
       "      <th>0</th>\n",
       "      <td>68</td>\n",
       "      <td>16</td>\n",
       "      <td>10</td>\n",
       "      <td>3</td>\n",
       "      <td>0</td>\n",
       "      <td>0</td>\n",
       "      <td>0</td>\n",
       "      <td>0</td>\n",
       "      <td>0</td>\n",
       "    </tr>\n",
       "    <tr>\n",
       "      <th>1</th>\n",
       "      <td>36</td>\n",
       "      <td>18</td>\n",
       "      <td>21</td>\n",
       "      <td>10</td>\n",
       "      <td>1</td>\n",
       "      <td>1</td>\n",
       "      <td>0</td>\n",
       "      <td>0</td>\n",
       "      <td>0</td>\n",
       "    </tr>\n",
       "    <tr>\n",
       "      <th rowspan=\"2\" valign=\"top\">3</th>\n",
       "      <th>0</th>\n",
       "      <td>255</td>\n",
       "      <td>37</td>\n",
       "      <td>27</td>\n",
       "      <td>3</td>\n",
       "      <td>12</td>\n",
       "      <td>17</td>\n",
       "      <td>8</td>\n",
       "      <td>6</td>\n",
       "      <td>7</td>\n",
       "    </tr>\n",
       "    <tr>\n",
       "      <th>1</th>\n",
       "      <td>69</td>\n",
       "      <td>20</td>\n",
       "      <td>20</td>\n",
       "      <td>6</td>\n",
       "      <td>0</td>\n",
       "      <td>0</td>\n",
       "      <td>4</td>\n",
       "      <td>0</td>\n",
       "      <td>0</td>\n",
       "    </tr>\n",
       "  </tbody>\n",
       "</table>\n",
       "</div>"
      ],
      "text/plain": [
       "family            1   2   3   4   5   6   7   8   11\n",
       "pclass survived                                     \n",
       "1      0          51  19   6   2   0   2   0   0   0\n",
       "       1          58  51  18   5   2   2   0   0   0\n",
       "2      0          68  16  10   3   0   0   0   0   0\n",
       "       1          36  18  21  10   1   1   0   0   0\n",
       "3      0         255  37  27   3  12  17   8   6   7\n",
       "       1          69  20  20   6   0   0   4   0   0"
      ]
     },
     "execution_count": 67,
     "metadata": {},
     "output_type": "execute_result"
    }
   ],
   "source": [
    "# 11명의 가족 3등급칸에 탑승... 3등급칸이기 때문에 사망?\n",
    "# 3등급에 가족을 조금 데리고 타면 생존 확률이 높은가? \n",
    "# 등급에 상관 없이 보통 2-3인체제일 경우 생존 확률 높음\n",
    "pd.crosstab(index=[train['pclass'],train['survived']]\n",
    "            , columns = train['family']\n",
    "           )"
   ]
  },
  {
   "cell_type": "code",
   "execution_count": 68,
   "id": "04278947-f92b-426f-8646-f941f5400464",
   "metadata": {
    "tags": []
   },
   "outputs": [
    {
     "data": {
      "text/html": [
       "<div>\n",
       "<style scoped>\n",
       "    .dataframe tbody tr th:only-of-type {\n",
       "        vertical-align: middle;\n",
       "    }\n",
       "\n",
       "    .dataframe tbody tr th {\n",
       "        vertical-align: top;\n",
       "    }\n",
       "\n",
       "    .dataframe thead th {\n",
       "        text-align: right;\n",
       "    }\n",
       "</style>\n",
       "<table border=\"1\" class=\"dataframe\">\n",
       "  <thead>\n",
       "    <tr style=\"text-align: right;\">\n",
       "      <th></th>\n",
       "      <th>survived</th>\n",
       "      <th>pclass</th>\n",
       "      <th>sex</th>\n",
       "      <th>age</th>\n",
       "      <th>sibsp</th>\n",
       "      <th>parch</th>\n",
       "      <th>ticket</th>\n",
       "      <th>fare</th>\n",
       "      <th>cabin</th>\n",
       "      <th>embarked</th>\n",
       "      <th>cabin2</th>\n",
       "      <th>name_title2</th>\n",
       "      <th>age2</th>\n",
       "      <th>age_gugan</th>\n",
       "      <th>family</th>\n",
       "    </tr>\n",
       "  </thead>\n",
       "  <tbody>\n",
       "    <tr>\n",
       "      <th>8</th>\n",
       "      <td>1</td>\n",
       "      <td>3</td>\n",
       "      <td>female</td>\n",
       "      <td>27.0</td>\n",
       "      <td>0</td>\n",
       "      <td>2</td>\n",
       "      <td>347742</td>\n",
       "      <td>11.1333</td>\n",
       "      <td>NaN</td>\n",
       "      <td>S</td>\n",
       "      <td>NaN</td>\n",
       "      <td>Mrs.</td>\n",
       "      <td>27.000000</td>\n",
       "      <td>2</td>\n",
       "      <td>3</td>\n",
       "    </tr>\n",
       "    <tr>\n",
       "      <th>10</th>\n",
       "      <td>1</td>\n",
       "      <td>3</td>\n",
       "      <td>female</td>\n",
       "      <td>4.0</td>\n",
       "      <td>1</td>\n",
       "      <td>1</td>\n",
       "      <td>PP 9549</td>\n",
       "      <td>16.7000</td>\n",
       "      <td>G6</td>\n",
       "      <td>S</td>\n",
       "      <td>G</td>\n",
       "      <td>Miss.</td>\n",
       "      <td>4.000000</td>\n",
       "      <td>0</td>\n",
       "      <td>3</td>\n",
       "    </tr>\n",
       "    <tr>\n",
       "      <th>38</th>\n",
       "      <td>0</td>\n",
       "      <td>3</td>\n",
       "      <td>female</td>\n",
       "      <td>18.0</td>\n",
       "      <td>2</td>\n",
       "      <td>0</td>\n",
       "      <td>345764</td>\n",
       "      <td>18.0000</td>\n",
       "      <td>NaN</td>\n",
       "      <td>S</td>\n",
       "      <td>NaN</td>\n",
       "      <td>Miss.</td>\n",
       "      <td>18.000000</td>\n",
       "      <td>1</td>\n",
       "      <td>3</td>\n",
       "    </tr>\n",
       "    <tr>\n",
       "      <th>48</th>\n",
       "      <td>0</td>\n",
       "      <td>3</td>\n",
       "      <td>male</td>\n",
       "      <td>NaN</td>\n",
       "      <td>2</td>\n",
       "      <td>0</td>\n",
       "      <td>2662</td>\n",
       "      <td>21.6792</td>\n",
       "      <td>NaN</td>\n",
       "      <td>C</td>\n",
       "      <td>NaN</td>\n",
       "      <td>Mr.</td>\n",
       "      <td>32.891990</td>\n",
       "      <td>3</td>\n",
       "      <td>3</td>\n",
       "    </tr>\n",
       "    <tr>\n",
       "      <th>65</th>\n",
       "      <td>1</td>\n",
       "      <td>3</td>\n",
       "      <td>male</td>\n",
       "      <td>NaN</td>\n",
       "      <td>1</td>\n",
       "      <td>1</td>\n",
       "      <td>2661</td>\n",
       "      <td>15.2458</td>\n",
       "      <td>NaN</td>\n",
       "      <td>C</td>\n",
       "      <td>NaN</td>\n",
       "      <td>Master.</td>\n",
       "      <td>4.574167</td>\n",
       "      <td>0</td>\n",
       "      <td>3</td>\n",
       "    </tr>\n",
       "  </tbody>\n",
       "</table>\n",
       "</div>"
      ],
      "text/plain": [
       "    survived  pclass     sex   age  sibsp  parch   ticket     fare cabin  \\\n",
       "8          1       3  female  27.0      0      2   347742  11.1333   NaN   \n",
       "10         1       3  female   4.0      1      1  PP 9549  16.7000    G6   \n",
       "38         0       3  female  18.0      2      0   345764  18.0000   NaN   \n",
       "48         0       3    male   NaN      2      0     2662  21.6792   NaN   \n",
       "65         1       3    male   NaN      1      1     2661  15.2458   NaN   \n",
       "\n",
       "   embarked cabin2 name_title2       age2  age_gugan  family  \n",
       "8         S    NaN        Mrs.  27.000000          2       3  \n",
       "10        S      G       Miss.   4.000000          0       3  \n",
       "38        S    NaN       Miss.  18.000000          1       3  \n",
       "48        C    NaN         Mr.  32.891990          3       3  \n",
       "65        C    NaN     Master.   4.574167          0       3  "
      ]
     },
     "execution_count": 68,
     "metadata": {},
     "output_type": "execute_result"
    }
   ],
   "source": [
    "train[train['family']==3].head() # 형제가 있거나, 자녀가 있는경우"
   ]
  },
  {
   "cell_type": "markdown",
   "id": "c3461611-7cde-40bb-a4dc-ec44eb3ce374",
   "metadata": {},
   "source": [
    "## 5.8 fare per family\n",
    "- 두당요금 : ticket, (sibsp, parch) ,fate, pclass 관계"
   ]
  },
  {
   "cell_type": "code",
   "execution_count": 69,
   "id": "811d71a3-51a1-439c-96c8-7b94a4512268",
   "metadata": {
    "tags": []
   },
   "outputs": [
    {
     "data": {
      "text/html": [
       "<div>\n",
       "<style scoped>\n",
       "    .dataframe tbody tr th:only-of-type {\n",
       "        vertical-align: middle;\n",
       "    }\n",
       "\n",
       "    .dataframe tbody tr th {\n",
       "        vertical-align: top;\n",
       "    }\n",
       "\n",
       "    .dataframe thead th {\n",
       "        text-align: right;\n",
       "    }\n",
       "</style>\n",
       "<table border=\"1\" class=\"dataframe\">\n",
       "  <thead>\n",
       "    <tr style=\"text-align: right;\">\n",
       "      <th></th>\n",
       "      <th>survived</th>\n",
       "      <th>pclass</th>\n",
       "      <th>sex</th>\n",
       "      <th>age</th>\n",
       "      <th>sibsp</th>\n",
       "      <th>parch</th>\n",
       "      <th>ticket</th>\n",
       "      <th>fare</th>\n",
       "      <th>cabin</th>\n",
       "      <th>embarked</th>\n",
       "      <th>cabin2</th>\n",
       "      <th>name_title2</th>\n",
       "      <th>age2</th>\n",
       "      <th>age_gugan</th>\n",
       "      <th>family</th>\n",
       "      <th>fare2</th>\n",
       "    </tr>\n",
       "  </thead>\n",
       "  <tbody>\n",
       "    <tr>\n",
       "      <th>0</th>\n",
       "      <td>0</td>\n",
       "      <td>3</td>\n",
       "      <td>male</td>\n",
       "      <td>22.0</td>\n",
       "      <td>1</td>\n",
       "      <td>0</td>\n",
       "      <td>A/5 21171</td>\n",
       "      <td>7.2500</td>\n",
       "      <td>NaN</td>\n",
       "      <td>S</td>\n",
       "      <td>NaN</td>\n",
       "      <td>Mr.</td>\n",
       "      <td>22.0</td>\n",
       "      <td>2</td>\n",
       "      <td>2</td>\n",
       "      <td>3.62500</td>\n",
       "    </tr>\n",
       "    <tr>\n",
       "      <th>1</th>\n",
       "      <td>1</td>\n",
       "      <td>1</td>\n",
       "      <td>female</td>\n",
       "      <td>38.0</td>\n",
       "      <td>1</td>\n",
       "      <td>0</td>\n",
       "      <td>PC 17599</td>\n",
       "      <td>71.2833</td>\n",
       "      <td>C85</td>\n",
       "      <td>C</td>\n",
       "      <td>C</td>\n",
       "      <td>Mrs.</td>\n",
       "      <td>38.0</td>\n",
       "      <td>3</td>\n",
       "      <td>2</td>\n",
       "      <td>35.64165</td>\n",
       "    </tr>\n",
       "    <tr>\n",
       "      <th>2</th>\n",
       "      <td>1</td>\n",
       "      <td>3</td>\n",
       "      <td>female</td>\n",
       "      <td>26.0</td>\n",
       "      <td>0</td>\n",
       "      <td>0</td>\n",
       "      <td>STON/O2. 3101282</td>\n",
       "      <td>7.9250</td>\n",
       "      <td>NaN</td>\n",
       "      <td>S</td>\n",
       "      <td>NaN</td>\n",
       "      <td>Miss.</td>\n",
       "      <td>26.0</td>\n",
       "      <td>2</td>\n",
       "      <td>1</td>\n",
       "      <td>7.92500</td>\n",
       "    </tr>\n",
       "    <tr>\n",
       "      <th>3</th>\n",
       "      <td>1</td>\n",
       "      <td>1</td>\n",
       "      <td>female</td>\n",
       "      <td>35.0</td>\n",
       "      <td>1</td>\n",
       "      <td>0</td>\n",
       "      <td>113803</td>\n",
       "      <td>53.1000</td>\n",
       "      <td>C123</td>\n",
       "      <td>S</td>\n",
       "      <td>C</td>\n",
       "      <td>Mrs.</td>\n",
       "      <td>35.0</td>\n",
       "      <td>3</td>\n",
       "      <td>2</td>\n",
       "      <td>26.55000</td>\n",
       "    </tr>\n",
       "    <tr>\n",
       "      <th>4</th>\n",
       "      <td>0</td>\n",
       "      <td>3</td>\n",
       "      <td>male</td>\n",
       "      <td>35.0</td>\n",
       "      <td>0</td>\n",
       "      <td>0</td>\n",
       "      <td>373450</td>\n",
       "      <td>8.0500</td>\n",
       "      <td>NaN</td>\n",
       "      <td>S</td>\n",
       "      <td>NaN</td>\n",
       "      <td>Mr.</td>\n",
       "      <td>35.0</td>\n",
       "      <td>3</td>\n",
       "      <td>1</td>\n",
       "      <td>8.05000</td>\n",
       "    </tr>\n",
       "  </tbody>\n",
       "</table>\n",
       "</div>"
      ],
      "text/plain": [
       "   survived  pclass     sex   age  sibsp  parch            ticket     fare  \\\n",
       "0         0       3    male  22.0      1      0         A/5 21171   7.2500   \n",
       "1         1       1  female  38.0      1      0          PC 17599  71.2833   \n",
       "2         1       3  female  26.0      0      0  STON/O2. 3101282   7.9250   \n",
       "3         1       1  female  35.0      1      0            113803  53.1000   \n",
       "4         0       3    male  35.0      0      0            373450   8.0500   \n",
       "\n",
       "  cabin embarked cabin2 name_title2  age2  age_gugan  family     fare2  \n",
       "0   NaN        S    NaN         Mr.  22.0          2       2   3.62500  \n",
       "1   C85        C      C        Mrs.  38.0          3       2  35.64165  \n",
       "2   NaN        S    NaN       Miss.  26.0          2       1   7.92500  \n",
       "3  C123        S      C        Mrs.  35.0          3       2  26.55000  \n",
       "4   NaN        S    NaN         Mr.  35.0          3       1   8.05000  "
      ]
     },
     "execution_count": 69,
     "metadata": {},
     "output_type": "execute_result"
    }
   ],
   "source": [
    "train['fare2']= train['fare']/train['family']\n",
    "train.head()"
   ]
  },
  {
   "cell_type": "code",
   "execution_count": 70,
   "id": "190ad890-5118-47cf-8be8-a602bf743601",
   "metadata": {
    "tags": []
   },
   "outputs": [
    {
     "data": {
      "text/plain": [
       "(0.0, 512.3292)"
      ]
     },
     "execution_count": 70,
     "metadata": {},
     "output_type": "execute_result"
    }
   ],
   "source": [
    "train['fare2'].min() , train['fare2'].max() \n",
    "# 0원?\n",
    "# 요금을 많이냈을 수록 높은 등급에 탔을 가능성 높음 --> pclass 확인 가능하기 때문에 불필요"
   ]
  },
  {
   "cell_type": "code",
   "execution_count": 71,
   "id": "08641e93-26e3-4547-b588-a0a3defcdcfa",
   "metadata": {
    "tags": []
   },
   "outputs": [
    {
     "data": {
      "text/html": [
       "<div>\n",
       "<style scoped>\n",
       "    .dataframe tbody tr th:only-of-type {\n",
       "        vertical-align: middle;\n",
       "    }\n",
       "\n",
       "    .dataframe tbody tr th {\n",
       "        vertical-align: top;\n",
       "    }\n",
       "\n",
       "    .dataframe thead th {\n",
       "        text-align: right;\n",
       "    }\n",
       "</style>\n",
       "<table border=\"1\" class=\"dataframe\">\n",
       "  <thead>\n",
       "    <tr style=\"text-align: right;\">\n",
       "      <th></th>\n",
       "      <th>survived</th>\n",
       "      <th>pclass</th>\n",
       "      <th>sex</th>\n",
       "      <th>age</th>\n",
       "      <th>sibsp</th>\n",
       "      <th>parch</th>\n",
       "      <th>ticket</th>\n",
       "      <th>fare</th>\n",
       "      <th>cabin</th>\n",
       "      <th>embarked</th>\n",
       "      <th>cabin2</th>\n",
       "      <th>name_title2</th>\n",
       "      <th>age2</th>\n",
       "      <th>age_gugan</th>\n",
       "      <th>family</th>\n",
       "      <th>fare2</th>\n",
       "    </tr>\n",
       "  </thead>\n",
       "  <tbody>\n",
       "    <tr>\n",
       "      <th>179</th>\n",
       "      <td>0</td>\n",
       "      <td>3</td>\n",
       "      <td>male</td>\n",
       "      <td>36.0</td>\n",
       "      <td>0</td>\n",
       "      <td>0</td>\n",
       "      <td>LINE</td>\n",
       "      <td>0.0</td>\n",
       "      <td>NaN</td>\n",
       "      <td>S</td>\n",
       "      <td>NaN</td>\n",
       "      <td>Mr.</td>\n",
       "      <td>36.00000</td>\n",
       "      <td>3</td>\n",
       "      <td>1</td>\n",
       "      <td>0.0</td>\n",
       "    </tr>\n",
       "    <tr>\n",
       "      <th>263</th>\n",
       "      <td>0</td>\n",
       "      <td>1</td>\n",
       "      <td>male</td>\n",
       "      <td>40.0</td>\n",
       "      <td>0</td>\n",
       "      <td>0</td>\n",
       "      <td>112059</td>\n",
       "      <td>0.0</td>\n",
       "      <td>B94</td>\n",
       "      <td>S</td>\n",
       "      <td>B</td>\n",
       "      <td>Mr.</td>\n",
       "      <td>40.00000</td>\n",
       "      <td>4</td>\n",
       "      <td>1</td>\n",
       "      <td>0.0</td>\n",
       "    </tr>\n",
       "    <tr>\n",
       "      <th>271</th>\n",
       "      <td>1</td>\n",
       "      <td>3</td>\n",
       "      <td>male</td>\n",
       "      <td>25.0</td>\n",
       "      <td>0</td>\n",
       "      <td>0</td>\n",
       "      <td>LINE</td>\n",
       "      <td>0.0</td>\n",
       "      <td>NaN</td>\n",
       "      <td>S</td>\n",
       "      <td>NaN</td>\n",
       "      <td>Mr.</td>\n",
       "      <td>25.00000</td>\n",
       "      <td>2</td>\n",
       "      <td>1</td>\n",
       "      <td>0.0</td>\n",
       "    </tr>\n",
       "    <tr>\n",
       "      <th>277</th>\n",
       "      <td>0</td>\n",
       "      <td>2</td>\n",
       "      <td>male</td>\n",
       "      <td>NaN</td>\n",
       "      <td>0</td>\n",
       "      <td>0</td>\n",
       "      <td>239853</td>\n",
       "      <td>0.0</td>\n",
       "      <td>NaN</td>\n",
       "      <td>S</td>\n",
       "      <td>NaN</td>\n",
       "      <td>Mr.</td>\n",
       "      <td>32.89199</td>\n",
       "      <td>3</td>\n",
       "      <td>1</td>\n",
       "      <td>0.0</td>\n",
       "    </tr>\n",
       "    <tr>\n",
       "      <th>302</th>\n",
       "      <td>0</td>\n",
       "      <td>3</td>\n",
       "      <td>male</td>\n",
       "      <td>19.0</td>\n",
       "      <td>0</td>\n",
       "      <td>0</td>\n",
       "      <td>LINE</td>\n",
       "      <td>0.0</td>\n",
       "      <td>NaN</td>\n",
       "      <td>S</td>\n",
       "      <td>NaN</td>\n",
       "      <td>Mr.</td>\n",
       "      <td>19.00000</td>\n",
       "      <td>1</td>\n",
       "      <td>1</td>\n",
       "      <td>0.0</td>\n",
       "    </tr>\n",
       "    <tr>\n",
       "      <th>413</th>\n",
       "      <td>0</td>\n",
       "      <td>2</td>\n",
       "      <td>male</td>\n",
       "      <td>NaN</td>\n",
       "      <td>0</td>\n",
       "      <td>0</td>\n",
       "      <td>239853</td>\n",
       "      <td>0.0</td>\n",
       "      <td>NaN</td>\n",
       "      <td>S</td>\n",
       "      <td>NaN</td>\n",
       "      <td>Mr.</td>\n",
       "      <td>32.89199</td>\n",
       "      <td>3</td>\n",
       "      <td>1</td>\n",
       "      <td>0.0</td>\n",
       "    </tr>\n",
       "    <tr>\n",
       "      <th>466</th>\n",
       "      <td>0</td>\n",
       "      <td>2</td>\n",
       "      <td>male</td>\n",
       "      <td>NaN</td>\n",
       "      <td>0</td>\n",
       "      <td>0</td>\n",
       "      <td>239853</td>\n",
       "      <td>0.0</td>\n",
       "      <td>NaN</td>\n",
       "      <td>S</td>\n",
       "      <td>NaN</td>\n",
       "      <td>Mr.</td>\n",
       "      <td>32.89199</td>\n",
       "      <td>3</td>\n",
       "      <td>1</td>\n",
       "      <td>0.0</td>\n",
       "    </tr>\n",
       "    <tr>\n",
       "      <th>481</th>\n",
       "      <td>0</td>\n",
       "      <td>2</td>\n",
       "      <td>male</td>\n",
       "      <td>NaN</td>\n",
       "      <td>0</td>\n",
       "      <td>0</td>\n",
       "      <td>239854</td>\n",
       "      <td>0.0</td>\n",
       "      <td>NaN</td>\n",
       "      <td>S</td>\n",
       "      <td>NaN</td>\n",
       "      <td>Mr.</td>\n",
       "      <td>32.89199</td>\n",
       "      <td>3</td>\n",
       "      <td>1</td>\n",
       "      <td>0.0</td>\n",
       "    </tr>\n",
       "    <tr>\n",
       "      <th>597</th>\n",
       "      <td>0</td>\n",
       "      <td>3</td>\n",
       "      <td>male</td>\n",
       "      <td>49.0</td>\n",
       "      <td>0</td>\n",
       "      <td>0</td>\n",
       "      <td>LINE</td>\n",
       "      <td>0.0</td>\n",
       "      <td>NaN</td>\n",
       "      <td>S</td>\n",
       "      <td>NaN</td>\n",
       "      <td>Mr.</td>\n",
       "      <td>49.00000</td>\n",
       "      <td>4</td>\n",
       "      <td>1</td>\n",
       "      <td>0.0</td>\n",
       "    </tr>\n",
       "    <tr>\n",
       "      <th>633</th>\n",
       "      <td>0</td>\n",
       "      <td>1</td>\n",
       "      <td>male</td>\n",
       "      <td>NaN</td>\n",
       "      <td>0</td>\n",
       "      <td>0</td>\n",
       "      <td>112052</td>\n",
       "      <td>0.0</td>\n",
       "      <td>NaN</td>\n",
       "      <td>S</td>\n",
       "      <td>NaN</td>\n",
       "      <td>Mr.</td>\n",
       "      <td>32.89199</td>\n",
       "      <td>3</td>\n",
       "      <td>1</td>\n",
       "      <td>0.0</td>\n",
       "    </tr>\n",
       "    <tr>\n",
       "      <th>674</th>\n",
       "      <td>0</td>\n",
       "      <td>2</td>\n",
       "      <td>male</td>\n",
       "      <td>NaN</td>\n",
       "      <td>0</td>\n",
       "      <td>0</td>\n",
       "      <td>239856</td>\n",
       "      <td>0.0</td>\n",
       "      <td>NaN</td>\n",
       "      <td>S</td>\n",
       "      <td>NaN</td>\n",
       "      <td>Mr.</td>\n",
       "      <td>32.89199</td>\n",
       "      <td>3</td>\n",
       "      <td>1</td>\n",
       "      <td>0.0</td>\n",
       "    </tr>\n",
       "    <tr>\n",
       "      <th>732</th>\n",
       "      <td>0</td>\n",
       "      <td>2</td>\n",
       "      <td>male</td>\n",
       "      <td>NaN</td>\n",
       "      <td>0</td>\n",
       "      <td>0</td>\n",
       "      <td>239855</td>\n",
       "      <td>0.0</td>\n",
       "      <td>NaN</td>\n",
       "      <td>S</td>\n",
       "      <td>NaN</td>\n",
       "      <td>Mr.</td>\n",
       "      <td>32.89199</td>\n",
       "      <td>3</td>\n",
       "      <td>1</td>\n",
       "      <td>0.0</td>\n",
       "    </tr>\n",
       "    <tr>\n",
       "      <th>806</th>\n",
       "      <td>0</td>\n",
       "      <td>1</td>\n",
       "      <td>male</td>\n",
       "      <td>39.0</td>\n",
       "      <td>0</td>\n",
       "      <td>0</td>\n",
       "      <td>112050</td>\n",
       "      <td>0.0</td>\n",
       "      <td>A36</td>\n",
       "      <td>S</td>\n",
       "      <td>A</td>\n",
       "      <td>Mr.</td>\n",
       "      <td>39.00000</td>\n",
       "      <td>3</td>\n",
       "      <td>1</td>\n",
       "      <td>0.0</td>\n",
       "    </tr>\n",
       "    <tr>\n",
       "      <th>815</th>\n",
       "      <td>0</td>\n",
       "      <td>1</td>\n",
       "      <td>male</td>\n",
       "      <td>NaN</td>\n",
       "      <td>0</td>\n",
       "      <td>0</td>\n",
       "      <td>112058</td>\n",
       "      <td>0.0</td>\n",
       "      <td>B102</td>\n",
       "      <td>S</td>\n",
       "      <td>B</td>\n",
       "      <td>Mr.</td>\n",
       "      <td>32.89199</td>\n",
       "      <td>3</td>\n",
       "      <td>1</td>\n",
       "      <td>0.0</td>\n",
       "    </tr>\n",
       "    <tr>\n",
       "      <th>822</th>\n",
       "      <td>0</td>\n",
       "      <td>1</td>\n",
       "      <td>male</td>\n",
       "      <td>38.0</td>\n",
       "      <td>0</td>\n",
       "      <td>0</td>\n",
       "      <td>19972</td>\n",
       "      <td>0.0</td>\n",
       "      <td>NaN</td>\n",
       "      <td>S</td>\n",
       "      <td>NaN</td>\n",
       "      <td>Mr.</td>\n",
       "      <td>38.00000</td>\n",
       "      <td>3</td>\n",
       "      <td>1</td>\n",
       "      <td>0.0</td>\n",
       "    </tr>\n",
       "  </tbody>\n",
       "</table>\n",
       "</div>"
      ],
      "text/plain": [
       "     survived  pclass   sex   age  sibsp  parch  ticket  fare cabin embarked  \\\n",
       "179         0       3  male  36.0      0      0    LINE   0.0   NaN        S   \n",
       "263         0       1  male  40.0      0      0  112059   0.0   B94        S   \n",
       "271         1       3  male  25.0      0      0    LINE   0.0   NaN        S   \n",
       "277         0       2  male   NaN      0      0  239853   0.0   NaN        S   \n",
       "302         0       3  male  19.0      0      0    LINE   0.0   NaN        S   \n",
       "413         0       2  male   NaN      0      0  239853   0.0   NaN        S   \n",
       "466         0       2  male   NaN      0      0  239853   0.0   NaN        S   \n",
       "481         0       2  male   NaN      0      0  239854   0.0   NaN        S   \n",
       "597         0       3  male  49.0      0      0    LINE   0.0   NaN        S   \n",
       "633         0       1  male   NaN      0      0  112052   0.0   NaN        S   \n",
       "674         0       2  male   NaN      0      0  239856   0.0   NaN        S   \n",
       "732         0       2  male   NaN      0      0  239855   0.0   NaN        S   \n",
       "806         0       1  male  39.0      0      0  112050   0.0   A36        S   \n",
       "815         0       1  male   NaN      0      0  112058   0.0  B102        S   \n",
       "822         0       1  male  38.0      0      0   19972   0.0   NaN        S   \n",
       "\n",
       "    cabin2 name_title2      age2  age_gugan  family  fare2  \n",
       "179    NaN         Mr.  36.00000          3       1    0.0  \n",
       "263      B         Mr.  40.00000          4       1    0.0  \n",
       "271    NaN         Mr.  25.00000          2       1    0.0  \n",
       "277    NaN         Mr.  32.89199          3       1    0.0  \n",
       "302    NaN         Mr.  19.00000          1       1    0.0  \n",
       "413    NaN         Mr.  32.89199          3       1    0.0  \n",
       "466    NaN         Mr.  32.89199          3       1    0.0  \n",
       "481    NaN         Mr.  32.89199          3       1    0.0  \n",
       "597    NaN         Mr.  49.00000          4       1    0.0  \n",
       "633    NaN         Mr.  32.89199          3       1    0.0  \n",
       "674    NaN         Mr.  32.89199          3       1    0.0  \n",
       "732    NaN         Mr.  32.89199          3       1    0.0  \n",
       "806      A         Mr.  39.00000          3       1    0.0  \n",
       "815      B         Mr.  32.89199          3       1    0.0  \n",
       "822    NaN         Mr.  38.00000          3       1    0.0  "
      ]
     },
     "execution_count": 71,
     "metadata": {},
     "output_type": "execute_result"
    }
   ],
   "source": [
    "train[train['fare2']==0] # 승무원일 확률 높음 --> 대부분 사망"
   ]
  },
  {
   "cell_type": "code",
   "execution_count": 72,
   "id": "811816de-b46f-4e9f-84a6-4e949e3150ca",
   "metadata": {
    "tags": []
   },
   "outputs": [
    {
     "data": {
      "text/html": [
       "<div>\n",
       "<style scoped>\n",
       "    .dataframe tbody tr th:only-of-type {\n",
       "        vertical-align: middle;\n",
       "    }\n",
       "\n",
       "    .dataframe tbody tr th {\n",
       "        vertical-align: top;\n",
       "    }\n",
       "\n",
       "    .dataframe thead th {\n",
       "        text-align: right;\n",
       "    }\n",
       "</style>\n",
       "<table border=\"1\" class=\"dataframe\">\n",
       "  <thead>\n",
       "    <tr style=\"text-align: right;\">\n",
       "      <th></th>\n",
       "      <th>survived</th>\n",
       "      <th>pclass</th>\n",
       "      <th>sex</th>\n",
       "      <th>age</th>\n",
       "      <th>sibsp</th>\n",
       "      <th>parch</th>\n",
       "      <th>ticket</th>\n",
       "      <th>fare</th>\n",
       "      <th>cabin</th>\n",
       "      <th>embarked</th>\n",
       "      <th>cabin2</th>\n",
       "      <th>name_title2</th>\n",
       "      <th>age2</th>\n",
       "      <th>age_gugan</th>\n",
       "      <th>family</th>\n",
       "      <th>fare2</th>\n",
       "    </tr>\n",
       "  </thead>\n",
       "  <tbody>\n",
       "    <tr>\n",
       "      <th>258</th>\n",
       "      <td>1</td>\n",
       "      <td>1</td>\n",
       "      <td>female</td>\n",
       "      <td>35.0</td>\n",
       "      <td>0</td>\n",
       "      <td>0</td>\n",
       "      <td>PC 17755</td>\n",
       "      <td>512.3292</td>\n",
       "      <td>NaN</td>\n",
       "      <td>C</td>\n",
       "      <td>NaN</td>\n",
       "      <td>Miss.</td>\n",
       "      <td>35.0</td>\n",
       "      <td>3</td>\n",
       "      <td>1</td>\n",
       "      <td>512.3292</td>\n",
       "    </tr>\n",
       "    <tr>\n",
       "      <th>737</th>\n",
       "      <td>1</td>\n",
       "      <td>1</td>\n",
       "      <td>male</td>\n",
       "      <td>35.0</td>\n",
       "      <td>0</td>\n",
       "      <td>0</td>\n",
       "      <td>PC 17755</td>\n",
       "      <td>512.3292</td>\n",
       "      <td>B101</td>\n",
       "      <td>C</td>\n",
       "      <td>B</td>\n",
       "      <td>Mr.</td>\n",
       "      <td>35.0</td>\n",
       "      <td>3</td>\n",
       "      <td>1</td>\n",
       "      <td>512.3292</td>\n",
       "    </tr>\n",
       "  </tbody>\n",
       "</table>\n",
       "</div>"
      ],
      "text/plain": [
       "     survived  pclass     sex   age  sibsp  parch    ticket      fare cabin  \\\n",
       "258         1       1  female  35.0      0      0  PC 17755  512.3292   NaN   \n",
       "737         1       1    male  35.0      0      0  PC 17755  512.3292  B101   \n",
       "\n",
       "    embarked cabin2 name_title2  age2  age_gugan  family     fare2  \n",
       "258        C    NaN       Miss.  35.0          3       1  512.3292  \n",
       "737        C      B         Mr.  35.0          3       1  512.3292  "
      ]
     },
     "execution_count": 72,
     "metadata": {},
     "output_type": "execute_result"
    }
   ],
   "source": [
    "train[train['fare2']==train['fare2'].max()] "
   ]
  },
  {
   "cell_type": "markdown",
   "id": "2df4b069-83e7-4ccd-9b8c-b236ccfdbebb",
   "metadata": {},
   "source": [
    "## 5.9 삭제 컬럼\n",
    "- passengerid : all unique\n",
    "- 파생 피쳐 생성으로 인한 불필요 컬럼 : \n",
    "    - 'age' -- > 'age2'(결측처리) --> 'age_gugan' \n",
    "    - 'sibsp', 'parch' --> 'family'\n",
    "    - 'ticket', 'cabin', 'embarked'\n",
    "    - 'name' --> 'name_title'(호칭) -->'name_title2'(5개로 호칭 통일)\n",
    "    - 'fare' --> 'fare2'(두당 요금)"
   ]
  },
  {
   "cell_type": "markdown",
   "id": "1ae1520b-47cd-4d2f-b807-68d15f9ffe70",
   "metadata": {},
   "source": [
    "- 불필요컬럼삭제 or 필요한 컬럼만 복제"
   ]
  },
  {
   "cell_type": "code",
   "execution_count": 73,
   "id": "fa7d8cad-7950-4388-8984-96dbb31ec28d",
   "metadata": {
    "tags": []
   },
   "outputs": [
    {
     "data": {
      "text/plain": [
       "Index(['survived', 'pclass', 'sex', 'age', 'sibsp', 'parch', 'ticket', 'fare',\n",
       "       'cabin', 'embarked', 'cabin2', 'name_title2', 'age2', 'age_gugan',\n",
       "       'family', 'fare2'],\n",
       "      dtype='object')"
      ]
     },
     "execution_count": 73,
     "metadata": {},
     "output_type": "execute_result"
    }
   ],
   "source": [
    "train.columns"
   ]
  },
  {
   "cell_type": "code",
   "execution_count": 74,
   "id": "80da3432-76d1-457d-b7ed-60d7208c29bb",
   "metadata": {
    "tags": []
   },
   "outputs": [
    {
     "data": {
      "text/html": [
       "<div>\n",
       "<style scoped>\n",
       "    .dataframe tbody tr th:only-of-type {\n",
       "        vertical-align: middle;\n",
       "    }\n",
       "\n",
       "    .dataframe tbody tr th {\n",
       "        vertical-align: top;\n",
       "    }\n",
       "\n",
       "    .dataframe thead th {\n",
       "        text-align: right;\n",
       "    }\n",
       "</style>\n",
       "<table border=\"1\" class=\"dataframe\">\n",
       "  <thead>\n",
       "    <tr style=\"text-align: right;\">\n",
       "      <th></th>\n",
       "      <th>survived</th>\n",
       "      <th>pclass</th>\n",
       "      <th>sex</th>\n",
       "      <th>age2</th>\n",
       "      <th>age_gugan</th>\n",
       "      <th>name_title2</th>\n",
       "      <th>family</th>\n",
       "      <th>age</th>\n",
       "    </tr>\n",
       "  </thead>\n",
       "  <tbody>\n",
       "    <tr>\n",
       "      <th>0</th>\n",
       "      <td>0</td>\n",
       "      <td>3</td>\n",
       "      <td>male</td>\n",
       "      <td>22.0</td>\n",
       "      <td>2</td>\n",
       "      <td>Mr.</td>\n",
       "      <td>2</td>\n",
       "      <td>22.0</td>\n",
       "    </tr>\n",
       "    <tr>\n",
       "      <th>1</th>\n",
       "      <td>1</td>\n",
       "      <td>1</td>\n",
       "      <td>female</td>\n",
       "      <td>38.0</td>\n",
       "      <td>3</td>\n",
       "      <td>Mrs.</td>\n",
       "      <td>2</td>\n",
       "      <td>38.0</td>\n",
       "    </tr>\n",
       "    <tr>\n",
       "      <th>2</th>\n",
       "      <td>1</td>\n",
       "      <td>3</td>\n",
       "      <td>female</td>\n",
       "      <td>26.0</td>\n",
       "      <td>2</td>\n",
       "      <td>Miss.</td>\n",
       "      <td>1</td>\n",
       "      <td>26.0</td>\n",
       "    </tr>\n",
       "    <tr>\n",
       "      <th>3</th>\n",
       "      <td>1</td>\n",
       "      <td>1</td>\n",
       "      <td>female</td>\n",
       "      <td>35.0</td>\n",
       "      <td>3</td>\n",
       "      <td>Mrs.</td>\n",
       "      <td>2</td>\n",
       "      <td>35.0</td>\n",
       "    </tr>\n",
       "    <tr>\n",
       "      <th>4</th>\n",
       "      <td>0</td>\n",
       "      <td>3</td>\n",
       "      <td>male</td>\n",
       "      <td>35.0</td>\n",
       "      <td>3</td>\n",
       "      <td>Mr.</td>\n",
       "      <td>1</td>\n",
       "      <td>35.0</td>\n",
       "    </tr>\n",
       "  </tbody>\n",
       "</table>\n",
       "</div>"
      ],
      "text/plain": [
       "   survived  pclass     sex  age2  age_gugan name_title2  family   age\n",
       "0         0       3    male  22.0          2         Mr.       2  22.0\n",
       "1         1       1  female  38.0          3        Mrs.       2  38.0\n",
       "2         1       3  female  26.0          2       Miss.       1  26.0\n",
       "3         1       1  female  35.0          3        Mrs.       2  35.0\n",
       "4         0       3    male  35.0          3         Mr.       1  35.0"
      ]
     },
     "execution_count": 74,
     "metadata": {},
     "output_type": "execute_result"
    }
   ],
   "source": [
    "train= train[['survived', 'pclass', 'sex','age2', 'age_gugan', 'name_title2', 'family','age']].copy()\n",
    "train.head()"
   ]
  },
  {
   "cell_type": "code",
   "execution_count": 75,
   "id": "f1a860c0-7a91-48e6-916f-df226135b4d9",
   "metadata": {
    "tags": []
   },
   "outputs": [
    {
     "name": "stdout",
     "output_type": "stream",
     "text": [
      "<class 'pandas.core.frame.DataFrame'>\n",
      "RangeIndex: 891 entries, 0 to 890\n",
      "Data columns (total 8 columns):\n",
      " #   Column       Non-Null Count  Dtype  \n",
      "---  ------       --------------  -----  \n",
      " 0   survived     891 non-null    int64  \n",
      " 1   pclass       891 non-null    int64  \n",
      " 2   sex          891 non-null    object \n",
      " 3   age2         891 non-null    float64\n",
      " 4   age_gugan    891 non-null    int32  \n",
      " 5   name_title2  891 non-null    object \n",
      " 6   family       891 non-null    int64  \n",
      " 7   age          714 non-null    float64\n",
      "dtypes: float64(2), int32(1), int64(3), object(2)\n",
      "memory usage: 52.3+ KB\n"
     ]
    }
   ],
   "source": [
    "train.info()"
   ]
  },
  {
   "cell_type": "markdown",
   "id": "25b9b24f-d79e-4567-a3f5-2f3f06cd9c53",
   "metadata": {},
   "source": [
    "## + 피쳐 값 변경\n",
    "1) df.replace('A','B', inplace=True)\n",
    "2) df.map({'A':'B'})\n",
    "3) df.apply(lambda)"
   ]
  },
  {
   "cell_type": "markdown",
   "id": "4d471af2-b112-4287-a15d-355587cf1014",
   "metadata": {},
   "source": [
    "### 1. replace()"
   ]
  },
  {
   "cell_type": "code",
   "execution_count": 76,
   "id": "c682bac9-36e0-4786-a6fb-d39a347de33a",
   "metadata": {
    "tags": []
   },
   "outputs": [
    {
     "data": {
      "text/html": [
       "<div>\n",
       "<style scoped>\n",
       "    .dataframe tbody tr th:only-of-type {\n",
       "        vertical-align: middle;\n",
       "    }\n",
       "\n",
       "    .dataframe tbody tr th {\n",
       "        vertical-align: top;\n",
       "    }\n",
       "\n",
       "    .dataframe thead th {\n",
       "        text-align: right;\n",
       "    }\n",
       "</style>\n",
       "<table border=\"1\" class=\"dataframe\">\n",
       "  <thead>\n",
       "    <tr style=\"text-align: right;\">\n",
       "      <th></th>\n",
       "      <th>survived</th>\n",
       "      <th>pclass</th>\n",
       "      <th>sex</th>\n",
       "      <th>age2</th>\n",
       "      <th>age_gugan</th>\n",
       "      <th>name_title2</th>\n",
       "      <th>family</th>\n",
       "      <th>age</th>\n",
       "    </tr>\n",
       "  </thead>\n",
       "  <tbody>\n",
       "    <tr>\n",
       "      <th>0</th>\n",
       "      <td>0</td>\n",
       "      <td>33</td>\n",
       "      <td>male</td>\n",
       "      <td>22.0</td>\n",
       "      <td>2</td>\n",
       "      <td>Mr.</td>\n",
       "      <td>2</td>\n",
       "      <td>22.0</td>\n",
       "    </tr>\n",
       "    <tr>\n",
       "      <th>1</th>\n",
       "      <td>1</td>\n",
       "      <td>11</td>\n",
       "      <td>female</td>\n",
       "      <td>38.0</td>\n",
       "      <td>3</td>\n",
       "      <td>Mrs.</td>\n",
       "      <td>2</td>\n",
       "      <td>38.0</td>\n",
       "    </tr>\n",
       "    <tr>\n",
       "      <th>2</th>\n",
       "      <td>1</td>\n",
       "      <td>33</td>\n",
       "      <td>female</td>\n",
       "      <td>26.0</td>\n",
       "      <td>2</td>\n",
       "      <td>Miss.</td>\n",
       "      <td>1</td>\n",
       "      <td>26.0</td>\n",
       "    </tr>\n",
       "    <tr>\n",
       "      <th>3</th>\n",
       "      <td>1</td>\n",
       "      <td>11</td>\n",
       "      <td>female</td>\n",
       "      <td>35.0</td>\n",
       "      <td>3</td>\n",
       "      <td>Mrs.</td>\n",
       "      <td>2</td>\n",
       "      <td>35.0</td>\n",
       "    </tr>\n",
       "    <tr>\n",
       "      <th>4</th>\n",
       "      <td>0</td>\n",
       "      <td>33</td>\n",
       "      <td>male</td>\n",
       "      <td>35.0</td>\n",
       "      <td>3</td>\n",
       "      <td>Mr.</td>\n",
       "      <td>1</td>\n",
       "      <td>35.0</td>\n",
       "    </tr>\n",
       "  </tbody>\n",
       "</table>\n",
       "</div>"
      ],
      "text/plain": [
       "   survived  pclass     sex  age2  age_gugan name_title2  family   age\n",
       "0         0      33    male  22.0          2         Mr.       2  22.0\n",
       "1         1      11  female  38.0          3        Mrs.       2  38.0\n",
       "2         1      33  female  26.0          2       Miss.       1  26.0\n",
       "3         1      11  female  35.0          3        Mrs.       2  35.0\n",
       "4         0      33    male  35.0          3         Mr.       1  35.0"
      ]
     },
     "execution_count": 76,
     "metadata": {},
     "output_type": "execute_result"
    }
   ],
   "source": [
    "traincp=train.copy()\n",
    "traincp['pclass'].replace(3,33, inplace=True)\n",
    "\n",
    "traincp['pclass'].replace([1,2,3],[11,22,33], inplace=True)\n",
    "traincp.head()"
   ]
  },
  {
   "cell_type": "markdown",
   "id": "4aed3194-dd11-48ed-b963-23e81039f2ff",
   "metadata": {},
   "source": [
    "### 2. map()"
   ]
  },
  {
   "cell_type": "code",
   "execution_count": 77,
   "id": "7352d21b-5aa3-4457-85d4-a76c2807c278",
   "metadata": {
    "tags": []
   },
   "outputs": [
    {
     "data": {
      "text/html": [
       "<div>\n",
       "<style scoped>\n",
       "    .dataframe tbody tr th:only-of-type {\n",
       "        vertical-align: middle;\n",
       "    }\n",
       "\n",
       "    .dataframe tbody tr th {\n",
       "        vertical-align: top;\n",
       "    }\n",
       "\n",
       "    .dataframe thead th {\n",
       "        text-align: right;\n",
       "    }\n",
       "</style>\n",
       "<table border=\"1\" class=\"dataframe\">\n",
       "  <thead>\n",
       "    <tr style=\"text-align: right;\">\n",
       "      <th></th>\n",
       "      <th>survived</th>\n",
       "      <th>pclass</th>\n",
       "      <th>sex</th>\n",
       "      <th>age2</th>\n",
       "      <th>age_gugan</th>\n",
       "      <th>name_title2</th>\n",
       "      <th>family</th>\n",
       "      <th>age</th>\n",
       "    </tr>\n",
       "  </thead>\n",
       "  <tbody>\n",
       "    <tr>\n",
       "      <th>0</th>\n",
       "      <td>0</td>\n",
       "      <td>33</td>\n",
       "      <td>1</td>\n",
       "      <td>22.0</td>\n",
       "      <td>2</td>\n",
       "      <td>Mr.</td>\n",
       "      <td>2</td>\n",
       "      <td>22.0</td>\n",
       "    </tr>\n",
       "    <tr>\n",
       "      <th>1</th>\n",
       "      <td>1</td>\n",
       "      <td>11</td>\n",
       "      <td>0</td>\n",
       "      <td>38.0</td>\n",
       "      <td>3</td>\n",
       "      <td>Mrs.</td>\n",
       "      <td>2</td>\n",
       "      <td>38.0</td>\n",
       "    </tr>\n",
       "    <tr>\n",
       "      <th>2</th>\n",
       "      <td>1</td>\n",
       "      <td>33</td>\n",
       "      <td>0</td>\n",
       "      <td>26.0</td>\n",
       "      <td>2</td>\n",
       "      <td>Miss.</td>\n",
       "      <td>1</td>\n",
       "      <td>26.0</td>\n",
       "    </tr>\n",
       "  </tbody>\n",
       "</table>\n",
       "</div>"
      ],
      "text/plain": [
       "   survived  pclass  sex  age2  age_gugan name_title2  family   age\n",
       "0         0      33    1  22.0          2         Mr.       2  22.0\n",
       "1         1      11    0  38.0          3        Mrs.       2  38.0\n",
       "2         1      33    0  26.0          2       Miss.       1  26.0"
      ]
     },
     "execution_count": 77,
     "metadata": {},
     "output_type": "execute_result"
    }
   ],
   "source": [
    "dic={\"male\":1,\"female\":0}\n",
    "traincp['sex']=traincp['sex'].map(dic)\n",
    "traincp.head(3)"
   ]
  },
  {
   "cell_type": "markdown",
   "id": "a629b1e4-c2a5-4ff2-9855-fe8aa0eb9346",
   "metadata": {},
   "source": [
    "### 3. apply(lambda)"
   ]
  },
  {
   "cell_type": "code",
   "execution_count": 78,
   "id": "fca4cbde-00ea-4c35-ba76-a69c954a49d4",
   "metadata": {
    "tags": []
   },
   "outputs": [
    {
     "data": {
      "text/html": [
       "<div>\n",
       "<style scoped>\n",
       "    .dataframe tbody tr th:only-of-type {\n",
       "        vertical-align: middle;\n",
       "    }\n",
       "\n",
       "    .dataframe tbody tr th {\n",
       "        vertical-align: top;\n",
       "    }\n",
       "\n",
       "    .dataframe thead th {\n",
       "        text-align: right;\n",
       "    }\n",
       "</style>\n",
       "<table border=\"1\" class=\"dataframe\">\n",
       "  <thead>\n",
       "    <tr style=\"text-align: right;\">\n",
       "      <th></th>\n",
       "      <th>survived</th>\n",
       "      <th>pclass</th>\n",
       "      <th>sex</th>\n",
       "      <th>age2</th>\n",
       "      <th>age_gugan</th>\n",
       "      <th>name_title2</th>\n",
       "      <th>family</th>\n",
       "      <th>age</th>\n",
       "    </tr>\n",
       "  </thead>\n",
       "  <tbody>\n",
       "    <tr>\n",
       "      <th>0</th>\n",
       "      <td>0</td>\n",
       "      <td>33</td>\n",
       "      <td>male</td>\n",
       "      <td>22.0</td>\n",
       "      <td>2</td>\n",
       "      <td>Mr.</td>\n",
       "      <td>2</td>\n",
       "      <td>22.0</td>\n",
       "    </tr>\n",
       "    <tr>\n",
       "      <th>1</th>\n",
       "      <td>1</td>\n",
       "      <td>11</td>\n",
       "      <td>female</td>\n",
       "      <td>38.0</td>\n",
       "      <td>3</td>\n",
       "      <td>Mrs.</td>\n",
       "      <td>2</td>\n",
       "      <td>38.0</td>\n",
       "    </tr>\n",
       "    <tr>\n",
       "      <th>2</th>\n",
       "      <td>1</td>\n",
       "      <td>33</td>\n",
       "      <td>female</td>\n",
       "      <td>26.0</td>\n",
       "      <td>2</td>\n",
       "      <td>Miss.</td>\n",
       "      <td>1</td>\n",
       "      <td>26.0</td>\n",
       "    </tr>\n",
       "    <tr>\n",
       "      <th>3</th>\n",
       "      <td>1</td>\n",
       "      <td>11</td>\n",
       "      <td>female</td>\n",
       "      <td>35.0</td>\n",
       "      <td>3</td>\n",
       "      <td>Mrs.</td>\n",
       "      <td>2</td>\n",
       "      <td>35.0</td>\n",
       "    </tr>\n",
       "    <tr>\n",
       "      <th>4</th>\n",
       "      <td>0</td>\n",
       "      <td>33</td>\n",
       "      <td>male</td>\n",
       "      <td>35.0</td>\n",
       "      <td>3</td>\n",
       "      <td>Mr.</td>\n",
       "      <td>1</td>\n",
       "      <td>35.0</td>\n",
       "    </tr>\n",
       "  </tbody>\n",
       "</table>\n",
       "</div>"
      ],
      "text/plain": [
       "   survived  pclass     sex  age2  age_gugan name_title2  family   age\n",
       "0         0      33    male  22.0          2         Mr.       2  22.0\n",
       "1         1      11  female  38.0          3        Mrs.       2  38.0\n",
       "2         1      33  female  26.0          2       Miss.       1  26.0\n",
       "3         1      11  female  35.0          3        Mrs.       2  35.0\n",
       "4         0      33    male  35.0          3         Mr.       1  35.0"
      ]
     },
     "execution_count": 78,
     "metadata": {},
     "output_type": "execute_result"
    }
   ],
   "source": [
    "traincp['sex']=traincp['sex'].apply(lambda x : 'male' if x==1 else 'female' )\n",
    "traincp.head()"
   ]
  },
  {
   "cell_type": "markdown",
   "id": "2925dd2f-8174-46ef-8d14-5f08c3b703ad",
   "metadata": {},
   "source": [
    "### 4. iloc(), loc()"
   ]
  },
  {
   "cell_type": "code",
   "execution_count": 79,
   "id": "1f706f54-5c0a-4622-92bb-b28966168ab5",
   "metadata": {
    "tags": []
   },
   "outputs": [],
   "source": [
    "del traincp"
   ]
  },
  {
   "cell_type": "markdown",
   "id": "2488b87e-c973-4df1-803e-526d96ad6c3a",
   "metadata": {},
   "source": [
    "## + 함수 일괄 적용"
   ]
  },
  {
   "cell_type": "markdown",
   "id": "3b7d0677-596c-4971-95c4-745f25a41a07",
   "metadata": {
    "tags": []
   },
   "source": [
    "ref : https://steadiness-193.tistory.com/42\n",
    "<pre>\n",
    "train.groupby('name_title2')['age'].mean().apply()\n",
    "train.groupby('name_title2')['age'].mean().transform()"
   ]
  },
  {
   "cell_type": "code",
   "execution_count": 80,
   "id": "cb7ac079-263e-4194-ac88-019f68844c9c",
   "metadata": {
    "tags": []
   },
   "outputs": [
    {
     "data": {
      "text/html": [
       "<div>\n",
       "<style scoped>\n",
       "    .dataframe tbody tr th:only-of-type {\n",
       "        vertical-align: middle;\n",
       "    }\n",
       "\n",
       "    .dataframe tbody tr th {\n",
       "        vertical-align: top;\n",
       "    }\n",
       "\n",
       "    .dataframe thead th {\n",
       "        text-align: right;\n",
       "    }\n",
       "</style>\n",
       "<table border=\"1\" class=\"dataframe\">\n",
       "  <thead>\n",
       "    <tr style=\"text-align: right;\">\n",
       "      <th></th>\n",
       "      <th>empno</th>\n",
       "      <th>ename</th>\n",
       "      <th>job</th>\n",
       "      <th>mgr</th>\n",
       "      <th>hiredate</th>\n",
       "      <th>sal</th>\n",
       "      <th>comm</th>\n",
       "      <th>deptno</th>\n",
       "    </tr>\n",
       "  </thead>\n",
       "  <tbody>\n",
       "    <tr>\n",
       "      <th>0</th>\n",
       "      <td>7369</td>\n",
       "      <td>SMITH</td>\n",
       "      <td>CLERK</td>\n",
       "      <td>7902.0</td>\n",
       "      <td>1980-12-17 00:00:00</td>\n",
       "      <td>800</td>\n",
       "      <td>NaN</td>\n",
       "      <td>20</td>\n",
       "    </tr>\n",
       "    <tr>\n",
       "      <th>1</th>\n",
       "      <td>7499</td>\n",
       "      <td>ALLEN</td>\n",
       "      <td>SALESMAN</td>\n",
       "      <td>7698.0</td>\n",
       "      <td>1981-02-20 00:00:00</td>\n",
       "      <td>1600</td>\n",
       "      <td>300.0</td>\n",
       "      <td>30</td>\n",
       "    </tr>\n",
       "  </tbody>\n",
       "</table>\n",
       "</div>"
      ],
      "text/plain": [
       "   empno  ename       job     mgr             hiredate   sal   comm  deptno\n",
       "0   7369  SMITH     CLERK  7902.0  1980-12-17 00:00:00   800    NaN      20\n",
       "1   7499  ALLEN  SALESMAN  7698.0  1981-02-20 00:00:00  1600  300.0      30"
      ]
     },
     "execution_count": 80,
     "metadata": {},
     "output_type": "execute_result"
    }
   ],
   "source": [
    "emp= pd.read_csv(\"../lec08_emp.csv\")\n",
    "emp.columns=emp.columns.str.lower()\n",
    "emp.head(2)"
   ]
  },
  {
   "cell_type": "code",
   "execution_count": 81,
   "id": "e01b1890-0da8-4b7a-b03e-1bbd96137972",
   "metadata": {
    "tags": []
   },
   "outputs": [
    {
     "data": {
      "text/plain": [
       "deptno\n",
       "10    2916.666667\n",
       "20    2175.000000\n",
       "30    1566.666667\n",
       "Name: sal, dtype: float64"
      ]
     },
     "execution_count": 81,
     "metadata": {},
     "output_type": "execute_result"
    }
   ],
   "source": [
    "emp.groupby('deptno')['sal'].mean()"
   ]
  },
  {
   "cell_type": "code",
   "execution_count": 82,
   "id": "0173196e-cb58-49f7-8d7f-c012f71c3243",
   "metadata": {
    "tags": []
   },
   "outputs": [
    {
     "data": {
      "text/plain": [
       "6     2450\n",
       "8     5000\n",
       "13    1300\n",
       "Name: sal, dtype: int64"
      ]
     },
     "execution_count": 82,
     "metadata": {},
     "output_type": "execute_result"
    }
   ],
   "source": [
    "emp['sal'][emp['deptno']==10]"
   ]
  },
  {
   "cell_type": "code",
   "execution_count": 83,
   "id": "a096e920-5de2-416f-9d6a-fe6012568e73",
   "metadata": {
    "tags": []
   },
   "outputs": [
    {
     "data": {
      "text/html": [
       "<div>\n",
       "<style scoped>\n",
       "    .dataframe tbody tr th:only-of-type {\n",
       "        vertical-align: middle;\n",
       "    }\n",
       "\n",
       "    .dataframe tbody tr th {\n",
       "        vertical-align: top;\n",
       "    }\n",
       "\n",
       "    .dataframe thead th {\n",
       "        text-align: right;\n",
       "    }\n",
       "</style>\n",
       "<table border=\"1\" class=\"dataframe\">\n",
       "  <thead>\n",
       "    <tr style=\"text-align: right;\">\n",
       "      <th></th>\n",
       "      <th>empno</th>\n",
       "      <th>mgr</th>\n",
       "      <th>sal</th>\n",
       "      <th>comm</th>\n",
       "      <th>deptno</th>\n",
       "    </tr>\n",
       "    <tr>\n",
       "      <th>deptno</th>\n",
       "      <th></th>\n",
       "      <th></th>\n",
       "      <th></th>\n",
       "      <th></th>\n",
       "      <th></th>\n",
       "    </tr>\n",
       "  </thead>\n",
       "  <tbody>\n",
       "    <tr>\n",
       "      <th>10</th>\n",
       "      <td>7851.666667</td>\n",
       "      <td>7810.5</td>\n",
       "      <td>2916.666667</td>\n",
       "      <td>NaN</td>\n",
       "      <td>10.0</td>\n",
       "    </tr>\n",
       "    <tr>\n",
       "      <th>20</th>\n",
       "      <td>7700.200000</td>\n",
       "      <td>7732.2</td>\n",
       "      <td>2175.000000</td>\n",
       "      <td>NaN</td>\n",
       "      <td>20.0</td>\n",
       "    </tr>\n",
       "    <tr>\n",
       "      <th>30</th>\n",
       "      <td>7686.000000</td>\n",
       "      <td>7721.5</td>\n",
       "      <td>1566.666667</td>\n",
       "      <td>550.0</td>\n",
       "      <td>30.0</td>\n",
       "    </tr>\n",
       "  </tbody>\n",
       "</table>\n",
       "</div>"
      ],
      "text/plain": [
       "              empno     mgr          sal   comm  deptno\n",
       "deptno                                                 \n",
       "10      7851.666667  7810.5  2916.666667    NaN    10.0\n",
       "20      7700.200000  7732.2  2175.000000    NaN    20.0\n",
       "30      7686.000000  7721.5  1566.666667  550.0    30.0"
      ]
     },
     "execution_count": 83,
     "metadata": {},
     "output_type": "execute_result"
    }
   ],
   "source": [
    "# apply 그룹한 결과 반환\n",
    "#연산이 안되는 컬럼이 있으면 에러\n",
    "emp.groupby('deptno').apply(np.mean)\n",
    "#emp.groupby('deptno')['sal'].apply(np.mean)"
   ]
  },
  {
   "cell_type": "code",
   "execution_count": 84,
   "id": "cb8e2cde-d477-4fee-8e78-34f227e8642f",
   "metadata": {
    "tags": []
   },
   "outputs": [
    {
     "data": {
      "text/html": [
       "<div>\n",
       "<style scoped>\n",
       "    .dataframe tbody tr th:only-of-type {\n",
       "        vertical-align: middle;\n",
       "    }\n",
       "\n",
       "    .dataframe tbody tr th {\n",
       "        vertical-align: top;\n",
       "    }\n",
       "\n",
       "    .dataframe thead th {\n",
       "        text-align: right;\n",
       "    }\n",
       "</style>\n",
       "<table border=\"1\" class=\"dataframe\">\n",
       "  <thead>\n",
       "    <tr style=\"text-align: right;\">\n",
       "      <th></th>\n",
       "      <th>empno</th>\n",
       "      <th>mgr</th>\n",
       "      <th>sal</th>\n",
       "      <th>comm</th>\n",
       "    </tr>\n",
       "  </thead>\n",
       "  <tbody>\n",
       "    <tr>\n",
       "      <th>0</th>\n",
       "      <td>7700.200000</td>\n",
       "      <td>7732.2</td>\n",
       "      <td>2175.000000</td>\n",
       "      <td>NaN</td>\n",
       "    </tr>\n",
       "    <tr>\n",
       "      <th>1</th>\n",
       "      <td>7686.000000</td>\n",
       "      <td>7721.5</td>\n",
       "      <td>1566.666667</td>\n",
       "      <td>550.0</td>\n",
       "    </tr>\n",
       "    <tr>\n",
       "      <th>2</th>\n",
       "      <td>7686.000000</td>\n",
       "      <td>7721.5</td>\n",
       "      <td>1566.666667</td>\n",
       "      <td>550.0</td>\n",
       "    </tr>\n",
       "    <tr>\n",
       "      <th>3</th>\n",
       "      <td>7700.200000</td>\n",
       "      <td>7732.2</td>\n",
       "      <td>2175.000000</td>\n",
       "      <td>NaN</td>\n",
       "    </tr>\n",
       "    <tr>\n",
       "      <th>4</th>\n",
       "      <td>7686.000000</td>\n",
       "      <td>7721.5</td>\n",
       "      <td>1566.666667</td>\n",
       "      <td>550.0</td>\n",
       "    </tr>\n",
       "    <tr>\n",
       "      <th>5</th>\n",
       "      <td>7686.000000</td>\n",
       "      <td>7721.5</td>\n",
       "      <td>1566.666667</td>\n",
       "      <td>550.0</td>\n",
       "    </tr>\n",
       "    <tr>\n",
       "      <th>6</th>\n",
       "      <td>7851.666667</td>\n",
       "      <td>7810.5</td>\n",
       "      <td>2916.666667</td>\n",
       "      <td>NaN</td>\n",
       "    </tr>\n",
       "    <tr>\n",
       "      <th>7</th>\n",
       "      <td>7700.200000</td>\n",
       "      <td>7732.2</td>\n",
       "      <td>2175.000000</td>\n",
       "      <td>NaN</td>\n",
       "    </tr>\n",
       "    <tr>\n",
       "      <th>8</th>\n",
       "      <td>7851.666667</td>\n",
       "      <td>7810.5</td>\n",
       "      <td>2916.666667</td>\n",
       "      <td>NaN</td>\n",
       "    </tr>\n",
       "    <tr>\n",
       "      <th>9</th>\n",
       "      <td>7686.000000</td>\n",
       "      <td>7721.5</td>\n",
       "      <td>1566.666667</td>\n",
       "      <td>550.0</td>\n",
       "    </tr>\n",
       "    <tr>\n",
       "      <th>10</th>\n",
       "      <td>7700.200000</td>\n",
       "      <td>7732.2</td>\n",
       "      <td>2175.000000</td>\n",
       "      <td>NaN</td>\n",
       "    </tr>\n",
       "    <tr>\n",
       "      <th>11</th>\n",
       "      <td>7686.000000</td>\n",
       "      <td>7721.5</td>\n",
       "      <td>1566.666667</td>\n",
       "      <td>550.0</td>\n",
       "    </tr>\n",
       "    <tr>\n",
       "      <th>12</th>\n",
       "      <td>7700.200000</td>\n",
       "      <td>7732.2</td>\n",
       "      <td>2175.000000</td>\n",
       "      <td>NaN</td>\n",
       "    </tr>\n",
       "    <tr>\n",
       "      <th>13</th>\n",
       "      <td>7851.666667</td>\n",
       "      <td>7810.5</td>\n",
       "      <td>2916.666667</td>\n",
       "      <td>NaN</td>\n",
       "    </tr>\n",
       "  </tbody>\n",
       "</table>\n",
       "</div>"
      ],
      "text/plain": [
       "          empno     mgr          sal   comm\n",
       "0   7700.200000  7732.2  2175.000000    NaN\n",
       "1   7686.000000  7721.5  1566.666667  550.0\n",
       "2   7686.000000  7721.5  1566.666667  550.0\n",
       "3   7700.200000  7732.2  2175.000000    NaN\n",
       "4   7686.000000  7721.5  1566.666667  550.0\n",
       "5   7686.000000  7721.5  1566.666667  550.0\n",
       "6   7851.666667  7810.5  2916.666667    NaN\n",
       "7   7700.200000  7732.2  2175.000000    NaN\n",
       "8   7851.666667  7810.5  2916.666667    NaN\n",
       "9   7686.000000  7721.5  1566.666667  550.0\n",
       "10  7700.200000  7732.2  2175.000000    NaN\n",
       "11  7686.000000  7721.5  1566.666667  550.0\n",
       "12  7700.200000  7732.2  2175.000000    NaN\n",
       "13  7851.666667  7810.5  2916.666667    NaN"
      ]
     },
     "execution_count": 84,
     "metadata": {},
     "output_type": "execute_result"
    }
   ],
   "source": [
    "# transform은 원본 유형 그대로를 유지  --> 추천\n",
    "emp.groupby('deptno').transform(\"mean\")\n",
    "#emp.groupby('deptno')['sal'].transform(np.mean)"
   ]
  },
  {
   "cell_type": "markdown",
   "id": "12b083b9-047d-4a71-9cd0-42a6266715e3",
   "metadata": {},
   "source": [
    "### 1. 컬럼명을 메서드 밖에서 명시 --> 결과 동일"
   ]
  },
  {
   "cell_type": "code",
   "execution_count": 85,
   "id": "8d69af69-2976-4840-a01f-088f3437e988",
   "metadata": {
    "tags": []
   },
   "outputs": [
    {
     "data": {
      "text/html": [
       "<div>\n",
       "<style scoped>\n",
       "    .dataframe tbody tr th:only-of-type {\n",
       "        vertical-align: middle;\n",
       "    }\n",
       "\n",
       "    .dataframe tbody tr th {\n",
       "        vertical-align: top;\n",
       "    }\n",
       "\n",
       "    .dataframe thead th {\n",
       "        text-align: right;\n",
       "    }\n",
       "</style>\n",
       "<table border=\"1\" class=\"dataframe\">\n",
       "  <thead>\n",
       "    <tr style=\"text-align: right;\">\n",
       "      <th></th>\n",
       "      <th>survived</th>\n",
       "      <th>pclass</th>\n",
       "      <th>sex</th>\n",
       "      <th>age2</th>\n",
       "      <th>age_gugan</th>\n",
       "      <th>name_title2</th>\n",
       "      <th>family</th>\n",
       "      <th>age</th>\n",
       "    </tr>\n",
       "  </thead>\n",
       "  <tbody>\n",
       "    <tr>\n",
       "      <th>0</th>\n",
       "      <td>0</td>\n",
       "      <td>3</td>\n",
       "      <td>male</td>\n",
       "      <td>22.0</td>\n",
       "      <td>2</td>\n",
       "      <td>Mr.</td>\n",
       "      <td>2</td>\n",
       "      <td>22.0</td>\n",
       "    </tr>\n",
       "    <tr>\n",
       "      <th>1</th>\n",
       "      <td>1</td>\n",
       "      <td>1</td>\n",
       "      <td>female</td>\n",
       "      <td>38.0</td>\n",
       "      <td>3</td>\n",
       "      <td>Mrs.</td>\n",
       "      <td>2</td>\n",
       "      <td>38.0</td>\n",
       "    </tr>\n",
       "  </tbody>\n",
       "</table>\n",
       "</div>"
      ],
      "text/plain": [
       "   survived  pclass     sex  age2  age_gugan name_title2  family   age\n",
       "0         0       3    male  22.0          2         Mr.       2  22.0\n",
       "1         1       1  female  38.0          3        Mrs.       2  38.0"
      ]
     },
     "execution_count": 85,
     "metadata": {},
     "output_type": "execute_result"
    }
   ],
   "source": [
    "traincp=train.copy()\n",
    "traincp.head(2)"
   ]
  },
  {
   "cell_type": "code",
   "execution_count": 86,
   "id": "cc49aee1-b068-4a18-ab74-d29acf7ace34",
   "metadata": {
    "tags": []
   },
   "outputs": [
    {
     "data": {
      "text/plain": [
       "name_title2     \n",
       "Dr.          245    43.0\n",
       "             317    53.0\n",
       "             398    22.0\n",
       "Name: age, dtype: float64"
      ]
     },
     "execution_count": 86,
     "metadata": {},
     "output_type": "execute_result"
    }
   ],
   "source": [
    "def age_minus(x):\n",
    "    return x-1\n",
    "\n",
    "traincp.groupby('name_title2',group_keys=True)['age'].apply(age_minus).head(3)"
   ]
  },
  {
   "cell_type": "code",
   "execution_count": 87,
   "id": "aa11ef56-6df3-46e6-9e22-33b240897cdc",
   "metadata": {
    "tags": []
   },
   "outputs": [
    {
     "data": {
      "text/plain": [
       "0    21.0\n",
       "1    37.0\n",
       "2    25.0\n",
       "Name: age, dtype: float64"
      ]
     },
     "execution_count": 87,
     "metadata": {},
     "output_type": "execute_result"
    }
   ],
   "source": [
    "# apply와 결과 다름...\n",
    "traincp.groupby('name_title2',group_keys=True)['age'].transform(age_minus).head(3)  "
   ]
  },
  {
   "cell_type": "markdown",
   "id": "d6ba2038-c293-4053-8358-5a302d82ce9e",
   "metadata": {},
   "source": [
    "### 2. 컬럼명 메소드 안에서 명시"
   ]
  },
  {
   "cell_type": "code",
   "execution_count": 88,
   "id": "829bc97b-fc9b-4b47-8e52-40aa3872281f",
   "metadata": {
    "tags": []
   },
   "outputs": [
    {
     "data": {
      "text/plain": [
       "name_title2     \n",
       "Dr.          245    43.0\n",
       "             317    53.0\n",
       "             398    22.0\n",
       "Name: age, dtype: float64"
      ]
     },
     "execution_count": 88,
     "metadata": {},
     "output_type": "execute_result"
    }
   ],
   "source": [
    "traincp.groupby('name_title2').apply(lambda gdf : age_minus(gdf['age'])).head(3)"
   ]
  },
  {
   "cell_type": "code",
   "execution_count": 89,
   "id": "a004b31b-fad2-4c8b-9026-9d0aa8867da3",
   "metadata": {},
   "outputs": [],
   "source": [
    "# transform 에러\n",
    "#traincp.groupby('name_title2').transform(lambda gdf : age_minus(gdf['age'])).head(3)"
   ]
  },
  {
   "cell_type": "markdown",
   "id": "5b851bcd-e6d3-4a48-bf3f-7ddb2c18571e",
   "metadata": {},
   "source": [
    "### 3. 컬럼명을 사용하지 않은 경우\n",
    "- 컬럼명 메서드 안과 밖에 모두 명시하지 않음"
   ]
  },
  {
   "cell_type": "code",
   "execution_count": 90,
   "id": "e9dfd837-0c43-4328-8937-9f6c0ca50da4",
   "metadata": {
    "tags": []
   },
   "outputs": [
    {
     "data": {
      "text/html": [
       "<div>\n",
       "<style scoped>\n",
       "    .dataframe tbody tr th:only-of-type {\n",
       "        vertical-align: middle;\n",
       "    }\n",
       "\n",
       "    .dataframe tbody tr th {\n",
       "        vertical-align: top;\n",
       "    }\n",
       "\n",
       "    .dataframe thead th {\n",
       "        text-align: right;\n",
       "    }\n",
       "</style>\n",
       "<table border=\"1\" class=\"dataframe\">\n",
       "  <thead>\n",
       "    <tr style=\"text-align: right;\">\n",
       "      <th></th>\n",
       "      <th>survived</th>\n",
       "      <th>pclass</th>\n",
       "      <th>age2</th>\n",
       "      <th>age_gugan</th>\n",
       "      <th>family</th>\n",
       "      <th>age</th>\n",
       "    </tr>\n",
       "  </thead>\n",
       "  <tbody>\n",
       "    <tr>\n",
       "      <th>0</th>\n",
       "      <td>-1</td>\n",
       "      <td>2</td>\n",
       "      <td>21.0</td>\n",
       "      <td>1</td>\n",
       "      <td>1</td>\n",
       "      <td>21.0</td>\n",
       "    </tr>\n",
       "    <tr>\n",
       "      <th>1</th>\n",
       "      <td>0</td>\n",
       "      <td>0</td>\n",
       "      <td>37.0</td>\n",
       "      <td>2</td>\n",
       "      <td>1</td>\n",
       "      <td>37.0</td>\n",
       "    </tr>\n",
       "    <tr>\n",
       "      <th>2</th>\n",
       "      <td>0</td>\n",
       "      <td>2</td>\n",
       "      <td>25.0</td>\n",
       "      <td>1</td>\n",
       "      <td>0</td>\n",
       "      <td>25.0</td>\n",
       "    </tr>\n",
       "  </tbody>\n",
       "</table>\n",
       "</div>"
      ],
      "text/plain": [
       "   survived  pclass  age2  age_gugan  family   age\n",
       "0        -1       2  21.0          1       1  21.0\n",
       "1         0       0  37.0          2       1  37.0\n",
       "2         0       2  25.0          1       0  25.0"
      ]
     },
     "execution_count": 90,
     "metadata": {},
     "output_type": "execute_result"
    }
   ],
   "source": [
    "#데이터프레임 전체를 대상으로 함수를 적용하면 : 연산이 되는 컬럼만 골라서 연산한다.\n",
    "def age_minus(x):\n",
    "    return x-1\n",
    "\n",
    "traincp.groupby('name_title2',group_keys=True).transform(age_minus).head(3)"
   ]
  },
  {
   "cell_type": "code",
   "execution_count": 91,
   "id": "9735e672-2ba3-4f3a-af16-1605b47e3bb7",
   "metadata": {
    "tags": []
   },
   "outputs": [],
   "source": [
    "# apply 에러 \n",
    "# -1 연산이 안되는 글자 컬럼들이 있기 때문\n",
    "#traincp.groupby('name_title2').apply(age_minus).head(3)  "
   ]
  },
  {
   "cell_type": "markdown",
   "id": "be69b850-db89-4e8d-b444-3e77a5bc58eb",
   "metadata": {},
   "source": [
    "### 4. 연산 가능한 컬럼만 함수 적용한다면\n",
    "#fill_mean_func = lambda g : g.fillna(g.mean())"
   ]
  },
  {
   "cell_type": "code",
   "execution_count": 92,
   "id": "c85fb3ae-ac8e-49b8-afd4-4521ade73f98",
   "metadata": {
    "tags": []
   },
   "outputs": [
    {
     "ename": "KeyError",
     "evalue": "\"Columns not found: 'fare'\"",
     "output_type": "error",
     "traceback": [
      "\u001b[1;31m---------------------------------------------------------------------------\u001b[0m",
      "\u001b[1;31mKeyError\u001b[0m                                  Traceback (most recent call last)",
      "Cell \u001b[1;32mIn[92], line 2\u001b[0m\n\u001b[0;32m      1\u001b[0m \u001b[38;5;66;03m#연산가능한 컬럼만 빼기\u001b[39;00m\n\u001b[1;32m----> 2\u001b[0m traincp2\u001b[38;5;241m=\u001b[39m \u001b[43mtraincp\u001b[49m\u001b[38;5;241;43m.\u001b[39;49m\u001b[43mgroupby\u001b[49m\u001b[43m(\u001b[49m\u001b[38;5;124;43m'\u001b[39;49m\u001b[38;5;124;43mname_title2\u001b[39;49m\u001b[38;5;124;43m'\u001b[39;49m\u001b[43m,\u001b[49m\u001b[43m \u001b[49m\u001b[43mas_index\u001b[49m\u001b[38;5;241;43m=\u001b[39;49m\u001b[38;5;28;43;01mFalse\u001b[39;49;00m\u001b[43m)\u001b[49m\u001b[43m[\u001b[49m\u001b[43m[\u001b[49m\u001b[38;5;124;43m'\u001b[39;49m\u001b[38;5;124;43mage\u001b[39;49m\u001b[38;5;124;43m'\u001b[39;49m\u001b[43m,\u001b[49m\u001b[38;5;124;43m'\u001b[39;49m\u001b[38;5;124;43mfare\u001b[39;49m\u001b[38;5;124;43m'\u001b[39;49m\u001b[43m]\u001b[49m\u001b[43m]\u001b[49m\n\u001b[0;32m      3\u001b[0m traincp2\u001b[38;5;241m=\u001b[39mtraincp2\u001b[38;5;241m.\u001b[39mcount() \u001b[38;5;66;03m# g.count() : group화된 프레임 --> 데이터프레임으로 변경\u001b[39;00m\n\u001b[0;32m      4\u001b[0m traincp2\n",
      "File \u001b[1;32mC:\\AI\\pythonProject2\\venv\\lib\\site-packages\\pandas\\core\\groupby\\generic.py:1416\u001b[0m, in \u001b[0;36mDataFrameGroupBy.__getitem__\u001b[1;34m(self, key)\u001b[0m\n\u001b[0;32m   1407\u001b[0m \u001b[38;5;28;01mif\u001b[39;00m \u001b[38;5;28misinstance\u001b[39m(key, \u001b[38;5;28mtuple\u001b[39m) \u001b[38;5;129;01mand\u001b[39;00m \u001b[38;5;28mlen\u001b[39m(key) \u001b[38;5;241m>\u001b[39m \u001b[38;5;241m1\u001b[39m:\n\u001b[0;32m   1408\u001b[0m     \u001b[38;5;66;03m# if len == 1, then it becomes a SeriesGroupBy and this is actually\u001b[39;00m\n\u001b[0;32m   1409\u001b[0m     \u001b[38;5;66;03m# valid syntax, so don't raise warning\u001b[39;00m\n\u001b[0;32m   1410\u001b[0m     warnings\u001b[38;5;241m.\u001b[39mwarn(\n\u001b[0;32m   1411\u001b[0m         \u001b[38;5;124m\"\u001b[39m\u001b[38;5;124mIndexing with multiple keys (implicitly converted to a tuple \u001b[39m\u001b[38;5;124m\"\u001b[39m\n\u001b[0;32m   1412\u001b[0m         \u001b[38;5;124m\"\u001b[39m\u001b[38;5;124mof keys) will be deprecated, use a list instead.\u001b[39m\u001b[38;5;124m\"\u001b[39m,\n\u001b[0;32m   1413\u001b[0m         \u001b[38;5;167;01mFutureWarning\u001b[39;00m,\n\u001b[0;32m   1414\u001b[0m         stacklevel\u001b[38;5;241m=\u001b[39mfind_stack_level(),\n\u001b[0;32m   1415\u001b[0m     )\n\u001b[1;32m-> 1416\u001b[0m \u001b[38;5;28;01mreturn\u001b[39;00m \u001b[38;5;28;43msuper\u001b[39;49m\u001b[43m(\u001b[49m\u001b[43m)\u001b[49m\u001b[38;5;241;43m.\u001b[39;49m\u001b[38;5;21;43m__getitem__\u001b[39;49m\u001b[43m(\u001b[49m\u001b[43mkey\u001b[49m\u001b[43m)\u001b[49m\n",
      "File \u001b[1;32mC:\\AI\\pythonProject2\\venv\\lib\\site-packages\\pandas\\core\\base.py:238\u001b[0m, in \u001b[0;36mSelectionMixin.__getitem__\u001b[1;34m(self, key)\u001b[0m\n\u001b[0;32m    236\u001b[0m     \u001b[38;5;28;01mif\u001b[39;00m \u001b[38;5;28mlen\u001b[39m(\u001b[38;5;28mself\u001b[39m\u001b[38;5;241m.\u001b[39mobj\u001b[38;5;241m.\u001b[39mcolumns\u001b[38;5;241m.\u001b[39mintersection(key)) \u001b[38;5;241m!=\u001b[39m \u001b[38;5;28mlen\u001b[39m(\u001b[38;5;28mset\u001b[39m(key)):\n\u001b[0;32m    237\u001b[0m         bad_keys \u001b[38;5;241m=\u001b[39m \u001b[38;5;28mlist\u001b[39m(\u001b[38;5;28mset\u001b[39m(key)\u001b[38;5;241m.\u001b[39mdifference(\u001b[38;5;28mself\u001b[39m\u001b[38;5;241m.\u001b[39mobj\u001b[38;5;241m.\u001b[39mcolumns))\n\u001b[1;32m--> 238\u001b[0m         \u001b[38;5;28;01mraise\u001b[39;00m \u001b[38;5;167;01mKeyError\u001b[39;00m(\u001b[38;5;124mf\u001b[39m\u001b[38;5;124m\"\u001b[39m\u001b[38;5;124mColumns not found: \u001b[39m\u001b[38;5;132;01m{\u001b[39;00m\u001b[38;5;28mstr\u001b[39m(bad_keys)[\u001b[38;5;241m1\u001b[39m:\u001b[38;5;241m-\u001b[39m\u001b[38;5;241m1\u001b[39m]\u001b[38;5;132;01m}\u001b[39;00m\u001b[38;5;124m\"\u001b[39m)\n\u001b[0;32m    239\u001b[0m     \u001b[38;5;28;01mreturn\u001b[39;00m \u001b[38;5;28mself\u001b[39m\u001b[38;5;241m.\u001b[39m_gotitem(\u001b[38;5;28mlist\u001b[39m(key), ndim\u001b[38;5;241m=\u001b[39m\u001b[38;5;241m2\u001b[39m)\n\u001b[0;32m    241\u001b[0m \u001b[38;5;28;01melif\u001b[39;00m \u001b[38;5;129;01mnot\u001b[39;00m \u001b[38;5;28mgetattr\u001b[39m(\u001b[38;5;28mself\u001b[39m, \u001b[38;5;124m\"\u001b[39m\u001b[38;5;124mas_index\u001b[39m\u001b[38;5;124m\"\u001b[39m, \u001b[38;5;28;01mFalse\u001b[39;00m):\n",
      "\u001b[1;31mKeyError\u001b[0m: \"Columns not found: 'fare'\""
     ]
    }
   ],
   "source": [
    "#연산가능한 컬럼만 빼기\n",
    "traincp2= traincp.groupby('name_title2', as_index=False)[['age','fare']]\n",
    "traincp2=traincp2.count() # g.count() : group화된 프레임 --> 데이터프레임으로 변경\n",
    "traincp2"
   ]
  },
  {
   "cell_type": "code",
   "execution_count": null,
   "id": "5124d89c-b2ea-41e5-8744-9c81ab6df3ce",
   "metadata": {
    "tags": []
   },
   "outputs": [],
   "source": [
    "traincp2.groupby('name_title2',group_keys=True).apply(lambda gdf : gdf.fillna(gdf.mean()))"
   ]
  },
  {
   "cell_type": "code",
   "execution_count": null,
   "id": "02e2c54f-3179-4977-8c15-4351867b8d0f",
   "metadata": {
    "tags": []
   },
   "outputs": [],
   "source": [
    "traincp2.groupby('name_title2',group_keys=True).transform(lambda gdf : gdf.fillna(gdf.mean()))"
   ]
  },
  {
   "cell_type": "code",
   "execution_count": null,
   "id": "563800c4-b65e-4f20-9786-fbda9ff71fed",
   "metadata": {
    "tags": []
   },
   "outputs": [],
   "source": [
    "del traincp\n",
    "del traincp2"
   ]
  },
  {
   "cell_type": "markdown",
   "id": "30fdd1b9-c385-4bed-be00-b75382b8e709",
   "metadata": {},
   "source": [
    "### 5. pivot_table\n",
    "<pre>\n",
    "    def pivot_table(\n",
    "    \n",
    "        self,\n",
    "        values=None,\n",
    "        index=None,\n",
    "        columns=None,\n",
    "        aggfunc=\"mean\",\n",
    "        \n",
    "        \n",
    "        fill_value=None,\n",
    "        margins=False,\n",
    "        dropna=True,\n",
    "        margins_name=\"All\",\n",
    "        observed=False,\n",
    "        sort=True,\n",
    "    )"
   ]
  },
  {
   "cell_type": "code",
   "execution_count": 93,
   "id": "f734cc1f-e70d-42c4-9aab-43e95bc5fd4d",
   "metadata": {
    "tags": []
   },
   "outputs": [
    {
     "data": {
      "text/html": [
       "<div>\n",
       "<style scoped>\n",
       "    .dataframe tbody tr th:only-of-type {\n",
       "        vertical-align: middle;\n",
       "    }\n",
       "\n",
       "    .dataframe tbody tr th {\n",
       "        vertical-align: top;\n",
       "    }\n",
       "\n",
       "    .dataframe thead th {\n",
       "        text-align: right;\n",
       "    }\n",
       "</style>\n",
       "<table border=\"1\" class=\"dataframe\">\n",
       "  <thead>\n",
       "    <tr style=\"text-align: right;\">\n",
       "      <th></th>\n",
       "      <th>sal</th>\n",
       "    </tr>\n",
       "    <tr>\n",
       "      <th>deptno</th>\n",
       "      <th></th>\n",
       "    </tr>\n",
       "  </thead>\n",
       "  <tbody>\n",
       "    <tr>\n",
       "      <th>10</th>\n",
       "      <td>2916.666667</td>\n",
       "    </tr>\n",
       "    <tr>\n",
       "      <th>20</th>\n",
       "      <td>2175.000000</td>\n",
       "    </tr>\n",
       "    <tr>\n",
       "      <th>30</th>\n",
       "      <td>1566.666667</td>\n",
       "    </tr>\n",
       "  </tbody>\n",
       "</table>\n",
       "</div>"
      ],
      "text/plain": [
       "                sal\n",
       "deptno             \n",
       "10      2916.666667\n",
       "20      2175.000000\n",
       "30      1566.666667"
      ]
     },
     "execution_count": 93,
     "metadata": {},
     "output_type": "execute_result"
    }
   ],
   "source": [
    "emp.pivot_table(index='deptno', values='sal',aggfunc=\"mean\")"
   ]
  },
  {
   "cell_type": "code",
   "execution_count": 94,
   "id": "b6eab9c2-d36a-48b3-ae4b-500a0ad6dcae",
   "metadata": {
    "tags": []
   },
   "outputs": [
    {
     "data": {
      "text/plain": [
       "deptno\n",
       "10    2916.666667\n",
       "20    2175.000000\n",
       "30    1566.666667\n",
       "Name: sal, dtype: float64"
      ]
     },
     "execution_count": 94,
     "metadata": {},
     "output_type": "execute_result"
    }
   ],
   "source": [
    "#동일결과\n",
    "emp.groupby('deptno')['sal'].mean()"
   ]
  },
  {
   "cell_type": "markdown",
   "id": "391e6427-9bee-4292-92cc-1b454228b99d",
   "metadata": {},
   "source": [
    "# 6. 최종 피쳐\n",
    "- 결측이 있어서는 안된다\n",
    "- object가 있어서는 안된다\n",
    "- 컴퓨터는 글자를 학습할 수 없다 --> 숫자로 바꾸기"
   ]
  },
  {
   "cell_type": "markdown",
   "id": "ae76927b-9cd8-411b-91f1-ff48fa516fd6",
   "metadata": {},
   "source": [
    "## 6.1. 결측 확인"
   ]
  },
  {
   "cell_type": "code",
   "execution_count": 95,
   "id": "ff5a9fde-c9fd-4e9e-b181-2809115f2614",
   "metadata": {
    "tags": []
   },
   "outputs": [
    {
     "data": {
      "text/plain": [
       "survived         0\n",
       "pclass           0\n",
       "sex              0\n",
       "age2             0\n",
       "age_gugan        0\n",
       "name_title2      0\n",
       "family           0\n",
       "age            177\n",
       "dtype: int64"
      ]
     },
     "execution_count": 95,
     "metadata": {},
     "output_type": "execute_result"
    }
   ],
   "source": [
    "train.isna().sum()"
   ]
  },
  {
   "cell_type": "code",
   "execution_count": 96,
   "id": "fdd64ba0-56e5-4424-85d2-c015a5717745",
   "metadata": {
    "tags": []
   },
   "outputs": [
    {
     "name": "stdout",
     "output_type": "stream",
     "text": [
      "<class 'pandas.core.frame.DataFrame'>\n",
      "RangeIndex: 891 entries, 0 to 890\n",
      "Data columns (total 8 columns):\n",
      " #   Column       Non-Null Count  Dtype  \n",
      "---  ------       --------------  -----  \n",
      " 0   survived     891 non-null    int64  \n",
      " 1   pclass       891 non-null    int64  \n",
      " 2   sex          891 non-null    object \n",
      " 3   age2         891 non-null    float64\n",
      " 4   age_gugan    891 non-null    int32  \n",
      " 5   name_title2  891 non-null    object \n",
      " 6   family       891 non-null    int64  \n",
      " 7   age          714 non-null    float64\n",
      "dtypes: float64(2), int32(1), int64(3), object(2)\n",
      "memory usage: 52.3+ KB\n"
     ]
    }
   ],
   "source": [
    "train.info()"
   ]
  },
  {
   "cell_type": "markdown",
   "id": "668b533a-c51b-4479-89c3-721ca9ca6746",
   "metadata": {},
   "source": [
    "## 6.2. object 타입의 컬럼 뽑기"
   ]
  },
  {
   "cell_type": "code",
   "execution_count": 97,
   "id": "0afc154b-907a-4724-ac90-20a9374ad77b",
   "metadata": {
    "tags": []
   },
   "outputs": [
    {
     "data": {
      "text/plain": [
       "Index(['sex', 'name_title2'], dtype='object')"
      ]
     },
     "execution_count": 97,
     "metadata": {},
     "output_type": "execute_result"
    }
   ],
   "source": [
    "train.select_dtypes('object').columns"
   ]
  },
  {
   "cell_type": "code",
   "execution_count": 98,
   "id": "0b743aa1-9ffa-4541-b5b5-0e50d5760c75",
   "metadata": {
    "tags": []
   },
   "outputs": [
    {
     "data": {
      "text/plain": [
       "Index(['sex', 'name_title2'], dtype='object')"
      ]
     },
     "execution_count": 98,
     "metadata": {},
     "output_type": "execute_result"
    }
   ],
   "source": [
    "train.dtypes[train.dtypes=='object'].index"
   ]
  },
  {
   "cell_type": "code",
   "execution_count": 99,
   "id": "7a3b754a-ab2f-4b11-8adf-288c785eb25d",
   "metadata": {
    "tags": []
   },
   "outputs": [
    {
     "data": {
      "text/plain": [
       "(female    314\n",
       " male      577\n",
       " Name: sex, dtype: int64,\n",
       " Dr.          7\n",
       " Master.     40\n",
       " Miss.      186\n",
       " Mr.        531\n",
       " Mrs.       127\n",
       " Name: name_title2, dtype: int64)"
      ]
     },
     "execution_count": 99,
     "metadata": {},
     "output_type": "execute_result"
    }
   ],
   "source": [
    "train['sex'].value_counts().sort_index(), train['name_title2'].value_counts().sort_index()"
   ]
  },
  {
   "cell_type": "markdown",
   "id": "9927aa86-1444-40a1-88b8-05f6f8188bd6",
   "metadata": {},
   "source": [
    "## 6.3. 수치값으로 변경\n",
    "1. replace()\n",
    "2. map()\n",
    "3. apply(lambda)\n",
    "4. loc(줄, 칸)\n",
    "5. <font color='red'><b> pd.get_dummies() = 자동결측처리 + LabelEncoder() + OneHotEncoder() \n",
    "    - 반드시 사용 전 원하는 결측처리를 하고 사용 권장 </font></b>\n",
    "<br>\n",
    "<pre>\n",
    "<참고용 : lec10_Object처리>\n",
    "* 라벨인코딩(Label Encoding)\n",
    "* 원핫인코딩(One-hot Encoding)\n",
    "* df[컬럼].astype('category')"
   ]
  },
  {
   "cell_type": "code",
   "execution_count": null,
   "id": "7e109f38-cae9-4744-afdc-6d179bd4ffad",
   "metadata": {},
   "outputs": [],
   "source": [
    "#train['sex'].replace(['female','male'],[0,1])"
   ]
  },
  {
   "cell_type": "code",
   "execution_count": null,
   "id": "cc311cf1-b9fd-4b00-a236-651febbe89ac",
   "metadata": {},
   "outputs": [],
   "source": [
    "#train['name_title2'].replace(['Dr.','Master.','Miss.','Mr.','Mrs'],[1,2,3,4,5])"
   ]
  },
  {
   "cell_type": "code",
   "execution_count": null,
   "id": "feb81274-9c56-4f03-acc1-4dfa1fea8bde",
   "metadata": {},
   "outputs": [],
   "source": [
    "#train.head()"
   ]
  },
  {
   "cell_type": "markdown",
   "id": "5770740d-0e79-4635-aae0-0f130f822fb7",
   "metadata": {},
   "source": [
    "### 6.3.1 sex objet\n",
    "- male : 0 / female : 1"
   ]
  },
  {
   "cell_type": "markdown",
   "id": "598f310c-37c9-4897-8a7d-a531c0e53f4f",
   "metadata": {},
   "source": [
    "- 방법 1) LabelEncoder"
   ]
  },
  {
   "cell_type": "code",
   "execution_count": 100,
   "id": "617a65c7-fd19-402d-9c82-be84c17a1e8e",
   "metadata": {},
   "outputs": [],
   "source": [
    "from sklearn.preprocessing import LabelEncoder"
   ]
  },
  {
   "cell_type": "code",
   "execution_count": 101,
   "id": "4d346237-d0e7-4580-9ea8-e953cb5f38c0",
   "metadata": {},
   "outputs": [
    {
     "data": {
      "text/html": [
       "<div>\n",
       "<style scoped>\n",
       "    .dataframe tbody tr th:only-of-type {\n",
       "        vertical-align: middle;\n",
       "    }\n",
       "\n",
       "    .dataframe tbody tr th {\n",
       "        vertical-align: top;\n",
       "    }\n",
       "\n",
       "    .dataframe thead th {\n",
       "        text-align: right;\n",
       "    }\n",
       "</style>\n",
       "<table border=\"1\" class=\"dataframe\">\n",
       "  <thead>\n",
       "    <tr style=\"text-align: right;\">\n",
       "      <th></th>\n",
       "      <th>sex</th>\n",
       "      <th>sex_le</th>\n",
       "    </tr>\n",
       "  </thead>\n",
       "  <tbody>\n",
       "    <tr>\n",
       "      <th>0</th>\n",
       "      <td>male</td>\n",
       "      <td>1</td>\n",
       "    </tr>\n",
       "    <tr>\n",
       "      <th>1</th>\n",
       "      <td>female</td>\n",
       "      <td>0</td>\n",
       "    </tr>\n",
       "    <tr>\n",
       "      <th>2</th>\n",
       "      <td>female</td>\n",
       "      <td>0</td>\n",
       "    </tr>\n",
       "    <tr>\n",
       "      <th>3</th>\n",
       "      <td>female</td>\n",
       "      <td>0</td>\n",
       "    </tr>\n",
       "    <tr>\n",
       "      <th>4</th>\n",
       "      <td>male</td>\n",
       "      <td>1</td>\n",
       "    </tr>\n",
       "  </tbody>\n",
       "</table>\n",
       "</div>"
      ],
      "text/plain": [
       "      sex  sex_le\n",
       "0    male       1\n",
       "1  female       0\n",
       "2  female       0\n",
       "3  female       0\n",
       "4    male       1"
      ]
     },
     "execution_count": 101,
     "metadata": {},
     "output_type": "execute_result"
    }
   ],
   "source": [
    "le = LabelEncoder() # 클래스 이름() == 생성자 함수 : 초기화\n",
    "le.fit(train['sex']) #모든 값을 사전순으로 메모리에 올려놓고 distinct , 변수 사용 금지\n",
    "train['sex_le']=le.transform(train['sex']) # 변환\n",
    "\n",
    "train[['sex','sex_le']].head()"
   ]
  },
  {
   "cell_type": "markdown",
   "id": "2c3c452f-63d0-4202-9eda-fb002971942c",
   "metadata": {},
   "source": [
    "- 방법 2) OneHotEncoder"
   ]
  },
  {
   "cell_type": "code",
   "execution_count": 102,
   "id": "295411b7-21a4-4221-a9eb-ac584f9f6fff",
   "metadata": {},
   "outputs": [],
   "source": [
    "from sklearn.preprocessing import OneHotEncoder"
   ]
  },
  {
   "cell_type": "code",
   "execution_count": 103,
   "id": "b4ef4739-525c-4277-bb28-8bfd3499f589",
   "metadata": {},
   "outputs": [
    {
     "data": {
      "text/html": [
       "<div>\n",
       "<style scoped>\n",
       "    .dataframe tbody tr th:only-of-type {\n",
       "        vertical-align: middle;\n",
       "    }\n",
       "\n",
       "    .dataframe tbody tr th {\n",
       "        vertical-align: top;\n",
       "    }\n",
       "\n",
       "    .dataframe thead th {\n",
       "        text-align: right;\n",
       "    }\n",
       "</style>\n",
       "<table border=\"1\" class=\"dataframe\">\n",
       "  <thead>\n",
       "    <tr style=\"text-align: right;\">\n",
       "      <th></th>\n",
       "      <th>female</th>\n",
       "      <th>male</th>\n",
       "    </tr>\n",
       "  </thead>\n",
       "  <tbody>\n",
       "    <tr>\n",
       "      <th>0</th>\n",
       "      <td>0</td>\n",
       "      <td>1</td>\n",
       "    </tr>\n",
       "    <tr>\n",
       "      <th>1</th>\n",
       "      <td>1</td>\n",
       "      <td>0</td>\n",
       "    </tr>\n",
       "    <tr>\n",
       "      <th>2</th>\n",
       "      <td>1</td>\n",
       "      <td>0</td>\n",
       "    </tr>\n",
       "    <tr>\n",
       "      <th>3</th>\n",
       "      <td>1</td>\n",
       "      <td>0</td>\n",
       "    </tr>\n",
       "    <tr>\n",
       "      <th>4</th>\n",
       "      <td>0</td>\n",
       "      <td>1</td>\n",
       "    </tr>\n",
       "  </tbody>\n",
       "</table>\n",
       "</div>"
      ],
      "text/plain": [
       "   female  male\n",
       "0       0     1\n",
       "1       1     0\n",
       "2       1     0\n",
       "3       1     0\n",
       "4       0     1"
      ]
     },
     "execution_count": 103,
     "metadata": {},
     "output_type": "execute_result"
    }
   ],
   "source": [
    "oe = OneHotEncoder(sparse=False, dtype='int')\n",
    "oe.fit(    train['sex'].values.reshape(-1,1)   )  # 반드시 2차**** 넣기\n",
    "\n",
    "#train['sex'].reshape(-1,1) --> 안됨\n",
    "res= oe.transform(  train['sex'].values.reshape(-1,1)  ) # 반드치 array 타입으로 넣어주기 : .values는 array 타입으로 결과 반환 \n",
    "\n",
    "ohdf= pd.DataFrame(res,columns=oe.categories_[0])\n",
    "ohdf.head()"
   ]
  },
  {
   "cell_type": "code",
   "execution_count": 104,
   "id": "95092503-2d6e-4ae5-8309-453f5df2fb66",
   "metadata": {
    "tags": []
   },
   "outputs": [
    {
     "data": {
      "text/html": [
       "<div>\n",
       "<style scoped>\n",
       "    .dataframe tbody tr th:only-of-type {\n",
       "        vertical-align: middle;\n",
       "    }\n",
       "\n",
       "    .dataframe tbody tr th {\n",
       "        vertical-align: top;\n",
       "    }\n",
       "\n",
       "    .dataframe thead th {\n",
       "        text-align: right;\n",
       "    }\n",
       "</style>\n",
       "<table border=\"1\" class=\"dataframe\">\n",
       "  <thead>\n",
       "    <tr style=\"text-align: right;\">\n",
       "      <th></th>\n",
       "      <th>survived</th>\n",
       "      <th>pclass</th>\n",
       "      <th>sex</th>\n",
       "      <th>age2</th>\n",
       "      <th>age_gugan</th>\n",
       "      <th>name_title2</th>\n",
       "      <th>family</th>\n",
       "      <th>age</th>\n",
       "      <th>sex_le</th>\n",
       "      <th>female</th>\n",
       "      <th>male</th>\n",
       "    </tr>\n",
       "  </thead>\n",
       "  <tbody>\n",
       "    <tr>\n",
       "      <th>0</th>\n",
       "      <td>0</td>\n",
       "      <td>3</td>\n",
       "      <td>male</td>\n",
       "      <td>22.0</td>\n",
       "      <td>2</td>\n",
       "      <td>Mr.</td>\n",
       "      <td>2</td>\n",
       "      <td>22.0</td>\n",
       "      <td>1</td>\n",
       "      <td>0</td>\n",
       "      <td>1</td>\n",
       "    </tr>\n",
       "    <tr>\n",
       "      <th>1</th>\n",
       "      <td>1</td>\n",
       "      <td>1</td>\n",
       "      <td>female</td>\n",
       "      <td>38.0</td>\n",
       "      <td>3</td>\n",
       "      <td>Mrs.</td>\n",
       "      <td>2</td>\n",
       "      <td>38.0</td>\n",
       "      <td>0</td>\n",
       "      <td>1</td>\n",
       "      <td>0</td>\n",
       "    </tr>\n",
       "  </tbody>\n",
       "</table>\n",
       "</div>"
      ],
      "text/plain": [
       "   survived  pclass     sex  age2  age_gugan name_title2  family   age  \\\n",
       "0         0       3    male  22.0          2         Mr.       2  22.0   \n",
       "1         1       1  female  38.0          3        Mrs.       2  38.0   \n",
       "\n",
       "   sex_le  female  male  \n",
       "0       1       0     1  \n",
       "1       0       1     0  "
      ]
     },
     "execution_count": 104,
     "metadata": {},
     "output_type": "execute_result"
    }
   ],
   "source": [
    "tdf=pd.concat([train,ohdf], axis=1)\n",
    "tdf.head(2)"
   ]
  },
  {
   "cell_type": "markdown",
   "id": "7eab878d-8edb-4ad2-bd1a-469a008a08fc",
   "metadata": {},
   "source": [
    "### 6.3.2 name_title2 objet\n",
    "- 'Dr.' : 1 \n",
    "- 'Master.' : 2 \n",
    "- 'Miss.' : 3 \n",
    "- 'Mr.' : 4\n",
    "- 'Mrs' : 5"
   ]
  },
  {
   "cell_type": "markdown",
   "id": "944a6792-8a34-45e1-ad7e-f18a1f9075df",
   "metadata": {},
   "source": [
    "- 방법 3) categories"
   ]
  },
  {
   "cell_type": "code",
   "execution_count": 105,
   "id": "97a8fe72-caa9-4ebb-8fcd-3bb11cca00eb",
   "metadata": {},
   "outputs": [],
   "source": [
    "train['name_title2']=train['name_title2'].astype('category')"
   ]
  },
  {
   "cell_type": "code",
   "execution_count": 106,
   "id": "bad1fea3-d45a-43c3-9fcf-b04996c3dc03",
   "metadata": {},
   "outputs": [
    {
     "name": "stdout",
     "output_type": "stream",
     "text": [
      "<class 'pandas.core.frame.DataFrame'>\n",
      "RangeIndex: 891 entries, 0 to 890\n",
      "Data columns (total 9 columns):\n",
      " #   Column       Non-Null Count  Dtype   \n",
      "---  ------       --------------  -----   \n",
      " 0   survived     891 non-null    int64   \n",
      " 1   pclass       891 non-null    int64   \n",
      " 2   sex          891 non-null    object  \n",
      " 3   age2         891 non-null    float64 \n",
      " 4   age_gugan    891 non-null    int32   \n",
      " 5   name_title2  891 non-null    category\n",
      " 6   family       891 non-null    int64   \n",
      " 7   age          714 non-null    float64 \n",
      " 8   sex_le       891 non-null    int32   \n",
      "dtypes: category(1), float64(2), int32(2), int64(3), object(1)\n",
      "memory usage: 49.9+ KB\n"
     ]
    }
   ],
   "source": [
    "train.info()"
   ]
  },
  {
   "cell_type": "markdown",
   "id": "3781c7f2-9a9f-4c3a-9b55-2df4a500ddbb",
   "metadata": {},
   "source": [
    "- 방법 4) get_dummies"
   ]
  },
  {
   "cell_type": "code",
   "execution_count": 107,
   "id": "ee40ea97-7661-4e50-92ad-f4721dbd1c35",
   "metadata": {
    "tags": []
   },
   "outputs": [
    {
     "data": {
      "text/html": [
       "<div>\n",
       "<style scoped>\n",
       "    .dataframe tbody tr th:only-of-type {\n",
       "        vertical-align: middle;\n",
       "    }\n",
       "\n",
       "    .dataframe tbody tr th {\n",
       "        vertical-align: top;\n",
       "    }\n",
       "\n",
       "    .dataframe thead th {\n",
       "        text-align: right;\n",
       "    }\n",
       "</style>\n",
       "<table border=\"1\" class=\"dataframe\">\n",
       "  <thead>\n",
       "    <tr style=\"text-align: right;\">\n",
       "      <th></th>\n",
       "      <th>Dr.</th>\n",
       "      <th>Master.</th>\n",
       "      <th>Miss.</th>\n",
       "      <th>Mr.</th>\n",
       "      <th>Mrs.</th>\n",
       "    </tr>\n",
       "  </thead>\n",
       "  <tbody>\n",
       "    <tr>\n",
       "      <th>0</th>\n",
       "      <td>0</td>\n",
       "      <td>0</td>\n",
       "      <td>0</td>\n",
       "      <td>1</td>\n",
       "      <td>0</td>\n",
       "    </tr>\n",
       "    <tr>\n",
       "      <th>1</th>\n",
       "      <td>0</td>\n",
       "      <td>0</td>\n",
       "      <td>0</td>\n",
       "      <td>0</td>\n",
       "      <td>1</td>\n",
       "    </tr>\n",
       "    <tr>\n",
       "      <th>2</th>\n",
       "      <td>0</td>\n",
       "      <td>0</td>\n",
       "      <td>1</td>\n",
       "      <td>0</td>\n",
       "      <td>0</td>\n",
       "    </tr>\n",
       "    <tr>\n",
       "      <th>3</th>\n",
       "      <td>0</td>\n",
       "      <td>0</td>\n",
       "      <td>0</td>\n",
       "      <td>0</td>\n",
       "      <td>1</td>\n",
       "    </tr>\n",
       "    <tr>\n",
       "      <th>4</th>\n",
       "      <td>0</td>\n",
       "      <td>0</td>\n",
       "      <td>0</td>\n",
       "      <td>1</td>\n",
       "      <td>0</td>\n",
       "    </tr>\n",
       "  </tbody>\n",
       "</table>\n",
       "</div>"
      ],
      "text/plain": [
       "   Dr.  Master.  Miss.  Mr.  Mrs.\n",
       "0    0        0      0    1     0\n",
       "1    0        0      0    0     1\n",
       "2    0        0      1    0     0\n",
       "3    0        0      0    0     1\n",
       "4    0        0      0    1     0"
      ]
     },
     "execution_count": 107,
     "metadata": {},
     "output_type": "execute_result"
    }
   ],
   "source": [
    "gdf=pd.get_dummies(train['name_title2'])\n",
    "gdf.head()"
   ]
  },
  {
   "cell_type": "code",
   "execution_count": 108,
   "id": "d511f0ae-0ece-4aff-aa31-b1ce2c26edab",
   "metadata": {
    "tags": []
   },
   "outputs": [
    {
     "data": {
      "text/html": [
       "<div>\n",
       "<style scoped>\n",
       "    .dataframe tbody tr th:only-of-type {\n",
       "        vertical-align: middle;\n",
       "    }\n",
       "\n",
       "    .dataframe tbody tr th {\n",
       "        vertical-align: top;\n",
       "    }\n",
       "\n",
       "    .dataframe thead th {\n",
       "        text-align: right;\n",
       "    }\n",
       "</style>\n",
       "<table border=\"1\" class=\"dataframe\">\n",
       "  <thead>\n",
       "    <tr style=\"text-align: right;\">\n",
       "      <th></th>\n",
       "      <th>survived</th>\n",
       "      <th>pclass</th>\n",
       "      <th>sex</th>\n",
       "      <th>age2</th>\n",
       "      <th>age_gugan</th>\n",
       "      <th>name_title2</th>\n",
       "      <th>family</th>\n",
       "      <th>age</th>\n",
       "      <th>sex_le</th>\n",
       "      <th>Dr.</th>\n",
       "      <th>Master.</th>\n",
       "      <th>Miss.</th>\n",
       "      <th>Mr.</th>\n",
       "      <th>Mrs.</th>\n",
       "    </tr>\n",
       "  </thead>\n",
       "  <tbody>\n",
       "    <tr>\n",
       "      <th>0</th>\n",
       "      <td>0</td>\n",
       "      <td>3</td>\n",
       "      <td>male</td>\n",
       "      <td>22.0</td>\n",
       "      <td>2</td>\n",
       "      <td>Mr.</td>\n",
       "      <td>2</td>\n",
       "      <td>22.0</td>\n",
       "      <td>1</td>\n",
       "      <td>0</td>\n",
       "      <td>0</td>\n",
       "      <td>0</td>\n",
       "      <td>1</td>\n",
       "      <td>0</td>\n",
       "    </tr>\n",
       "    <tr>\n",
       "      <th>1</th>\n",
       "      <td>1</td>\n",
       "      <td>1</td>\n",
       "      <td>female</td>\n",
       "      <td>38.0</td>\n",
       "      <td>3</td>\n",
       "      <td>Mrs.</td>\n",
       "      <td>2</td>\n",
       "      <td>38.0</td>\n",
       "      <td>0</td>\n",
       "      <td>0</td>\n",
       "      <td>0</td>\n",
       "      <td>0</td>\n",
       "      <td>0</td>\n",
       "      <td>1</td>\n",
       "    </tr>\n",
       "    <tr>\n",
       "      <th>2</th>\n",
       "      <td>1</td>\n",
       "      <td>3</td>\n",
       "      <td>female</td>\n",
       "      <td>26.0</td>\n",
       "      <td>2</td>\n",
       "      <td>Miss.</td>\n",
       "      <td>1</td>\n",
       "      <td>26.0</td>\n",
       "      <td>0</td>\n",
       "      <td>0</td>\n",
       "      <td>0</td>\n",
       "      <td>1</td>\n",
       "      <td>0</td>\n",
       "      <td>0</td>\n",
       "    </tr>\n",
       "    <tr>\n",
       "      <th>3</th>\n",
       "      <td>1</td>\n",
       "      <td>1</td>\n",
       "      <td>female</td>\n",
       "      <td>35.0</td>\n",
       "      <td>3</td>\n",
       "      <td>Mrs.</td>\n",
       "      <td>2</td>\n",
       "      <td>35.0</td>\n",
       "      <td>0</td>\n",
       "      <td>0</td>\n",
       "      <td>0</td>\n",
       "      <td>0</td>\n",
       "      <td>0</td>\n",
       "      <td>1</td>\n",
       "    </tr>\n",
       "    <tr>\n",
       "      <th>4</th>\n",
       "      <td>0</td>\n",
       "      <td>3</td>\n",
       "      <td>male</td>\n",
       "      <td>35.0</td>\n",
       "      <td>3</td>\n",
       "      <td>Mr.</td>\n",
       "      <td>1</td>\n",
       "      <td>35.0</td>\n",
       "      <td>1</td>\n",
       "      <td>0</td>\n",
       "      <td>0</td>\n",
       "      <td>0</td>\n",
       "      <td>1</td>\n",
       "      <td>0</td>\n",
       "    </tr>\n",
       "  </tbody>\n",
       "</table>\n",
       "</div>"
      ],
      "text/plain": [
       "   survived  pclass     sex  age2  age_gugan name_title2  family   age  \\\n",
       "0         0       3    male  22.0          2         Mr.       2  22.0   \n",
       "1         1       1  female  38.0          3        Mrs.       2  38.0   \n",
       "2         1       3  female  26.0          2       Miss.       1  26.0   \n",
       "3         1       1  female  35.0          3        Mrs.       2  35.0   \n",
       "4         0       3    male  35.0          3         Mr.       1  35.0   \n",
       "\n",
       "   sex_le  Dr.  Master.  Miss.  Mr.  Mrs.  \n",
       "0       1    0        0      0    1     0  \n",
       "1       0    0        0      0    0     1  \n",
       "2       0    0        0      1    0     0  \n",
       "3       0    0        0      0    0     1  \n",
       "4       1    0        0      0    1     0  "
      ]
     },
     "execution_count": 108,
     "metadata": {},
     "output_type": "execute_result"
    }
   ],
   "source": [
    "tdf=pd.concat([train,gdf],axis=1)\n",
    "tdf.head()"
   ]
  },
  {
   "cell_type": "code",
   "execution_count": null,
   "id": "687371c4-776e-46b5-be07-63f87c5ad979",
   "metadata": {},
   "outputs": [],
   "source": []
  },
  {
   "cell_type": "code",
   "execution_count": null,
   "id": "4b562b4e-6fb9-4350-984d-3537ab03dd93",
   "metadata": {},
   "outputs": [],
   "source": []
  },
  {
   "cell_type": "code",
   "execution_count": null,
   "id": "0f3e7f74-0a64-4257-a946-07f5b0d5f2f9",
   "metadata": {},
   "outputs": [],
   "source": []
  },
  {
   "cell_type": "code",
   "execution_count": null,
   "id": "1d628000-a251-4769-856c-b5b3f7062a70",
   "metadata": {},
   "outputs": [],
   "source": []
  }
 ],
 "metadata": {
  "kernelspec": {
   "display_name": "Python 3 (ipykernel)",
   "language": "python",
   "name": "python3"
  },
  "language_info": {
   "codemirror_mode": {
    "name": "ipython",
    "version": 3
   },
   "file_extension": ".py",
   "mimetype": "text/x-python",
   "name": "python",
   "nbconvert_exporter": "python",
   "pygments_lexer": "ipython3",
   "version": "3.8.8"
  },
  "toc-autonumbering": false,
  "toc-showmarkdowntxt": false
 },
 "nbformat": 4,
 "nbformat_minor": 5
}
