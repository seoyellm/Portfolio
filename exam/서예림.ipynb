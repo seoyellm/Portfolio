{
 "cells": [
  {
   "cell_type": "code",
   "execution_count": 1,
   "id": "dba0b575-80c0-4602-8ef8-22c3a4490da8",
   "metadata": {
    "tags": []
   },
   "outputs": [],
   "source": [
    "import pandas as pd\n",
    "import numpy as np"
   ]
  },
  {
   "cell_type": "code",
   "execution_count": 2,
   "id": "66eaf432-3394-44a0-8b07-ce99bb98d44c",
   "metadata": {},
   "outputs": [],
   "source": [
    "import warnings\n",
    "warnings.filterwarnings(action='ignore')"
   ]
  },
  {
   "cell_type": "markdown",
   "id": "c42af4ec-cff6-47a4-9fba-18448b932bdb",
   "metadata": {},
   "source": [
    "# Boston_house"
   ]
  },
  {
   "cell_type": "markdown",
   "id": "2cddd4f4-33cd-4caa-9ce7-c0e367a48c04",
   "metadata": {},
   "source": [
    "1. 파일 읽기"
   ]
  },
  {
   "cell_type": "code",
   "execution_count": 3,
   "id": "6761312b-d34b-4673-b0b5-104973888e17",
   "metadata": {},
   "outputs": [
    {
     "data": {
      "text/html": [
       "<div>\n",
       "<style scoped>\n",
       "    .dataframe tbody tr th:only-of-type {\n",
       "        vertical-align: middle;\n",
       "    }\n",
       "\n",
       "    .dataframe tbody tr th {\n",
       "        vertical-align: top;\n",
       "    }\n",
       "\n",
       "    .dataframe thead th {\n",
       "        text-align: right;\n",
       "    }\n",
       "</style>\n",
       "<table border=\"1\" class=\"dataframe\">\n",
       "  <thead>\n",
       "    <tr style=\"text-align: right;\">\n",
       "      <th></th>\n",
       "      <th>AGE</th>\n",
       "      <th>B</th>\n",
       "      <th>RM</th>\n",
       "      <th>CRIM</th>\n",
       "      <th>DIS</th>\n",
       "      <th>INDUS</th>\n",
       "      <th>LSTAT</th>\n",
       "      <th>NOX</th>\n",
       "      <th>PTRATIO</th>\n",
       "      <th>RAD</th>\n",
       "      <th>ZN</th>\n",
       "      <th>TAX</th>\n",
       "      <th>CHAS</th>\n",
       "      <th>Target</th>\n",
       "    </tr>\n",
       "  </thead>\n",
       "  <tbody>\n",
       "    <tr>\n",
       "      <th>0</th>\n",
       "      <td>65.2</td>\n",
       "      <td>396.90</td>\n",
       "      <td>6.575</td>\n",
       "      <td>0.00632</td>\n",
       "      <td>4.0900</td>\n",
       "      <td>2.31</td>\n",
       "      <td>4.98</td>\n",
       "      <td>0.538</td>\n",
       "      <td>15.3</td>\n",
       "      <td>1</td>\n",
       "      <td>18.0</td>\n",
       "      <td>296</td>\n",
       "      <td>0</td>\n",
       "      <td>24.0</td>\n",
       "    </tr>\n",
       "    <tr>\n",
       "      <th>1</th>\n",
       "      <td>78.9</td>\n",
       "      <td>396.90</td>\n",
       "      <td>6.421</td>\n",
       "      <td>0.02731</td>\n",
       "      <td>4.9671</td>\n",
       "      <td>7.07</td>\n",
       "      <td>9.14</td>\n",
       "      <td>0.469</td>\n",
       "      <td>17.8</td>\n",
       "      <td>2</td>\n",
       "      <td>0.0</td>\n",
       "      <td>242</td>\n",
       "      <td>0</td>\n",
       "      <td>21.6</td>\n",
       "    </tr>\n",
       "    <tr>\n",
       "      <th>2</th>\n",
       "      <td>61.1</td>\n",
       "      <td>392.83</td>\n",
       "      <td>7.185</td>\n",
       "      <td>0.02729</td>\n",
       "      <td>4.9671</td>\n",
       "      <td>7.07</td>\n",
       "      <td>4.03</td>\n",
       "      <td>0.469</td>\n",
       "      <td>17.8</td>\n",
       "      <td>2</td>\n",
       "      <td>0.0</td>\n",
       "      <td>242</td>\n",
       "      <td>0</td>\n",
       "      <td>34.7</td>\n",
       "    </tr>\n",
       "    <tr>\n",
       "      <th>3</th>\n",
       "      <td>45.8</td>\n",
       "      <td>394.63</td>\n",
       "      <td>6.998</td>\n",
       "      <td>0.03237</td>\n",
       "      <td>6.0622</td>\n",
       "      <td>2.18</td>\n",
       "      <td>2.94</td>\n",
       "      <td>0.458</td>\n",
       "      <td>18.7</td>\n",
       "      <td>3</td>\n",
       "      <td>0.0</td>\n",
       "      <td>222</td>\n",
       "      <td>0</td>\n",
       "      <td>33.4</td>\n",
       "    </tr>\n",
       "    <tr>\n",
       "      <th>4</th>\n",
       "      <td>54.2</td>\n",
       "      <td>396.90</td>\n",
       "      <td>7.147</td>\n",
       "      <td>0.06905</td>\n",
       "      <td>6.0622</td>\n",
       "      <td>2.18</td>\n",
       "      <td>5.33</td>\n",
       "      <td>0.458</td>\n",
       "      <td>18.7</td>\n",
       "      <td>3</td>\n",
       "      <td>0.0</td>\n",
       "      <td>222</td>\n",
       "      <td>0</td>\n",
       "      <td>36.2</td>\n",
       "    </tr>\n",
       "  </tbody>\n",
       "</table>\n",
       "</div>"
      ],
      "text/plain": [
       "    AGE       B     RM     CRIM     DIS  INDUS  LSTAT    NOX  PTRATIO  RAD  \\\n",
       "0  65.2  396.90  6.575  0.00632  4.0900   2.31   4.98  0.538     15.3    1   \n",
       "1  78.9  396.90  6.421  0.02731  4.9671   7.07   9.14  0.469     17.8    2   \n",
       "2  61.1  392.83  7.185  0.02729  4.9671   7.07   4.03  0.469     17.8    2   \n",
       "3  45.8  394.63  6.998  0.03237  6.0622   2.18   2.94  0.458     18.7    3   \n",
       "4  54.2  396.90  7.147  0.06905  6.0622   2.18   5.33  0.458     18.7    3   \n",
       "\n",
       "     ZN  TAX  CHAS  Target  \n",
       "0  18.0  296     0    24.0  \n",
       "1   0.0  242     0    21.6  \n",
       "2   0.0  242     0    34.7  \n",
       "3   0.0  222     0    33.4  \n",
       "4   0.0  222     0    36.2  "
      ]
     },
     "execution_count": 3,
     "metadata": {},
     "output_type": "execute_result"
    }
   ],
   "source": [
    "df= pd.read_csv('./Boston_house.csv')\n",
    "df.head()"
   ]
  },
  {
   "cell_type": "code",
   "execution_count": 4,
   "id": "2604460e-e88d-4e1b-96a2-d330b6056592",
   "metadata": {
    "tags": []
   },
   "outputs": [
    {
     "name": "stdout",
     "output_type": "stream",
     "text": [
      "<class 'pandas.core.frame.DataFrame'>\n",
      "RangeIndex: 506 entries, 0 to 505\n",
      "Data columns (total 14 columns):\n",
      " #   Column   Non-Null Count  Dtype  \n",
      "---  ------   --------------  -----  \n",
      " 0   AGE      506 non-null    float64\n",
      " 1   B        506 non-null    float64\n",
      " 2   RM       506 non-null    float64\n",
      " 3   CRIM     506 non-null    float64\n",
      " 4   DIS      506 non-null    float64\n",
      " 5   INDUS    506 non-null    float64\n",
      " 6   LSTAT    506 non-null    float64\n",
      " 7   NOX      506 non-null    float64\n",
      " 8   PTRATIO  506 non-null    float64\n",
      " 9   RAD      506 non-null    int64  \n",
      " 10  ZN       506 non-null    float64\n",
      " 11  TAX      506 non-null    int64  \n",
      " 12  CHAS     506 non-null    int64  \n",
      " 13  Target   506 non-null    float64\n",
      "dtypes: float64(11), int64(3)\n",
      "memory usage: 55.5 KB\n"
     ]
    }
   ],
   "source": [
    "df.info()"
   ]
  },
  {
   "cell_type": "markdown",
   "id": "ebc41cf7-1d5d-41bb-8f3b-567d283faf6a",
   "metadata": {},
   "source": [
    "2. 룸(RM) 가장 큰 상위 1% "
   ]
  },
  {
   "cell_type": "code",
   "execution_count": 151,
   "id": "9a8f8f4b-f0e7-4551-be7b-112f41da26f9",
   "metadata": {
    "tags": []
   },
   "outputs": [],
   "source": [
    "top5=int(len(df['RM'])/100)"
   ]
  },
  {
   "cell_type": "code",
   "execution_count": 21,
   "id": "081c54e9-9ac9-408c-883e-cfc100e5e4c5",
   "metadata": {
    "tags": []
   },
   "outputs": [
    {
     "data": {
      "text/plain": [
       "364    8.78\n",
       "Name: RM, dtype: float64"
      ]
     },
     "execution_count": 21,
     "metadata": {},
     "output_type": "execute_result"
    }
   ],
   "source": [
    "df['RM'][df['RM']==df['RM'].max()].sort_index(ascending=False)"
   ]
  },
  {
   "cell_type": "code",
   "execution_count": 131,
   "id": "9fa0b951-e654-412e-9fca-1c055eb32133",
   "metadata": {
    "tags": []
   },
   "outputs": [
    {
     "data": {
      "text/plain": [
       "4.52445"
      ]
     },
     "execution_count": 131,
     "metadata": {},
     "output_type": "execute_result"
    }
   ],
   "source": [
    "df['RM'].quantile(q=0.01) "
   ]
  },
  {
   "cell_type": "code",
   "execution_count": null,
   "id": "fd91b231-61fc-428b-9c8a-d8743f3a3b6b",
   "metadata": {},
   "outputs": [],
   "source": [
    "df['RM'].sort_values(ascending=False)"
   ]
  },
  {
   "cell_type": "code",
   "execution_count": 152,
   "id": "4ae04a48-c82f-4a04-b1c2-e2617ef2bfc7",
   "metadata": {
    "tags": []
   },
   "outputs": [
    {
     "data": {
      "text/plain": [
       "364    8.780\n",
       "225    8.725\n",
       "257    8.704\n",
       "262    8.398\n",
       "163    8.375\n",
       "Name: RM, dtype: float64"
      ]
     },
     "execution_count": 152,
     "metadata": {},
     "output_type": "execute_result"
    }
   ],
   "source": [
    "df['RM'].nlargest(top5)"
   ]
  },
  {
   "cell_type": "code",
   "execution_count": 153,
   "id": "27c77c25-1adb-47f4-9a00-810f678244fa",
   "metadata": {
    "tags": []
   },
   "outputs": [
    {
     "data": {
      "text/plain": [
       "365    3.561\n",
       "367    3.863\n",
       "374    4.138\n",
       "406    4.138\n",
       "384    4.368\n",
       "Name: RM, dtype: float64"
      ]
     },
     "execution_count": 153,
     "metadata": {},
     "output_type": "execute_result"
    }
   ],
   "source": [
    "df['RM'].nsmallest(top5)"
   ]
  },
  {
   "cell_type": "code",
   "execution_count": 159,
   "id": "299ecb0d-121b-40f7-949c-f1d6ef8a4e4f",
   "metadata": {
    "tags": []
   },
   "outputs": [
    {
     "name": "stdout",
     "output_type": "stream",
     "text": [
      "(8.728, 8.78]\n"
     ]
    }
   ],
   "source": [
    "print(pd.cut(df['RM'].sort_values(ascending=False),100).tolist()[0])"
   ]
  },
  {
   "cell_type": "markdown",
   "id": "fd6da107-2106-4bec-8c1b-a159b903b81c",
   "metadata": {},
   "source": [
    "3. target 컬럼을 대상으로 평균 이상의 값을 갖는 데이터의 갯수 출력"
   ]
  },
  {
   "cell_type": "code",
   "execution_count": 100,
   "id": "3c98efd4-9e3e-4b57-9420-d02cf2689c4f",
   "metadata": {
    "tags": []
   },
   "outputs": [
    {
     "data": {
      "text/plain": [
       "209"
      ]
     },
     "execution_count": 100,
     "metadata": {},
     "output_type": "execute_result"
    }
   ],
   "source": [
    "df['Target'][df['Target']>=df['Target'].mean()].count()"
   ]
  },
  {
   "cell_type": "markdown",
   "id": "a729a0cf-22c4-4f07-a6b4-f941df615b89",
   "metadata": {},
   "source": [
    "4. RM이 3이상이고 CHAS에 인접한 집의 갯수 출력"
   ]
  },
  {
   "cell_type": "code",
   "execution_count": 101,
   "id": "7f7d1534-423a-4ab7-8034-4e1ed63e1e1c",
   "metadata": {
    "tags": []
   },
   "outputs": [
    {
     "data": {
      "text/plain": [
       "35"
      ]
     },
     "execution_count": 101,
     "metadata": {},
     "output_type": "execute_result"
    }
   ],
   "source": [
    "df['Target'][(df['RM']>=3)&(df['CHAS']==1)].count()"
   ]
  },
  {
   "cell_type": "markdown",
   "id": "eca725c0-68d9-4cba-b138-af4624b34245",
   "metadata": {},
   "source": [
    "# Online_retail_mini"
   ]
  },
  {
   "cell_type": "code",
   "execution_count": 44,
   "id": "a0e77d11-ebba-4c97-a5bd-ffca915cfd11",
   "metadata": {
    "tags": []
   },
   "outputs": [
    {
     "data": {
      "text/html": [
       "<div>\n",
       "<style scoped>\n",
       "    .dataframe tbody tr th:only-of-type {\n",
       "        vertical-align: middle;\n",
       "    }\n",
       "\n",
       "    .dataframe tbody tr th {\n",
       "        vertical-align: top;\n",
       "    }\n",
       "\n",
       "    .dataframe thead th {\n",
       "        text-align: right;\n",
       "    }\n",
       "</style>\n",
       "<table border=\"1\" class=\"dataframe\">\n",
       "  <thead>\n",
       "    <tr style=\"text-align: right;\">\n",
       "      <th></th>\n",
       "      <th>InvoiceNo</th>\n",
       "      <th>StockCode</th>\n",
       "      <th>Description</th>\n",
       "      <th>Quantity</th>\n",
       "      <th>InvoiceDate</th>\n",
       "      <th>UnitPrice</th>\n",
       "      <th>CustomerID</th>\n",
       "      <th>Country</th>\n",
       "    </tr>\n",
       "  </thead>\n",
       "  <tbody>\n",
       "    <tr>\n",
       "      <th>0</th>\n",
       "      <td>536365</td>\n",
       "      <td>85123A</td>\n",
       "      <td>WHITE HANGING HEART T-LIGHT HOLDER</td>\n",
       "      <td>6</td>\n",
       "      <td>2010-12-01 8:26</td>\n",
       "      <td>2.55</td>\n",
       "      <td>17850.0</td>\n",
       "      <td>South Korea</td>\n",
       "    </tr>\n",
       "    <tr>\n",
       "      <th>1</th>\n",
       "      <td>536365</td>\n",
       "      <td>71053</td>\n",
       "      <td>WHITE METAL LANTERN</td>\n",
       "      <td>6</td>\n",
       "      <td>2010-12-01 8:26</td>\n",
       "      <td>3.39</td>\n",
       "      <td>17850.0</td>\n",
       "      <td>South Korea</td>\n",
       "    </tr>\n",
       "    <tr>\n",
       "      <th>2</th>\n",
       "      <td>536365</td>\n",
       "      <td>84406B</td>\n",
       "      <td>CREAM CUPID HEARTS COAT HANGER</td>\n",
       "      <td>8</td>\n",
       "      <td>2010-12-01 8:26</td>\n",
       "      <td>2.75</td>\n",
       "      <td>17850.0</td>\n",
       "      <td>South Korea</td>\n",
       "    </tr>\n",
       "    <tr>\n",
       "      <th>3</th>\n",
       "      <td>536365</td>\n",
       "      <td>84029G</td>\n",
       "      <td>KNITTED UNION FLAG HOT WATER BOTTLE</td>\n",
       "      <td>6</td>\n",
       "      <td>2010-12-01 8:26</td>\n",
       "      <td>3.39</td>\n",
       "      <td>17850.0</td>\n",
       "      <td>South Korea</td>\n",
       "    </tr>\n",
       "    <tr>\n",
       "      <th>4</th>\n",
       "      <td>536365</td>\n",
       "      <td>84029E</td>\n",
       "      <td>RED WOOLLY HOTTIE WHITE HEART.</td>\n",
       "      <td>6</td>\n",
       "      <td>2010-12-01 8:26</td>\n",
       "      <td>3.39</td>\n",
       "      <td>17850.0</td>\n",
       "      <td>South Korea</td>\n",
       "    </tr>\n",
       "  </tbody>\n",
       "</table>\n",
       "</div>"
      ],
      "text/plain": [
       "  InvoiceNo StockCode                          Description  Quantity  \\\n",
       "0    536365    85123A   WHITE HANGING HEART T-LIGHT HOLDER         6   \n",
       "1    536365     71053                  WHITE METAL LANTERN         6   \n",
       "2    536365    84406B       CREAM CUPID HEARTS COAT HANGER         8   \n",
       "3    536365    84029G  KNITTED UNION FLAG HOT WATER BOTTLE         6   \n",
       "4    536365    84029E       RED WOOLLY HOTTIE WHITE HEART.         6   \n",
       "\n",
       "       InvoiceDate  UnitPrice  CustomerID      Country  \n",
       "0  2010-12-01 8:26       2.55     17850.0  South Korea  \n",
       "1  2010-12-01 8:26       3.39     17850.0  South Korea  \n",
       "2  2010-12-01 8:26       2.75     17850.0  South Korea  \n",
       "3  2010-12-01 8:26       3.39     17850.0  South Korea  \n",
       "4  2010-12-01 8:26       3.39     17850.0  South Korea  "
      ]
     },
     "execution_count": 44,
     "metadata": {},
     "output_type": "execute_result"
    }
   ],
   "source": [
    "df2= pd.read_csv('./Online_retail_mini.csv')\n",
    "df2.head()"
   ]
  },
  {
   "cell_type": "markdown",
   "id": "18616f99-2027-4863-af6b-ec44d675e411",
   "metadata": {},
   "source": [
    "<pre>\n",
    "선물 판매 온라인 스토어에서  발생한 거래 내역 데이터\n",
    "• InvoiceNo : 거래 고유 번호\n",
    "• StockCode : 상품 고유 번호\n",
    "• Description : 상품명\n",
    "• Quantity : 거래 수량\n",
    "• InvoiceDate : 거래 일시\n",
    "• UnitPrice : 상품 단가\n",
    "• CustomerID : 구매자 고유 번호\n",
    "• Country : 구매 국가"
   ]
  },
  {
   "cell_type": "markdown",
   "id": "829ed84c-4188-4027-ad3f-e6255fb4a009",
   "metadata": {},
   "source": [
    "5. InvoiceDate 컬럼을 대상으로 년도 월 정보를 추출해 오름차순 정렬"
   ]
  },
  {
   "cell_type": "code",
   "execution_count": 67,
   "id": "7d51c679-2340-42c4-9523-404c769dbd1c",
   "metadata": {
    "tags": []
   },
   "outputs": [],
   "source": [
    "df2['InvoiceDate']=df2['InvoiceDate'].astype('datetime64[ns]')"
   ]
  },
  {
   "cell_type": "code",
   "execution_count": 68,
   "id": "2ce3fee3-16a5-4176-a1b2-55682694c42c",
   "metadata": {
    "tags": []
   },
   "outputs": [
    {
     "name": "stdout",
     "output_type": "stream",
     "text": [
      "<class 'pandas.core.frame.DataFrame'>\n",
      "RangeIndex: 83 entries, 0 to 82\n",
      "Data columns (total 8 columns):\n",
      " #   Column       Non-Null Count  Dtype         \n",
      "---  ------       --------------  -----         \n",
      " 0   InvoiceNo    83 non-null     object        \n",
      " 1   StockCode    83 non-null     object        \n",
      " 2   Description  83 non-null     object        \n",
      " 3   Quantity     83 non-null     int64         \n",
      " 4   InvoiceDate  83 non-null     datetime64[ns]\n",
      " 5   UnitPrice    81 non-null     float64       \n",
      " 6   CustomerID   76 non-null     float64       \n",
      " 7   Country      83 non-null     int32         \n",
      "dtypes: datetime64[ns](1), float64(2), int32(1), int64(1), object(3)\n",
      "memory usage: 5.0+ KB\n"
     ]
    }
   ],
   "source": [
    "df2.info()"
   ]
  },
  {
   "cell_type": "code",
   "execution_count": 34,
   "id": "e7d00e85-beea-4b7f-a8aa-ab0c5811f938",
   "metadata": {
    "tags": []
   },
   "outputs": [
    {
     "data": {
      "text/plain": [
       "0     2010\n",
       "14    2010\n",
       "13    2010\n",
       "12    2010\n",
       "11    2010\n",
       "      ... \n",
       "35    2011\n",
       "34    2011\n",
       "33    2011\n",
       "39    2011\n",
       "82    2011\n",
       "Name: InvoiceDate, Length: 83, dtype: int64"
      ]
     },
     "execution_count": 34,
     "metadata": {},
     "output_type": "execute_result"
    }
   ],
   "source": [
    "df2['InvoiceDate'].dt.year.sort_values(ascending=True)"
   ]
  },
  {
   "cell_type": "code",
   "execution_count": 35,
   "id": "49d218b0-1fab-40e3-8daa-6982dcdf7c75",
   "metadata": {
    "tags": []
   },
   "outputs": [
    {
     "data": {
      "text/plain": [
       "41     4\n",
       "28     4\n",
       "29     4\n",
       "30     4\n",
       "31     4\n",
       "      ..\n",
       "12    12\n",
       "13    12\n",
       "14    12\n",
       "8     12\n",
       "82    12\n",
       "Name: InvoiceDate, Length: 83, dtype: int64"
      ]
     },
     "execution_count": 35,
     "metadata": {},
     "output_type": "execute_result"
    }
   ],
   "source": [
    "df2['InvoiceDate'].dt.month.sort_values(ascending=True)"
   ]
  },
  {
   "cell_type": "markdown",
   "id": "2c51ae77-7bf9-495b-80c3-c4b8c86fdf48",
   "metadata": {},
   "source": [
    "6. 구매 국가 컬럼의 값을 수치값으로 변환"
   ]
  },
  {
   "cell_type": "code",
   "execution_count": 47,
   "id": "83c401e2-9413-4e4a-878c-57ec3c0727e7",
   "metadata": {
    "tags": []
   },
   "outputs": [],
   "source": [
    "from sklearn.preprocessing import LabelEncoder\n",
    "le=LabelEncoder()\n",
    "le.fit(df2['Country'])\n",
    "df2['Country']=le.transform(df2['Country'])"
   ]
  },
  {
   "cell_type": "code",
   "execution_count": 48,
   "id": "e7de288b-58ee-4463-9183-c47cbb316784",
   "metadata": {
    "tags": []
   },
   "outputs": [
    {
     "name": "stdout",
     "output_type": "stream",
     "text": [
      "<class 'pandas.core.frame.DataFrame'>\n",
      "RangeIndex: 83 entries, 0 to 82\n",
      "Data columns (total 8 columns):\n",
      " #   Column       Non-Null Count  Dtype  \n",
      "---  ------       --------------  -----  \n",
      " 0   InvoiceNo    83 non-null     object \n",
      " 1   StockCode    83 non-null     object \n",
      " 2   Description  83 non-null     object \n",
      " 3   Quantity     83 non-null     int64  \n",
      " 4   InvoiceDate  83 non-null     object \n",
      " 5   UnitPrice    81 non-null     float64\n",
      " 6   CustomerID   76 non-null     float64\n",
      " 7   Country      83 non-null     int32  \n",
      "dtypes: float64(2), int32(1), int64(1), object(4)\n",
      "memory usage: 5.0+ KB\n"
     ]
    }
   ],
   "source": [
    "df2.info()"
   ]
  },
  {
   "cell_type": "markdown",
   "id": "e189a137-755a-445e-90b4-37a4ea970b49",
   "metadata": {},
   "source": [
    "7.Object 타입을 갖는 컬럼들에 대해 각 컬럼들이 갖는 고유값의 크기 출력"
   ]
  },
  {
   "cell_type": "code",
   "execution_count": 56,
   "id": "f3d581d9-08f8-4d02-90cd-4e22415dd6c3",
   "metadata": {
    "tags": []
   },
   "outputs": [
    {
     "data": {
      "text/plain": [
       "InvoiceNo      19\n",
       "StockCode      80\n",
       "Description    81\n",
       "InvoiceDate    14\n",
       "dtype: int64"
      ]
     },
     "execution_count": 56,
     "metadata": {},
     "output_type": "execute_result"
    }
   ],
   "source": [
    "df2.select_dtypes('object').nunique()"
   ]
  },
  {
   "cell_type": "markdown",
   "id": "2f330efb-12fa-412c-8ffa-5138d36e8f18",
   "metadata": {},
   "source": [
    "8. 거래일시(InvoiceDate) 컬럼을 대상으로 년월별 거래 횟수 출력, 내림차순 정렬"
   ]
  },
  {
   "cell_type": "code",
   "execution_count": 126,
   "id": "67b45a9b-2d6c-49fd-8bf2-7e88f357bfe9",
   "metadata": {
    "tags": []
   },
   "outputs": [],
   "source": [
    "df2['yy']=df2['InvoiceDate'].dt.year.value_counts()"
   ]
  },
  {
   "cell_type": "code",
   "execution_count": 127,
   "id": "b3f9fed3-1f9e-43d7-8cd5-453aa072b340",
   "metadata": {
    "tags": []
   },
   "outputs": [],
   "source": [
    "df2['mm']=df2['InvoiceDate'].dt.month.value_counts()"
   ]
  },
  {
   "cell_type": "code",
   "execution_count": 128,
   "id": "6e21f625-ca1d-458b-81a4-bb5772392eb1",
   "metadata": {
    "tags": []
   },
   "outputs": [
    {
     "data": {
      "text/html": [
       "<div>\n",
       "<style scoped>\n",
       "    .dataframe tbody tr th:only-of-type {\n",
       "        vertical-align: middle;\n",
       "    }\n",
       "\n",
       "    .dataframe tbody tr th {\n",
       "        vertical-align: top;\n",
       "    }\n",
       "\n",
       "    .dataframe thead th {\n",
       "        text-align: right;\n",
       "    }\n",
       "</style>\n",
       "<table border=\"1\" class=\"dataframe\">\n",
       "  <thead>\n",
       "    <tr style=\"text-align: right;\">\n",
       "      <th></th>\n",
       "      <th>InvoiceDate</th>\n",
       "      <th>yy</th>\n",
       "      <th>mm</th>\n",
       "    </tr>\n",
       "  </thead>\n",
       "  <tbody>\n",
       "    <tr>\n",
       "      <th>0</th>\n",
       "      <td>2010-12-01 08:26:00</td>\n",
       "      <td>NaN</td>\n",
       "      <td>NaN</td>\n",
       "    </tr>\n",
       "    <tr>\n",
       "      <th>1</th>\n",
       "      <td>2010-12-01 08:26:00</td>\n",
       "      <td>NaN</td>\n",
       "      <td>NaN</td>\n",
       "    </tr>\n",
       "    <tr>\n",
       "      <th>2</th>\n",
       "      <td>2010-12-01 08:26:00</td>\n",
       "      <td>NaN</td>\n",
       "      <td>NaN</td>\n",
       "    </tr>\n",
       "    <tr>\n",
       "      <th>3</th>\n",
       "      <td>2010-12-01 08:26:00</td>\n",
       "      <td>NaN</td>\n",
       "      <td>NaN</td>\n",
       "    </tr>\n",
       "    <tr>\n",
       "      <th>4</th>\n",
       "      <td>2010-12-01 08:26:00</td>\n",
       "      <td>NaN</td>\n",
       "      <td>37.0</td>\n",
       "    </tr>\n",
       "    <tr>\n",
       "      <th>...</th>\n",
       "      <td>...</td>\n",
       "      <td>...</td>\n",
       "      <td>...</td>\n",
       "    </tr>\n",
       "    <tr>\n",
       "      <th>77</th>\n",
       "      <td>2011-12-09 12:50:00</td>\n",
       "      <td>NaN</td>\n",
       "      <td>NaN</td>\n",
       "    </tr>\n",
       "    <tr>\n",
       "      <th>78</th>\n",
       "      <td>2011-12-09 12:50:00</td>\n",
       "      <td>NaN</td>\n",
       "      <td>NaN</td>\n",
       "    </tr>\n",
       "    <tr>\n",
       "      <th>79</th>\n",
       "      <td>2011-12-09 12:50:00</td>\n",
       "      <td>NaN</td>\n",
       "      <td>NaN</td>\n",
       "    </tr>\n",
       "    <tr>\n",
       "      <th>80</th>\n",
       "      <td>2011-12-09 12:50:00</td>\n",
       "      <td>NaN</td>\n",
       "      <td>NaN</td>\n",
       "    </tr>\n",
       "    <tr>\n",
       "      <th>82</th>\n",
       "      <td>2011-12-09 12:50:00</td>\n",
       "      <td>NaN</td>\n",
       "      <td>NaN</td>\n",
       "    </tr>\n",
       "  </tbody>\n",
       "</table>\n",
       "<p>83 rows × 3 columns</p>\n",
       "</div>"
      ],
      "text/plain": [
       "           InvoiceDate  yy    mm\n",
       "0  2010-12-01 08:26:00 NaN   NaN\n",
       "1  2010-12-01 08:26:00 NaN   NaN\n",
       "2  2010-12-01 08:26:00 NaN   NaN\n",
       "3  2010-12-01 08:26:00 NaN   NaN\n",
       "4  2010-12-01 08:26:00 NaN  37.0\n",
       "..                 ...  ..   ...\n",
       "77 2011-12-09 12:50:00 NaN   NaN\n",
       "78 2011-12-09 12:50:00 NaN   NaN\n",
       "79 2011-12-09 12:50:00 NaN   NaN\n",
       "80 2011-12-09 12:50:00 NaN   NaN\n",
       "82 2011-12-09 12:50:00 NaN   NaN\n",
       "\n",
       "[83 rows x 3 columns]"
      ]
     },
     "execution_count": 128,
     "metadata": {},
     "output_type": "execute_result"
    }
   ],
   "source": [
    "df2[['InvoiceDate','yy','mm']].sort_values('InvoiceDate', ascending=True)"
   ]
  },
  {
   "cell_type": "markdown",
   "id": "028a54b3-5a4f-44e3-81bf-d57f30df22a6",
   "metadata": {
    "tags": []
   },
   "source": [
    "9.구매자 고유 번호(CustomerID)가 결측인 회원값을 최빈도 값으로 대채"
   ]
  },
  {
   "cell_type": "code",
   "execution_count": 89,
   "id": "500b8d39-d995-4efa-9157-c9cacd73da96",
   "metadata": {
    "tags": []
   },
   "outputs": [],
   "source": [
    "dd=df2['CustomerID'].mode()[0]\n",
    "df2['CustomerID']=df2['CustomerID'].fillna(dd)"
   ]
  },
  {
   "cell_type": "code",
   "execution_count": 90,
   "id": "a77eed98-2e2e-4c24-8a52-3bba9a62952c",
   "metadata": {
    "tags": []
   },
   "outputs": [
    {
     "data": {
      "text/plain": [
       "0"
      ]
     },
     "execution_count": 90,
     "metadata": {},
     "output_type": "execute_result"
    }
   ],
   "source": [
    "df2['CustomerID'].isna().sum()"
   ]
  },
  {
   "cell_type": "markdown",
   "id": "87d6409f-ff11-48d3-967f-dda1dd6b6ed9",
   "metadata": {},
   "source": [
    "10. Quantity(거래수량)이 가장 큰 상품들의 상품명, 가격정보 출력"
   ]
  },
  {
   "cell_type": "code",
   "execution_count": 94,
   "id": "a4ac7d98-d2f7-4cfe-8fe9-615a967905b5",
   "metadata": {
    "tags": []
   },
   "outputs": [
    {
     "data": {
      "text/html": [
       "<div>\n",
       "<style scoped>\n",
       "    .dataframe tbody tr th:only-of-type {\n",
       "        vertical-align: middle;\n",
       "    }\n",
       "\n",
       "    .dataframe tbody tr th {\n",
       "        vertical-align: top;\n",
       "    }\n",
       "\n",
       "    .dataframe thead th {\n",
       "        text-align: right;\n",
       "    }\n",
       "</style>\n",
       "<table border=\"1\" class=\"dataframe\">\n",
       "  <thead>\n",
       "    <tr style=\"text-align: right;\">\n",
       "      <th></th>\n",
       "      <th>Description</th>\n",
       "      <th>UnitPrice</th>\n",
       "    </tr>\n",
       "  </thead>\n",
       "  <tbody>\n",
       "    <tr>\n",
       "      <th>33</th>\n",
       "      <td>WHITE HANGING HEART T-LIGHT HOLDER</td>\n",
       "      <td>2.55</td>\n",
       "    </tr>\n",
       "  </tbody>\n",
       "</table>\n",
       "</div>"
      ],
      "text/plain": [
       "                           Description  UnitPrice\n",
       "33  WHITE HANGING HEART T-LIGHT HOLDER       2.55"
      ]
     },
     "execution_count": 94,
     "metadata": {},
     "output_type": "execute_result"
    }
   ],
   "source": [
    "df2[['Description','UnitPrice']][df2['Quantity']==df2['Quantity'].max()]"
   ]
  }
 ],
 "metadata": {
  "kernelspec": {
   "display_name": "Python 3 (ipykernel)",
   "language": "python",
   "name": "python3"
  },
  "language_info": {
   "codemirror_mode": {
    "name": "ipython",
    "version": 3
   },
   "file_extension": ".py",
   "mimetype": "text/x-python",
   "name": "python",
   "nbconvert_exporter": "python",
   "pygments_lexer": "ipython3",
   "version": "3.8.8"
  }
 },
 "nbformat": 4,
 "nbformat_minor": 5
}
