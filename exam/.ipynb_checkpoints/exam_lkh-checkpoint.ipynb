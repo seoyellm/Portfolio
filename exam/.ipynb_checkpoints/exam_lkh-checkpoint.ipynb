{
 "cells": [
  {
   "cell_type": "markdown",
   "id": "f74bdadb-026a-40dc-9b35-3fd3dcc22117",
   "metadata": {},
   "source": [
    "<font size=6><b> EXAM"
   ]
  },
  {
   "cell_type": "markdown",
   "id": "d96af3e9-5639-44e8-b392-12b76f2acba0",
   "metadata": {},
   "source": [
    "<img src=\"https://wikidocs.net/images/page/49966/1.png\">"
   ]
  },
  {
   "cell_type": "markdown",
   "id": "2de23e50-d289-4a02-9ca1-825302641b51",
   "metadata": {},
   "source": [
    "* 1. Boston_house.csv 파일을 load해 dataframe으로 생성하시오."
   ]
  },
  {
   "cell_type": "code",
   "execution_count": 1,
   "id": "ceba3160-3774-4ded-a8cf-2dd1877b073f",
   "metadata": {
    "tags": []
   },
   "outputs": [],
   "source": [
    "import numpy as np\n",
    "import pandas as pd\n",
    "import warnings\n",
    "warnings.filterwarnings(action='ignore')"
   ]
  },
  {
   "cell_type": "code",
   "execution_count": 2,
   "id": "0015df75-8e98-45aa-a7da-b7b9d62d6584",
   "metadata": {
    "tags": []
   },
   "outputs": [
    {
     "data": {
      "text/html": [
       "<div>\n",
       "<style scoped>\n",
       "    .dataframe tbody tr th:only-of-type {\n",
       "        vertical-align: middle;\n",
       "    }\n",
       "\n",
       "    .dataframe tbody tr th {\n",
       "        vertical-align: top;\n",
       "    }\n",
       "\n",
       "    .dataframe thead th {\n",
       "        text-align: right;\n",
       "    }\n",
       "</style>\n",
       "<table border=\"1\" class=\"dataframe\">\n",
       "  <thead>\n",
       "    <tr style=\"text-align: right;\">\n",
       "      <th></th>\n",
       "      <th>AGE</th>\n",
       "      <th>B</th>\n",
       "      <th>RM</th>\n",
       "      <th>CRIM</th>\n",
       "      <th>DIS</th>\n",
       "      <th>INDUS</th>\n",
       "      <th>LSTAT</th>\n",
       "      <th>NOX</th>\n",
       "      <th>PTRATIO</th>\n",
       "      <th>RAD</th>\n",
       "      <th>ZN</th>\n",
       "      <th>TAX</th>\n",
       "      <th>CHAS</th>\n",
       "      <th>Target</th>\n",
       "    </tr>\n",
       "  </thead>\n",
       "  <tbody>\n",
       "    <tr>\n",
       "      <th>0</th>\n",
       "      <td>65.2</td>\n",
       "      <td>396.9</td>\n",
       "      <td>6.575</td>\n",
       "      <td>0.00632</td>\n",
       "      <td>4.0900</td>\n",
       "      <td>2.31</td>\n",
       "      <td>4.98</td>\n",
       "      <td>0.538</td>\n",
       "      <td>15.3</td>\n",
       "      <td>1</td>\n",
       "      <td>18.0</td>\n",
       "      <td>296</td>\n",
       "      <td>0</td>\n",
       "      <td>24.0</td>\n",
       "    </tr>\n",
       "    <tr>\n",
       "      <th>1</th>\n",
       "      <td>78.9</td>\n",
       "      <td>396.9</td>\n",
       "      <td>6.421</td>\n",
       "      <td>0.02731</td>\n",
       "      <td>4.9671</td>\n",
       "      <td>7.07</td>\n",
       "      <td>9.14</td>\n",
       "      <td>0.469</td>\n",
       "      <td>17.8</td>\n",
       "      <td>2</td>\n",
       "      <td>0.0</td>\n",
       "      <td>242</td>\n",
       "      <td>0</td>\n",
       "      <td>21.6</td>\n",
       "    </tr>\n",
       "  </tbody>\n",
       "</table>\n",
       "</div>"
      ],
      "text/plain": [
       "    AGE      B     RM     CRIM     DIS  INDUS  LSTAT    NOX  PTRATIO  RAD  \\\n",
       "0  65.2  396.9  6.575  0.00632  4.0900   2.31   4.98  0.538     15.3    1   \n",
       "1  78.9  396.9  6.421  0.02731  4.9671   7.07   9.14  0.469     17.8    2   \n",
       "\n",
       "     ZN  TAX  CHAS  Target  \n",
       "0  18.0  296     0    24.0  \n",
       "1   0.0  242     0    21.6  "
      ]
     },
     "execution_count": 2,
     "metadata": {},
     "output_type": "execute_result"
    }
   ],
   "source": [
    "df = pd.read_csv(\"./Boston_house.csv\")\n",
    "df.head(2)"
   ]
  },
  {
   "cell_type": "markdown",
   "id": "ae216293-0136-4e08-937a-ffa0c0a74ebc",
   "metadata": {},
   "source": [
    "2. RM컬럼을 정렬 후 상위 1% 출력 == 큰 데이터5개출력"
   ]
  },
  {
   "cell_type": "code",
   "execution_count": 3,
   "id": "1fd2630d-7374-461c-8ea3-0c887ffd6d4b",
   "metadata": {
    "tags": []
   },
   "outputs": [
    {
     "data": {
      "text/plain": [
       "(506, 5)"
      ]
     },
     "execution_count": 3,
     "metadata": {},
     "output_type": "execute_result"
    }
   ],
   "source": [
    "df.shape[0] ,  int( round(len(df) /100, 0) )"
   ]
  },
  {
   "cell_type": "code",
   "execution_count": 4,
   "id": "5bcb59d7-ee36-43b1-8b1b-22353298799f",
   "metadata": {
    "tags": []
   },
   "outputs": [
    {
     "data": {
      "text/plain": [
       "5"
      ]
     },
     "execution_count": 4,
     "metadata": {},
     "output_type": "execute_result"
    }
   ],
   "source": [
    "top1_n = int( round(len(df) /100, 0) )\n",
    "top1_n"
   ]
  },
  {
   "cell_type": "markdown",
   "id": "ebabd6a3-7804-4acd-b3ff-25e0478db731",
   "metadata": {},
   "source": [
    "* 정렬 후 상위 5개"
   ]
  },
  {
   "cell_type": "code",
   "execution_count": 5,
   "id": "96854a98-1c90-43bf-b965-e68f6e8074ac",
   "metadata": {
    "tags": []
   },
   "outputs": [
    {
     "data": {
      "text/plain": [
       "364    8.780\n",
       "225    8.725\n",
       "257    8.704\n",
       "262    8.398\n",
       "163    8.375\n",
       "Name: RM, dtype: float64"
      ]
     },
     "execution_count": 5,
     "metadata": {},
     "output_type": "execute_result"
    }
   ],
   "source": [
    "df['RM'].nlargest(top1_n)  #df['RM'].nlargest(5)"
   ]
  },
  {
   "cell_type": "code",
   "execution_count": 6,
   "id": "685be7d4-24c5-4ae7-9478-8936adb7f98f",
   "metadata": {
    "tags": []
   },
   "outputs": [
    {
     "data": {
      "text/plain": [
       "364    8.780\n",
       "225    8.725\n",
       "257    8.704\n",
       "262    8.398\n",
       "163    8.375\n",
       "Name: RM, dtype: float64"
      ]
     },
     "execution_count": 6,
     "metadata": {},
     "output_type": "execute_result"
    }
   ],
   "source": [
    "df['RM'].sort_values(ascending=False)[:top1_n]"
   ]
  },
  {
   "cell_type": "markdown",
   "id": "ce70cbf9-cdd3-4a65-8189-557671c3b064",
   "metadata": {},
   "source": [
    "* 정렬 후 하위 5개"
   ]
  },
  {
   "cell_type": "code",
   "execution_count": 7,
   "id": "a0f699a6-3c5d-4063-a4f2-ebac4325eaf3",
   "metadata": {
    "tags": []
   },
   "outputs": [
    {
     "data": {
      "text/plain": [
       "365    3.561\n",
       "367    3.863\n",
       "374    4.138\n",
       "406    4.138\n",
       "384    4.368\n",
       "Name: RM, dtype: float64"
      ]
     },
     "execution_count": 7,
     "metadata": {},
     "output_type": "execute_result"
    }
   ],
   "source": [
    "df['RM'].nsmallest(5)"
   ]
  },
  {
   "cell_type": "code",
   "execution_count": 8,
   "id": "b9823b96-262f-481e-90b0-c8abb06c6286",
   "metadata": {
    "tags": []
   },
   "outputs": [
    {
     "data": {
      "text/plain": [
       "365    3.561\n",
       "367    3.863\n",
       "374    4.138\n",
       "406    4.138\n",
       "384    4.368\n",
       "Name: RM, dtype: float64"
      ]
     },
     "execution_count": 8,
     "metadata": {},
     "output_type": "execute_result"
    }
   ],
   "source": [
    "df['RM'].sort_values(ascending=True)[:top1_n]"
   ]
  },
  {
   "cell_type": "markdown",
   "id": "b715b168-99c6-43b1-b895-fd6e14666b62",
   "metadata": {
    "tags": []
   },
   "source": [
    "## 백분위수(Percentile, Quantile)\n",
    "* 데이터를 오름차순 정렬 후 최소값(0) ~ 최대값(100)의 백분율로 나타낸 위치 값\n",
    "* 25, 50, 75를 기준 점으로 나눠져 1분위부터 4분위\n",
    "* pd.quantile( ), np.percentile( )"
   ]
  },
  {
   "cell_type": "markdown",
   "id": "5b6d4ab0-2497-4988-9b6c-fa61f64ca5cd",
   "metadata": {},
   "source": [
    "## QUIZ \n",
    "* 전체 데이터 중 (25%),중앙(50%),25%~50%에 위치한 값 출력"
   ]
  },
  {
   "cell_type": "markdown",
   "id": "6f374f08-40ab-47b0-9f03-2323f06d7ead",
   "metadata": {},
   "source": [
    "### 방법1) np.percentile() 사용"
   ]
  },
  {
   "cell_type": "code",
   "execution_count": 9,
   "id": "9ed581fd-270e-47b8-b254-3ea63b59ef04",
   "metadata": {
    "tags": []
   },
   "outputs": [
    {
     "data": {
      "text/plain": [
       "5.5"
      ]
     },
     "execution_count": 9,
     "metadata": {},
     "output_type": "execute_result"
    }
   ],
   "source": [
    "# array likes data, 50%\n",
    "mylist = [1,2,3,4,5,6,7,8,9,10]\n",
    "np.percentile(mylist, 50)"
   ]
  },
  {
   "cell_type": "markdown",
   "id": "29e53420-7a51-4532-90ee-1d95a3d461ba",
   "metadata": {
    "tags": []
   },
   "source": [
    "### 방법2) pd.quantile() 사용"
   ]
  },
  {
   "cell_type": "code",
   "execution_count": 10,
   "id": "2c25652b-3fa3-4632-9d16-5caa320c218b",
   "metadata": {
    "tags": []
   },
   "outputs": [
    {
     "data": {
      "text/plain": [
       "0    1\n",
       "1    2\n",
       "2    3\n",
       "3    4\n",
       "dtype: int64"
      ]
     },
     "execution_count": 10,
     "metadata": {},
     "output_type": "execute_result"
    }
   ],
   "source": [
    "s = pd.Series([1,2,3,4])\n",
    "s"
   ]
  },
  {
   "cell_type": "code",
   "execution_count": 11,
   "id": "cf90bca9-dff3-44ff-a46b-2051b3e5f714",
   "metadata": {
    "tags": []
   },
   "outputs": [
    {
     "name": "stdout",
     "output_type": "stream",
     "text": [
      "   seq\n",
      "0    1\n",
      "1    2\n",
      "2    3\n",
      "3    4\n",
      "4    5\n"
     ]
    },
    {
     "data": {
      "text/html": [
       "<div>\n",
       "<style scoped>\n",
       "    .dataframe tbody tr th:only-of-type {\n",
       "        vertical-align: middle;\n",
       "    }\n",
       "\n",
       "    .dataframe tbody tr th {\n",
       "        vertical-align: top;\n",
       "    }\n",
       "\n",
       "    .dataframe thead th {\n",
       "        text-align: right;\n",
       "    }\n",
       "</style>\n",
       "<table border=\"1\" class=\"dataframe\">\n",
       "  <thead>\n",
       "    <tr style=\"text-align: right;\">\n",
       "      <th></th>\n",
       "      <th>seq</th>\n",
       "    </tr>\n",
       "  </thead>\n",
       "  <tbody>\n",
       "    <tr>\n",
       "      <th>0</th>\n",
       "      <td>1</td>\n",
       "    </tr>\n",
       "    <tr>\n",
       "      <th>1</th>\n",
       "      <td>2</td>\n",
       "    </tr>\n",
       "    <tr>\n",
       "      <th>2</th>\n",
       "      <td>3</td>\n",
       "    </tr>\n",
       "    <tr>\n",
       "      <th>3</th>\n",
       "      <td>4</td>\n",
       "    </tr>\n",
       "    <tr>\n",
       "      <th>4</th>\n",
       "      <td>5</td>\n",
       "    </tr>\n",
       "  </tbody>\n",
       "</table>\n",
       "</div>"
      ],
      "text/plain": [
       "   seq\n",
       "0    1\n",
       "1    2\n",
       "2    3\n",
       "3    4\n",
       "4    5"
      ]
     },
     "execution_count": 11,
     "metadata": {},
     "output_type": "execute_result"
    }
   ],
   "source": [
    "test = pd.DataFrame([1,2,3,4,5,6,7,8,9,10], columns=['seq'])\n",
    "print( test.head()  )\n",
    "test.head()"
   ]
  },
  {
   "cell_type": "code",
   "execution_count": 12,
   "id": "91a4b536-876b-4bb5-85f3-777ab7b07d4c",
   "metadata": {
    "tags": []
   },
   "outputs": [
    {
     "name": "stdout",
     "output_type": "stream",
     "text": [
      "25%: 3\n",
      "50%중앙값: 5.5\n",
      "[4 5]\n",
      "[4 5]\n",
      "[[4 5]]\n"
     ]
    }
   ],
   "source": [
    "print ( \"25%:\"      ,  test['seq'].quantile(q=0.25, interpolation='nearest') )\n",
    "print ( \"50%중앙값:\",  test['seq'].quantile(q=0.5))\n",
    "\n",
    "q25 = test['seq'].quantile(q=0.25)\n",
    "q50 = test['seq'].quantile(q=0.5)\n",
    "\n",
    "#조건: 25%, 50% 포함 사이값 출력\n",
    "\n",
    "# array\n",
    "print (  test[(test['seq']>=q25) & (test['seq']<=q50)]['seq'].values  )\n",
    "# array.reshape(-1) : 2차 [[]]   -->  1차 []\n",
    "print (  test[(test['seq']>=q25) & (test['seq']<=q50)].values.reshape(-1)  )\n",
    "# array.reshape(1, -1) : 줄(행):1, 칸(열):-1 칸개수는 무관..자동계산\n",
    "print (  test[(test['seq']>=q25) & (test['seq']<=q50)].values.reshape(1,-1)  )"
   ]
  },
  {
   "cell_type": "markdown",
   "id": "0eb835c3-cc43-48c5-82cf-695f1b88f73d",
   "metadata": {
    "tags": []
   },
   "source": [
    "### 방법3) df.describe().loc() 사용"
   ]
  },
  {
   "cell_type": "code",
   "execution_count": 13,
   "id": "996aa448-3c10-4423-8839-8c70911f98e4",
   "metadata": {
    "tags": []
   },
   "outputs": [
    {
     "data": {
      "text/html": [
       "<div>\n",
       "<style scoped>\n",
       "    .dataframe tbody tr th:only-of-type {\n",
       "        vertical-align: middle;\n",
       "    }\n",
       "\n",
       "    .dataframe tbody tr th {\n",
       "        vertical-align: top;\n",
       "    }\n",
       "\n",
       "    .dataframe thead th {\n",
       "        text-align: right;\n",
       "    }\n",
       "</style>\n",
       "<table border=\"1\" class=\"dataframe\">\n",
       "  <thead>\n",
       "    <tr style=\"text-align: right;\">\n",
       "      <th></th>\n",
       "      <th>seq</th>\n",
       "    </tr>\n",
       "  </thead>\n",
       "  <tbody>\n",
       "    <tr>\n",
       "      <th>count</th>\n",
       "      <td>10.00000</td>\n",
       "    </tr>\n",
       "    <tr>\n",
       "      <th>mean</th>\n",
       "      <td>5.50000</td>\n",
       "    </tr>\n",
       "    <tr>\n",
       "      <th>std</th>\n",
       "      <td>3.02765</td>\n",
       "    </tr>\n",
       "    <tr>\n",
       "      <th>min</th>\n",
       "      <td>1.00000</td>\n",
       "    </tr>\n",
       "    <tr>\n",
       "      <th>25%</th>\n",
       "      <td>3.25000</td>\n",
       "    </tr>\n",
       "    <tr>\n",
       "      <th>50%</th>\n",
       "      <td>5.50000</td>\n",
       "    </tr>\n",
       "    <tr>\n",
       "      <th>75%</th>\n",
       "      <td>7.75000</td>\n",
       "    </tr>\n",
       "    <tr>\n",
       "      <th>max</th>\n",
       "      <td>10.00000</td>\n",
       "    </tr>\n",
       "  </tbody>\n",
       "</table>\n",
       "</div>"
      ],
      "text/plain": [
       "            seq\n",
       "count  10.00000\n",
       "mean    5.50000\n",
       "std     3.02765\n",
       "min     1.00000\n",
       "25%     3.25000\n",
       "50%     5.50000\n",
       "75%     7.75000\n",
       "max    10.00000"
      ]
     },
     "execution_count": 13,
     "metadata": {},
     "output_type": "execute_result"
    }
   ],
   "source": [
    "test.describe()"
   ]
  },
  {
   "cell_type": "code",
   "execution_count": 14,
   "id": "d0ed6ed7-35c7-4a93-aa68-c1ab7bb30d1b",
   "metadata": {
    "tags": []
   },
   "outputs": [
    {
     "data": {
      "text/plain": [
       "seq    5.5\n",
       "Name: 50%, dtype: float64"
      ]
     },
     "execution_count": 14,
     "metadata": {},
     "output_type": "execute_result"
    }
   ],
   "source": [
    "desc_df = test.describe()\n",
    "desc_df.loc[\"50%\"]"
   ]
  },
  {
   "cell_type": "markdown",
   "id": "e9a0366c-9405-4635-8912-b4679054bcee",
   "metadata": {},
   "source": [
    "3. target 컬럼을 대상으로 평균 이상의 값을 갖는 데이터의 갯수 출력"
   ]
  },
  {
   "cell_type": "code",
   "execution_count": 15,
   "id": "08d5e4b3-fc19-40d5-8a66-f4a9a81a78ad",
   "metadata": {
    "tags": []
   },
   "outputs": [
    {
     "data": {
      "text/plain": [
       "209"
      ]
     },
     "execution_count": 15,
     "metadata": {},
     "output_type": "execute_result"
    }
   ],
   "source": [
    "vmean = df['Target'].mean()   # 22.532806324110677\n",
    "df[df['Target'] >= vmean]['Target'].count()     \n",
    "df[df['Target'] >= vmean]['Target'].values.shape[0]  # 또는\n",
    "len( df[df['Target'] >= vmean]['Target'] )           # 또는   "
   ]
  },
  {
   "cell_type": "markdown",
   "id": "e24f6815-b35f-4109-9941-508431e0a32b",
   "metadata": {},
   "source": [
    "4. RM이 3이상이고 CHAS강에 인접한 데이터의 갯수 출력"
   ]
  },
  {
   "cell_type": "code",
   "execution_count": 16,
   "id": "fab34746-aa33-4e89-8a18-cdc4028e70bb",
   "metadata": {
    "tags": []
   },
   "outputs": [
    {
     "data": {
      "text/plain": [
       "35"
      ]
     },
     "execution_count": 16,
     "metadata": {},
     "output_type": "execute_result"
    }
   ],
   "source": [
    "len(   df[ (df['RM']>=3)  & (df['CHAS'] == 1) ]  )"
   ]
  },
  {
   "cell_type": "markdown",
   "id": "585aba05-9397-4290-b71a-0913736115b6",
   "metadata": {},
   "source": [
    "<pre>\n",
    "<b>선물 판매 온라인 스토어에서  발생한 거래 내역 데이터</b>\n",
    "• InvoiceNo : 거래 고유 번호\n",
    "• StockCode : 상품 고유 번호\n",
    "• Description : 상품명\n",
    "• Quantity : 거래 수량\n",
    "• InvoiceDate : 거래 일시\n",
    "• UnitPrice : 상품 단가\n",
    "• CustomerID : 구매자 고유 번호\n",
    "• Country : 구매 국가"
   ]
  },
  {
   "cell_type": "code",
   "execution_count": 17,
   "id": "d171938a-cd03-4cf5-a6d5-7f4574cf48c4",
   "metadata": {
    "tags": []
   },
   "outputs": [
    {
     "data": {
      "text/html": [
       "<div>\n",
       "<style scoped>\n",
       "    .dataframe tbody tr th:only-of-type {\n",
       "        vertical-align: middle;\n",
       "    }\n",
       "\n",
       "    .dataframe tbody tr th {\n",
       "        vertical-align: top;\n",
       "    }\n",
       "\n",
       "    .dataframe thead th {\n",
       "        text-align: right;\n",
       "    }\n",
       "</style>\n",
       "<table border=\"1\" class=\"dataframe\">\n",
       "  <thead>\n",
       "    <tr style=\"text-align: right;\">\n",
       "      <th></th>\n",
       "      <th>InvoiceNo</th>\n",
       "      <th>StockCode</th>\n",
       "      <th>Description</th>\n",
       "      <th>Quantity</th>\n",
       "      <th>InvoiceDate</th>\n",
       "      <th>UnitPrice</th>\n",
       "      <th>CustomerID</th>\n",
       "      <th>Country</th>\n",
       "    </tr>\n",
       "  </thead>\n",
       "  <tbody>\n",
       "    <tr>\n",
       "      <th>0</th>\n",
       "      <td>536365</td>\n",
       "      <td>85123A</td>\n",
       "      <td>WHITE HANGING HEART T-LIGHT HOLDER</td>\n",
       "      <td>6</td>\n",
       "      <td>2010-12-01 8:26</td>\n",
       "      <td>2.55</td>\n",
       "      <td>17850.0</td>\n",
       "      <td>South Korea</td>\n",
       "    </tr>\n",
       "    <tr>\n",
       "      <th>1</th>\n",
       "      <td>536365</td>\n",
       "      <td>71053</td>\n",
       "      <td>WHITE METAL LANTERN</td>\n",
       "      <td>6</td>\n",
       "      <td>2010-12-01 8:26</td>\n",
       "      <td>3.39</td>\n",
       "      <td>17850.0</td>\n",
       "      <td>South Korea</td>\n",
       "    </tr>\n",
       "  </tbody>\n",
       "</table>\n",
       "</div>"
      ],
      "text/plain": [
       "  InvoiceNo StockCode                         Description  Quantity  \\\n",
       "0    536365    85123A  WHITE HANGING HEART T-LIGHT HOLDER         6   \n",
       "1    536365     71053                 WHITE METAL LANTERN         6   \n",
       "\n",
       "       InvoiceDate  UnitPrice  CustomerID      Country  \n",
       "0  2010-12-01 8:26       2.55     17850.0  South Korea  \n",
       "1  2010-12-01 8:26       3.39     17850.0  South Korea  "
      ]
     },
     "execution_count": 17,
     "metadata": {},
     "output_type": "execute_result"
    }
   ],
   "source": [
    "odf = pd.read_csv(\"./Online_retail_mini.csv\")\n",
    "odf.head(2)"
   ]
  },
  {
   "cell_type": "markdown",
   "id": "90a1eb58-d65c-435c-bc2b-a01ec1097734",
   "metadata": {},
   "source": [
    "5. InvoiceDate 컬럼을 대상으로 년도, 월 정보를 추출 후 InvoiceDate로 오름차순 정렬"
   ]
  },
  {
   "cell_type": "markdown",
   "id": "c52c2178-71fd-4dca-b588-bc7067a3af39",
   "metadata": {},
   "source": [
    "* datetime.strptime('2013-01-01 09:10:12', '%Y-%m-%d %H:%M:%S')\n",
    "* pd.to_datetime('2013-01-01 09:10:12', format='%Y-%m-%d %H:%M:%S')\n",
    "* odf = pd.read_csv('filename',  parse_dates=['InvoiceDate'])\n",
    "* odf['InvoiceDate'] = pd.to_datetime(odf['InvoiceDate'])"
   ]
  },
  {
   "cell_type": "code",
   "execution_count": 18,
   "id": "71c9f31f-d440-446b-b992-cbaeb60d87f1",
   "metadata": {
    "tags": []
   },
   "outputs": [
    {
     "name": "stdout",
     "output_type": "stream",
     "text": [
      "<class 'pandas.core.frame.DataFrame'>\n",
      "RangeIndex: 83 entries, 0 to 82\n",
      "Data columns (total 8 columns):\n",
      " #   Column       Non-Null Count  Dtype  \n",
      "---  ------       --------------  -----  \n",
      " 0   InvoiceNo    83 non-null     object \n",
      " 1   StockCode    83 non-null     object \n",
      " 2   Description  83 non-null     object \n",
      " 3   Quantity     83 non-null     int64  \n",
      " 4   InvoiceDate  83 non-null     object \n",
      " 5   UnitPrice    81 non-null     float64\n",
      " 6   CustomerID   76 non-null     float64\n",
      " 7   Country      83 non-null     object \n",
      "dtypes: float64(2), int64(1), object(5)\n",
      "memory usage: 5.3+ KB\n"
     ]
    }
   ],
   "source": [
    "odf.info()    #InvoiceDate는 object "
   ]
  },
  {
   "cell_type": "markdown",
   "id": "e275b72b-0ab0-4c60-9772-111943a48f81",
   "metadata": {},
   "source": [
    "## 방법1) read_csv()"
   ]
  },
  {
   "cell_type": "code",
   "execution_count": 19,
   "id": "e890799a-84fe-46cf-9fbd-7a46bb63a085",
   "metadata": {
    "tags": []
   },
   "outputs": [
    {
     "name": "stdout",
     "output_type": "stream",
     "text": [
      "<class 'pandas.core.frame.DataFrame'>\n",
      "RangeIndex: 83 entries, 0 to 82\n",
      "Data columns (total 8 columns):\n",
      " #   Column       Non-Null Count  Dtype         \n",
      "---  ------       --------------  -----         \n",
      " 0   InvoiceNo    83 non-null     object        \n",
      " 1   StockCode    83 non-null     object        \n",
      " 2   Description  83 non-null     object        \n",
      " 3   Quantity     83 non-null     int64         \n",
      " 4   InvoiceDate  83 non-null     datetime64[ns]\n",
      " 5   UnitPrice    81 non-null     float64       \n",
      " 6   CustomerID   76 non-null     float64       \n",
      " 7   Country      83 non-null     object        \n",
      "dtypes: datetime64[ns](1), float64(2), int64(1), object(4)\n",
      "memory usage: 5.3+ KB\n"
     ]
    }
   ],
   "source": [
    "odf = pd.read_csv(\"./Online_retail_mini.csv\", parse_dates=['InvoiceDate'])\n",
    "odf.info()"
   ]
  },
  {
   "cell_type": "code",
   "execution_count": 20,
   "id": "79a91f01-be4d-4a00-becb-b8b22cfad655",
   "metadata": {
    "tags": []
   },
   "outputs": [
    {
     "data": {
      "text/html": [
       "<div>\n",
       "<style scoped>\n",
       "    .dataframe tbody tr th:only-of-type {\n",
       "        vertical-align: middle;\n",
       "    }\n",
       "\n",
       "    .dataframe tbody tr th {\n",
       "        vertical-align: top;\n",
       "    }\n",
       "\n",
       "    .dataframe thead th {\n",
       "        text-align: right;\n",
       "    }\n",
       "</style>\n",
       "<table border=\"1\" class=\"dataframe\">\n",
       "  <thead>\n",
       "    <tr style=\"text-align: right;\">\n",
       "      <th></th>\n",
       "      <th>InvoiceDate</th>\n",
       "      <th>y</th>\n",
       "      <th>m</th>\n",
       "    </tr>\n",
       "  </thead>\n",
       "  <tbody>\n",
       "    <tr>\n",
       "      <th>0</th>\n",
       "      <td>2010-12-01 08:26:00</td>\n",
       "      <td>2010</td>\n",
       "      <td>12</td>\n",
       "    </tr>\n",
       "    <tr>\n",
       "      <th>1</th>\n",
       "      <td>2010-12-01 08:26:00</td>\n",
       "      <td>2010</td>\n",
       "      <td>12</td>\n",
       "    </tr>\n",
       "    <tr>\n",
       "      <th>2</th>\n",
       "      <td>2010-12-01 08:26:00</td>\n",
       "      <td>2010</td>\n",
       "      <td>12</td>\n",
       "    </tr>\n",
       "    <tr>\n",
       "      <th>3</th>\n",
       "      <td>2010-12-01 08:26:00</td>\n",
       "      <td>2010</td>\n",
       "      <td>12</td>\n",
       "    </tr>\n",
       "    <tr>\n",
       "      <th>4</th>\n",
       "      <td>2010-12-01 08:26:00</td>\n",
       "      <td>2010</td>\n",
       "      <td>12</td>\n",
       "    </tr>\n",
       "    <tr>\n",
       "      <th>...</th>\n",
       "      <td>...</td>\n",
       "      <td>...</td>\n",
       "      <td>...</td>\n",
       "    </tr>\n",
       "    <tr>\n",
       "      <th>77</th>\n",
       "      <td>2011-12-09 12:50:00</td>\n",
       "      <td>2011</td>\n",
       "      <td>12</td>\n",
       "    </tr>\n",
       "    <tr>\n",
       "      <th>78</th>\n",
       "      <td>2011-12-09 12:50:00</td>\n",
       "      <td>2011</td>\n",
       "      <td>12</td>\n",
       "    </tr>\n",
       "    <tr>\n",
       "      <th>79</th>\n",
       "      <td>2011-12-09 12:50:00</td>\n",
       "      <td>2011</td>\n",
       "      <td>12</td>\n",
       "    </tr>\n",
       "    <tr>\n",
       "      <th>80</th>\n",
       "      <td>2011-12-09 12:50:00</td>\n",
       "      <td>2011</td>\n",
       "      <td>12</td>\n",
       "    </tr>\n",
       "    <tr>\n",
       "      <th>82</th>\n",
       "      <td>2011-12-09 12:50:00</td>\n",
       "      <td>2011</td>\n",
       "      <td>12</td>\n",
       "    </tr>\n",
       "  </tbody>\n",
       "</table>\n",
       "<p>83 rows × 3 columns</p>\n",
       "</div>"
      ],
      "text/plain": [
       "           InvoiceDate     y   m\n",
       "0  2010-12-01 08:26:00  2010  12\n",
       "1  2010-12-01 08:26:00  2010  12\n",
       "2  2010-12-01 08:26:00  2010  12\n",
       "3  2010-12-01 08:26:00  2010  12\n",
       "4  2010-12-01 08:26:00  2010  12\n",
       "..                 ...   ...  ..\n",
       "77 2011-12-09 12:50:00  2011  12\n",
       "78 2011-12-09 12:50:00  2011  12\n",
       "79 2011-12-09 12:50:00  2011  12\n",
       "80 2011-12-09 12:50:00  2011  12\n",
       "82 2011-12-09 12:50:00  2011  12\n",
       "\n",
       "[83 rows x 3 columns]"
      ]
     },
     "execution_count": 20,
     "metadata": {},
     "output_type": "execute_result"
    }
   ],
   "source": [
    "from datetime import datetime\n",
    "odf['y'] = odf['InvoiceDate'].dt.year\n",
    "odf['m'] = odf['InvoiceDate'].dt.month\n",
    "odf[['InvoiceDate','y','m']].sort_values('InvoiceDate', ascending=True)"
   ]
  },
  {
   "cell_type": "markdown",
   "id": "05c9a43a-bb76-4d10-b474-a3e4c9f87afd",
   "metadata": {},
   "source": [
    "## 방법2) object 그데로 처리"
   ]
  },
  {
   "cell_type": "code",
   "execution_count": 21,
   "id": "ff5c5f30-b367-4bab-b2a7-07f1517812ff",
   "metadata": {
    "tags": []
   },
   "outputs": [
    {
     "name": "stdout",
     "output_type": "stream",
     "text": [
      "<class 'pandas.core.frame.DataFrame'>\n",
      "RangeIndex: 83 entries, 0 to 82\n",
      "Data columns (total 8 columns):\n",
      " #   Column       Non-Null Count  Dtype  \n",
      "---  ------       --------------  -----  \n",
      " 0   InvoiceNo    83 non-null     object \n",
      " 1   StockCode    83 non-null     object \n",
      " 2   Description  83 non-null     object \n",
      " 3   Quantity     83 non-null     int64  \n",
      " 4   InvoiceDate  83 non-null     object \n",
      " 5   UnitPrice    81 non-null     float64\n",
      " 6   CustomerID   76 non-null     float64\n",
      " 7   Country      83 non-null     object \n",
      "dtypes: float64(2), int64(1), object(5)\n",
      "memory usage: 5.3+ KB\n"
     ]
    }
   ],
   "source": [
    "odf = pd.read_csv(\"./Online_retail_mini.csv\")  #, parse_dates=['InvoiceDate'])\n",
    "odf.info()"
   ]
  },
  {
   "cell_type": "code",
   "execution_count": 22,
   "id": "16dcc995-b22a-4d82-a30b-0d8acff92df3",
   "metadata": {
    "tags": []
   },
   "outputs": [
    {
     "data": {
      "text/html": [
       "<div>\n",
       "<style scoped>\n",
       "    .dataframe tbody tr th:only-of-type {\n",
       "        vertical-align: middle;\n",
       "    }\n",
       "\n",
       "    .dataframe tbody tr th {\n",
       "        vertical-align: top;\n",
       "    }\n",
       "\n",
       "    .dataframe thead th {\n",
       "        text-align: right;\n",
       "    }\n",
       "</style>\n",
       "<table border=\"1\" class=\"dataframe\">\n",
       "  <thead>\n",
       "    <tr style=\"text-align: right;\">\n",
       "      <th></th>\n",
       "      <th>InvoiceDate</th>\n",
       "      <th>y</th>\n",
       "      <th>m</th>\n",
       "    </tr>\n",
       "  </thead>\n",
       "  <tbody>\n",
       "    <tr>\n",
       "      <th>0</th>\n",
       "      <td>2010-12-01 8:26</td>\n",
       "      <td>2010</td>\n",
       "      <td>12</td>\n",
       "    </tr>\n",
       "    <tr>\n",
       "      <th>1</th>\n",
       "      <td>2010-12-01 8:26</td>\n",
       "      <td>2010</td>\n",
       "      <td>12</td>\n",
       "    </tr>\n",
       "    <tr>\n",
       "      <th>2</th>\n",
       "      <td>2010-12-01 8:26</td>\n",
       "      <td>2010</td>\n",
       "      <td>12</td>\n",
       "    </tr>\n",
       "    <tr>\n",
       "      <th>3</th>\n",
       "      <td>2010-12-01 8:26</td>\n",
       "      <td>2010</td>\n",
       "      <td>12</td>\n",
       "    </tr>\n",
       "    <tr>\n",
       "      <th>4</th>\n",
       "      <td>2010-12-01 8:26</td>\n",
       "      <td>2010</td>\n",
       "      <td>12</td>\n",
       "    </tr>\n",
       "    <tr>\n",
       "      <th>...</th>\n",
       "      <td>...</td>\n",
       "      <td>...</td>\n",
       "      <td>...</td>\n",
       "    </tr>\n",
       "    <tr>\n",
       "      <th>77</th>\n",
       "      <td>2011-12-09 12:50</td>\n",
       "      <td>2011</td>\n",
       "      <td>12</td>\n",
       "    </tr>\n",
       "    <tr>\n",
       "      <th>78</th>\n",
       "      <td>2011-12-09 12:50</td>\n",
       "      <td>2011</td>\n",
       "      <td>12</td>\n",
       "    </tr>\n",
       "    <tr>\n",
       "      <th>79</th>\n",
       "      <td>2011-12-09 12:50</td>\n",
       "      <td>2011</td>\n",
       "      <td>12</td>\n",
       "    </tr>\n",
       "    <tr>\n",
       "      <th>80</th>\n",
       "      <td>2011-12-09 12:50</td>\n",
       "      <td>2011</td>\n",
       "      <td>12</td>\n",
       "    </tr>\n",
       "    <tr>\n",
       "      <th>82</th>\n",
       "      <td>2011-12-09 12:50</td>\n",
       "      <td>2011</td>\n",
       "      <td>12</td>\n",
       "    </tr>\n",
       "  </tbody>\n",
       "</table>\n",
       "<p>83 rows × 3 columns</p>\n",
       "</div>"
      ],
      "text/plain": [
       "         InvoiceDate     y   m\n",
       "0    2010-12-01 8:26  2010  12\n",
       "1    2010-12-01 8:26  2010  12\n",
       "2    2010-12-01 8:26  2010  12\n",
       "3    2010-12-01 8:26  2010  12\n",
       "4    2010-12-01 8:26  2010  12\n",
       "..               ...   ...  ..\n",
       "77  2011-12-09 12:50  2011  12\n",
       "78  2011-12-09 12:50  2011  12\n",
       "79  2011-12-09 12:50  2011  12\n",
       "80  2011-12-09 12:50  2011  12\n",
       "82  2011-12-09 12:50  2011  12\n",
       "\n",
       "[83 rows x 3 columns]"
      ]
     },
     "execution_count": 22,
     "metadata": {},
     "output_type": "execute_result"
    }
   ],
   "source": [
    "odf['y'] = odf['InvoiceDate'].apply(lambda x : datetime.strptime(x, '%Y-%m-%d %H:%M').year )\n",
    "odf['m'] = odf['InvoiceDate'].apply(lambda x : datetime.strptime(x, '%Y-%m-%d %H:%M').month )\n",
    "odf[['InvoiceDate','y','m']].sort_values('InvoiceDate', ascending=True)"
   ]
  },
  {
   "cell_type": "code",
   "execution_count": 23,
   "id": "03cdd9a2-0355-4c42-84ca-ca63aca1b227",
   "metadata": {
    "tags": []
   },
   "outputs": [
    {
     "data": {
      "text/html": [
       "<div>\n",
       "<style scoped>\n",
       "    .dataframe tbody tr th:only-of-type {\n",
       "        vertical-align: middle;\n",
       "    }\n",
       "\n",
       "    .dataframe tbody tr th {\n",
       "        vertical-align: top;\n",
       "    }\n",
       "\n",
       "    .dataframe thead th {\n",
       "        text-align: right;\n",
       "    }\n",
       "</style>\n",
       "<table border=\"1\" class=\"dataframe\">\n",
       "  <thead>\n",
       "    <tr style=\"text-align: right;\">\n",
       "      <th></th>\n",
       "      <th>InvoiceDate</th>\n",
       "      <th>y</th>\n",
       "      <th>m</th>\n",
       "    </tr>\n",
       "  </thead>\n",
       "  <tbody>\n",
       "    <tr>\n",
       "      <th>0</th>\n",
       "      <td>2010-12-01 8:26</td>\n",
       "      <td>2010</td>\n",
       "      <td>12</td>\n",
       "    </tr>\n",
       "    <tr>\n",
       "      <th>1</th>\n",
       "      <td>2010-12-01 8:26</td>\n",
       "      <td>2010</td>\n",
       "      <td>12</td>\n",
       "    </tr>\n",
       "    <tr>\n",
       "      <th>2</th>\n",
       "      <td>2010-12-01 8:26</td>\n",
       "      <td>2010</td>\n",
       "      <td>12</td>\n",
       "    </tr>\n",
       "    <tr>\n",
       "      <th>3</th>\n",
       "      <td>2010-12-01 8:26</td>\n",
       "      <td>2010</td>\n",
       "      <td>12</td>\n",
       "    </tr>\n",
       "    <tr>\n",
       "      <th>4</th>\n",
       "      <td>2010-12-01 8:26</td>\n",
       "      <td>2010</td>\n",
       "      <td>12</td>\n",
       "    </tr>\n",
       "    <tr>\n",
       "      <th>...</th>\n",
       "      <td>...</td>\n",
       "      <td>...</td>\n",
       "      <td>...</td>\n",
       "    </tr>\n",
       "    <tr>\n",
       "      <th>77</th>\n",
       "      <td>2011-12-09 12:50</td>\n",
       "      <td>2011</td>\n",
       "      <td>12</td>\n",
       "    </tr>\n",
       "    <tr>\n",
       "      <th>78</th>\n",
       "      <td>2011-12-09 12:50</td>\n",
       "      <td>2011</td>\n",
       "      <td>12</td>\n",
       "    </tr>\n",
       "    <tr>\n",
       "      <th>79</th>\n",
       "      <td>2011-12-09 12:50</td>\n",
       "      <td>2011</td>\n",
       "      <td>12</td>\n",
       "    </tr>\n",
       "    <tr>\n",
       "      <th>80</th>\n",
       "      <td>2011-12-09 12:50</td>\n",
       "      <td>2011</td>\n",
       "      <td>12</td>\n",
       "    </tr>\n",
       "    <tr>\n",
       "      <th>82</th>\n",
       "      <td>2011-12-09 12:50</td>\n",
       "      <td>2011</td>\n",
       "      <td>12</td>\n",
       "    </tr>\n",
       "  </tbody>\n",
       "</table>\n",
       "<p>83 rows × 3 columns</p>\n",
       "</div>"
      ],
      "text/plain": [
       "         InvoiceDate     y   m\n",
       "0    2010-12-01 8:26  2010  12\n",
       "1    2010-12-01 8:26  2010  12\n",
       "2    2010-12-01 8:26  2010  12\n",
       "3    2010-12-01 8:26  2010  12\n",
       "4    2010-12-01 8:26  2010  12\n",
       "..               ...   ...  ..\n",
       "77  2011-12-09 12:50  2011  12\n",
       "78  2011-12-09 12:50  2011  12\n",
       "79  2011-12-09 12:50  2011  12\n",
       "80  2011-12-09 12:50  2011  12\n",
       "82  2011-12-09 12:50  2011  12\n",
       "\n",
       "[83 rows x 3 columns]"
      ]
     },
     "execution_count": 23,
     "metadata": {},
     "output_type": "execute_result"
    }
   ],
   "source": [
    "odf['y'] = odf['InvoiceDate'].str[0:4]  #Object(str)\n",
    "odf['m'] = odf['InvoiceDate'].str[5:7]  #Object(str)\n",
    "odf[['InvoiceDate','y','m']].sort_values('InvoiceDate', ascending=True)"
   ]
  },
  {
   "cell_type": "markdown",
   "id": "812cc815-07bd-479b-ba57-6a46e2b90413",
   "metadata": {},
   "source": [
    "## 방법3) pd.to_datetime()"
   ]
  },
  {
   "cell_type": "code",
   "execution_count": 24,
   "id": "60bb5685-4121-4dbb-8cfa-a82e29b948cc",
   "metadata": {
    "tags": []
   },
   "outputs": [
    {
     "name": "stdout",
     "output_type": "stream",
     "text": [
      "<class 'pandas.core.frame.DataFrame'>\n",
      "RangeIndex: 83 entries, 0 to 82\n",
      "Data columns (total 8 columns):\n",
      " #   Column       Non-Null Count  Dtype  \n",
      "---  ------       --------------  -----  \n",
      " 0   InvoiceNo    83 non-null     object \n",
      " 1   StockCode    83 non-null     object \n",
      " 2   Description  83 non-null     object \n",
      " 3   Quantity     83 non-null     int64  \n",
      " 4   InvoiceDate  83 non-null     object \n",
      " 5   UnitPrice    81 non-null     float64\n",
      " 6   CustomerID   76 non-null     float64\n",
      " 7   Country      83 non-null     object \n",
      "dtypes: float64(2), int64(1), object(5)\n",
      "memory usage: 5.3+ KB\n"
     ]
    }
   ],
   "source": [
    "odf = pd.read_csv(\"./Online_retail_mini.csv\")  #, parse_dates=['InvoiceDate'])\n",
    "odf.info()"
   ]
  },
  {
   "cell_type": "code",
   "execution_count": 25,
   "id": "1df009f6-d088-4017-8b40-65d3565d3d02",
   "metadata": {
    "tags": []
   },
   "outputs": [
    {
     "name": "stdout",
     "output_type": "stream",
     "text": [
      "<class 'pandas.core.frame.DataFrame'>\n",
      "RangeIndex: 83 entries, 0 to 82\n",
      "Data columns (total 8 columns):\n",
      " #   Column       Non-Null Count  Dtype         \n",
      "---  ------       --------------  -----         \n",
      " 0   InvoiceNo    83 non-null     object        \n",
      " 1   StockCode    83 non-null     object        \n",
      " 2   Description  83 non-null     object        \n",
      " 3   Quantity     83 non-null     int64         \n",
      " 4   InvoiceDate  83 non-null     datetime64[ns]\n",
      " 5   UnitPrice    81 non-null     float64       \n",
      " 6   CustomerID   76 non-null     float64       \n",
      " 7   Country      83 non-null     object        \n",
      "dtypes: datetime64[ns](1), float64(2), int64(1), object(4)\n",
      "memory usage: 5.3+ KB\n"
     ]
    }
   ],
   "source": [
    "odf['InvoiceDate'] = pd.to_datetime(odf['InvoiceDate'])\n",
    "odf.info()"
   ]
  },
  {
   "cell_type": "code",
   "execution_count": 26,
   "id": "23ce2600-564a-4f03-82b4-8e61ff631019",
   "metadata": {
    "tags": []
   },
   "outputs": [
    {
     "data": {
      "text/html": [
       "<div>\n",
       "<style scoped>\n",
       "    .dataframe tbody tr th:only-of-type {\n",
       "        vertical-align: middle;\n",
       "    }\n",
       "\n",
       "    .dataframe tbody tr th {\n",
       "        vertical-align: top;\n",
       "    }\n",
       "\n",
       "    .dataframe thead th {\n",
       "        text-align: right;\n",
       "    }\n",
       "</style>\n",
       "<table border=\"1\" class=\"dataframe\">\n",
       "  <thead>\n",
       "    <tr style=\"text-align: right;\">\n",
       "      <th></th>\n",
       "      <th>InvoiceDate</th>\n",
       "      <th>y</th>\n",
       "      <th>m</th>\n",
       "    </tr>\n",
       "  </thead>\n",
       "  <tbody>\n",
       "    <tr>\n",
       "      <th>0</th>\n",
       "      <td>2010-12-01 08:26:00</td>\n",
       "      <td>2010</td>\n",
       "      <td>12</td>\n",
       "    </tr>\n",
       "    <tr>\n",
       "      <th>1</th>\n",
       "      <td>2010-12-01 08:26:00</td>\n",
       "      <td>2010</td>\n",
       "      <td>12</td>\n",
       "    </tr>\n",
       "    <tr>\n",
       "      <th>2</th>\n",
       "      <td>2010-12-01 08:26:00</td>\n",
       "      <td>2010</td>\n",
       "      <td>12</td>\n",
       "    </tr>\n",
       "    <tr>\n",
       "      <th>3</th>\n",
       "      <td>2010-12-01 08:26:00</td>\n",
       "      <td>2010</td>\n",
       "      <td>12</td>\n",
       "    </tr>\n",
       "    <tr>\n",
       "      <th>4</th>\n",
       "      <td>2010-12-01 08:26:00</td>\n",
       "      <td>2010</td>\n",
       "      <td>12</td>\n",
       "    </tr>\n",
       "    <tr>\n",
       "      <th>...</th>\n",
       "      <td>...</td>\n",
       "      <td>...</td>\n",
       "      <td>...</td>\n",
       "    </tr>\n",
       "    <tr>\n",
       "      <th>77</th>\n",
       "      <td>2011-12-09 12:50:00</td>\n",
       "      <td>2011</td>\n",
       "      <td>12</td>\n",
       "    </tr>\n",
       "    <tr>\n",
       "      <th>78</th>\n",
       "      <td>2011-12-09 12:50:00</td>\n",
       "      <td>2011</td>\n",
       "      <td>12</td>\n",
       "    </tr>\n",
       "    <tr>\n",
       "      <th>79</th>\n",
       "      <td>2011-12-09 12:50:00</td>\n",
       "      <td>2011</td>\n",
       "      <td>12</td>\n",
       "    </tr>\n",
       "    <tr>\n",
       "      <th>80</th>\n",
       "      <td>2011-12-09 12:50:00</td>\n",
       "      <td>2011</td>\n",
       "      <td>12</td>\n",
       "    </tr>\n",
       "    <tr>\n",
       "      <th>82</th>\n",
       "      <td>2011-12-09 12:50:00</td>\n",
       "      <td>2011</td>\n",
       "      <td>12</td>\n",
       "    </tr>\n",
       "  </tbody>\n",
       "</table>\n",
       "<p>83 rows × 3 columns</p>\n",
       "</div>"
      ],
      "text/plain": [
       "           InvoiceDate     y   m\n",
       "0  2010-12-01 08:26:00  2010  12\n",
       "1  2010-12-01 08:26:00  2010  12\n",
       "2  2010-12-01 08:26:00  2010  12\n",
       "3  2010-12-01 08:26:00  2010  12\n",
       "4  2010-12-01 08:26:00  2010  12\n",
       "..                 ...   ...  ..\n",
       "77 2011-12-09 12:50:00  2011  12\n",
       "78 2011-12-09 12:50:00  2011  12\n",
       "79 2011-12-09 12:50:00  2011  12\n",
       "80 2011-12-09 12:50:00  2011  12\n",
       "82 2011-12-09 12:50:00  2011  12\n",
       "\n",
       "[83 rows x 3 columns]"
      ]
     },
     "execution_count": 26,
     "metadata": {},
     "output_type": "execute_result"
    }
   ],
   "source": [
    "from datetime import datetime\n",
    "odf['y'] = odf['InvoiceDate'].dt.year\n",
    "odf['m'] = odf['InvoiceDate'].dt.month\n",
    "odf[['InvoiceDate','y','m']].sort_values('InvoiceDate', ascending=True)"
   ]
  },
  {
   "cell_type": "markdown",
   "id": "cbd3a15d-2de5-4cd7-b02d-2bc29974215b",
   "metadata": {},
   "source": [
    "## 방법4) astype('datetime64[ns]')"
   ]
  },
  {
   "cell_type": "code",
   "execution_count": 27,
   "id": "d3fc99c8-1585-47d8-827b-ca9b2dc26d2f",
   "metadata": {
    "tags": []
   },
   "outputs": [
    {
     "name": "stdout",
     "output_type": "stream",
     "text": [
      "<class 'pandas.core.frame.DataFrame'>\n",
      "RangeIndex: 83 entries, 0 to 82\n",
      "Data columns (total 8 columns):\n",
      " #   Column       Non-Null Count  Dtype  \n",
      "---  ------       --------------  -----  \n",
      " 0   InvoiceNo    83 non-null     object \n",
      " 1   StockCode    83 non-null     object \n",
      " 2   Description  83 non-null     object \n",
      " 3   Quantity     83 non-null     int64  \n",
      " 4   InvoiceDate  83 non-null     object \n",
      " 5   UnitPrice    81 non-null     float64\n",
      " 6   CustomerID   76 non-null     float64\n",
      " 7   Country      83 non-null     object \n",
      "dtypes: float64(2), int64(1), object(5)\n",
      "memory usage: 5.3+ KB\n"
     ]
    }
   ],
   "source": [
    "odf = pd.read_csv(\"./Online_retail_mini.csv\")  #, parse_dates=['InvoiceDate'])\n",
    "odf.info()"
   ]
  },
  {
   "cell_type": "code",
   "execution_count": 28,
   "id": "6f646e44-7dc2-49b1-a948-0b9e8a082844",
   "metadata": {
    "tags": []
   },
   "outputs": [
    {
     "name": "stdout",
     "output_type": "stream",
     "text": [
      "<class 'pandas.core.frame.DataFrame'>\n",
      "RangeIndex: 83 entries, 0 to 82\n",
      "Data columns (total 8 columns):\n",
      " #   Column       Non-Null Count  Dtype         \n",
      "---  ------       --------------  -----         \n",
      " 0   InvoiceNo    83 non-null     object        \n",
      " 1   StockCode    83 non-null     object        \n",
      " 2   Description  83 non-null     object        \n",
      " 3   Quantity     83 non-null     int64         \n",
      " 4   InvoiceDate  83 non-null     datetime64[ns]\n",
      " 5   UnitPrice    81 non-null     float64       \n",
      " 6   CustomerID   76 non-null     float64       \n",
      " 7   Country      83 non-null     object        \n",
      "dtypes: datetime64[ns](1), float64(2), int64(1), object(4)\n",
      "memory usage: 5.3+ KB\n"
     ]
    }
   ],
   "source": [
    "odf['InvoiceDate'] = odf['InvoiceDate'].astype('datetime64[ns]')\n",
    "odf.info()"
   ]
  },
  {
   "cell_type": "code",
   "execution_count": 29,
   "id": "725b911d-f3de-49cb-91b1-cf6aeef40fe6",
   "metadata": {
    "tags": []
   },
   "outputs": [
    {
     "data": {
      "text/html": [
       "<div>\n",
       "<style scoped>\n",
       "    .dataframe tbody tr th:only-of-type {\n",
       "        vertical-align: middle;\n",
       "    }\n",
       "\n",
       "    .dataframe tbody tr th {\n",
       "        vertical-align: top;\n",
       "    }\n",
       "\n",
       "    .dataframe thead th {\n",
       "        text-align: right;\n",
       "    }\n",
       "</style>\n",
       "<table border=\"1\" class=\"dataframe\">\n",
       "  <thead>\n",
       "    <tr style=\"text-align: right;\">\n",
       "      <th></th>\n",
       "      <th>InvoiceDate</th>\n",
       "      <th>y</th>\n",
       "      <th>m</th>\n",
       "    </tr>\n",
       "  </thead>\n",
       "  <tbody>\n",
       "    <tr>\n",
       "      <th>0</th>\n",
       "      <td>2010-12-01 08:26:00</td>\n",
       "      <td>2010</td>\n",
       "      <td>12</td>\n",
       "    </tr>\n",
       "    <tr>\n",
       "      <th>1</th>\n",
       "      <td>2010-12-01 08:26:00</td>\n",
       "      <td>2010</td>\n",
       "      <td>12</td>\n",
       "    </tr>\n",
       "    <tr>\n",
       "      <th>2</th>\n",
       "      <td>2010-12-01 08:26:00</td>\n",
       "      <td>2010</td>\n",
       "      <td>12</td>\n",
       "    </tr>\n",
       "    <tr>\n",
       "      <th>3</th>\n",
       "      <td>2010-12-01 08:26:00</td>\n",
       "      <td>2010</td>\n",
       "      <td>12</td>\n",
       "    </tr>\n",
       "    <tr>\n",
       "      <th>4</th>\n",
       "      <td>2010-12-01 08:26:00</td>\n",
       "      <td>2010</td>\n",
       "      <td>12</td>\n",
       "    </tr>\n",
       "    <tr>\n",
       "      <th>...</th>\n",
       "      <td>...</td>\n",
       "      <td>...</td>\n",
       "      <td>...</td>\n",
       "    </tr>\n",
       "    <tr>\n",
       "      <th>77</th>\n",
       "      <td>2011-12-09 12:50:00</td>\n",
       "      <td>2011</td>\n",
       "      <td>12</td>\n",
       "    </tr>\n",
       "    <tr>\n",
       "      <th>78</th>\n",
       "      <td>2011-12-09 12:50:00</td>\n",
       "      <td>2011</td>\n",
       "      <td>12</td>\n",
       "    </tr>\n",
       "    <tr>\n",
       "      <th>79</th>\n",
       "      <td>2011-12-09 12:50:00</td>\n",
       "      <td>2011</td>\n",
       "      <td>12</td>\n",
       "    </tr>\n",
       "    <tr>\n",
       "      <th>80</th>\n",
       "      <td>2011-12-09 12:50:00</td>\n",
       "      <td>2011</td>\n",
       "      <td>12</td>\n",
       "    </tr>\n",
       "    <tr>\n",
       "      <th>82</th>\n",
       "      <td>2011-12-09 12:50:00</td>\n",
       "      <td>2011</td>\n",
       "      <td>12</td>\n",
       "    </tr>\n",
       "  </tbody>\n",
       "</table>\n",
       "<p>83 rows × 3 columns</p>\n",
       "</div>"
      ],
      "text/plain": [
       "           InvoiceDate     y   m\n",
       "0  2010-12-01 08:26:00  2010  12\n",
       "1  2010-12-01 08:26:00  2010  12\n",
       "2  2010-12-01 08:26:00  2010  12\n",
       "3  2010-12-01 08:26:00  2010  12\n",
       "4  2010-12-01 08:26:00  2010  12\n",
       "..                 ...   ...  ..\n",
       "77 2011-12-09 12:50:00  2011  12\n",
       "78 2011-12-09 12:50:00  2011  12\n",
       "79 2011-12-09 12:50:00  2011  12\n",
       "80 2011-12-09 12:50:00  2011  12\n",
       "82 2011-12-09 12:50:00  2011  12\n",
       "\n",
       "[83 rows x 3 columns]"
      ]
     },
     "execution_count": 29,
     "metadata": {},
     "output_type": "execute_result"
    }
   ],
   "source": [
    "from datetime import datetime\n",
    "# odf['y'] = odf['InvoiceDate'].dt.year\n",
    "# odf['m'] = odf['InvoiceDate'].dt.month\n",
    "odf['y'] = odf['InvoiceDate'].dt.strftime('%Y') \n",
    "odf['m'] = odf['InvoiceDate'].dt.strftime('%m') \n",
    "odf[['InvoiceDate','y','m']].sort_values('InvoiceDate', ascending=True)"
   ]
  },
  {
   "cell_type": "markdown",
   "id": "50984da8-c471-4939-946e-79c79257259e",
   "metadata": {},
   "source": [
    "6. 구매국가(Country) 컬럼의 값을 수치값으로 변환"
   ]
  },
  {
   "cell_type": "markdown",
   "id": "46c42a96-6b5b-4c4c-ba51-2369512c6c00",
   "metadata": {
    "tags": []
   },
   "source": [
    "* replace()\n",
    "* map()\n",
    "* apply(lambda x:)\n",
    "* LabelEncoder()\n",
    "* astype('category')"
   ]
  },
  {
   "cell_type": "code",
   "execution_count": 30,
   "id": "81c3e346-281d-4c3d-90b2-329caea818fb",
   "metadata": {
    "tags": []
   },
   "outputs": [
    {
     "name": "stdout",
     "output_type": "stream",
     "text": [
      "<class 'pandas.core.frame.DataFrame'>\n",
      "RangeIndex: 83 entries, 0 to 82\n",
      "Data columns (total 8 columns):\n",
      " #   Column       Non-Null Count  Dtype         \n",
      "---  ------       --------------  -----         \n",
      " 0   InvoiceNo    83 non-null     object        \n",
      " 1   StockCode    83 non-null     object        \n",
      " 2   Description  83 non-null     object        \n",
      " 3   Quantity     83 non-null     int64         \n",
      " 4   InvoiceDate  83 non-null     datetime64[ns]\n",
      " 5   UnitPrice    81 non-null     float64       \n",
      " 6   CustomerID   76 non-null     float64       \n",
      " 7   Country      83 non-null     object        \n",
      "dtypes: datetime64[ns](1), float64(2), int64(1), object(4)\n",
      "memory usage: 5.3+ KB\n"
     ]
    }
   ],
   "source": [
    "odf = pd.read_csv(\"./Online_retail_mini.csv\", parse_dates=['InvoiceDate'])\n",
    "odf.info()"
   ]
  },
  {
   "cell_type": "markdown",
   "id": "7f9a4420-7da9-4c89-ad62-08303c85c24b",
   "metadata": {},
   "source": [
    "## 방법1) replace([원본], [변경])"
   ]
  },
  {
   "cell_type": "code",
   "execution_count": 31,
   "id": "e5df78f9-9988-4c53-b926-f451d672a37b",
   "metadata": {
    "tags": []
   },
   "outputs": [
    {
     "data": {
      "text/plain": [
       "United Kingdom    34\n",
       "South Korea       16\n",
       "Austria           13\n",
       "France            11\n",
       "Germany            9\n",
       "Name: Country, dtype: int64"
      ]
     },
     "execution_count": 31,
     "metadata": {},
     "output_type": "execute_result"
    }
   ],
   "source": [
    "odf['Country'].value_counts()"
   ]
  },
  {
   "cell_type": "code",
   "execution_count": 32,
   "id": "210d6ca1-c829-465e-90e1-be064c59c258",
   "metadata": {
    "tags": []
   },
   "outputs": [
    {
     "data": {
      "text/plain": [
       "Index(['United Kingdom', 'South Korea', 'Austria', 'France', 'Germany'], dtype='object')"
      ]
     },
     "execution_count": 32,
     "metadata": {},
     "output_type": "execute_result"
    }
   ],
   "source": [
    "odf['Country'].value_counts().index"
   ]
  },
  {
   "cell_type": "code",
   "execution_count": 33,
   "id": "2e643de5-e9a7-495e-8428-9f65d1a28465",
   "metadata": {
    "tags": []
   },
   "outputs": [
    {
     "data": {
      "text/plain": [
       "Country         Country2\n",
       "United Kingdom  0           34\n",
       "South Korea     1           16\n",
       "Austria         2           13\n",
       "France          3           11\n",
       "Germany         4            9\n",
       "dtype: int64"
      ]
     },
     "execution_count": 33,
     "metadata": {},
     "output_type": "execute_result"
    }
   ],
   "source": [
    "odf['Country2'] = odf['Country'].replace( ['United Kingdom', 'South Korea', 'Austria', 'France', 'Germany'],\n",
    "                                         [0,1,2,3,4] )\n",
    "odf[['Country','Country2']].value_counts()"
   ]
  },
  {
   "cell_type": "markdown",
   "id": "e1e4c72c-bb09-4cb1-b4d8-213ad9778f9e",
   "metadata": {},
   "source": [
    "## 방법2) map(dict)"
   ]
  },
  {
   "cell_type": "code",
   "execution_count": 34,
   "id": "91075f55-9eda-45c6-87f2-d0712f0512fc",
   "metadata": {
    "tags": []
   },
   "outputs": [
    {
     "data": {
      "text/plain": [
       "array(['United Kingdom', 'South Korea', 'Austria', 'France', 'Germany'],\n",
       "      dtype=object)"
      ]
     },
     "execution_count": 34,
     "metadata": {},
     "output_type": "execute_result"
    }
   ],
   "source": [
    "odf['Country'].value_counts().index.values"
   ]
  },
  {
   "cell_type": "code",
   "execution_count": 35,
   "id": "9dba77c5-5bff-49af-82c6-2a526a12785b",
   "metadata": {
    "tags": []
   },
   "outputs": [],
   "source": [
    "# dict(  enumerate(odf['Country'].value_counts().index.values)   )"
   ]
  },
  {
   "cell_type": "code",
   "execution_count": 36,
   "id": "7dc6913d-6fcc-49c5-81f1-d1a6c7a4a124",
   "metadata": {
    "tags": []
   },
   "outputs": [
    {
     "data": {
      "text/plain": [
       "{'United Kingdom': 0,\n",
       " 'South Korea': 1,\n",
       " 'Austria': 2,\n",
       " 'France': 3,\n",
       " 'Germany': 4}"
      ]
     },
     "execution_count": 36,
     "metadata": {},
     "output_type": "execute_result"
    }
   ],
   "source": [
    "clist = odf['Country'].value_counts().index.values\n",
    "clist\n",
    "mydic = {}\n",
    "for i,cname in enumerate(clist) :\n",
    "    #print(i, cname)\n",
    "    mydic[cname] = i\n",
    "mydic"
   ]
  },
  {
   "cell_type": "code",
   "execution_count": 37,
   "id": "dd1391d6-6c5e-46be-a27d-06bb07a63a00",
   "metadata": {
    "tags": []
   },
   "outputs": [],
   "source": [
    "odf['Country3'] = odf['Country'].map(mydic)"
   ]
  },
  {
   "cell_type": "code",
   "execution_count": 38,
   "id": "5ed87838-b9c4-4a97-a119-364c1d866f7e",
   "metadata": {
    "tags": []
   },
   "outputs": [
    {
     "data": {
      "text/plain": [
       "Country         Country2  Country3\n",
       "United Kingdom  0         0           34\n",
       "South Korea     1         1           16\n",
       "Austria         2         2           13\n",
       "France          3         3           11\n",
       "Germany         4         4            9\n",
       "dtype: int64"
      ]
     },
     "execution_count": 38,
     "metadata": {},
     "output_type": "execute_result"
    }
   ],
   "source": [
    "odf[['Country','Country2','Country3']].value_counts()"
   ]
  },
  {
   "cell_type": "markdown",
   "id": "4be26626-735f-4626-8f61-dc78958d503f",
   "metadata": {},
   "source": [
    "## 방법3) apply(lambda x:)"
   ]
  },
  {
   "cell_type": "code",
   "execution_count": 39,
   "id": "1fcad728-13da-4b59-b63a-f1ee898b6d78",
   "metadata": {
    "tags": []
   },
   "outputs": [
    {
     "data": {
      "text/plain": [
       "4"
      ]
     },
     "execution_count": 39,
     "metadata": {},
     "output_type": "execute_result"
    }
   ],
   "source": [
    "def myfunc(x) :\n",
    "    code = 0\n",
    "    if x == 'United Kingdom': \n",
    "        code = 0\n",
    "    elif x == 'South Korea': \n",
    "        code = 1\n",
    "    elif x == 'Austria': \n",
    "        code = 2\n",
    "    elif x == 'France': \n",
    "        code = 3\n",
    "    elif x == 'Germany': \n",
    "        code = 4\n",
    "    return code\n",
    "myfunc('Germany')"
   ]
  },
  {
   "cell_type": "code",
   "execution_count": 40,
   "id": "6a56886f-9271-4477-8dfa-d6eb60e50419",
   "metadata": {
    "tags": []
   },
   "outputs": [
    {
     "data": {
      "text/plain": [
       "Country         Country2  Country3  Country4\n",
       "United Kingdom  0         0         0           34\n",
       "South Korea     1         1         1           16\n",
       "Austria         2         2         2           13\n",
       "France          3         3         3           11\n",
       "Germany         4         4         4            9\n",
       "dtype: int64"
      ]
     },
     "execution_count": 40,
     "metadata": {},
     "output_type": "execute_result"
    }
   ],
   "source": [
    "odf['Country4'] = odf['Country'].apply(lambda x : myfunc(x))\n",
    "odf[['Country','Country2','Country3','Country4']].value_counts()"
   ]
  },
  {
   "cell_type": "markdown",
   "id": "7c6a7c41-4d4c-4d42-b6e1-33b9542aec53",
   "metadata": {},
   "source": [
    "## 방법4) LabelEncoder()"
   ]
  },
  {
   "cell_type": "code",
   "execution_count": 41,
   "id": "47fb215e-167b-46b4-9d55-61ea068fbccc",
   "metadata": {
    "tags": []
   },
   "outputs": [
    {
     "name": "stdout",
     "output_type": "stream",
     "text": [
      "[3 3 3 3 3 3 3 3 3 3 3 3 3 3 3 3 4 4 4 4 4 4 4 4 2 2 2 2 2 2 2 2 2 4 4 4 4\n",
      " 4 4 4 0 0 0 0 0 0 0 0 0 0 0 0 0 4 4 4 4 4 4 4 4 4 4 1 1 1 1 1 4 4 4 4 4 4\n",
      " 4 4 4 1 1 1 1 1 1]\n"
     ]
    },
    {
     "data": {
      "text/plain": [
       "Country         Country2  Country3  Country4  Country5\n",
       "United Kingdom  0         0         0         4           34\n",
       "South Korea     1         1         1         3           16\n",
       "Austria         2         2         2         0           13\n",
       "France          3         3         3         1           11\n",
       "Germany         4         4         4         2            9\n",
       "dtype: int64"
      ]
     },
     "execution_count": 41,
     "metadata": {},
     "output_type": "execute_result"
    }
   ],
   "source": [
    "from sklearn.preprocessing import LabelEncoder\n",
    "\n",
    "le = LabelEncoder()\n",
    "le.fit(odf['Country'])\n",
    "res = le.transform(odf['Country'])\n",
    "print(  res  )\n",
    "odf['Country5'] = res\n",
    "\n",
    "# 사전순이라 상위 결과와 다를 수 있다\n",
    "odf[['Country','Country2','Country3','Country4','Country5']].value_counts()"
   ]
  },
  {
   "cell_type": "markdown",
   "id": "19bf85d4-ca63-4232-8d79-76b824854970",
   "metadata": {},
   "source": [
    "## 방법5) astype('category')"
   ]
  },
  {
   "cell_type": "code",
   "execution_count": 42,
   "id": "80a1425b-20ea-401f-93fa-9e6f5f0a5064",
   "metadata": {
    "tags": []
   },
   "outputs": [
    {
     "data": {
      "text/plain": [
       "Country         Country2  Country3  Country4  Country5  Country6\n",
       "United Kingdom  0         0         0         4         4           34\n",
       "South Korea     1         1         1         3         3           16\n",
       "Austria         2         2         2         0         0           13\n",
       "France          3         3         3         1         1           11\n",
       "Germany         4         4         4         2         2            9\n",
       "dtype: int64"
      ]
     },
     "execution_count": 42,
     "metadata": {},
     "output_type": "execute_result"
    }
   ],
   "source": [
    "odf['Country6'] = odf['Country'].astype('category').cat.codes\n",
    "\n",
    "# 사전순이라 상위 결과와 다를 수 있다\n",
    "odf[['Country','Country2','Country3','Country4','Country5','Country6']].value_counts()"
   ]
  },
  {
   "cell_type": "markdown",
   "id": "be415ae7-cfbd-42fa-b89f-a1e5ecd0f710",
   "metadata": {},
   "source": [
    "7. Object 타입을 갖는 컬럼들에 대해 각 컬럼들이 갖는 고유값의 크기 출력  \n",
    "예) gen : f f f m m 값을 갖는 경우 gen 2  \n",
    "예) gubun : P P P Q S Q 값을 갖는 경우 gubun 3  "
   ]
  },
  {
   "cell_type": "code",
   "execution_count": 43,
   "id": "0e938d93-c930-4d51-a7de-443992bdb58c",
   "metadata": {},
   "outputs": [
    {
     "name": "stdout",
     "output_type": "stream",
     "text": [
      "<class 'pandas.core.frame.DataFrame'>\n",
      "RangeIndex: 83 entries, 0 to 82\n",
      "Data columns (total 8 columns):\n",
      " #   Column       Non-Null Count  Dtype         \n",
      "---  ------       --------------  -----         \n",
      " 0   InvoiceNo    83 non-null     object        \n",
      " 1   StockCode    83 non-null     object        \n",
      " 2   Description  83 non-null     object        \n",
      " 3   Quantity     83 non-null     int64         \n",
      " 4   InvoiceDate  83 non-null     datetime64[ns]\n",
      " 5   UnitPrice    81 non-null     float64       \n",
      " 6   CustomerID   76 non-null     float64       \n",
      " 7   Country      83 non-null     object        \n",
      "dtypes: datetime64[ns](1), float64(2), int64(1), object(4)\n",
      "memory usage: 5.3+ KB\n"
     ]
    }
   ],
   "source": [
    "odf = pd.read_csv(\"./Online_retail_mini.csv\", parse_dates=['InvoiceDate'])\n",
    "odf.info()"
   ]
  },
  {
   "cell_type": "code",
   "execution_count": 44,
   "id": "7551df63-8d02-4b4a-8663-ff839546456a",
   "metadata": {
    "tags": []
   },
   "outputs": [
    {
     "data": {
      "text/plain": [
       "InvoiceNo      19\n",
       "StockCode      80\n",
       "Description    81\n",
       "Country         5\n",
       "dtype: int64"
      ]
     },
     "execution_count": 44,
     "metadata": {},
     "output_type": "execute_result"
    }
   ],
   "source": [
    "odf.select_dtypes(\"object\").nunique()"
   ]
  },
  {
   "cell_type": "code",
   "execution_count": 45,
   "id": "36d3f0eb-d2ff-45dc-9d51-37fd2efe99a1",
   "metadata": {
    "tags": []
   },
   "outputs": [
    {
     "name": "stdout",
     "output_type": "stream",
     "text": [
      "InvoiceNo \t 19\n",
      "StockCode \t 80\n",
      "Description \t 81\n",
      "Country \t 5\n"
     ]
    }
   ],
   "source": [
    "odf.select_dtypes(\"object\").columns\n",
    "\n",
    "for col in odf.select_dtypes(\"object\").columns:\n",
    "    print(col, \"\\t\" , odf[col].nunique())"
   ]
  },
  {
   "cell_type": "markdown",
   "id": "49c9a93d-ccbb-4e2a-b5d5-8dfad75c12d7",
   "metadata": {},
   "source": [
    "8. 거래일시(InvoiceDate) 컬럼을 대상으로 년월별 거래 횟수 출력 후 최근일자 순으로 정렬"
   ]
  },
  {
   "cell_type": "code",
   "execution_count": 46,
   "id": "33477609-5062-490b-8bec-dd87ed5e71d1",
   "metadata": {},
   "outputs": [
    {
     "name": "stdout",
     "output_type": "stream",
     "text": [
      "<class 'pandas.core.frame.DataFrame'>\n",
      "RangeIndex: 83 entries, 0 to 82\n",
      "Data columns (total 8 columns):\n",
      " #   Column       Non-Null Count  Dtype         \n",
      "---  ------       --------------  -----         \n",
      " 0   InvoiceNo    83 non-null     object        \n",
      " 1   StockCode    83 non-null     object        \n",
      " 2   Description  83 non-null     object        \n",
      " 3   Quantity     83 non-null     int64         \n",
      " 4   InvoiceDate  83 non-null     datetime64[ns]\n",
      " 5   UnitPrice    81 non-null     float64       \n",
      " 6   CustomerID   76 non-null     float64       \n",
      " 7   Country      83 non-null     object        \n",
      "dtypes: datetime64[ns](1), float64(2), int64(1), object(4)\n",
      "memory usage: 5.3+ KB\n"
     ]
    }
   ],
   "source": [
    "odf = pd.read_csv(\"./Online_retail_mini.csv\", parse_dates=['InvoiceDate'])\n",
    "odf.info()"
   ]
  },
  {
   "cell_type": "markdown",
   "id": "ef1daf3f-0073-4bb6-a616-e875bf794dc8",
   "metadata": {},
   "source": [
    "* InvoiceDate 타입이 object인 경우\n",
    "* <font color=red><b> odf['InvoiceDate'] = odf['InvoiceDate'].astype(\"str\")"
   ]
  },
  {
   "cell_type": "code",
   "execution_count": 47,
   "id": "80e0a1c8-0c12-45b2-97a8-ac6cba06b44e",
   "metadata": {
    "tags": []
   },
   "outputs": [
    {
     "name": "stdout",
     "output_type": "stream",
     "text": [
      "<class 'pandas.core.frame.DataFrame'>\n",
      "RangeIndex: 83 entries, 0 to 82\n",
      "Data columns (total 8 columns):\n",
      " #   Column       Non-Null Count  Dtype  \n",
      "---  ------       --------------  -----  \n",
      " 0   InvoiceNo    83 non-null     object \n",
      " 1   StockCode    83 non-null     object \n",
      " 2   Description  83 non-null     object \n",
      " 3   Quantity     83 non-null     int64  \n",
      " 4   InvoiceDate  83 non-null     object \n",
      " 5   UnitPrice    81 non-null     float64\n",
      " 6   CustomerID   76 non-null     float64\n",
      " 7   Country      83 non-null     object \n",
      "dtypes: float64(2), int64(1), object(5)\n",
      "memory usage: 5.3+ KB\n"
     ]
    }
   ],
   "source": [
    "odf['InvoiceDate'] = odf['InvoiceDate'].astype(\"str\")\n",
    "odf.info()"
   ]
  },
  {
   "cell_type": "code",
   "execution_count": 48,
   "id": "57ee155a-3b9e-47cd-876c-ecc777f8eaa1",
   "metadata": {
    "tags": []
   },
   "outputs": [
    {
     "data": {
      "text/plain": [
       "2011-12     6\n",
       "2011-07     5\n",
       "2011-05    19\n",
       "2011-04    37\n",
       "2010-12    16\n",
       "Name: InvoiceDate, dtype: int64"
      ]
     },
     "execution_count": 48,
     "metadata": {},
     "output_type": "execute_result"
    }
   ],
   "source": [
    "odf['InvoiceDate'].str[0:7].value_counts().sort_index(ascending=False)"
   ]
  },
  {
   "cell_type": "markdown",
   "id": "53589774-cc04-4f7c-a972-7c33ab0801b4",
   "metadata": {},
   "source": [
    "* InvoiceDate 타입이 datetime64[ns]인 경우"
   ]
  },
  {
   "cell_type": "code",
   "execution_count": 49,
   "id": "2a7038ec-ac98-4572-8fb6-6135542aaf19",
   "metadata": {
    "tags": []
   },
   "outputs": [
    {
     "name": "stdout",
     "output_type": "stream",
     "text": [
      "<class 'pandas.core.frame.DataFrame'>\n",
      "RangeIndex: 83 entries, 0 to 82\n",
      "Data columns (total 8 columns):\n",
      " #   Column       Non-Null Count  Dtype         \n",
      "---  ------       --------------  -----         \n",
      " 0   InvoiceNo    83 non-null     object        \n",
      " 1   StockCode    83 non-null     object        \n",
      " 2   Description  83 non-null     object        \n",
      " 3   Quantity     83 non-null     int64         \n",
      " 4   InvoiceDate  83 non-null     datetime64[ns]\n",
      " 5   UnitPrice    81 non-null     float64       \n",
      " 6   CustomerID   76 non-null     float64       \n",
      " 7   Country      83 non-null     object        \n",
      "dtypes: datetime64[ns](1), float64(2), int64(1), object(4)\n",
      "memory usage: 5.3+ KB\n"
     ]
    }
   ],
   "source": [
    "odf['InvoiceDate'] = pd.to_datetime(odf['InvoiceDate'])\n",
    "odf.info()"
   ]
  },
  {
   "cell_type": "code",
   "execution_count": 50,
   "id": "8432a408-4f43-4570-99bf-8fce00f65e78",
   "metadata": {
    "tags": []
   },
   "outputs": [
    {
     "data": {
      "text/plain": [
       "y     m \n",
       "2011  12     6\n",
       "      7      5\n",
       "      5     19\n",
       "      4     37\n",
       "2010  12    16\n",
       "dtype: int64"
      ]
     },
     "execution_count": 50,
     "metadata": {},
     "output_type": "execute_result"
    }
   ],
   "source": [
    "from datetime import datetime\n",
    "odf['y'] =  odf['InvoiceDate'].dt.year\n",
    "odf['m'] =  odf['InvoiceDate'].dt.month\n",
    "odf[['y', 'm']].value_counts().sort_index(ascending=False)"
   ]
  },
  {
   "cell_type": "code",
   "execution_count": 51,
   "id": "a7898054-482a-4021-b512-052b31807313",
   "metadata": {
    "tags": []
   },
   "outputs": [
    {
     "data": {
      "text/plain": [
       "2011-12     6\n",
       "2011-07     5\n",
       "2011-05    19\n",
       "2011-04    37\n",
       "2010-12    16\n",
       "Name: ym, dtype: int64"
      ]
     },
     "execution_count": 51,
     "metadata": {},
     "output_type": "execute_result"
    }
   ],
   "source": [
    "odf['ym'] = odf['InvoiceDate'].dt.strftime('%Y-%m') \n",
    "odf['ym'].value_counts().sort_index(ascending=False)"
   ]
  },
  {
   "cell_type": "markdown",
   "id": "a1d14f07-3d8c-4de5-9b9e-bdb04bcd04dc",
   "metadata": {
    "tags": []
   },
   "source": [
    "9. 구매자 고유 번호(CustomerID)가 결측인 회원값을 최빈도 값으로 대채"
   ]
  },
  {
   "cell_type": "markdown",
   "id": "d56f5114-1f45-4d70-b497-53f4ba8ad58c",
   "metadata": {},
   "source": [
    "* 결측이 있는 컬럼"
   ]
  },
  {
   "cell_type": "code",
   "execution_count": 52,
   "id": "1fb6db56-8909-418e-bb6f-b1a67023cd43",
   "metadata": {
    "tags": []
   },
   "outputs": [
    {
     "data": {
      "text/plain": [
       "UnitPrice     2\n",
       "CustomerID    7\n",
       "dtype: int64"
      ]
     },
     "execution_count": 52,
     "metadata": {},
     "output_type": "execute_result"
    }
   ],
   "source": [
    "odf.isna().sum() [ odf.isna().sum() > 0 ]"
   ]
  },
  {
   "cell_type": "markdown",
   "id": "bb76dcd0-66d6-49fb-9731-11a7c555138c",
   "metadata": {},
   "source": [
    "## 방법1) df.fillna(변경값, inplace=True)"
   ]
  },
  {
   "cell_type": "code",
   "execution_count": 53,
   "id": "5b11e192-f480-45cb-bde3-c113f193ff67",
   "metadata": {
    "tags": []
   },
   "outputs": [
    {
     "data": {
      "text/html": [
       "<div>\n",
       "<style scoped>\n",
       "    .dataframe tbody tr th:only-of-type {\n",
       "        vertical-align: middle;\n",
       "    }\n",
       "\n",
       "    .dataframe tbody tr th {\n",
       "        vertical-align: top;\n",
       "    }\n",
       "\n",
       "    .dataframe thead th {\n",
       "        text-align: right;\n",
       "    }\n",
       "</style>\n",
       "<table border=\"1\" class=\"dataframe\">\n",
       "  <thead>\n",
       "    <tr style=\"text-align: right;\">\n",
       "      <th></th>\n",
       "      <th>InvoiceNo</th>\n",
       "      <th>StockCode</th>\n",
       "      <th>Description</th>\n",
       "      <th>Quantity</th>\n",
       "      <th>InvoiceDate</th>\n",
       "      <th>UnitPrice</th>\n",
       "      <th>CustomerID</th>\n",
       "      <th>Country</th>\n",
       "      <th>y</th>\n",
       "      <th>m</th>\n",
       "      <th>ym</th>\n",
       "    </tr>\n",
       "  </thead>\n",
       "  <tbody>\n",
       "    <tr>\n",
       "      <th>22</th>\n",
       "      <td>551019</td>\n",
       "      <td>22467</td>\n",
       "      <td>wrong code?</td>\n",
       "      <td>-100</td>\n",
       "      <td>2011-04-26 11:19:00</td>\n",
       "      <td>NaN</td>\n",
       "      <td>12429.0</td>\n",
       "      <td>United Kingdom</td>\n",
       "      <td>2011</td>\n",
       "      <td>4</td>\n",
       "      <td>2011-04</td>\n",
       "    </tr>\n",
       "    <tr>\n",
       "      <th>23</th>\n",
       "      <td>551020</td>\n",
       "      <td>22719</td>\n",
       "      <td>wrong code</td>\n",
       "      <td>-110</td>\n",
       "      <td>2011-04-26 11:19:00</td>\n",
       "      <td>NaN</td>\n",
       "      <td>12429.0</td>\n",
       "      <td>United Kingdom</td>\n",
       "      <td>2011</td>\n",
       "      <td>4</td>\n",
       "      <td>2011-04</td>\n",
       "    </tr>\n",
       "    <tr>\n",
       "      <th>72</th>\n",
       "      <td>558810</td>\n",
       "      <td>21733</td>\n",
       "      <td>RED HANGING HEART T-LIGHT HOLDER</td>\n",
       "      <td>1</td>\n",
       "      <td>2011-07-04 11:11:00</td>\n",
       "      <td>5.79</td>\n",
       "      <td>12429.0</td>\n",
       "      <td>United Kingdom</td>\n",
       "      <td>2011</td>\n",
       "      <td>7</td>\n",
       "      <td>2011-07</td>\n",
       "    </tr>\n",
       "    <tr>\n",
       "      <th>73</th>\n",
       "      <td>558810</td>\n",
       "      <td>21755</td>\n",
       "      <td>LOVE BUILDING BLOCK WORD</td>\n",
       "      <td>1</td>\n",
       "      <td>2011-07-04 11:11:00</td>\n",
       "      <td>11.63</td>\n",
       "      <td>12429.0</td>\n",
       "      <td>United Kingdom</td>\n",
       "      <td>2011</td>\n",
       "      <td>7</td>\n",
       "      <td>2011-07</td>\n",
       "    </tr>\n",
       "    <tr>\n",
       "      <th>74</th>\n",
       "      <td>558810</td>\n",
       "      <td>21929</td>\n",
       "      <td>JUMBO BAG PINK VINTAGE PAISLEY</td>\n",
       "      <td>5</td>\n",
       "      <td>2011-07-04 11:11:00</td>\n",
       "      <td>4.13</td>\n",
       "      <td>12429.0</td>\n",
       "      <td>United Kingdom</td>\n",
       "      <td>2011</td>\n",
       "      <td>7</td>\n",
       "      <td>2011-07</td>\n",
       "    </tr>\n",
       "    <tr>\n",
       "      <th>75</th>\n",
       "      <td>558810</td>\n",
       "      <td>21930</td>\n",
       "      <td>JUMBO STORAGE BAG SKULLS</td>\n",
       "      <td>5</td>\n",
       "      <td>2011-07-04 11:11:00</td>\n",
       "      <td>4.96</td>\n",
       "      <td>12429.0</td>\n",
       "      <td>United Kingdom</td>\n",
       "      <td>2011</td>\n",
       "      <td>7</td>\n",
       "      <td>2011-07</td>\n",
       "    </tr>\n",
       "    <tr>\n",
       "      <th>76</th>\n",
       "      <td>558810</td>\n",
       "      <td>21931</td>\n",
       "      <td>JUMBO STORAGE BAG SUKI</td>\n",
       "      <td>8</td>\n",
       "      <td>2011-07-04 11:11:00</td>\n",
       "      <td>4.13</td>\n",
       "      <td>12429.0</td>\n",
       "      <td>United Kingdom</td>\n",
       "      <td>2011</td>\n",
       "      <td>7</td>\n",
       "      <td>2011-07</td>\n",
       "    </tr>\n",
       "  </tbody>\n",
       "</table>\n",
       "</div>"
      ],
      "text/plain": [
       "   InvoiceNo StockCode                       Description  Quantity  \\\n",
       "22    551019     22467                       wrong code?      -100   \n",
       "23    551020     22719                        wrong code      -110   \n",
       "72    558810     21733  RED HANGING HEART T-LIGHT HOLDER         1   \n",
       "73    558810     21755          LOVE BUILDING BLOCK WORD         1   \n",
       "74    558810     21929    JUMBO BAG PINK VINTAGE PAISLEY         5   \n",
       "75    558810     21930          JUMBO STORAGE BAG SKULLS         5   \n",
       "76    558810     21931            JUMBO STORAGE BAG SUKI         8   \n",
       "\n",
       "           InvoiceDate  UnitPrice  CustomerID         Country     y  m  \\\n",
       "22 2011-04-26 11:19:00        NaN     12429.0  United Kingdom  2011  4   \n",
       "23 2011-04-26 11:19:00        NaN     12429.0  United Kingdom  2011  4   \n",
       "72 2011-07-04 11:11:00       5.79     12429.0  United Kingdom  2011  7   \n",
       "73 2011-07-04 11:11:00      11.63     12429.0  United Kingdom  2011  7   \n",
       "74 2011-07-04 11:11:00       4.13     12429.0  United Kingdom  2011  7   \n",
       "75 2011-07-04 11:11:00       4.96     12429.0  United Kingdom  2011  7   \n",
       "76 2011-07-04 11:11:00       4.13     12429.0  United Kingdom  2011  7   \n",
       "\n",
       "         ym  \n",
       "22  2011-04  \n",
       "23  2011-04  \n",
       "72  2011-07  \n",
       "73  2011-07  \n",
       "74  2011-07  \n",
       "75  2011-07  \n",
       "76  2011-07  "
      ]
     },
     "execution_count": 53,
     "metadata": {},
     "output_type": "execute_result"
    }
   ],
   "source": [
    "mode_cid = odf['CustomerID'].mode().values[0]   #12429.0\n",
    "odf['CustomerID'] = odf['CustomerID'].fillna(mode_cid)\n",
    "odf.loc[ [22, 23, 72, 73, 74, 75, 76] ] "
   ]
  },
  {
   "cell_type": "markdown",
   "id": "fd936364-68ea-479a-8f31-741fa338cd72",
   "metadata": {},
   "source": [
    "## 방법2) df.loc( [idx,idx] ) =  변경값"
   ]
  },
  {
   "cell_type": "markdown",
   "id": "76b4ced2-a220-4a66-a1d9-45ada81473d4",
   "metadata": {},
   "source": [
    "* CustomerID 가 결측인 레코드 수 "
   ]
  },
  {
   "cell_type": "code",
   "execution_count": 54,
   "id": "da564b75-1e5f-4e46-8e3b-25f0a40bc95d",
   "metadata": {
    "tags": []
   },
   "outputs": [
    {
     "data": {
      "text/plain": [
       "0"
      ]
     },
     "execution_count": 54,
     "metadata": {},
     "output_type": "execute_result"
    }
   ],
   "source": [
    "odf['CustomerID'].isna().sum()"
   ]
  },
  {
   "cell_type": "markdown",
   "id": "d578ea54-0622-4d07-b406-b979f36d29f0",
   "metadata": {},
   "source": [
    "* CustomerID 가 결측인 데이터의 인덱스 출력"
   ]
  },
  {
   "cell_type": "code",
   "execution_count": 55,
   "id": "e6107ebc-d306-42a4-89d6-72cc32ec7417",
   "metadata": {
    "tags": []
   },
   "outputs": [
    {
     "data": {
      "text/plain": [
       "array([], dtype=int64)"
      ]
     },
     "execution_count": 55,
     "metadata": {},
     "output_type": "execute_result"
    }
   ],
   "source": [
    "na_idx = odf[odf['CustomerID'].isna()].index.values\n",
    "na_idx"
   ]
  },
  {
   "cell_type": "markdown",
   "id": "ae055376-55f6-49a3-8a0b-a041d37b9327",
   "metadata": {},
   "source": [
    "* CustomerID  최빈도"
   ]
  },
  {
   "cell_type": "code",
   "execution_count": 56,
   "id": "2d04a2ea-baa8-47bf-891c-449a861ff573",
   "metadata": {
    "tags": []
   },
   "outputs": [
    {
     "data": {
      "text/plain": [
       "12429.0"
      ]
     },
     "execution_count": 56,
     "metadata": {},
     "output_type": "execute_result"
    }
   ],
   "source": [
    "mode_cid = odf['CustomerID'].mode().values[0]\n",
    "mode_cid"
   ]
  },
  {
   "cell_type": "code",
   "execution_count": 57,
   "id": "006e6ae8-5869-4af6-bc99-c68f9c6fb566",
   "metadata": {
    "tags": []
   },
   "outputs": [
    {
     "data": {
      "text/html": [
       "<div>\n",
       "<style scoped>\n",
       "    .dataframe tbody tr th:only-of-type {\n",
       "        vertical-align: middle;\n",
       "    }\n",
       "\n",
       "    .dataframe tbody tr th {\n",
       "        vertical-align: top;\n",
       "    }\n",
       "\n",
       "    .dataframe thead th {\n",
       "        text-align: right;\n",
       "    }\n",
       "</style>\n",
       "<table border=\"1\" class=\"dataframe\">\n",
       "  <thead>\n",
       "    <tr style=\"text-align: right;\">\n",
       "      <th></th>\n",
       "      <th>InvoiceNo</th>\n",
       "      <th>StockCode</th>\n",
       "      <th>Description</th>\n",
       "      <th>Quantity</th>\n",
       "      <th>InvoiceDate</th>\n",
       "      <th>UnitPrice</th>\n",
       "      <th>CustomerID</th>\n",
       "      <th>Country</th>\n",
       "      <th>y</th>\n",
       "      <th>m</th>\n",
       "      <th>ym</th>\n",
       "    </tr>\n",
       "  </thead>\n",
       "  <tbody>\n",
       "    <tr>\n",
       "      <th>22</th>\n",
       "      <td>551019</td>\n",
       "      <td>22467</td>\n",
       "      <td>wrong code?</td>\n",
       "      <td>-100</td>\n",
       "      <td>2011-04-26 11:19:00</td>\n",
       "      <td>NaN</td>\n",
       "      <td>12429.0</td>\n",
       "      <td>United Kingdom</td>\n",
       "      <td>2011</td>\n",
       "      <td>4</td>\n",
       "      <td>2011-04</td>\n",
       "    </tr>\n",
       "    <tr>\n",
       "      <th>23</th>\n",
       "      <td>551020</td>\n",
       "      <td>22719</td>\n",
       "      <td>wrong code</td>\n",
       "      <td>-110</td>\n",
       "      <td>2011-04-26 11:19:00</td>\n",
       "      <td>NaN</td>\n",
       "      <td>12429.0</td>\n",
       "      <td>United Kingdom</td>\n",
       "      <td>2011</td>\n",
       "      <td>4</td>\n",
       "      <td>2011-04</td>\n",
       "    </tr>\n",
       "    <tr>\n",
       "      <th>72</th>\n",
       "      <td>558810</td>\n",
       "      <td>21733</td>\n",
       "      <td>RED HANGING HEART T-LIGHT HOLDER</td>\n",
       "      <td>1</td>\n",
       "      <td>2011-07-04 11:11:00</td>\n",
       "      <td>5.79</td>\n",
       "      <td>12429.0</td>\n",
       "      <td>United Kingdom</td>\n",
       "      <td>2011</td>\n",
       "      <td>7</td>\n",
       "      <td>2011-07</td>\n",
       "    </tr>\n",
       "    <tr>\n",
       "      <th>73</th>\n",
       "      <td>558810</td>\n",
       "      <td>21755</td>\n",
       "      <td>LOVE BUILDING BLOCK WORD</td>\n",
       "      <td>1</td>\n",
       "      <td>2011-07-04 11:11:00</td>\n",
       "      <td>11.63</td>\n",
       "      <td>12429.0</td>\n",
       "      <td>United Kingdom</td>\n",
       "      <td>2011</td>\n",
       "      <td>7</td>\n",
       "      <td>2011-07</td>\n",
       "    </tr>\n",
       "    <tr>\n",
       "      <th>74</th>\n",
       "      <td>558810</td>\n",
       "      <td>21929</td>\n",
       "      <td>JUMBO BAG PINK VINTAGE PAISLEY</td>\n",
       "      <td>5</td>\n",
       "      <td>2011-07-04 11:11:00</td>\n",
       "      <td>4.13</td>\n",
       "      <td>12429.0</td>\n",
       "      <td>United Kingdom</td>\n",
       "      <td>2011</td>\n",
       "      <td>7</td>\n",
       "      <td>2011-07</td>\n",
       "    </tr>\n",
       "    <tr>\n",
       "      <th>75</th>\n",
       "      <td>558810</td>\n",
       "      <td>21930</td>\n",
       "      <td>JUMBO STORAGE BAG SKULLS</td>\n",
       "      <td>5</td>\n",
       "      <td>2011-07-04 11:11:00</td>\n",
       "      <td>4.96</td>\n",
       "      <td>12429.0</td>\n",
       "      <td>United Kingdom</td>\n",
       "      <td>2011</td>\n",
       "      <td>7</td>\n",
       "      <td>2011-07</td>\n",
       "    </tr>\n",
       "    <tr>\n",
       "      <th>76</th>\n",
       "      <td>558810</td>\n",
       "      <td>21931</td>\n",
       "      <td>JUMBO STORAGE BAG SUKI</td>\n",
       "      <td>8</td>\n",
       "      <td>2011-07-04 11:11:00</td>\n",
       "      <td>4.13</td>\n",
       "      <td>12429.0</td>\n",
       "      <td>United Kingdom</td>\n",
       "      <td>2011</td>\n",
       "      <td>7</td>\n",
       "      <td>2011-07</td>\n",
       "    </tr>\n",
       "  </tbody>\n",
       "</table>\n",
       "</div>"
      ],
      "text/plain": [
       "   InvoiceNo StockCode                       Description  Quantity  \\\n",
       "22    551019     22467                       wrong code?      -100   \n",
       "23    551020     22719                        wrong code      -110   \n",
       "72    558810     21733  RED HANGING HEART T-LIGHT HOLDER         1   \n",
       "73    558810     21755          LOVE BUILDING BLOCK WORD         1   \n",
       "74    558810     21929    JUMBO BAG PINK VINTAGE PAISLEY         5   \n",
       "75    558810     21930          JUMBO STORAGE BAG SKULLS         5   \n",
       "76    558810     21931            JUMBO STORAGE BAG SUKI         8   \n",
       "\n",
       "           InvoiceDate  UnitPrice  CustomerID         Country     y  m  \\\n",
       "22 2011-04-26 11:19:00        NaN     12429.0  United Kingdom  2011  4   \n",
       "23 2011-04-26 11:19:00        NaN     12429.0  United Kingdom  2011  4   \n",
       "72 2011-07-04 11:11:00       5.79     12429.0  United Kingdom  2011  7   \n",
       "73 2011-07-04 11:11:00      11.63     12429.0  United Kingdom  2011  7   \n",
       "74 2011-07-04 11:11:00       4.13     12429.0  United Kingdom  2011  7   \n",
       "75 2011-07-04 11:11:00       4.96     12429.0  United Kingdom  2011  7   \n",
       "76 2011-07-04 11:11:00       4.13     12429.0  United Kingdom  2011  7   \n",
       "\n",
       "         ym  \n",
       "22  2011-04  \n",
       "23  2011-04  \n",
       "72  2011-07  \n",
       "73  2011-07  \n",
       "74  2011-07  \n",
       "75  2011-07  \n",
       "76  2011-07  "
      ]
     },
     "execution_count": 57,
     "metadata": {},
     "output_type": "execute_result"
    }
   ],
   "source": [
    "odf.loc[ [22, 23, 72, 73, 74, 75, 76], 'CustomerID' ] = mode_cid\n",
    "odf.loc[ [22, 23, 72, 73, 74, 75, 76] ] "
   ]
  },
  {
   "cell_type": "markdown",
   "id": "209e0990-7c58-4bde-ae1c-a43388d507cf",
   "metadata": {},
   "source": [
    "10. Quantity(거래수량)이 가장 큰 상품들의 상품명(Description), 가격정보(UnitPrice) 출력"
   ]
  },
  {
   "cell_type": "code",
   "execution_count": 58,
   "id": "7539490a-9799-45f4-a859-25d390e4a8e8",
   "metadata": {
    "tags": []
   },
   "outputs": [
    {
     "data": {
      "text/html": [
       "<div>\n",
       "<style scoped>\n",
       "    .dataframe tbody tr th:only-of-type {\n",
       "        vertical-align: middle;\n",
       "    }\n",
       "\n",
       "    .dataframe tbody tr th {\n",
       "        vertical-align: top;\n",
       "    }\n",
       "\n",
       "    .dataframe thead th {\n",
       "        text-align: right;\n",
       "    }\n",
       "</style>\n",
       "<table border=\"1\" class=\"dataframe\">\n",
       "  <thead>\n",
       "    <tr style=\"text-align: right;\">\n",
       "      <th></th>\n",
       "      <th>Description</th>\n",
       "      <th>UnitPrice</th>\n",
       "    </tr>\n",
       "  </thead>\n",
       "  <tbody>\n",
       "    <tr>\n",
       "      <th>33</th>\n",
       "      <td>WHITE HANGING HEART T-LIGHT HOLDER</td>\n",
       "      <td>2.55</td>\n",
       "    </tr>\n",
       "  </tbody>\n",
       "</table>\n",
       "</div>"
      ],
      "text/plain": [
       "                           Description  UnitPrice\n",
       "33  WHITE HANGING HEART T-LIGHT HOLDER       2.55"
      ]
     },
     "execution_count": 58,
     "metadata": {},
     "output_type": "execute_result"
    }
   ],
   "source": [
    "# odf [ odf['Quantity'] == 128  ] [['Description','UnitPrice']]\n",
    "\n",
    "max_val = odf['Quantity'].max()\n",
    "odf [ odf['Quantity'] == max_val  ] [['Description','UnitPrice']]\n"
   ]
  }
 ],
 "metadata": {
  "kernelspec": {
   "display_name": "Python 3 (ipykernel)",
   "language": "python",
   "name": "python3"
  },
  "language_info": {
   "codemirror_mode": {
    "name": "ipython",
    "version": 3
   },
   "file_extension": ".py",
   "mimetype": "text/x-python",
   "name": "python",
   "nbconvert_exporter": "python",
   "pygments_lexer": "ipython3",
   "version": "3.8.8"
  }
 },
 "nbformat": 4,
 "nbformat_minor": 5
}
