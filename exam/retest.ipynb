{
 "cells": [
  {
   "cell_type": "code",
   "execution_count": 1,
   "id": "637c22c2-3317-4da7-9b7a-1fa0506b4399",
   "metadata": {
    "tags": []
   },
   "outputs": [],
   "source": [
    "import pandas as pd\n",
    "import numpy as np"
   ]
  },
  {
   "cell_type": "code",
   "execution_count": 2,
   "id": "c5f439f1-0b9d-4f2e-aa30-833c1b18cb92",
   "metadata": {},
   "outputs": [],
   "source": [
    "import warnings\n",
    "warnings.filterwarnings(action='ignore')"
   ]
  },
  {
   "cell_type": "markdown",
   "id": "f67fecdf-43b0-4140-92e0-4a264cd8772b",
   "metadata": {
    "tags": []
   },
   "source": [
    "# Boston_house"
   ]
  },
  {
   "cell_type": "markdown",
   "id": "7d818f4c-f05a-43b5-add5-c024e7252805",
   "metadata": {},
   "source": [
    "1. 파일 읽기"
   ]
  },
  {
   "cell_type": "code",
   "execution_count": 12,
   "id": "08433b4f-fe94-4335-8fbc-c1013b5837b3",
   "metadata": {},
   "outputs": [
    {
     "data": {
      "text/html": [
       "<div>\n",
       "<style scoped>\n",
       "    .dataframe tbody tr th:only-of-type {\n",
       "        vertical-align: middle;\n",
       "    }\n",
       "\n",
       "    .dataframe tbody tr th {\n",
       "        vertical-align: top;\n",
       "    }\n",
       "\n",
       "    .dataframe thead th {\n",
       "        text-align: right;\n",
       "    }\n",
       "</style>\n",
       "<table border=\"1\" class=\"dataframe\">\n",
       "  <thead>\n",
       "    <tr style=\"text-align: right;\">\n",
       "      <th></th>\n",
       "      <th>age</th>\n",
       "      <th>b</th>\n",
       "      <th>rm</th>\n",
       "      <th>crim</th>\n",
       "      <th>dis</th>\n",
       "      <th>indus</th>\n",
       "      <th>lstat</th>\n",
       "      <th>nox</th>\n",
       "      <th>ptratio</th>\n",
       "      <th>rad</th>\n",
       "      <th>zn</th>\n",
       "      <th>tax</th>\n",
       "      <th>chas</th>\n",
       "      <th>target</th>\n",
       "    </tr>\n",
       "  </thead>\n",
       "  <tbody>\n",
       "    <tr>\n",
       "      <th>0</th>\n",
       "      <td>65.2</td>\n",
       "      <td>396.9</td>\n",
       "      <td>6.575</td>\n",
       "      <td>0.00632</td>\n",
       "      <td>4.09</td>\n",
       "      <td>2.31</td>\n",
       "      <td>4.98</td>\n",
       "      <td>0.538</td>\n",
       "      <td>15.3</td>\n",
       "      <td>1</td>\n",
       "      <td>18.0</td>\n",
       "      <td>296</td>\n",
       "      <td>0</td>\n",
       "      <td>24.0</td>\n",
       "    </tr>\n",
       "  </tbody>\n",
       "</table>\n",
       "</div>"
      ],
      "text/plain": [
       "    age      b     rm     crim   dis  indus  lstat    nox  ptratio  rad    zn  \\\n",
       "0  65.2  396.9  6.575  0.00632  4.09   2.31   4.98  0.538     15.3    1  18.0   \n",
       "\n",
       "   tax  chas  target  \n",
       "0  296     0    24.0  "
      ]
     },
     "execution_count": 12,
     "metadata": {},
     "output_type": "execute_result"
    }
   ],
   "source": [
    "df=pd.read_csv('./Boston_house.csv')\n",
    "df.columns=df.columns.str.lower()\n",
    "df.head(1)"
   ]
  },
  {
   "cell_type": "code",
   "execution_count": 13,
   "id": "5d7011ab-baac-4744-93ae-b92548211118",
   "metadata": {
    "tags": []
   },
   "outputs": [
    {
     "name": "stdout",
     "output_type": "stream",
     "text": [
      "<class 'pandas.core.frame.DataFrame'>\n",
      "RangeIndex: 506 entries, 0 to 505\n",
      "Data columns (total 14 columns):\n",
      " #   Column   Non-Null Count  Dtype  \n",
      "---  ------   --------------  -----  \n",
      " 0   age      506 non-null    float64\n",
      " 1   b        506 non-null    float64\n",
      " 2   rm       506 non-null    float64\n",
      " 3   crim     506 non-null    float64\n",
      " 4   dis      506 non-null    float64\n",
      " 5   indus    506 non-null    float64\n",
      " 6   lstat    506 non-null    float64\n",
      " 7   nox      506 non-null    float64\n",
      " 8   ptratio  506 non-null    float64\n",
      " 9   rad      506 non-null    int64  \n",
      " 10  zn       506 non-null    float64\n",
      " 11  tax      506 non-null    int64  \n",
      " 12  chas     506 non-null    int64  \n",
      " 13  target   506 non-null    float64\n",
      "dtypes: float64(11), int64(3)\n",
      "memory usage: 55.5 KB\n"
     ]
    }
   ],
   "source": [
    "df.info()"
   ]
  },
  {
   "cell_type": "markdown",
   "id": "0dd99972-fe0a-457e-a95d-b18c6544c77e",
   "metadata": {},
   "source": [
    "2. 룸(RM) 가장 큰 상위 1% "
   ]
  },
  {
   "cell_type": "code",
   "execution_count": 18,
   "id": "b06140c4-be62-4a74-8f76-8e313d58f55a",
   "metadata": {
    "tags": []
   },
   "outputs": [],
   "source": [
    "top1=int(len(df['rm'])*0.01)"
   ]
  },
  {
   "cell_type": "code",
   "execution_count": 20,
   "id": "6bfbf6ac-c474-47d3-840c-9fc3bd70a67b",
   "metadata": {
    "tags": []
   },
   "outputs": [
    {
     "data": {
      "text/plain": [
       "364    8.780\n",
       "225    8.725\n",
       "257    8.704\n",
       "262    8.398\n",
       "163    8.375\n",
       "Name: rm, dtype: float64"
      ]
     },
     "execution_count": 20,
     "metadata": {},
     "output_type": "execute_result"
    }
   ],
   "source": [
    "df['rm'].sort_values(ascending=False)[:top1]"
   ]
  },
  {
   "cell_type": "code",
   "execution_count": 21,
   "id": "8813ed56-e4a2-4ace-9cb6-bc019b6de3a6",
   "metadata": {
    "tags": []
   },
   "outputs": [
    {
     "data": {
      "text/plain": [
       "364    8.780\n",
       "225    8.725\n",
       "257    8.704\n",
       "262    8.398\n",
       "163    8.375\n",
       "Name: rm, dtype: float64"
      ]
     },
     "execution_count": 21,
     "metadata": {},
     "output_type": "execute_result"
    }
   ],
   "source": [
    "df['rm'].nlargest(top1)"
   ]
  },
  {
   "cell_type": "code",
   "execution_count": 22,
   "id": "f6892d34-ff16-428a-b64a-55d7fef861e2",
   "metadata": {
    "tags": []
   },
   "outputs": [
    {
     "data": {
      "text/plain": [
       "365    3.561\n",
       "367    3.863\n",
       "374    4.138\n",
       "406    4.138\n",
       "384    4.368\n",
       "Name: rm, dtype: float64"
      ]
     },
     "execution_count": 22,
     "metadata": {},
     "output_type": "execute_result"
    }
   ],
   "source": [
    "df['rm'].nsmallest(top1)"
   ]
  },
  {
   "cell_type": "code",
   "execution_count": 30,
   "id": "ceac4b79-929d-49f1-99c2-175a702a62c2",
   "metadata": {
    "tags": []
   },
   "outputs": [
    {
     "data": {
      "text/plain": [
       "163    8.375\n",
       "225    8.725\n",
       "257    8.704\n",
       "262    8.398\n",
       "364    8.780\n",
       "Name: rm, dtype: float64"
      ]
     },
     "execution_count": 30,
     "metadata": {},
     "output_type": "execute_result"
    }
   ],
   "source": [
    "df['rm'][df['rm']>df['rm'].quantile(q=0.99,interpolation='nearest') ]"
   ]
  },
  {
   "cell_type": "markdown",
   "id": "91f31741-66bb-4e10-814f-009559544789",
   "metadata": {},
   "source": [
    "3. target 컬럼을 대상으로 평균 이상의 값을 갖는 데이터의 갯수 출력"
   ]
  },
  {
   "cell_type": "code",
   "execution_count": 34,
   "id": "0fa6ed79-a775-42fd-936c-0206548e7be7",
   "metadata": {
    "tags": []
   },
   "outputs": [
    {
     "data": {
      "text/plain": [
       "209"
      ]
     },
     "execution_count": 34,
     "metadata": {},
     "output_type": "execute_result"
    }
   ],
   "source": [
    "len(df[df['target']>=df['target'].mean()])"
   ]
  },
  {
   "cell_type": "markdown",
   "id": "00b03230-f391-4c13-9793-59dc752a757d",
   "metadata": {},
   "source": [
    "4. RM이 3이상이고 CHAS에 인접한 집의 갯수 출력"
   ]
  },
  {
   "cell_type": "code",
   "execution_count": 36,
   "id": "3994f752-0c7e-4c7f-a676-c698dda1fb0d",
   "metadata": {
    "tags": []
   },
   "outputs": [
    {
     "data": {
      "text/plain": [
       "35"
      ]
     },
     "execution_count": 36,
     "metadata": {},
     "output_type": "execute_result"
    }
   ],
   "source": [
    "len(df[(df['rm']>=3)&(df['chas']==1)])"
   ]
  },
  {
   "cell_type": "markdown",
   "id": "cff65f6a-4be6-4bf0-8770-ab66acb86174",
   "metadata": {},
   "source": [
    "# Online_retail_mini"
   ]
  },
  {
   "cell_type": "code",
   "execution_count": 37,
   "id": "ebb245f9-501a-42ed-9b7d-ef45f004ecb3",
   "metadata": {
    "tags": []
   },
   "outputs": [
    {
     "data": {
      "text/html": [
       "<div>\n",
       "<style scoped>\n",
       "    .dataframe tbody tr th:only-of-type {\n",
       "        vertical-align: middle;\n",
       "    }\n",
       "\n",
       "    .dataframe tbody tr th {\n",
       "        vertical-align: top;\n",
       "    }\n",
       "\n",
       "    .dataframe thead th {\n",
       "        text-align: right;\n",
       "    }\n",
       "</style>\n",
       "<table border=\"1\" class=\"dataframe\">\n",
       "  <thead>\n",
       "    <tr style=\"text-align: right;\">\n",
       "      <th></th>\n",
       "      <th>invoiceno</th>\n",
       "      <th>stockcode</th>\n",
       "      <th>description</th>\n",
       "      <th>quantity</th>\n",
       "      <th>invoicedate</th>\n",
       "      <th>unitprice</th>\n",
       "      <th>customerid</th>\n",
       "      <th>country</th>\n",
       "    </tr>\n",
       "  </thead>\n",
       "  <tbody>\n",
       "    <tr>\n",
       "      <th>0</th>\n",
       "      <td>536365</td>\n",
       "      <td>85123A</td>\n",
       "      <td>WHITE HANGING HEART T-LIGHT HOLDER</td>\n",
       "      <td>6</td>\n",
       "      <td>2010-12-01 08:26:00</td>\n",
       "      <td>2.55</td>\n",
       "      <td>17850.0</td>\n",
       "      <td>South Korea</td>\n",
       "    </tr>\n",
       "  </tbody>\n",
       "</table>\n",
       "</div>"
      ],
      "text/plain": [
       "  invoiceno stockcode                         description  quantity  \\\n",
       "0    536365    85123A  WHITE HANGING HEART T-LIGHT HOLDER         6   \n",
       "\n",
       "          invoicedate  unitprice  customerid      country  \n",
       "0 2010-12-01 08:26:00       2.55     17850.0  South Korea  "
      ]
     },
     "execution_count": 37,
     "metadata": {},
     "output_type": "execute_result"
    }
   ],
   "source": [
    "df2=pd.read_csv('./Online_retail_mini.csv',parse_dates=['InvoiceDate'])\n",
    "df2.columns=df2.columns.str.lower()\n",
    "df2.head(1)"
   ]
  },
  {
   "cell_type": "code",
   "execution_count": 38,
   "id": "21e94379-8a7c-4f6b-9e75-d5918bf9259d",
   "metadata": {
    "tags": []
   },
   "outputs": [
    {
     "name": "stdout",
     "output_type": "stream",
     "text": [
      "<class 'pandas.core.frame.DataFrame'>\n",
      "RangeIndex: 83 entries, 0 to 82\n",
      "Data columns (total 8 columns):\n",
      " #   Column       Non-Null Count  Dtype         \n",
      "---  ------       --------------  -----         \n",
      " 0   invoiceno    83 non-null     object        \n",
      " 1   stockcode    83 non-null     object        \n",
      " 2   description  83 non-null     object        \n",
      " 3   quantity     83 non-null     int64         \n",
      " 4   invoicedate  83 non-null     datetime64[ns]\n",
      " 5   unitprice    81 non-null     float64       \n",
      " 6   customerid   76 non-null     float64       \n",
      " 7   country      83 non-null     object        \n",
      "dtypes: datetime64[ns](1), float64(2), int64(1), object(4)\n",
      "memory usage: 5.3+ KB\n"
     ]
    }
   ],
   "source": [
    "df2.info()"
   ]
  },
  {
   "cell_type": "markdown",
   "id": "4bd689ac-a8ab-4318-8f29-261219529bac",
   "metadata": {},
   "source": [
    "5. InvoiceDate 컬럼을 대상으로 년도 월 정보를 추출해 오름차순 정렬"
   ]
  },
  {
   "cell_type": "code",
   "execution_count": 40,
   "id": "b0e7d787-721d-4930-a321-30407abc2e86",
   "metadata": {
    "tags": []
   },
   "outputs": [],
   "source": [
    "df2['yy']=df2['invoicedate'].dt.year\n",
    "df2['mm']=df2['invoicedate'].dt.month"
   ]
  },
  {
   "cell_type": "code",
   "execution_count": 43,
   "id": "4723cae0-2829-4e15-bb22-9472a1d14b72",
   "metadata": {
    "tags": []
   },
   "outputs": [
    {
     "data": {
      "text/plain": [
       "yy    mm\n",
       "2011  7      5\n",
       "      12     6\n",
       "2010  12    16\n",
       "2011  5     19\n",
       "      4     37\n",
       "dtype: int64"
      ]
     },
     "execution_count": 43,
     "metadata": {},
     "output_type": "execute_result"
    }
   ],
   "source": [
    "df2[['yy','mm']].value_counts().sort_values()"
   ]
  },
  {
   "cell_type": "markdown",
   "id": "1d3d8493-43a1-4304-aa4a-dff8f9105c98",
   "metadata": {},
   "source": [
    "6. 구매 국가 컬럼의 값을 수치값으로 변환"
   ]
  },
  {
   "cell_type": "code",
   "execution_count": 45,
   "id": "c6cb2c77-25c9-4f1f-9e23-53a6f04784bb",
   "metadata": {
    "tags": []
   },
   "outputs": [
    {
     "data": {
      "text/plain": [
       "country         country2\n",
       "United Kingdom  4           34\n",
       "South Korea     3           16\n",
       "Austria         0           13\n",
       "France          1           11\n",
       "Germany         2            9\n",
       "dtype: int64"
      ]
     },
     "execution_count": 45,
     "metadata": {},
     "output_type": "execute_result"
    }
   ],
   "source": [
    "df2['country2']=df2['country'].astype('category').cat.codes\n",
    "df2[['country','country2']].value_counts()"
   ]
  },
  {
   "cell_type": "markdown",
   "id": "c84c564e-5f7d-4304-922c-f1237f6d2b61",
   "metadata": {},
   "source": [
    "7. Object 타입을 갖는 컬럼들에 대해 각 컬럼들이 갖는 고유값의 크기 출력"
   ]
  },
  {
   "cell_type": "code",
   "execution_count": 48,
   "id": "1a54486a-abb0-4e06-9af7-b45fd4e3a24b",
   "metadata": {
    "tags": []
   },
   "outputs": [
    {
     "data": {
      "text/plain": [
       "invoiceno      19\n",
       "stockcode      80\n",
       "description    81\n",
       "country         5\n",
       "dtype: int64"
      ]
     },
     "execution_count": 48,
     "metadata": {},
     "output_type": "execute_result"
    }
   ],
   "source": [
    "df2.select_dtypes('object').nunique()"
   ]
  },
  {
   "cell_type": "markdown",
   "id": "ea7f7546-9a48-4654-ba8f-e08ce74c892d",
   "metadata": {},
   "source": [
    "8. 거래일시(InvoiceDate) 컬럼을 대상으로 년월별 거래 횟수 출력, 내림차순 정렬"
   ]
  },
  {
   "cell_type": "code",
   "execution_count": 49,
   "id": "74d77299-973d-4fe2-8164-06b855dcc934",
   "metadata": {
    "tags": []
   },
   "outputs": [
    {
     "name": "stdout",
     "output_type": "stream",
     "text": [
      "<class 'pandas.core.frame.DataFrame'>\n",
      "RangeIndex: 83 entries, 0 to 82\n",
      "Data columns (total 11 columns):\n",
      " #   Column       Non-Null Count  Dtype         \n",
      "---  ------       --------------  -----         \n",
      " 0   invoiceno    83 non-null     object        \n",
      " 1   stockcode    83 non-null     object        \n",
      " 2   description  83 non-null     object        \n",
      " 3   quantity     83 non-null     int64         \n",
      " 4   invoicedate  83 non-null     datetime64[ns]\n",
      " 5   unitprice    81 non-null     float64       \n",
      " 6   customerid   76 non-null     float64       \n",
      " 7   country      83 non-null     object        \n",
      " 8   yy           83 non-null     int64         \n",
      " 9   mm           83 non-null     int64         \n",
      " 10  country2     83 non-null     int8          \n",
      "dtypes: datetime64[ns](1), float64(2), int64(3), int8(1), object(4)\n",
      "memory usage: 6.7+ KB\n"
     ]
    }
   ],
   "source": [
    "df2.info()"
   ]
  },
  {
   "cell_type": "code",
   "execution_count": null,
   "id": "46e44b22-9c0c-44cf-b921-7c3b1fa8003d",
   "metadata": {},
   "outputs": [],
   "source": [
    "df2['invoiceno'].dt.strftime('%Y-%m)"
   ]
  },
  {
   "cell_type": "markdown",
   "id": "9a7c5993-9dff-4458-8f6f-a1716af921c2",
   "metadata": {
    "tags": []
   },
   "source": [
    "9. 구매자 고유 번호(CustomerID)가 결측인 회원값을 최빈도 값으로 대채"
   ]
  },
  {
   "cell_type": "code",
   "execution_count": 62,
   "id": "5456b478-427b-407e-b18d-c9f68d2a2fae",
   "metadata": {
    "tags": []
   },
   "outputs": [],
   "source": [
    "mode_id = df2['customerid'].mode().values[0]"
   ]
  },
  {
   "cell_type": "code",
   "execution_count": 63,
   "id": "3a25173a-1684-461e-bd30-483f093f1d4e",
   "metadata": {
    "tags": []
   },
   "outputs": [],
   "source": [
    "df2['customerid']=df2['customerid'].fillna(mode_id)"
   ]
  },
  {
   "cell_type": "code",
   "execution_count": 64,
   "id": "3682bfd3-5f0e-4b43-97de-7b39b631b050",
   "metadata": {
    "tags": []
   },
   "outputs": [
    {
     "data": {
      "text/plain": [
       "0"
      ]
     },
     "execution_count": 64,
     "metadata": {},
     "output_type": "execute_result"
    }
   ],
   "source": [
    "df2['customerid'].isna().sum()"
   ]
  },
  {
   "cell_type": "markdown",
   "id": "bdddba94-62d3-478e-8f77-76d88ee3287c",
   "metadata": {},
   "source": [
    "10. Quantity(거래수량)이 가장 큰 상품들의 상품명, 가격정보 출력"
   ]
  },
  {
   "cell_type": "code",
   "execution_count": 66,
   "id": "fa1d3d44-31e7-412a-8be9-10cddac060ee",
   "metadata": {
    "tags": []
   },
   "outputs": [],
   "source": [
    "max_v=df2['quantity'].max()"
   ]
  },
  {
   "cell_type": "code",
   "execution_count": 68,
   "id": "1cd68037-4fdd-4a50-af53-b608bc7e5365",
   "metadata": {
    "tags": []
   },
   "outputs": [
    {
     "data": {
      "text/html": [
       "<div>\n",
       "<style scoped>\n",
       "    .dataframe tbody tr th:only-of-type {\n",
       "        vertical-align: middle;\n",
       "    }\n",
       "\n",
       "    .dataframe tbody tr th {\n",
       "        vertical-align: top;\n",
       "    }\n",
       "\n",
       "    .dataframe thead th {\n",
       "        text-align: right;\n",
       "    }\n",
       "</style>\n",
       "<table border=\"1\" class=\"dataframe\">\n",
       "  <thead>\n",
       "    <tr style=\"text-align: right;\">\n",
       "      <th></th>\n",
       "      <th>description</th>\n",
       "      <th>unitprice</th>\n",
       "    </tr>\n",
       "  </thead>\n",
       "  <tbody>\n",
       "    <tr>\n",
       "      <th>33</th>\n",
       "      <td>WHITE HANGING HEART T-LIGHT HOLDER</td>\n",
       "      <td>2.55</td>\n",
       "    </tr>\n",
       "  </tbody>\n",
       "</table>\n",
       "</div>"
      ],
      "text/plain": [
       "                           description  unitprice\n",
       "33  WHITE HANGING HEART T-LIGHT HOLDER       2.55"
      ]
     },
     "execution_count": 68,
     "metadata": {},
     "output_type": "execute_result"
    }
   ],
   "source": [
    "df2[['description','unitprice']][df2['quantity']==max_v]"
   ]
  }
 ],
 "metadata": {
  "kernelspec": {
   "display_name": "Python 3 (ipykernel)",
   "language": "python",
   "name": "python3"
  },
  "language_info": {
   "codemirror_mode": {
    "name": "ipython",
    "version": 3
   },
   "file_extension": ".py",
   "mimetype": "text/x-python",
   "name": "python",
   "nbconvert_exporter": "python",
   "pygments_lexer": "ipython3",
   "version": "3.8.8"
  }
 },
 "nbformat": 4,
 "nbformat_minor": 5
}
